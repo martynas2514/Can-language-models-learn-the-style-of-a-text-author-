{
 "cells": [
  {
   "cell_type": "code",
   "execution_count": 1,
   "id": "665c117e",
   "metadata": {},
   "outputs": [],
   "source": [
    "import numpy as np\n",
    "import tensorflow as tf\n",
    "from tensorflow import keras\n",
    "from tensorflow.keras import layers"
   ]
  },
  {
   "cell_type": "code",
   "execution_count": 2,
   "id": "34e2a32a",
   "metadata": {},
   "outputs": [],
   "source": [
    "import numpy as np\n",
    "class SaveModelCallback(tf.keras.callbacks.Callback):\n",
    "    \"\"\"\n",
    "    Save best model if vall loss is smaller, used for Transformers package\n",
    "  \"\"\"\n",
    "\n",
    "    def __init__(self, name):\n",
    "        super(SaveModelCallback, self).__init__()\n",
    "        self.name = name\n",
    "\n",
    "\n",
    "    def on_train_begin(self, logs=None):\n",
    "        # Initialize the best as infinity.\n",
    "        self.best = np.Inf\n",
    "\n",
    "    def on_epoch_end(self, epoch, logs=None):\n",
    "        self.model.save(self.name + \" \" + str(epoch))\n",
    "\n",
    "            \n"
   ]
  },
  {
   "cell_type": "code",
   "execution_count": 3,
   "id": "9deca2e6",
   "metadata": {},
   "outputs": [],
   "source": [
    "def top_k_logits(logits, k):\n",
    "    if k == 0:\n",
    "        # no truncation\n",
    "        return logits\n",
    "\n",
    "    def _top_k():\n",
    "        values, _ = tf.nn.top_k(logits, k=k)\n",
    "        min_values = values[:, -1, tf.newaxis]\n",
    "        return tf.compat.v1.where(\n",
    "            logits < min_values,\n",
    "            tf.ones_like(logits, dtype=logits.dtype) * -1e10,\n",
    "            logits,\n",
    "        )\n",
    "    return tf.cond(\n",
    "        pred=tf.equal(k, 0),\n",
    "        true_fn=lambda: logits,\n",
    "        false_fn=lambda: _top_k(),\n",
    "    )\n",
    "\n",
    "\n",
    "def top_p_logits(logits, p):\n",
    "    with tf.compat.v1.variable_scope('top_p_logits'):\n",
    "        logits_sort = tf.sort(logits, direction='DESCENDING')\n",
    "        probs_sort = tf.nn.softmax(logits_sort)\n",
    "        probs_sums = tf.cumsum(probs_sort, axis=1, exclusive=True)\n",
    "        logits_masked = tf.compat.v1.where(probs_sums < p, logits_sort, tf.ones_like(\n",
    "            logits_sort)*1000)  # [batchsize, vocab]\n",
    "        min_logits = tf.reduce_min(input_tensor=logits_masked, axis=1, keepdims=True)  # [batchsize, 1]\n",
    "        return tf.compat.v1.where(\n",
    "            logits < min_logits,\n",
    "            tf.ones_like(logits, dtype=logits.dtype) * -1e10,\n",
    "            logits,\n",
    "        )\n",
    "    \n",
    "\n",
    "def sample(logits, temperature, top_p, top_k):\n",
    "    logits = logits / tf.cast(temperature, tf.float32)\n",
    "    if top_p > 0.0:\n",
    "        logits = top_p_logits(logits, p=top_p)\n",
    "    else:\n",
    "        logits = top_k_logits(logits, k=top_k)\n",
    "    samples = tf.random.categorical(\n",
    "        logits, num_samples=1, dtype=tf.int32)\n",
    "    return samples\n",
    "\n",
    "\n",
    "def generate(model, context, temperature, top_p, top_k, n_words):\n",
    "    model.reset_states()\n",
    "    first = model.predict(context)\n",
    "    prediction = sample(first[:,-1,:], temperature, top_p, top_k)\n",
    "    context = tf.concat([context, prediction], axis=1)\n",
    "    for i in range(n_words-1):\n",
    "        logits = model.predict(context[:,-1:])\n",
    "        prediction = sample(logits[:,-1,:], temperature, top_p, top_k)\n",
    "        context = tf.concat([context, prediction], axis=1)\n",
    "    res = tf.squeeze(context)\n",
    "    return res.numpy()"
   ]
  },
  {
   "cell_type": "code",
   "execution_count": 4,
   "id": "03f53988",
   "metadata": {},
   "outputs": [],
   "source": [
    "with open(\"data_splits/trumpGeneratorTextTrain.txt\", encoding = \"utf-8\") as f:\n",
    "    train = f.read()\n",
    "    \n",
    "with open(\"data_splits/trumpGeneratorTextValid.txt\", encoding = \"utf-8\") as f:\n",
    "    valid = f.read()"
   ]
  },
  {
   "cell_type": "code",
   "execution_count": 5,
   "id": "a91fa46b",
   "metadata": {},
   "outputs": [
    {
     "name": "stderr",
     "output_type": "stream",
     "text": [
      "Token indices sequence length is longer than the specified maximum sequence length for this model (351805 > 1024). Running this sequence through the model will result in indexing errors\n"
     ]
    }
   ],
   "source": [
    "from transformers import AutoTokenizer\n",
    "\n",
    "tokenizer = AutoTokenizer.from_pretrained(\"gpt2\")\n",
    "\n",
    "tokens = tokenizer(train, add_special_tokens=False, return_tensors=\"tf\")\n",
    "\n",
    "x_train = tokens[\"input_ids\"][:,:-1]\n",
    "y_train = tokens[\"input_ids\"][:,1:]\n",
    "ntrain = x_train.shape[1]\n",
    "\n",
    "tokens = tokenizer(valid, add_special_tokens=False, return_tensors=\"tf\")\n",
    "\n",
    "x_valid = tokens[\"input_ids\"][:,:-1]\n",
    "y_valid = tokens[\"input_ids\"][:,1:]\n",
    "nvalid = x_valid.shape[1]"
   ]
  },
  {
   "cell_type": "code",
   "execution_count": 6,
   "id": "e19683e6",
   "metadata": {},
   "outputs": [],
   "source": [
    "def generator_train_stateful(window_size, model):\n",
    "    \"\"\"In addition to the window_size, the generator also takes the model as input so\n",
    "    that we can reset the RNN states at appropiate intervals.\"\"\"\n",
    "    \n",
    "    # Compute the total number of windows of length window_size that we need to cover all the training data.\n",
    "    #  Note 1. The length of x_train (and yt_train) is ntrain-1 since we work with 1-step prediction.\n",
    "    #  Note 2. The final window could be smaller than window_size, if (ntrain-1) is not evenly divisable by the window_size.    \n",
    "    number_of_windows = int((ntrain)/ window_size)\n",
    "    \n",
    "    while True:\n",
    "        for i in range(number_of_windows):\n",
    "            # First time index of window (inclusive)\n",
    "            start_of_window = i*window_size\n",
    "            \n",
    "            # Last time index of window (exclusive, i.e. this is the index to the first time step after the window)\n",
    "            # Note 3. Python allows using end_of_window > ntrain-1, it will simply truncate the indexing at the final element of the array!\n",
    "            end_of_window = start_of_window + window_size\n",
    "            \n",
    "            yield x_train[:,start_of_window:end_of_window], y_train[:,start_of_window:end_of_window]\n",
    "        model.reset_states()\n",
    "            \n",
    "    \"\"\"NOTE! In addition to replacing the ????? with the correct code, you need to move the line\"\"\"\n",
    "        \n",
    "    \"\"\"to the correct place in the function definition above!\"\"\"\n",
    "            "
   ]
  },
  {
   "cell_type": "code",
   "execution_count": 7,
   "id": "2f46d2d9",
   "metadata": {},
   "outputs": [],
   "source": [
    "def generator_valid(window_size):    \n",
    "    while True:\n",
    "        \"\"\"The upper value is excluded in randint, so the maximum value that we can get is tt = ntrain-window_size-1.\n",
    "        Hence, the maximum end point of a window is ntrain-1, in agreement with the fact that the size of input/output is ntrain-1\n",
    "        when working with one-step-ahead prediction.\"\"\" \n",
    "        start_of_window = np.random.randint(0, nvalid - window_size)  # First time index of window (inclusive)\n",
    "        end_of_window = start_of_window + window_size  # Last time index of window (exclusive, i.e. this is really the first index _after_ the window)\n",
    "        yield x_valid[:,start_of_window:end_of_window], y_valid[:,start_of_window:end_of_window]"
   ]
  },
  {
   "cell_type": "code",
   "execution_count": 2,
   "id": "a92a5323",
   "metadata": {
    "scrolled": false
   },
   "outputs": [
    {
     "name": "stdout",
     "output_type": "stream",
     "text": [
      "Model: \"sequential\"\n",
      "_________________________________________________________________\n",
      "Layer (type)                 Output Shape              Param #   \n",
      "=================================================================\n",
      "embedding (Embedding)        (1, None, 100)            5025700   \n",
      "_________________________________________________________________\n",
      "lstm (LSTM)                  (1, None, 254)            360680    \n",
      "_________________________________________________________________\n",
      "dropout (Dropout)            (1, None, 254)            0         \n",
      "_________________________________________________________________\n",
      "lstm_1 (LSTM)                (1, None, 254)            517144    \n",
      "_________________________________________________________________\n",
      "dropout_1 (Dropout)          (1, None, 254)            0         \n",
      "_________________________________________________________________\n",
      "dense (Dense)                (1, None, 500)            127500    \n",
      "_________________________________________________________________\n",
      "dense_1 (Dense)              (1, None, 50257)          25178757  \n",
      "=================================================================\n",
      "Total params: 31,209,781\n",
      "Trainable params: 31,209,781\n",
      "Non-trainable params: 0\n",
      "_________________________________________________________________\n"
     ]
    }
   ],
   "source": [
    "model = keras.Sequential()\n",
    "# Add an Embedding layer expecting input vocab of size 1000, and\n",
    "# output embedding dimension of size 64.\n",
    "model.add(layers.Embedding(input_dim=50257, output_dim=100, batch_input_shape=(1,None)))\n",
    "# Add a LSTM layer with 128 internal units.\n",
    "model.add(layers.LSTM(254, return_sequences=True, stateful=True))\n",
    "model.add(layers.Dropout(0.2))\n",
    "model.add(layers.LSTM(254 , return_sequences=True, stateful=True))\n",
    "model.add(layers.Dropout(0.5))\n",
    "# Add a Dense layer with 10 units.\n",
    "model.add(layers.Dense(500))\n",
    "model.add(layers.Dense(50257))\n",
    "\n",
    "model.summary()"
   ]
  },
  {
   "cell_type": "code",
   "execution_count": 5,
   "id": "55e10e58",
   "metadata": {},
   "outputs": [
    {
     "data": {
      "image/png": "[encoded data removed]",
      "text/plain": [
       "<IPython.core.display.Image object>"
      ]
     },
     "execution_count": 5,
     "metadata": {},
     "output_type": "execute_result"
    }
   ],
   "source": [
    "from tensorflow.keras.utils import plot_model\n",
    "plot_model(model, show_shapes=True)"
   ]
  },
  {
   "cell_type": "code",
   "execution_count": 19,
   "id": "57a3340f",
   "metadata": {},
   "outputs": [],
   "source": [
    "window_size = 1000"
   ]
  },
  {
   "cell_type": "code",
   "execution_count": 20,
   "id": "25c2ac20",
   "metadata": {
    "scrolled": true
   },
   "outputs": [
    {
     "name": "stdout",
     "output_type": "stream",
     "text": [
      "Epoch 1/100\n",
      "351/351 [==============================] - ETA: 0s - loss: 6.0125WARNING:tensorflow:From C:\\Users\\marty\\anaconda3\\envs\\tfgpunew\\lib\\site-packages\\tensorflow\\python\\training\\tracking\\tracking.py:111: Model.state_updates (from tensorflow.python.keras.engine.training) is deprecated and will be removed in a future version.\n",
      "Instructions for updating:\n",
      "This property should not be used in TensorFlow 2.0, as updates are applied automatically.\n",
      "WARNING:tensorflow:From C:\\Users\\marty\\anaconda3\\envs\\tfgpunew\\lib\\site-packages\\tensorflow\\python\\keras\\engine\\training.py:2309: Layer.updates (from tensorflow.python.keras.engine.base_layer) is deprecated and will be removed in a future version.\n",
      "Instructions for updating:\n",
      "This property should not be used in TensorFlow 2.0, as updates are applied automatically.\n",
      "INFO:tensorflow:Assets written to: generators/LSTM/LSTM_Generator 0\\assets\n",
      "351/351 [==============================] - 102s 290ms/step - loss: 6.0125 - val_loss: 5.2538\n",
      "Epoch 2/100\n",
      "351/351 [==============================] - ETA: 0s - loss: 5.0715INFO:tensorflow:Assets written to: generators/LSTM/LSTM_Generator 1\\assets\n",
      "351/351 [==============================] - 104s 297ms/step - loss: 5.0715 - val_loss: 4.8354\n",
      "Epoch 3/100\n",
      "351/351 [==============================] - ETA: 0s - loss: 4.7383INFO:tensorflow:Assets written to: generators/LSTM/LSTM_Generator 2\\assets\n",
      "351/351 [==============================] - 107s 304ms/step - loss: 4.7383 - val_loss: 4.6229\n",
      "Epoch 4/100\n",
      "351/351 [==============================] - ETA: 0s - loss: 4.5384INFO:tensorflow:Assets written to: generators/LSTM/LSTM_Generator 3\\assets\n",
      "351/351 [==============================] - 108s 307ms/step - loss: 4.5384 - val_loss: 4.5157\n",
      "Epoch 5/100\n",
      "351/351 [==============================] - ETA: 0s - loss: 4.3928INFO:tensorflow:Assets written to: generators/LSTM/LSTM_Generator 4\\assets\n",
      "351/351 [==============================] - 109s 311ms/step - loss: 4.3928 - val_loss: 4.3888\n",
      "Epoch 6/100\n",
      "351/351 [==============================] - ETA: 0s - loss: 4.2829INFO:tensorflow:Assets written to: generators/LSTM/LSTM_Generator 5\\assets\n",
      "351/351 [==============================] - 108s 309ms/step - loss: 4.2829 - val_loss: 4.3493\n",
      "Epoch 7/100\n",
      "351/351 [==============================] - ETA: 0s - loss: 4.1968INFO:tensorflow:Assets written to: generators/LSTM/LSTM_Generator 6\\assets\n",
      "351/351 [==============================] - 109s 311ms/step - loss: 4.1968 - val_loss: 4.3102\n",
      "Epoch 8/100\n",
      "351/351 [==============================] - ETA: 0s - loss: 4.1207INFO:tensorflow:Assets written to: generators/LSTM/LSTM_Generator 7\\assets\n",
      "351/351 [==============================] - 114s 324ms/step - loss: 4.1207 - val_loss: 4.2194\n",
      "Epoch 9/100\n",
      "351/351 [==============================] - ETA: 0s - loss: 4.0546INFO:tensorflow:Assets written to: generators/LSTM/LSTM_Generator 8\\assets\n",
      "351/351 [==============================] - 112s 319ms/step - loss: 4.0546 - val_loss: 4.1724\n",
      "Epoch 10/100\n",
      "351/351 [==============================] - ETA: 0s - loss: 3.9964INFO:tensorflow:Assets written to: generators/LSTM/LSTM_Generator 9\\assets\n",
      "351/351 [==============================] - 111s 316ms/step - loss: 3.9964 - val_loss: 4.1578\n",
      "Epoch 11/100\n",
      "351/351 [==============================] - ETA: 0s - loss: 3.9454INFO:tensorflow:Assets written to: generators/LSTM/LSTM_Generator 10\\assets\n",
      "351/351 [==============================] - 109s 311ms/step - loss: 3.9454 - val_loss: 4.1403\n",
      "Epoch 12/100\n",
      "351/351 [==============================] - ETA: 0s - loss: 3.9008INFO:tensorflow:Assets written to: generators/LSTM/LSTM_Generator 11\\assets\n",
      "351/351 [==============================] - 112s 321ms/step - loss: 3.9008 - val_loss: 4.0564\n",
      "Epoch 13/100\n",
      "351/351 [==============================] - ETA: 0s - loss: 3.8597INFO:tensorflow:Assets written to: generators/LSTM/LSTM_Generator 12\\assets\n",
      "351/351 [==============================] - 110s 314ms/step - loss: 3.8597 - val_loss: 4.0744\n",
      "Epoch 14/100\n",
      "351/351 [==============================] - ETA: 0s - loss: 3.8233INFO:tensorflow:Assets written to: generators/LSTM/LSTM_Generator 13\\assets\n",
      "351/351 [==============================] - 110s 314ms/step - loss: 3.8233 - val_loss: 4.0179\n",
      "Epoch 15/100\n",
      "351/351 [==============================] - ETA: 0s - loss: 3.7852INFO:tensorflow:Assets written to: generators/LSTM/LSTM_Generator 14\\assets\n",
      "351/351 [==============================] - 112s 319ms/step - loss: 3.7852 - val_loss: 4.0300\n",
      "Epoch 16/100\n",
      "351/351 [==============================] - ETA: 0s - loss: 3.7536INFO:tensorflow:Assets written to: generators/LSTM/LSTM_Generator 15\\assets\n",
      "351/351 [==============================] - 109s 310ms/step - loss: 3.7536 - val_loss: 3.9595\n",
      "Epoch 17/100\n",
      "351/351 [==============================] - ETA: 0s - loss: 3.7242INFO:tensorflow:Assets written to: generators/LSTM/LSTM_Generator 16\\assets\n",
      "351/351 [==============================] - 106s 302ms/step - loss: 3.7242 - val_loss: 4.0203\n",
      "Epoch 18/100\n",
      "351/351 [==============================] - ETA: 0s - loss: 3.6950INFO:tensorflow:Assets written to: generators/LSTM/LSTM_Generator 17\\assets\n",
      "351/351 [==============================] - 107s 304ms/step - loss: 3.6950 - val_loss: 4.0634\n",
      "Epoch 19/100\n",
      "351/351 [==============================] - ETA: 0s - loss: 3.6664INFO:tensorflow:Assets written to: generators/LSTM/LSTM_Generator 18\\assets\n",
      "351/351 [==============================] - 105s 299ms/step - loss: 3.6664 - val_loss: 3.9995\n",
      "Epoch 20/100\n",
      "351/351 [==============================] - ETA: 0s - loss: 3.6405INFO:tensorflow:Assets written to: generators/LSTM/LSTM_Generator 19\\assets\n",
      "351/351 [==============================] - 105s 300ms/step - loss: 3.6405 - val_loss: 3.9993\n",
      "Epoch 21/100\n",
      "351/351 [==============================] - ETA: 0s - loss: 3.6119INFO:tensorflow:Assets written to: generators/LSTM/LSTM_Generator 20\\assets\n",
      "351/351 [==============================] - 107s 303ms/step - loss: 3.6119 - val_loss: 4.0297\n",
      "Epoch 22/100\n",
      "351/351 [==============================] - ETA: 0s - loss: 3.5900INFO:tensorflow:Assets written to: generators/LSTM/LSTM_Generator 21\\assets\n",
      "351/351 [==============================] - 104s 297ms/step - loss: 3.5900 - val_loss: 4.0012\n",
      "Epoch 23/100\n",
      "351/351 [==============================] - ETA: 0s - loss: 3.5656INFO:tensorflow:Assets written to: generators/LSTM/LSTM_Generator 22\\assets\n",
      "351/351 [==============================] - 105s 298ms/step - loss: 3.5656 - val_loss: 4.0026\n",
      "Epoch 24/100\n",
      "351/351 [==============================] - ETA: 0s - loss: 3.5445INFO:tensorflow:Assets written to: generators/LSTM/LSTM_Generator 23\\assets\n",
      "351/351 [==============================] - 104s 297ms/step - loss: 3.5445 - val_loss: 3.9275\n",
      "Epoch 25/100\n",
      "351/351 [==============================] - ETA: 0s - loss: 3.5241INFO:tensorflow:Assets written to: generators/LSTM/LSTM_Generator 24\\assets\n",
      "351/351 [==============================] - 106s 301ms/step - loss: 3.5241 - val_loss: 3.8975\n",
      "Epoch 26/100\n",
      "351/351 [==============================] - ETA: 0s - loss: 3.5055INFO:tensorflow:Assets written to: generators/LSTM/LSTM_Generator 25\\assets\n",
      "351/351 [==============================] - 104s 298ms/step - loss: 3.5055 - val_loss: 3.9508\n",
      "Epoch 27/100\n",
      "351/351 [==============================] - ETA: 0s - loss: 3.4866INFO:tensorflow:Assets written to: generators/LSTM/LSTM_Generator 26\\assets\n",
      "351/351 [==============================] - 105s 299ms/step - loss: 3.4866 - val_loss: 3.9763\n",
      "Epoch 28/100\n",
      "351/351 [==============================] - ETA: 0s - loss: 3.4658INFO:tensorflow:Assets written to: generators/LSTM/LSTM_Generator 27\\assets\n",
      "351/351 [==============================] - 106s 301ms/step - loss: 3.4658 - val_loss: 3.9892\n",
      "Epoch 29/100\n",
      "351/351 [==============================] - ETA: 0s - loss: 3.4477INFO:tensorflow:Assets written to: generators/LSTM/LSTM_Generator 28\\assets\n",
      "351/351 [==============================] - 105s 300ms/step - loss: 3.4477 - val_loss: 3.9132\n",
      "Epoch 30/100\n",
      "351/351 [==============================] - ETA: 0s - loss: 3.4308INFO:tensorflow:Assets written to: generators/LSTM/LSTM_Generator 29\\assets\n",
      "351/351 [==============================] - 105s 300ms/step - loss: 3.4308 - val_loss: 3.8961\n",
      "Epoch 31/100\n",
      "351/351 [==============================] - ETA: 0s - loss: 3.4155INFO:tensorflow:Assets written to: generators/LSTM/LSTM_Generator 30\\assets\n",
      "351/351 [==============================] - 104s 298ms/step - loss: 3.4155 - val_loss: 3.9370\n",
      "Epoch 32/100\n",
      "351/351 [==============================] - ETA: 0s - loss: 3.3986INFO:tensorflow:Assets written to: generators/LSTM/LSTM_Generator 31\\assets\n",
      "351/351 [==============================] - 105s 298ms/step - loss: 3.3986 - val_loss: 3.9094\n",
      "Epoch 33/100\n",
      "351/351 [==============================] - ETA: 0s - loss: 3.3812INFO:tensorflow:Assets written to: generators/LSTM/LSTM_Generator 32\\assets\n",
      "351/351 [==============================] - 105s 300ms/step - loss: 3.3812 - val_loss: 3.8528\n",
      "Epoch 34/100\n",
      "351/351 [==============================] - ETA: 0s - loss: 3.3674INFO:tensorflow:Assets written to: generators/LSTM/LSTM_Generator 33\\assets\n",
      "351/351 [==============================] - 105s 299ms/step - loss: 3.3674 - val_loss: 3.8954\n",
      "Epoch 35/100\n",
      "351/351 [==============================] - ETA: 0s - loss: 3.3537INFO:tensorflow:Assets written to: generators/LSTM/LSTM_Generator 34\\assets\n",
      "351/351 [==============================] - 105s 298ms/step - loss: 3.3537 - val_loss: 3.8830\n",
      "Epoch 36/100\n",
      "351/351 [==============================] - ETA: 0s - loss: 3.3377INFO:tensorflow:Assets written to: generators/LSTM/LSTM_Generator 35\\assets\n",
      "351/351 [==============================] - 104s 297ms/step - loss: 3.3377 - val_loss: 3.9387\n",
      "Epoch 37/100\n",
      "351/351 [==============================] - ETA: 0s - loss: 3.3255INFO:tensorflow:Assets written to: generators/LSTM/LSTM_Generator 36\\assets\n",
      "351/351 [==============================] - 105s 298ms/step - loss: 3.3255 - val_loss: 3.9753\n",
      "Epoch 38/100\n",
      "351/351 [==============================] - ETA: 0s - loss: 3.3121INFO:tensorflow:Assets written to: generators/LSTM/LSTM_Generator 37\\assets\n",
      "351/351 [==============================] - 104s 296ms/step - loss: 3.3121 - val_loss: 3.9352\n",
      "Epoch 39/100\n",
      "351/351 [==============================] - ETA: 0s - loss: 3.2988INFO:tensorflow:Assets written to: generators/LSTM/LSTM_Generator 38\\assets\n",
      "351/351 [==============================] - 106s 301ms/step - loss: 3.2988 - val_loss: 3.9153\n",
      "Epoch 40/100\n",
      "351/351 [==============================] - ETA: 0s - loss: 3.2861INFO:tensorflow:Assets written to: generators/LSTM/LSTM_Generator 39\\assets\n",
      "351/351 [==============================] - 104s 297ms/step - loss: 3.2861 - val_loss: 3.8265\n",
      "Epoch 41/100\n",
      "351/351 [==============================] - ETA: 0s - loss: 3.2756INFO:tensorflow:Assets written to: generators/LSTM/LSTM_Generator 40\\assets\n",
      "351/351 [==============================] - 104s 297ms/step - loss: 3.2756 - val_loss: 3.8384\n",
      "Epoch 42/100\n",
      "351/351 [==============================] - ETA: 0s - loss: 3.2590INFO:tensorflow:Assets written to: generators/LSTM/LSTM_Generator 41\\assets\n",
      "351/351 [==============================] - 105s 298ms/step - loss: 3.2590 - val_loss: 3.9307\n",
      "Epoch 43/100\n",
      "351/351 [==============================] - ETA: 0s - loss: 3.2492INFO:tensorflow:Assets written to: generators/LSTM/LSTM_Generator 42\\assets\n",
      "351/351 [==============================] - 105s 298ms/step - loss: 3.2492 - val_loss: 3.8947\n",
      "Epoch 44/100\n",
      "351/351 [==============================] - ETA: 0s - loss: 3.2362INFO:tensorflow:Assets written to: generators/LSTM/LSTM_Generator 43\\assets\n",
      "351/351 [==============================] - 104s 297ms/step - loss: 3.2362 - val_loss: 3.9377\n",
      "Epoch 45/100\n",
      "351/351 [==============================] - ETA: 0s - loss: 3.2245INFO:tensorflow:Assets written to: generators/LSTM/LSTM_Generator 44\\assets\n",
      "351/351 [==============================] - 104s 297ms/step - loss: 3.2245 - val_loss: 3.9629\n",
      "Epoch 46/100\n",
      "351/351 [==============================] - ETA: 0s - loss: 3.2153INFO:tensorflow:Assets written to: generators/LSTM/LSTM_Generator 45\\assets\n",
      "351/351 [==============================] - 104s 298ms/step - loss: 3.2153 - val_loss: 3.8661\n",
      "Epoch 47/100\n",
      "351/351 [==============================] - ETA: 0s - loss: 3.2026INFO:tensorflow:Assets written to: generators/LSTM/LSTM_Generator 46\\assets\n",
      "351/351 [==============================] - 105s 299ms/step - loss: 3.2026 - val_loss: 3.9595\n",
      "Epoch 48/100\n",
      "351/351 [==============================] - ETA: 0s - loss: 3.1930INFO:tensorflow:Assets written to: generators/LSTM/LSTM_Generator 47\\assets\n",
      "351/351 [==============================] - 105s 300ms/step - loss: 3.1930 - val_loss: 3.8887\n",
      "Epoch 49/100\n",
      "351/351 [==============================] - ETA: 0s - loss: 3.1804INFO:tensorflow:Assets written to: generators/LSTM/LSTM_Generator 48\\assets\n",
      "351/351 [==============================] - 104s 296ms/step - loss: 3.1804 - val_loss: 3.9366\n",
      "Epoch 50/100\n",
      "351/351 [==============================] - ETA: 0s - loss: 3.1746INFO:tensorflow:Assets written to: generators/LSTM/LSTM_Generator 49\\assets\n",
      "351/351 [==============================] - 106s 301ms/step - loss: 3.1746 - val_loss: 3.9280\n",
      "Epoch 51/100\n",
      "351/351 [==============================] - ETA: 0s - loss: 3.1632INFO:tensorflow:Assets written to: generators/LSTM/LSTM_Generator 50\\assets\n",
      "351/351 [==============================] - 106s 301ms/step - loss: 3.1632 - val_loss: 3.9105\n",
      "Epoch 52/100\n",
      "351/351 [==============================] - ETA: 0s - loss: 3.1531INFO:tensorflow:Assets written to: generators/LSTM/LSTM_Generator 51\\assets\n",
      "351/351 [==============================] - 105s 299ms/step - loss: 3.1531 - val_loss: 3.8912\n",
      "Epoch 53/100\n",
      "351/351 [==============================] - ETA: 0s - loss: 3.1452INFO:tensorflow:Assets written to: generators/LSTM/LSTM_Generator 52\\assets\n",
      "351/351 [==============================] - 104s 296ms/step - loss: 3.1452 - val_loss: 3.8814\n",
      "Epoch 54/100\n",
      "351/351 [==============================] - ETA: 0s - loss: 3.1331INFO:tensorflow:Assets written to: generators/LSTM/LSTM_Generator 53\\assets\n",
      "351/351 [==============================] - 104s 296ms/step - loss: 3.1331 - val_loss: 3.9932\n",
      "Epoch 55/100\n",
      "351/351 [==============================] - ETA: 0s - loss: 3.1249INFO:tensorflow:Assets written to: generators/LSTM/LSTM_Generator 54\\assets\n",
      "351/351 [==============================] - 105s 300ms/step - loss: 3.1249 - val_loss: 3.8026\n",
      "Epoch 56/100\n",
      "351/351 [==============================] - ETA: 0s - loss: 3.1151INFO:tensorflow:Assets written to: generators/LSTM/LSTM_Generator 55\\assets\n",
      "351/351 [==============================] - 104s 297ms/step - loss: 3.1151 - val_loss: 3.9847\n",
      "Epoch 57/100\n",
      "351/351 [==============================] - ETA: 0s - loss: 3.1057INFO:tensorflow:Assets written to: generators/LSTM/LSTM_Generator 56\\assets\n",
      "351/351 [==============================] - 104s 297ms/step - loss: 3.1057 - val_loss: 3.8780\n",
      "Epoch 58/100\n",
      "351/351 [==============================] - ETA: 0s - loss: 3.0936INFO:tensorflow:Assets written to: generators/LSTM/LSTM_Generator 57\\assets\n",
      "351/351 [==============================] - 105s 299ms/step - loss: 3.0936 - val_loss: 3.8913\n",
      "Epoch 59/100\n",
      "351/351 [==============================] - ETA: 0s - loss: 3.0890INFO:tensorflow:Assets written to: generators/LSTM/LSTM_Generator 58\\assets\n",
      "351/351 [==============================] - 105s 300ms/step - loss: 3.0890 - val_loss: 4.0331\n",
      "Epoch 60/100\n",
      "351/351 [==============================] - ETA: 0s - loss: 3.0789INFO:tensorflow:Assets written to: generators/LSTM/LSTM_Generator 59\\assets\n",
      "351/351 [==============================] - 104s 296ms/step - loss: 3.0789 - val_loss: 3.8923\n",
      "Epoch 61/100\n",
      "351/351 [==============================] - ETA: 0s - loss: 3.0727INFO:tensorflow:Assets written to: generators/LSTM/LSTM_Generator 60\\assets\n",
      "351/351 [==============================] - 104s 297ms/step - loss: 3.0727 - val_loss: 3.9784\n",
      "Epoch 62/100\n",
      "351/351 [==============================] - ETA: 0s - loss: 3.0625INFO:tensorflow:Assets written to: generators/LSTM/LSTM_Generator 61\\assets\n",
      "351/351 [==============================] - 104s 297ms/step - loss: 3.0625 - val_loss: 3.9700\n",
      "Epoch 63/100\n",
      "351/351 [==============================] - ETA: 0s - loss: 3.0534INFO:tensorflow:Assets written to: generators/LSTM/LSTM_Generator 62\\assets\n",
      "351/351 [==============================] - 104s 296ms/step - loss: 3.0534 - val_loss: 3.9238\n",
      "Epoch 64/100\n"
     ]
    },
    {
     "name": "stdout",
     "output_type": "stream",
     "text": [
      "351/351 [==============================] - ETA: 0s - loss: 3.0494INFO:tensorflow:Assets written to: generators/LSTM/LSTM_Generator 63\\assets\n",
      "351/351 [==============================] - 106s 301ms/step - loss: 3.0494 - val_loss: 3.9306\n",
      "Epoch 65/100\n",
      "351/351 [==============================] - ETA: 0s - loss: 3.0380INFO:tensorflow:Assets written to: generators/LSTM/LSTM_Generator 64\\assets\n",
      "351/351 [==============================] - 104s 297ms/step - loss: 3.0380 - val_loss: 4.0004\n",
      "Epoch 66/100\n",
      "351/351 [==============================] - ETA: 0s - loss: 3.0283INFO:tensorflow:Assets written to: generators/LSTM/LSTM_Generator 65\\assets\n",
      "351/351 [==============================] - 104s 298ms/step - loss: 3.0283 - val_loss: 3.9516\n",
      "Epoch 67/100\n",
      "351/351 [==============================] - ETA: 0s - loss: 3.0237INFO:tensorflow:Assets written to: generators/LSTM/LSTM_Generator 66\\assets\n",
      "351/351 [==============================] - 104s 296ms/step - loss: 3.0237 - val_loss: 3.9974\n",
      "Epoch 68/100\n",
      "351/351 [==============================] - ETA: 0s - loss: 3.0171INFO:tensorflow:Assets written to: generators/LSTM/LSTM_Generator 67\\assets\n",
      "351/351 [==============================] - 104s 297ms/step - loss: 3.0171 - val_loss: 3.9702\n",
      "Epoch 69/100\n",
      "351/351 [==============================] - ETA: 0s - loss: 3.0100INFO:tensorflow:Assets written to: generators/LSTM/LSTM_Generator 68\\assets\n",
      "351/351 [==============================] - 104s 297ms/step - loss: 3.0100 - val_loss: 3.8747\n",
      "Epoch 70/100\n",
      "351/351 [==============================] - ETA: 0s - loss: 3.0020INFO:tensorflow:Assets written to: generators/LSTM/LSTM_Generator 69\\assets\n",
      "351/351 [==============================] - 104s 297ms/step - loss: 3.0020 - val_loss: 4.0236\n",
      "Epoch 71/100\n",
      "351/351 [==============================] - ETA: 0s - loss: 2.9954INFO:tensorflow:Assets written to: generators/LSTM/LSTM_Generator 70\\assets\n",
      "351/351 [==============================] - 105s 300ms/step - loss: 2.9954 - val_loss: 4.0105\n",
      "Epoch 72/100\n",
      "351/351 [==============================] - ETA: 0s - loss: 2.9867INFO:tensorflow:Assets written to: generators/LSTM/LSTM_Generator 71\\assets\n",
      "351/351 [==============================] - 104s 296ms/step - loss: 2.9867 - val_loss: 4.0047\n",
      "Epoch 73/100\n",
      "351/351 [==============================] - ETA: 0s - loss: 2.9799INFO:tensorflow:Assets written to: generators/LSTM/LSTM_Generator 72\\assets\n",
      "351/351 [==============================] - 104s 297ms/step - loss: 2.9799 - val_loss: 4.0200\n",
      "Epoch 74/100\n",
      "351/351 [==============================] - ETA: 0s - loss: 2.9732INFO:tensorflow:Assets written to: generators/LSTM/LSTM_Generator 73\\assets\n",
      "351/351 [==============================] - 104s 296ms/step - loss: 2.9732 - val_loss: 4.0007\n",
      "Epoch 75/100\n",
      "351/351 [==============================] - ETA: 0s - loss: 2.9649INFO:tensorflow:Assets written to: generators/LSTM/LSTM_Generator 74\\assets\n",
      "351/351 [==============================] - 107s 304ms/step - loss: 2.9649 - val_loss: 3.9427\n",
      "Epoch 76/100\n",
      "351/351 [==============================] - ETA: 0s - loss: 2.9578INFO:tensorflow:Assets written to: generators/LSTM/LSTM_Generator 75\\assets\n",
      "351/351 [==============================] - 104s 296ms/step - loss: 2.9578 - val_loss: 4.0722\n",
      "Epoch 77/100\n",
      "351/351 [==============================] - ETA: 0s - loss: 2.9512INFO:tensorflow:Assets written to: generators/LSTM/LSTM_Generator 76\\assets\n",
      "351/351 [==============================] - 104s 296ms/step - loss: 2.9512 - val_loss: 4.0740\n",
      "Epoch 78/100\n",
      "351/351 [==============================] - ETA: 0s - loss: 2.9465INFO:tensorflow:Assets written to: generators/LSTM/LSTM_Generator 77\\assets\n",
      "351/351 [==============================] - 104s 296ms/step - loss: 2.9465 - val_loss: 4.0512\n",
      "Epoch 79/100\n",
      "351/351 [==============================] - ETA: 0s - loss: 2.9379INFO:tensorflow:Assets written to: generators/LSTM/LSTM_Generator 78\\assets\n",
      "351/351 [==============================] - 106s 301ms/step - loss: 2.9379 - val_loss: 3.9775\n",
      "Epoch 80/100\n",
      "351/351 [==============================] - ETA: 0s - loss: 2.9317INFO:tensorflow:Assets written to: generators/LSTM/LSTM_Generator 79\\assets\n",
      "351/351 [==============================] - 104s 296ms/step - loss: 2.9317 - val_loss: 4.0394\n",
      "Epoch 81/100\n",
      "351/351 [==============================] - ETA: 0s - loss: 2.9268INFO:tensorflow:Assets written to: generators/LSTM/LSTM_Generator 80\\assets\n",
      "351/351 [==============================] - 104s 296ms/step - loss: 2.9268 - val_loss: 4.1004\n",
      "Epoch 82/100\n",
      "351/351 [==============================] - ETA: 0s - loss: 2.9200INFO:tensorflow:Assets written to: generators/LSTM/LSTM_Generator 81\\assets\n",
      "351/351 [==============================] - 104s 296ms/step - loss: 2.9200 - val_loss: 4.1570\n",
      "Epoch 83/100\n",
      "351/351 [==============================] - ETA: 0s - loss: 2.9122INFO:tensorflow:Assets written to: generators/LSTM/LSTM_Generator 82\\assets\n",
      "351/351 [==============================] - 105s 300ms/step - loss: 2.9122 - val_loss: 4.0159\n",
      "Epoch 84/100\n",
      "351/351 [==============================] - ETA: 0s - loss: 2.9065INFO:tensorflow:Assets written to: generators/LSTM/LSTM_Generator 83\\assets\n",
      "351/351 [==============================] - 104s 297ms/step - loss: 2.9065 - val_loss: 4.0852\n",
      "Epoch 85/100\n",
      "351/351 [==============================] - ETA: 0s - loss: 2.8989INFO:tensorflow:Assets written to: generators/LSTM/LSTM_Generator 84\\assets\n",
      "351/351 [==============================] - 104s 296ms/step - loss: 2.8989 - val_loss: 4.1224\n",
      "Epoch 86/100\n",
      "351/351 [==============================] - ETA: 0s - loss: 2.8918INFO:tensorflow:Assets written to: generators/LSTM/LSTM_Generator 85\\assets\n",
      "351/351 [==============================] - 104s 297ms/step - loss: 2.8918 - val_loss: 4.0360\n",
      "Epoch 87/100\n",
      "351/351 [==============================] - ETA: 0s - loss: 2.8883INFO:tensorflow:Assets written to: generators/LSTM/LSTM_Generator 86\\assets\n",
      "351/351 [==============================] - 105s 300ms/step - loss: 2.8883 - val_loss: 4.0463\n",
      "Epoch 88/100\n",
      "351/351 [==============================] - ETA: 0s - loss: 2.8843INFO:tensorflow:Assets written to: generators/LSTM/LSTM_Generator 87\\assets\n",
      "351/351 [==============================] - 104s 297ms/step - loss: 2.8843 - val_loss: 4.1272\n",
      "Epoch 89/100\n",
      "351/351 [==============================] - ETA: 0s - loss: 2.8728INFO:tensorflow:Assets written to: generators/LSTM/LSTM_Generator 88\\assets\n",
      "351/351 [==============================] - 106s 302ms/step - loss: 2.8728 - val_loss: 4.1052\n",
      "Epoch 90/100\n",
      "351/351 [==============================] - ETA: 0s - loss: 2.8713INFO:tensorflow:Assets written to: generators/LSTM/LSTM_Generator 89\\assets\n",
      "351/351 [==============================] - 105s 299ms/step - loss: 2.8713 - val_loss: 4.0186\n",
      "Epoch 91/100\n",
      "351/351 [==============================] - ETA: 0s - loss: 2.8652INFO:tensorflow:Assets written to: generators/LSTM/LSTM_Generator 90\\assets\n",
      "351/351 [==============================] - 104s 297ms/step - loss: 2.8652 - val_loss: 4.0638\n",
      "Epoch 92/100\n",
      "351/351 [==============================] - ETA: 0s - loss: 2.8602INFO:tensorflow:Assets written to: generators/LSTM/LSTM_Generator 91\\assets\n",
      "351/351 [==============================] - 104s 296ms/step - loss: 2.8602 - val_loss: 4.1031\n",
      "Epoch 93/100\n",
      "351/351 [==============================] - ETA: 0s - loss: 2.8536INFO:tensorflow:Assets written to: generators/LSTM/LSTM_Generator 92\\assets\n",
      "351/351 [==============================] - 104s 296ms/step - loss: 2.8536 - val_loss: 4.0462\n",
      "Epoch 94/100\n",
      "351/351 [==============================] - ETA: 0s - loss: 2.8462INFO:tensorflow:Assets written to: generators/LSTM/LSTM_Generator 93\\assets\n",
      "351/351 [==============================] - 104s 297ms/step - loss: 2.8462 - val_loss: 4.0462\n",
      "Epoch 95/100\n",
      "351/351 [==============================] - ETA: 0s - loss: 2.8436INFO:tensorflow:Assets written to: generators/LSTM/LSTM_Generator 94\\assets\n",
      "351/351 [==============================] - 105s 300ms/step - loss: 2.8436 - val_loss: 4.1055\n",
      "Epoch 96/100\n",
      "351/351 [==============================] - ETA: 0s - loss: 2.8378INFO:tensorflow:Assets written to: generators/LSTM/LSTM_Generator 95\\assets\n",
      "351/351 [==============================] - 104s 296ms/step - loss: 2.8378 - val_loss: 4.0498\n",
      "Epoch 97/100\n",
      "351/351 [==============================] - ETA: 0s - loss: 2.8333INFO:tensorflow:Assets written to: generators/LSTM/LSTM_Generator 96\\assets\n",
      "351/351 [==============================] - 104s 297ms/step - loss: 2.8333 - val_loss: 4.0787\n",
      "Epoch 98/100\n",
      "351/351 [==============================] - ETA: 0s - loss: 2.8277INFO:tensorflow:Assets written to: generators/LSTM/LSTM_Generator 97\\assets\n",
      "351/351 [==============================] - 104s 296ms/step - loss: 2.8277 - val_loss: 4.1095\n",
      "Epoch 99/100\n",
      "351/351 [==============================] - ETA: 0s - loss: 2.8241INFO:tensorflow:Assets written to: generators/LSTM/LSTM_Generator 98\\assets\n",
      "351/351 [==============================] - 105s 300ms/step - loss: 2.8241 - val_loss: 4.1527\n",
      "Epoch 100/100\n",
      "351/351 [==============================] - ETA: 0s - loss: 2.8142INFO:tensorflow:Assets written to: generators/LSTM/LSTM_Generator 99\\assets\n",
      "351/351 [==============================] - 107s 304ms/step - loss: 2.8142 - val_loss: 4.1481\n"
     ]
    }
   ],
   "source": [
    "\n",
    "\n",
    "model_checkpoint_callback = SaveModelCallback(\n",
    "    name=\"generators/LSTM/LSTM_Generator\")\n",
    "\n",
    "\n",
    "model.compile(\n",
    "    loss=keras.losses.SparseCategoricalCrossentropy(from_logits=True),\n",
    "    optimizer=\"adam\"\n",
    ")\n",
    "\n",
    "history = model.fit(generator_train_stateful(window_size,model),\n",
    "           epochs = 100, \n",
    "           steps_per_epoch = int((ntrain)/ window_size),\n",
    "            validation_data = generator_valid(window_size),\n",
    "            validation_steps = int((nvalid)/ window_size),\n",
    "           callbacks=[model_checkpoint_callback])\n",
    "\n"
   ]
  },
  {
   "cell_type": "code",
   "execution_count": 21,
   "id": "53433003",
   "metadata": {},
   "outputs": [
    {
     "data": {
      "text/plain": [
       "{'loss': [6.012487888336182,\n",
       "  5.071495532989502,\n",
       "  4.738304615020752,\n",
       "  4.53843355178833,\n",
       "  4.392847537994385,\n",
       "  4.282917499542236,\n",
       "  4.196750164031982,\n",
       "  4.120655059814453,\n",
       "  4.054551124572754,\n",
       "  3.9963667392730713,\n",
       "  3.9454245567321777,\n",
       "  3.900789499282837,\n",
       "  3.859717845916748,\n",
       "  3.8233232498168945,\n",
       "  3.7851572036743164,\n",
       "  3.753582239151001,\n",
       "  3.724238872528076,\n",
       "  3.6950440406799316,\n",
       "  3.6664083003997803,\n",
       "  3.6404597759246826,\n",
       "  3.6118831634521484,\n",
       "  3.5900206565856934,\n",
       "  3.565584897994995,\n",
       "  3.5444843769073486,\n",
       "  3.5240750312805176,\n",
       "  3.50545597076416,\n",
       "  3.486555814743042,\n",
       "  3.4657647609710693,\n",
       "  3.44771146774292,\n",
       "  3.430805206298828,\n",
       "  3.4154977798461914,\n",
       "  3.3986082077026367,\n",
       "  3.3811957836151123,\n",
       "  3.3674073219299316,\n",
       "  3.353691577911377,\n",
       "  3.337703227996826,\n",
       "  3.3254644870758057,\n",
       "  3.3120577335357666,\n",
       "  3.2987732887268066,\n",
       "  3.2860593795776367,\n",
       "  3.275585651397705,\n",
       "  3.258976936340332,\n",
       "  3.2492401599884033,\n",
       "  3.2361536026000977,\n",
       "  3.2245185375213623,\n",
       "  3.21527361869812,\n",
       "  3.202618360519409,\n",
       "  3.192974328994751,\n",
       "  3.1804394721984863,\n",
       "  3.1745893955230713,\n",
       "  3.1632003784179688,\n",
       "  3.153106451034546,\n",
       "  3.145179510116577,\n",
       "  3.1330726146698,\n",
       "  3.124887704849243,\n",
       "  3.1151397228240967,\n",
       "  3.1057493686676025,\n",
       "  3.0935935974121094,\n",
       "  3.088951349258423,\n",
       "  3.0788567066192627,\n",
       "  3.0727009773254395,\n",
       "  3.0624847412109375,\n",
       "  3.0534090995788574,\n",
       "  3.0494422912597656,\n",
       "  3.0380098819732666,\n",
       "  3.028258800506592,\n",
       "  3.0236527919769287,\n",
       "  3.0171024799346924,\n",
       "  3.009958028793335,\n",
       "  3.001950263977051,\n",
       "  2.9954118728637695,\n",
       "  2.986738920211792,\n",
       "  2.979935884475708,\n",
       "  2.9732296466827393,\n",
       "  2.964934825897217,\n",
       "  2.9578404426574707,\n",
       "  2.951216459274292,\n",
       "  2.9464609622955322,\n",
       "  2.937892198562622,\n",
       "  2.9317219257354736,\n",
       "  2.9268417358398438,\n",
       "  2.9199750423431396,\n",
       "  2.912158250808716,\n",
       "  2.9064834117889404,\n",
       "  2.898930072784424,\n",
       "  2.891822099685669,\n",
       "  2.8883414268493652,\n",
       "  2.8843038082122803,\n",
       "  2.8727757930755615,\n",
       "  2.8712942600250244,\n",
       "  2.8651866912841797,\n",
       "  2.860170602798462,\n",
       "  2.853579521179199,\n",
       "  2.8461828231811523,\n",
       "  2.843630790710449,\n",
       "  2.8378407955169678,\n",
       "  2.8333020210266113,\n",
       "  2.8276641368865967,\n",
       "  2.8240506649017334,\n",
       "  2.8142435550689697],\n",
       " 'val_loss': [5.253809928894043,\n",
       "  4.835352897644043,\n",
       "  4.62290620803833,\n",
       "  4.515674591064453,\n",
       "  4.3887786865234375,\n",
       "  4.349331855773926,\n",
       "  4.310214042663574,\n",
       "  4.21944522857666,\n",
       "  4.172411918640137,\n",
       "  4.157780170440674,\n",
       "  4.140293598175049,\n",
       "  4.056439399719238,\n",
       "  4.074364185333252,\n",
       "  4.017889976501465,\n",
       "  4.03002405166626,\n",
       "  3.959456205368042,\n",
       "  4.020284175872803,\n",
       "  4.063396453857422,\n",
       "  3.9995341300964355,\n",
       "  3.999293804168701,\n",
       "  4.029725074768066,\n",
       "  4.001236915588379,\n",
       "  4.00255823135376,\n",
       "  3.9275074005126953,\n",
       "  3.8975391387939453,\n",
       "  3.9508345127105713,\n",
       "  3.9762580394744873,\n",
       "  3.9891626834869385,\n",
       "  3.9131953716278076,\n",
       "  3.8961334228515625,\n",
       "  3.9369592666625977,\n",
       "  3.909376859664917,\n",
       "  3.852808952331543,\n",
       "  3.8954358100891113,\n",
       "  3.8830463886260986,\n",
       "  3.938723087310791,\n",
       "  3.9752933979034424,\n",
       "  3.935178279876709,\n",
       "  3.915322780609131,\n",
       "  3.826519012451172,\n",
       "  3.8384106159210205,\n",
       "  3.930748462677002,\n",
       "  3.8946757316589355,\n",
       "  3.937713146209717,\n",
       "  3.9628772735595703,\n",
       "  3.866081714630127,\n",
       "  3.9595415592193604,\n",
       "  3.888749837875366,\n",
       "  3.936583995819092,\n",
       "  3.927964925765991,\n",
       "  3.9104723930358887,\n",
       "  3.8912248611450195,\n",
       "  3.881356954574585,\n",
       "  3.9932310581207275,\n",
       "  3.8025641441345215,\n",
       "  3.98470139503479,\n",
       "  3.8780243396759033,\n",
       "  3.8912665843963623,\n",
       "  4.033141613006592,\n",
       "  3.892274856567383,\n",
       "  3.978416919708252,\n",
       "  3.9700443744659424,\n",
       "  3.9238171577453613,\n",
       "  3.9305834770202637,\n",
       "  4.00043249130249,\n",
       "  3.951561450958252,\n",
       "  3.997364044189453,\n",
       "  3.9702088832855225,\n",
       "  3.874701976776123,\n",
       "  4.023569107055664,\n",
       "  4.0104851722717285,\n",
       "  4.004692077636719,\n",
       "  4.020042419433594,\n",
       "  4.000743865966797,\n",
       "  3.94274640083313,\n",
       "  4.072196006774902,\n",
       "  4.07395076751709,\n",
       "  4.051200866699219,\n",
       "  3.9774510860443115,\n",
       "  4.039399147033691,\n",
       "  4.100364685058594,\n",
       "  4.1570353507995605,\n",
       "  4.015861988067627,\n",
       "  4.085243225097656,\n",
       "  4.122424602508545,\n",
       "  4.0360493659973145,\n",
       "  4.046337604522705,\n",
       "  4.127243995666504,\n",
       "  4.1051836013793945,\n",
       "  4.018614768981934,\n",
       "  4.063758850097656,\n",
       "  4.103139877319336,\n",
       "  4.046212196350098,\n",
       "  4.046233177185059,\n",
       "  4.105462551116943,\n",
       "  4.049836158752441,\n",
       "  4.078695297241211,\n",
       "  4.109529972076416,\n",
       "  4.15274715423584,\n",
       "  4.148059368133545]}"
      ]
     },
     "execution_count": 21,
     "metadata": {},
     "output_type": "execute_result"
    }
   ],
   "source": [
    "history.history"
   ]
  },
  {
   "cell_type": "code",
   "execution_count": 22,
   "id": "bb9b10d5",
   "metadata": {},
   "outputs": [],
   "source": [
    "import dill as pickle\n",
    "pickle._dill._reverse_typemap['ClassType'] = type\n",
    "\n",
    "objectRep = open(\"generators/LSTMhistory.obj\", \"wb\")\n",
    "POSclassiefier = pickle.dump(history.history,objectRep)\n",
    "objectRep.close()"
   ]
  },
  {
   "cell_type": "code",
   "execution_count": 23,
   "id": "e0c776f7",
   "metadata": {},
   "outputs": [],
   "source": [
    "context = \" everything will be great\"\n",
    "tokenized = tokenizer(context)[\"input_ids\"]\n",
    "tokens_prep = np.array([tokenized])"
   ]
  },
  {
   "cell_type": "code",
   "execution_count": 32,
   "id": "2c938505",
   "metadata": {},
   "outputs": [],
   "source": [
    "gen_data = generate(model, tokens_prep, 0.7, 0.9, 100, 130)"
   ]
  },
  {
   "cell_type": "code",
   "execution_count": 33,
   "id": "ef586d8e",
   "metadata": {},
   "outputs": [
    {
     "data": {
      "text/plain": [
       "111"
      ]
     },
     "execution_count": 33,
     "metadata": {},
     "output_type": "execute_result"
    }
   ],
   "source": [
    "len(tokenizer.decode(gen_data).split(\" \"))"
   ]
  },
  {
   "cell_type": "markdown",
   "id": "be468d38",
   "metadata": {},
   "source": [
    "# evaluation: "
   ]
  },
  {
   "cell_type": "code",
   "execution_count": 28,
   "id": "fa9283fa",
   "metadata": {},
   "outputs": [],
   "source": [
    "import numpy as np\n",
    "from nltk.translate.bleu_score import sentence_bleu\n",
    "from tensorflow.keras.preprocessing.sequence import pad_sequences\n",
    "import tensorflow as tf\n",
    "import spacy\n",
    "import en_core_web_sm\n",
    "from scipy.stats import ttest_ind\n",
    "import os\n",
    "import pandas as pd\n",
    "from matplotlib import pyplot as plt\n",
    "import dill as pickle\n",
    "import tqdm"
   ]
  },
  {
   "cell_type": "markdown",
   "id": "598c5e66",
   "metadata": {},
   "source": [
    "model is chosen which minimizes validation loss "
   ]
  },
  {
   "cell_type": "code",
   "execution_count": 12,
   "id": "51ea2535",
   "metadata": {},
   "outputs": [],
   "source": [
    "import dill as pickle\n",
    "objectRep = open(\"generators/LSTMhistory.obj\", \"rb\")\n",
    "history = pickle.load(objectRep)\n",
    "objectRep.close()"
   ]
  },
  {
   "cell_type": "code",
   "execution_count": 22,
   "id": "5858c33e",
   "metadata": {},
   "outputs": [
    {
     "data": {
      "image/png": "[encoded data removed]",
      "text/plain": [
       "<Figure size 720x216 with 1 Axes>"
      ]
     },
     "metadata": {
      "needs_background": "light"
     },
     "output_type": "display_data"
    }
   ],
   "source": [
    "plt.rcParams['figure.figsize'] = [10, 3]\n",
    "fig, axs = plt.subplots(1, sharex=True)\n",
    "l = len(history[\"loss\"])\n",
    "fig.suptitle(\"LSTM based LM evaluation\")\n",
    "plot_1 = axs.plot(np.arange(l), history[\"loss\"], label = \"Cross entropy loss\", color = \"black\")\n",
    "plot_2 = axs.plot(np.arange(l), history[\"val_loss\"], label = \"Cross entropy validation loss\", color = \"brown\")\n",
    "axs.axvline(x=history[\"val_loss\"].index(min(history[\"val_loss\"])), ymax=0.4, color='g', linestyle=':', linewidth=3, label = \"minimum validation loss\")\n",
    "axs.legend()\n",
    "#labels = [l.get_label() for l in lns]\n",
    "#plt.legend(lns, labels, loc=0)\n",
    "\n",
    "plt.show()"
   ]
  },
  {
   "cell_type": "code",
   "execution_count": 23,
   "id": "aa473969",
   "metadata": {},
   "outputs": [
    {
     "data": {
      "text/plain": [
       "54"
      ]
     },
     "execution_count": 23,
     "metadata": {},
     "output_type": "execute_result"
    }
   ],
   "source": [
    "history[\"val_loss\"].index(min(history[\"val_loss\"]))"
   ]
  },
  {
   "cell_type": "code",
   "execution_count": 34,
   "id": "fb1bae6d",
   "metadata": {},
   "outputs": [
    {
     "data": {
      "text/plain": [
       "3.8025641441345215"
      ]
     },
     "execution_count": 34,
     "metadata": {},
     "output_type": "execute_result"
    }
   ],
   "source": [
    "min(history[\"val_loss\"])"
   ]
  },
  {
   "cell_type": "markdown",
   "id": "ea3dcdff",
   "metadata": {},
   "source": [
    "## Tune sampling parameters"
   ]
  },
  {
   "cell_type": "markdown",
   "id": "cf92da04",
   "metadata": {},
   "source": [
    "sampling parameters will be tuned to maximise m-bleu4 score"
   ]
  },
  {
   "cell_type": "markdown",
   "id": "35678d45",
   "metadata": {},
   "source": [
    "### load scores and methods"
   ]
  },
  {
   "cell_type": "code",
   "execution_count": 25,
   "id": "88a1fe7d",
   "metadata": {},
   "outputs": [],
   "source": [
    "import random\n",
    "import os \n",
    "def randcontext(text,lensen):\n",
    "    gentrainwords = text.split(\" \")\n",
    "    ran = len(gentrainwords)-lensen\n",
    "    x = random.randint(0,ran)\n",
    "    text = \" \".join(gentrainwords[x:(x+lensen)])\n",
    "    return text\n",
    "\n",
    "def generateText(model,tokenizer,context, t = 0.7, p = 0.9, k = 100):\n",
    "    prompt = context\n",
    "    inputs = tokenizer(prompt, add_special_tokens=False, return_tensors=\"tf\")[\"input_ids\"]\n",
    "    gen_data = generate(model, inputs, t, p, k, 130)\n",
    "    generated = prompt + tokenizer.decode(gen_data)\n",
    "    return generated\n",
    "\n",
    "def save_to_file(string, path):\n",
    "    with open(path, 'w', encoding = \"utf-8\") as output_file:\n",
    "        output_file.write(string)\n",
    "        \n",
    "def splitTolenWords(text, nwords):\n",
    "    words = text.split(\" \")\n",
    "    count = int(len(words)/nwords)\n",
    "    sentences = [\" \".join(words[(i*nwords):((i+1)*nwords)]) for i in range(count)]\n",
    "    return(sentences)\n",
    "\n",
    "def unnameTextWithM(text):\n",
    "    nlp = en_core_web_sm.load()\n",
    "    doc = nlp(text)\n",
    "    text = text\n",
    "    for ent in reversed(doc.ents):\n",
    "        text = text[:ent.start_char] + \"<M>\" + text[ent.end_char:] \n",
    "    return text\n",
    "\n",
    "def bleu_scores(string, valid_data):\n",
    "    valid = [i.split(\" \") for i in valid_data]\n",
    "    string = string.split(\" \")[:100]\n",
    "    bleu4 = sentence_bleu(valid, string ,weights = (0.25,0.25,0.25,0.25))\n",
    "    return (bleu4)\n",
    "\n",
    "def evaluate(genvalid, genstr):\n",
    "    strM = unnameTextWithM(genstr)\n",
    "    b4 = bleu_scores(strM, genvalid)\n",
    "    return (b4, )\n",
    "\n",
    "def read_from_file(path):\n",
    "    with open(path, 'r') as output_file:\n",
    "        string = output_file.read()\n",
    "    return string"
   ]
  },
  {
   "cell_type": "markdown",
   "id": "fc0ab83e",
   "metadata": {},
   "source": [
    "### load validation data "
   ]
  },
  {
   "cell_type": "code",
   "execution_count": 26,
   "id": "4f8d9a30",
   "metadata": {},
   "outputs": [],
   "source": [
    "with open(\"data_splits/trumpGeneratorTextValid.txt\", encoding = \"utf-8\") as f:\n",
    "    genvalid = splitTolenWords(f.read(), 100)"
   ]
  },
  {
   "cell_type": "markdown",
   "id": "ab04f13c",
   "metadata": {},
   "source": [
    "# sampling tunning "
   ]
  },
  {
   "cell_type": "code",
   "execution_count": 29,
   "id": "71a7935b",
   "metadata": {
    "scrolled": true
   },
   "outputs": [
    {
     "name": "stderr",
     "output_type": "stream",
     "text": [
      "\r",
      "  0%|          | 0/80 [00:00<?, ?it/s]"
     ]
    },
    {
     "name": "stdout",
     "output_type": "stream",
     "text": [
      "0.2 5 0.2\n"
     ]
    },
    {
     "name": "stderr",
     "output_type": "stream",
     "text": [
      "\r",
      "  1%|▏         | 1/80 [00:56<1:13:46, 56.03s/it]"
     ]
    },
    {
     "name": "stdout",
     "output_type": "stream",
     "text": [
      "0.2 5 0.6\n"
     ]
    },
    {
     "name": "stderr",
     "output_type": "stream",
     "text": [
      "\r",
      "  2%|▎         | 2/80 [01:43<1:06:00, 50.78s/it]"
     ]
    },
    {
     "name": "stdout",
     "output_type": "stream",
     "text": [
      "0.2 5 0.8\n"
     ]
    },
    {
     "name": "stderr",
     "output_type": "stream",
     "text": [
      "\r",
      "  4%|▍         | 3/80 [02:30<1:03:07, 49.19s/it]"
     ]
    },
    {
     "name": "stdout",
     "output_type": "stream",
     "text": [
      "0.2 5 1.0\n"
     ]
    },
    {
     "name": "stderr",
     "output_type": "stream",
     "text": [
      "\r",
      "  5%|▌         | 4/80 [03:17<1:01:18, 48.39s/it]"
     ]
    },
    {
     "name": "stdout",
     "output_type": "stream",
     "text": [
      "0.2 10 0.2\n"
     ]
    },
    {
     "name": "stderr",
     "output_type": "stream",
     "text": [
      "\r",
      "  6%|▋         | 5/80 [04:04<59:49, 47.86s/it]  "
     ]
    },
    {
     "name": "stdout",
     "output_type": "stream",
     "text": [
      "0.2 10 0.6\n"
     ]
    },
    {
     "name": "stderr",
     "output_type": "stream",
     "text": [
      "\r",
      "  8%|▊         | 6/80 [04:53<59:26, 48.20s/it]"
     ]
    },
    {
     "name": "stdout",
     "output_type": "stream",
     "text": [
      "0.2 10 0.8\n"
     ]
    },
    {
     "name": "stderr",
     "output_type": "stream",
     "text": [
      "\r",
      "  9%|▉         | 7/80 [05:46<1:00:26, 49.68s/it]"
     ]
    },
    {
     "name": "stdout",
     "output_type": "stream",
     "text": [
      "0.2 10 1.0\n"
     ]
    },
    {
     "name": "stderr",
     "output_type": "stream",
     "text": [
      "\r",
      " 10%|█         | 8/80 [06:37<1:00:16, 50.23s/it]"
     ]
    },
    {
     "name": "stdout",
     "output_type": "stream",
     "text": [
      "0.2 20 0.2\n"
     ]
    },
    {
     "name": "stderr",
     "output_type": "stream",
     "text": [
      "\r",
      " 11%|█▏        | 9/80 [07:32<1:01:10, 51.70s/it]"
     ]
    },
    {
     "name": "stdout",
     "output_type": "stream",
     "text": [
      "0.2 20 0.6\n"
     ]
    },
    {
     "name": "stderr",
     "output_type": "stream",
     "text": [
      "\r",
      " 12%|█▎        | 10/80 [08:24<1:00:35, 51.94s/it]"
     ]
    },
    {
     "name": "stdout",
     "output_type": "stream",
     "text": [
      "0.2 20 0.8\n"
     ]
    },
    {
     "name": "stderr",
     "output_type": "stream",
     "text": [
      "\r",
      " 14%|█▍        | 11/80 [09:16<59:26, 51.69s/it]  "
     ]
    },
    {
     "name": "stdout",
     "output_type": "stream",
     "text": [
      "0.2 20 1.0\n"
     ]
    },
    {
     "name": "stderr",
     "output_type": "stream",
     "text": [
      "\r",
      " 15%|█▌        | 12/80 [10:09<59:02, 52.10s/it]"
     ]
    },
    {
     "name": "stdout",
     "output_type": "stream",
     "text": [
      "0.2 50 0.2\n"
     ]
    },
    {
     "name": "stderr",
     "output_type": "stream",
     "text": [
      "\r",
      " 16%|█▋        | 13/80 [11:02<58:39, 52.53s/it]"
     ]
    },
    {
     "name": "stdout",
     "output_type": "stream",
     "text": [
      "0.2 50 0.6\n"
     ]
    },
    {
     "name": "stderr",
     "output_type": "stream",
     "text": [
      "\r",
      " 18%|█▊        | 14/80 [11:56<58:08, 52.85s/it]"
     ]
    },
    {
     "name": "stdout",
     "output_type": "stream",
     "text": [
      "0.2 50 0.8\n"
     ]
    },
    {
     "name": "stderr",
     "output_type": "stream",
     "text": [
      "\r",
      " 19%|█▉        | 15/80 [12:49<57:25, 53.01s/it]"
     ]
    },
    {
     "name": "stdout",
     "output_type": "stream",
     "text": [
      "0.2 50 1.0\n"
     ]
    },
    {
     "name": "stderr",
     "output_type": "stream",
     "text": [
      "\r",
      " 20%|██        | 16/80 [13:39<55:36, 52.14s/it]"
     ]
    },
    {
     "name": "stdout",
     "output_type": "stream",
     "text": [
      "0.4 5 0.2\n"
     ]
    },
    {
     "name": "stderr",
     "output_type": "stream",
     "text": [
      "\r",
      " 21%|██▏       | 17/80 [14:29<53:53, 51.32s/it]"
     ]
    },
    {
     "name": "stdout",
     "output_type": "stream",
     "text": [
      "0.4 5 0.6\n"
     ]
    },
    {
     "name": "stderr",
     "output_type": "stream",
     "text": [
      "\r",
      " 22%|██▎       | 18/80 [15:18<52:31, 50.84s/it]"
     ]
    },
    {
     "name": "stdout",
     "output_type": "stream",
     "text": [
      "0.4 5 0.8\n"
     ]
    },
    {
     "name": "stderr",
     "output_type": "stream",
     "text": [
      "\r",
      " 24%|██▍       | 19/80 [16:10<52:00, 51.16s/it]"
     ]
    },
    {
     "name": "stdout",
     "output_type": "stream",
     "text": [
      "0.4 5 1.0\n"
     ]
    },
    {
     "name": "stderr",
     "output_type": "stream",
     "text": [
      "\r",
      " 25%|██▌       | 20/80 [17:03<51:35, 51.59s/it]"
     ]
    },
    {
     "name": "stdout",
     "output_type": "stream",
     "text": [
      "0.4 10 0.2\n"
     ]
    },
    {
     "name": "stderr",
     "output_type": "stream",
     "text": [
      "\r",
      " 26%|██▋       | 21/80 [17:55<51:00, 51.87s/it]"
     ]
    },
    {
     "name": "stdout",
     "output_type": "stream",
     "text": [
      "0.4 10 0.6\n"
     ]
    },
    {
     "name": "stderr",
     "output_type": "stream",
     "text": [
      "\r",
      " 28%|██▊       | 22/80 [18:47<50:02, 51.76s/it]"
     ]
    },
    {
     "name": "stdout",
     "output_type": "stream",
     "text": [
      "0.4 10 0.8\n"
     ]
    },
    {
     "name": "stderr",
     "output_type": "stream",
     "text": [
      "\r",
      " 29%|██▉       | 23/80 [19:37<48:40, 51.24s/it]"
     ]
    },
    {
     "name": "stdout",
     "output_type": "stream",
     "text": [
      "0.4 10 1.0\n"
     ]
    },
    {
     "name": "stderr",
     "output_type": "stream",
     "text": [
      "\r",
      " 30%|███       | 24/80 [20:28<47:52, 51.29s/it]"
     ]
    },
    {
     "name": "stdout",
     "output_type": "stream",
     "text": [
      "0.4 20 0.2\n"
     ]
    },
    {
     "name": "stderr",
     "output_type": "stream",
     "text": [
      "\r",
      " 31%|███▏      | 25/80 [21:23<47:53, 52.25s/it]"
     ]
    },
    {
     "name": "stdout",
     "output_type": "stream",
     "text": [
      "0.4 20 0.6\n"
     ]
    },
    {
     "name": "stderr",
     "output_type": "stream",
     "text": [
      "\r",
      " 32%|███▎      | 26/80 [22:21<48:36, 54.02s/it]"
     ]
    },
    {
     "name": "stdout",
     "output_type": "stream",
     "text": [
      "0.4 20 0.8\n"
     ]
    },
    {
     "name": "stderr",
     "output_type": "stream",
     "text": [
      "\r",
      " 34%|███▍      | 27/80 [23:14<47:25, 53.69s/it]"
     ]
    },
    {
     "name": "stdout",
     "output_type": "stream",
     "text": [
      "0.4 20 1.0\n"
     ]
    },
    {
     "name": "stderr",
     "output_type": "stream",
     "text": [
      "\r",
      " 35%|███▌      | 28/80 [24:08<46:34, 53.74s/it]"
     ]
    },
    {
     "name": "stdout",
     "output_type": "stream",
     "text": [
      "0.4 50 0.2\n"
     ]
    },
    {
     "name": "stderr",
     "output_type": "stream",
     "text": [
      "\r",
      " 36%|███▋      | 29/80 [24:59<45:04, 53.02s/it]"
     ]
    },
    {
     "name": "stdout",
     "output_type": "stream",
     "text": [
      "0.4 50 0.6\n"
     ]
    },
    {
     "name": "stderr",
     "output_type": "stream",
     "text": [
      "\r",
      " 38%|███▊      | 30/80 [25:51<43:58, 52.78s/it]"
     ]
    },
    {
     "name": "stdout",
     "output_type": "stream",
     "text": [
      "0.4 50 0.8\n"
     ]
    },
    {
     "name": "stderr",
     "output_type": "stream",
     "text": [
      "\r",
      " 39%|███▉      | 31/80 [26:44<43:01, 52.68s/it]"
     ]
    },
    {
     "name": "stdout",
     "output_type": "stream",
     "text": [
      "0.4 50 1.0\n"
     ]
    },
    {
     "name": "stderr",
     "output_type": "stream",
     "text": [
      "\r",
      " 40%|████      | 32/80 [27:39<42:46, 53.47s/it]"
     ]
    },
    {
     "name": "stdout",
     "output_type": "stream",
     "text": [
      "0.6 5 0.2\n"
     ]
    },
    {
     "name": "stderr",
     "output_type": "stream",
     "text": [
      "\r",
      " 41%|████▏     | 33/80 [28:40<43:41, 55.77s/it]"
     ]
    },
    {
     "name": "stdout",
     "output_type": "stream",
     "text": [
      "0.6 5 0.6\n"
     ]
    },
    {
     "name": "stderr",
     "output_type": "stream",
     "text": [
      "\r",
      " 42%|████▎     | 34/80 [29:31<41:41, 54.39s/it]"
     ]
    },
    {
     "name": "stdout",
     "output_type": "stream",
     "text": [
      "0.6 5 0.8\n"
     ]
    },
    {
     "name": "stderr",
     "output_type": "stream",
     "text": [
      "\r",
      " 44%|████▍     | 35/80 [30:23<40:08, 53.53s/it]"
     ]
    },
    {
     "name": "stdout",
     "output_type": "stream",
     "text": [
      "0.6 5 1.0\n"
     ]
    },
    {
     "name": "stderr",
     "output_type": "stream",
     "text": [
      "\r",
      " 45%|████▌     | 36/80 [31:17<39:19, 53.63s/it]"
     ]
    },
    {
     "name": "stdout",
     "output_type": "stream",
     "text": [
      "0.6 10 0.2\n"
     ]
    },
    {
     "name": "stderr",
     "output_type": "stream",
     "text": [
      "\r",
      " 46%|████▋     | 37/80 [32:07<37:44, 52.66s/it]"
     ]
    },
    {
     "name": "stdout",
     "output_type": "stream",
     "text": [
      "0.6 10 0.6\n"
     ]
    },
    {
     "name": "stderr",
     "output_type": "stream",
     "text": [
      "\r",
      " 48%|████▊     | 38/80 [32:57<36:22, 51.97s/it]"
     ]
    },
    {
     "name": "stdout",
     "output_type": "stream",
     "text": [
      "0.6 10 0.8\n"
     ]
    },
    {
     "name": "stderr",
     "output_type": "stream",
     "text": [
      "\r",
      " 49%|████▉     | 39/80 [33:45<34:40, 50.74s/it]"
     ]
    },
    {
     "name": "stdout",
     "output_type": "stream",
     "text": [
      "0.6 10 1.0\n"
     ]
    },
    {
     "name": "stderr",
     "output_type": "stream",
     "text": [
      "\r",
      " 50%|█████     | 40/80 [34:33<33:10, 49.75s/it]"
     ]
    },
    {
     "name": "stdout",
     "output_type": "stream",
     "text": [
      "0.6 20 0.2\n"
     ]
    },
    {
     "name": "stderr",
     "output_type": "stream",
     "text": [
      "\r",
      " 51%|█████▏    | 41/80 [35:20<31:49, 48.97s/it]"
     ]
    },
    {
     "name": "stdout",
     "output_type": "stream",
     "text": [
      "0.6 20 0.6\n"
     ]
    },
    {
     "name": "stderr",
     "output_type": "stream",
     "text": [
      "\r",
      " 52%|█████▎    | 42/80 [36:07<30:38, 48.39s/it]"
     ]
    },
    {
     "name": "stdout",
     "output_type": "stream",
     "text": [
      "0.6 20 0.8\n"
     ]
    },
    {
     "name": "stderr",
     "output_type": "stream",
     "text": [
      "\r",
      " 54%|█████▍    | 43/80 [36:54<29:36, 48.00s/it]"
     ]
    },
    {
     "name": "stdout",
     "output_type": "stream",
     "text": [
      "0.6 20 1.0\n"
     ]
    },
    {
     "name": "stderr",
     "output_type": "stream",
     "text": [
      "\r",
      " 55%|█████▌    | 44/80 [37:44<29:07, 48.54s/it]"
     ]
    },
    {
     "name": "stdout",
     "output_type": "stream",
     "text": [
      "0.6 50 0.2\n"
     ]
    },
    {
     "name": "stderr",
     "output_type": "stream",
     "text": [
      "\r",
      " 56%|█████▋    | 45/80 [38:31<28:04, 48.14s/it]"
     ]
    },
    {
     "name": "stdout",
     "output_type": "stream",
     "text": [
      "0.6 50 0.6\n"
     ]
    },
    {
     "name": "stderr",
     "output_type": "stream",
     "text": [
      "\r",
      " 57%|█████▊    | 46/80 [39:18<27:04, 47.78s/it]"
     ]
    },
    {
     "name": "stdout",
     "output_type": "stream",
     "text": [
      "0.6 50 0.8\n"
     ]
    },
    {
     "name": "stderr",
     "output_type": "stream",
     "text": [
      "\r",
      " 59%|█████▉    | 47/80 [40:05<26:11, 47.61s/it]"
     ]
    },
    {
     "name": "stdout",
     "output_type": "stream",
     "text": [
      "0.6 50 1.0\n"
     ]
    },
    {
     "name": "stderr",
     "output_type": "stream",
     "text": [
      "\r",
      " 60%|██████    | 48/80 [40:53<25:23, 47.61s/it]"
     ]
    },
    {
     "name": "stdout",
     "output_type": "stream",
     "text": [
      "0.8 5 0.2\n"
     ]
    },
    {
     "name": "stderr",
     "output_type": "stream",
     "text": [
      "\r",
      " 61%|██████▏   | 49/80 [41:41<24:39, 47.73s/it]"
     ]
    },
    {
     "name": "stdout",
     "output_type": "stream",
     "text": [
      "0.8 5 0.6\n"
     ]
    },
    {
     "name": "stderr",
     "output_type": "stream",
     "text": [
      "\r",
      " 62%|██████▎   | 50/80 [42:29<23:57, 47.92s/it]"
     ]
    },
    {
     "name": "stdout",
     "output_type": "stream",
     "text": [
      "0.8 5 0.8\n"
     ]
    },
    {
     "name": "stderr",
     "output_type": "stream",
     "text": [
      "\r",
      " 64%|██████▍   | 51/80 [43:16<23:02, 47.66s/it]"
     ]
    },
    {
     "name": "stdout",
     "output_type": "stream",
     "text": [
      "0.8 5 1.0\n"
     ]
    },
    {
     "name": "stderr",
     "output_type": "stream",
     "text": [
      "\r",
      " 65%|██████▌   | 52/80 [44:03<22:09, 47.47s/it]"
     ]
    },
    {
     "name": "stdout",
     "output_type": "stream",
     "text": [
      "0.8 10 0.2\n"
     ]
    },
    {
     "name": "stderr",
     "output_type": "stream",
     "text": [
      "\r",
      " 66%|██████▋   | 53/80 [44:50<21:16, 47.28s/it]"
     ]
    },
    {
     "name": "stdout",
     "output_type": "stream",
     "text": [
      "0.8 10 0.6\n"
     ]
    },
    {
     "name": "stderr",
     "output_type": "stream",
     "text": [
      "\r",
      " 68%|██████▊   | 54/80 [45:37<20:29, 47.27s/it]"
     ]
    },
    {
     "name": "stdout",
     "output_type": "stream",
     "text": [
      "0.8 10 0.8\n"
     ]
    },
    {
     "name": "stderr",
     "output_type": "stream",
     "text": [
      "\r",
      " 69%|██████▉   | 55/80 [46:24<19:40, 47.20s/it]"
     ]
    },
    {
     "name": "stdout",
     "output_type": "stream",
     "text": [
      "0.8 10 1.0\n"
     ]
    },
    {
     "name": "stderr",
     "output_type": "stream",
     "text": [
      "\r",
      " 70%|███████   | 56/80 [47:12<18:52, 47.18s/it]"
     ]
    },
    {
     "name": "stdout",
     "output_type": "stream",
     "text": [
      "0.8 20 0.2\n"
     ]
    },
    {
     "name": "stderr",
     "output_type": "stream",
     "text": [
      "\r",
      " 71%|███████▏  | 57/80 [47:59<18:05, 47.17s/it]"
     ]
    },
    {
     "name": "stdout",
     "output_type": "stream",
     "text": [
      "0.8 20 0.6\n"
     ]
    },
    {
     "name": "stderr",
     "output_type": "stream",
     "text": [
      "\r",
      " 72%|███████▎  | 58/80 [48:48<17:31, 47.79s/it]"
     ]
    },
    {
     "name": "stdout",
     "output_type": "stream",
     "text": [
      "0.8 20 0.8\n"
     ]
    },
    {
     "name": "stderr",
     "output_type": "stream",
     "text": [
      "\r",
      " 74%|███████▍  | 59/80 [49:39<17:04, 48.78s/it]"
     ]
    },
    {
     "name": "stdout",
     "output_type": "stream",
     "text": [
      "0.8 20 1.0\n"
     ]
    },
    {
     "name": "stderr",
     "output_type": "stream",
     "text": [
      "\r",
      " 75%|███████▌  | 60/80 [50:30<16:26, 49.35s/it]"
     ]
    },
    {
     "name": "stdout",
     "output_type": "stream",
     "text": [
      "0.8 50 0.2\n"
     ]
    },
    {
     "name": "stderr",
     "output_type": "stream",
     "text": [
      "\r",
      " 76%|███████▋  | 61/80 [51:20<15:43, 49.68s/it]"
     ]
    },
    {
     "name": "stdout",
     "output_type": "stream",
     "text": [
      "0.8 50 0.6\n"
     ]
    },
    {
     "name": "stderr",
     "output_type": "stream",
     "text": [
      "\r",
      " 78%|███████▊  | 62/80 [52:09<14:50, 49.48s/it]"
     ]
    },
    {
     "name": "stdout",
     "output_type": "stream",
     "text": [
      "0.8 50 0.8\n"
     ]
    },
    {
     "name": "stderr",
     "output_type": "stream",
     "text": [
      "\r",
      " 79%|███████▉  | 63/80 [52:56<13:48, 48.76s/it]"
     ]
    },
    {
     "name": "stdout",
     "output_type": "stream",
     "text": [
      "0.8 50 1.0\n"
     ]
    },
    {
     "name": "stderr",
     "output_type": "stream",
     "text": [
      "\r",
      " 80%|████████  | 64/80 [53:43<12:52, 48.29s/it]"
     ]
    },
    {
     "name": "stdout",
     "output_type": "stream",
     "text": [
      "1 5 0.2\n"
     ]
    },
    {
     "name": "stderr",
     "output_type": "stream",
     "text": [
      "\r",
      " 81%|████████▏ | 65/80 [54:32<12:05, 48.38s/it]"
     ]
    },
    {
     "name": "stdout",
     "output_type": "stream",
     "text": [
      "1 5 0.6\n"
     ]
    },
    {
     "name": "stderr",
     "output_type": "stream",
     "text": [
      "\r",
      " 82%|████████▎ | 66/80 [55:19<11:11, 47.99s/it]"
     ]
    },
    {
     "name": "stdout",
     "output_type": "stream",
     "text": [
      "1 5 0.8\n"
     ]
    },
    {
     "name": "stderr",
     "output_type": "stream",
     "text": [
      "\r",
      " 84%|████████▍ | 67/80 [56:07<10:22, 47.88s/it]"
     ]
    },
    {
     "name": "stdout",
     "output_type": "stream",
     "text": [
      "1 5 1.0\n"
     ]
    },
    {
     "name": "stderr",
     "output_type": "stream",
     "text": [
      "\r",
      " 85%|████████▌ | 68/80 [56:55<09:34, 47.88s/it]"
     ]
    },
    {
     "name": "stdout",
     "output_type": "stream",
     "text": [
      "1 10 0.2\n"
     ]
    },
    {
     "name": "stderr",
     "output_type": "stream",
     "text": [
      "\r",
      " 86%|████████▋ | 69/80 [57:43<08:48, 48.00s/it]"
     ]
    },
    {
     "name": "stdout",
     "output_type": "stream",
     "text": [
      "1 10 0.6\n"
     ]
    },
    {
     "name": "stderr",
     "output_type": "stream",
     "text": [
      "\r",
      " 88%|████████▊ | 70/80 [58:31<07:59, 47.92s/it]"
     ]
    },
    {
     "name": "stdout",
     "output_type": "stream",
     "text": [
      "1 10 0.8\n"
     ]
    },
    {
     "name": "stderr",
     "output_type": "stream",
     "text": [
      "\r",
      " 89%|████████▉ | 71/80 [59:18<07:10, 47.80s/it]"
     ]
    },
    {
     "name": "stdout",
     "output_type": "stream",
     "text": [
      "1 10 1.0\n"
     ]
    },
    {
     "name": "stderr",
     "output_type": "stream",
     "text": [
      "\r",
      " 90%|█████████ | 72/80 [1:00:05<06:20, 47.57s/it]"
     ]
    },
    {
     "name": "stdout",
     "output_type": "stream",
     "text": [
      "1 20 0.2\n"
     ]
    },
    {
     "name": "stderr",
     "output_type": "stream",
     "text": [
      "\r",
      " 91%|█████████▏| 73/80 [1:00:52<05:32, 47.47s/it]"
     ]
    },
    {
     "name": "stdout",
     "output_type": "stream",
     "text": [
      "1 20 0.6\n"
     ]
    },
    {
     "name": "stderr",
     "output_type": "stream",
     "text": [
      "\r",
      " 92%|█████████▎| 74/80 [1:01:39<04:44, 47.34s/it]"
     ]
    },
    {
     "name": "stdout",
     "output_type": "stream",
     "text": [
      "1 20 0.8\n"
     ]
    },
    {
     "name": "stderr",
     "output_type": "stream",
     "text": [
      "\r",
      " 94%|█████████▍| 75/80 [1:02:27<03:56, 47.38s/it]"
     ]
    },
    {
     "name": "stdout",
     "output_type": "stream",
     "text": [
      "1 20 1.0\n"
     ]
    },
    {
     "name": "stderr",
     "output_type": "stream",
     "text": [
      "\r",
      " 95%|█████████▌| 76/80 [1:03:14<03:08, 47.22s/it]"
     ]
    },
    {
     "name": "stdout",
     "output_type": "stream",
     "text": [
      "1 50 0.2\n"
     ]
    },
    {
     "name": "stderr",
     "output_type": "stream",
     "text": [
      "\r",
      " 96%|█████████▋| 77/80 [1:04:01<02:21, 47.14s/it]"
     ]
    },
    {
     "name": "stdout",
     "output_type": "stream",
     "text": [
      "1 50 0.6\n"
     ]
    },
    {
     "name": "stderr",
     "output_type": "stream",
     "text": [
      "\r",
      " 98%|█████████▊| 78/80 [1:04:48<01:34, 47.17s/it]"
     ]
    },
    {
     "name": "stdout",
     "output_type": "stream",
     "text": [
      "1 50 0.8\n"
     ]
    },
    {
     "name": "stderr",
     "output_type": "stream",
     "text": [
      "\r",
      " 99%|█████████▉| 79/80 [1:05:35<00:47, 47.21s/it]"
     ]
    },
    {
     "name": "stdout",
     "output_type": "stream",
     "text": [
      "1 50 1.0\n"
     ]
    },
    {
     "name": "stderr",
     "output_type": "stream",
     "text": [
      "\r",
      "100%|██████████| 80/80 [1:06:22<00:00, 47.18s/it]"
     ]
    }
   ],
   "source": [
    "temp = [0.2,0.4,0.6,0.8,1]\n",
    "k = [5,10,20,50]\n",
    "p = [0.2,0.6,0.8,1.0]\n",
    "\n",
    "bar = tqdm.tqdm(total = len(temp) * len(k) * len(p))\n",
    "path = \"generators/LSTM/\" + \"LSTM_Generator 54\"\n",
    "model = tf.keras.models.load_model(path)\n",
    "for t in temp:\n",
    "    for ki in k:\n",
    "        for pi in p:\n",
    "            print(t,ki,pi)\n",
    "            filename = \"LSTM \" + str((t, ki, pi))\n",
    "            for i in range(10):\n",
    "                context = randcontext(train,4)\n",
    "                string = generateText(model,tokenizer,context, t = t, p = pi, k = ki)\n",
    "                save_path = \"generators/LSTM_texts/sampling_texts/\"+ filename + \" \" +  str(i)+ \" \" + \".txt\"\n",
    "                save_to_file(string,save_path)\n",
    "            bar.update(1)"
   ]
  },
  {
   "cell_type": "code",
   "execution_count": 30,
   "id": "a3eea3d8",
   "metadata": {},
   "outputs": [
    {
     "name": "stderr",
     "output_type": "stream",
     "text": [
      "C:\\Users\\marty\\anaconda3\\envs\\tfgpunew\\lib\\site-packages\\nltk\\translate\\bleu_score.py:552: UserWarning: \n",
      "The hypothesis contains 0 counts of 2-gram overlaps.\n",
      "Therefore the BLEU score evaluates to 0, independently of\n",
      "how many N-gram overlaps of lower order it contains.\n",
      "Consider using lower n-gram order or use SmoothingFunction()\n",
      "  warnings.warn(_msg)\n",
      "C:\\Users\\marty\\anaconda3\\envs\\tfgpunew\\lib\\site-packages\\nltk\\translate\\bleu_score.py:552: UserWarning: \n",
      "The hypothesis contains 0 counts of 3-gram overlaps.\n",
      "Therefore the BLEU score evaluates to 0, independently of\n",
      "how many N-gram overlaps of lower order it contains.\n",
      "Consider using lower n-gram order or use SmoothingFunction()\n",
      "  warnings.warn(_msg)\n",
      "C:\\Users\\marty\\anaconda3\\envs\\tfgpunew\\lib\\site-packages\\nltk\\translate\\bleu_score.py:552: UserWarning: \n",
      "The hypothesis contains 0 counts of 4-gram overlaps.\n",
      "Therefore the BLEU score evaluates to 0, independently of\n",
      "how many N-gram overlaps of lower order it contains.\n",
      "Consider using lower n-gram order or use SmoothingFunction()\n",
      "  warnings.warn(_msg)\n"
     ]
    }
   ],
   "source": [
    "results = []\n",
    "for filename in os.listdir(\"generators/LSTM_texts/sampling_texts\"):\n",
    "    path = \"generators/LSTM_texts/sampling_texts/\"+filename\n",
    "    namespl = filename.split(\" \")\n",
    "    name = namespl[1] + namespl[2] + namespl[3]\n",
    "    genstr = read_from_file(path)\n",
    "    evaluation = evaluate(genvalid, genstr)\n",
    "    results.append((name, ) + evaluation)"
   ]
  },
  {
   "cell_type": "code",
   "execution_count": 31,
   "id": "669d1578",
   "metadata": {},
   "outputs": [],
   "source": [
    "results = pd.DataFrame(results)\n",
    "results = results.groupby([0]).mean().reset_index()\n",
    "results[results[1] == max(results[1])]"
   ]
  },
  {
   "cell_type": "markdown",
   "id": "419a4833",
   "metadata": {},
   "source": [
    "## generate 100 samples for testing "
   ]
  },
  {
   "cell_type": "code",
   "execution_count": 36,
   "id": "e7cd76b7",
   "metadata": {},
   "outputs": [
    {
     "name": "stderr",
     "output_type": "stream",
     "text": [
      "\n",
      "  0%|          | 0/100 [00:00<?, ?it/s]\u001b[A\n",
      "  1%|          | 1/100 [00:05<09:11,  5.57s/it]\u001b[A\n",
      "  2%|▏         | 2/100 [00:10<08:27,  5.18s/it]\u001b[A\n",
      "  3%|▎         | 3/100 [00:15<07:59,  4.94s/it]\u001b[A\n",
      "  4%|▍         | 4/100 [00:20<07:55,  4.95s/it]\u001b[A\n",
      "  5%|▌         | 5/100 [00:24<07:47,  4.92s/it]\u001b[A\n",
      "  6%|▌         | 6/100 [00:29<07:31,  4.80s/it]\u001b[A\n",
      "  7%|▋         | 7/100 [00:34<07:27,  4.81s/it]\u001b[A\n",
      "  8%|▊         | 8/100 [00:39<07:22,  4.81s/it]\u001b[A\n",
      "  9%|▉         | 9/100 [00:45<07:46,  5.13s/it]\u001b[A\n",
      " 10%|█         | 10/100 [00:50<07:54,  5.28s/it]\u001b[A\n",
      " 11%|█         | 11/100 [00:56<07:55,  5.35s/it]\u001b[A\n",
      " 12%|█▏        | 12/100 [01:00<07:36,  5.19s/it]\u001b[A\n",
      " 13%|█▎        | 13/100 [01:06<07:40,  5.29s/it]\u001b[A\n",
      " 14%|█▍        | 14/100 [01:12<08:01,  5.60s/it]\u001b[A\n",
      " 15%|█▌        | 15/100 [01:18<07:52,  5.55s/it]\u001b[A\n",
      " 16%|█▌        | 16/100 [01:23<07:31,  5.37s/it]\u001b[A\n",
      " 17%|█▋        | 17/100 [01:28<07:16,  5.26s/it]\u001b[A\n",
      " 18%|█▊        | 18/100 [01:33<07:02,  5.15s/it]\u001b[A\n",
      " 19%|█▉        | 19/100 [01:38<07:03,  5.23s/it]\u001b[A\n",
      " 20%|██        | 20/100 [01:43<06:52,  5.16s/it]\u001b[A\n",
      " 21%|██        | 21/100 [01:48<06:34,  5.00s/it]\u001b[A\n",
      " 22%|██▏       | 22/100 [01:53<06:32,  5.03s/it]\u001b[A\n",
      " 23%|██▎       | 23/100 [01:58<06:25,  5.01s/it]\u001b[A\n",
      " 24%|██▍       | 24/100 [02:03<06:17,  4.97s/it]\u001b[A\n",
      " 25%|██▌       | 25/100 [02:07<06:11,  4.95s/it]\u001b[A\n",
      " 26%|██▌       | 26/100 [02:13<06:13,  5.04s/it]\u001b[A\n",
      " 27%|██▋       | 27/100 [02:18<06:08,  5.05s/it]\u001b[A\n",
      " 28%|██▊       | 28/100 [02:23<06:03,  5.05s/it]\u001b[A\n",
      " 29%|██▉       | 29/100 [02:28<05:56,  5.02s/it]\u001b[A\n",
      " 30%|███       | 30/100 [02:33<05:53,  5.05s/it]\u001b[A\n",
      " 31%|███       | 31/100 [02:38<05:48,  5.05s/it]\u001b[A\n",
      " 32%|███▏      | 32/100 [02:43<05:47,  5.12s/it]\u001b[A\n",
      " 33%|███▎      | 33/100 [02:48<05:38,  5.05s/it]\u001b[A\n",
      " 34%|███▍      | 34/100 [02:53<05:27,  4.96s/it]\u001b[A\n",
      " 35%|███▌      | 35/100 [02:58<05:25,  5.01s/it]\u001b[A\n",
      " 36%|███▌      | 36/100 [03:03<05:17,  4.96s/it]\u001b[A\n",
      " 37%|███▋      | 37/100 [03:07<05:06,  4.86s/it]\u001b[A\n",
      " 38%|███▊      | 38/100 [03:12<05:00,  4.85s/it]\u001b[A\n",
      " 39%|███▉      | 39/100 [03:17<04:52,  4.79s/it]\u001b[A\n",
      " 40%|████      | 40/100 [03:22<04:51,  4.85s/it]\u001b[A\n",
      " 41%|████      | 41/100 [03:27<04:43,  4.80s/it]\u001b[A\n",
      " 42%|████▏     | 42/100 [03:32<04:42,  4.87s/it]\u001b[A\n",
      " 43%|████▎     | 43/100 [03:37<04:43,  4.98s/it]\u001b[A\n",
      " 44%|████▍     | 44/100 [03:42<04:35,  4.91s/it]\u001b[A\n",
      " 45%|████▌     | 45/100 [03:47<04:30,  4.92s/it]\u001b[A\n",
      " 46%|████▌     | 46/100 [03:51<04:25,  4.91s/it]\u001b[A\n",
      " 47%|████▋     | 47/100 [03:56<04:17,  4.85s/it]\u001b[A\n",
      " 48%|████▊     | 48/100 [04:01<04:11,  4.84s/it]\u001b[A\n",
      " 49%|████▉     | 49/100 [04:06<04:03,  4.77s/it]\u001b[A\n",
      " 50%|█████     | 50/100 [04:10<03:56,  4.73s/it]\u001b[A\n",
      " 51%|█████     | 51/100 [04:15<03:50,  4.70s/it]\u001b[A\n",
      " 52%|█████▏    | 52/100 [04:20<03:47,  4.75s/it]\u001b[A\n",
      " 53%|█████▎    | 53/100 [04:25<03:45,  4.80s/it]\u001b[A\n",
      " 54%|█████▍    | 54/100 [04:29<03:38,  4.74s/it]\u001b[A\n",
      " 55%|█████▌    | 55/100 [04:34<03:34,  4.78s/it]\u001b[A\n",
      " 56%|█████▌    | 56/100 [04:39<03:35,  4.89s/it]\u001b[A\n",
      " 57%|█████▋    | 57/100 [04:44<03:26,  4.80s/it]\u001b[A\n",
      " 58%|█████▊    | 58/100 [04:49<03:21,  4.81s/it]\u001b[A\n",
      " 59%|█████▉    | 59/100 [04:54<03:18,  4.83s/it]\u001b[A\n",
      " 60%|██████    | 60/100 [04:59<03:15,  4.88s/it]\u001b[A\n",
      " 61%|██████    | 61/100 [05:03<03:07,  4.82s/it]\u001b[A\n",
      " 62%|██████▏   | 62/100 [05:08<03:03,  4.82s/it]\u001b[A\n",
      " 63%|██████▎   | 63/100 [05:13<02:58,  4.81s/it]\u001b[A\n",
      " 64%|██████▍   | 64/100 [05:18<02:58,  4.96s/it]\u001b[A\n",
      " 65%|██████▌   | 65/100 [05:23<02:53,  4.97s/it]\u001b[A\n",
      " 66%|██████▌   | 66/100 [05:28<02:46,  4.90s/it]\u001b[A\n",
      " 67%|██████▋   | 67/100 [05:33<02:45,  5.01s/it]\u001b[A\n",
      " 68%|██████▊   | 68/100 [05:38<02:38,  4.95s/it]\u001b[A\n",
      " 69%|██████▉   | 69/100 [05:43<02:30,  4.84s/it]\u001b[A\n",
      " 70%|███████   | 70/100 [05:47<02:23,  4.78s/it]\u001b[A\n",
      " 71%|███████   | 71/100 [05:52<02:18,  4.76s/it]\u001b[A\n",
      " 72%|███████▏  | 72/100 [05:57<02:14,  4.80s/it]\u001b[A\n",
      " 73%|███████▎  | 73/100 [06:01<02:08,  4.75s/it]\u001b[A\n",
      " 74%|███████▍  | 74/100 [06:06<02:02,  4.73s/it]\u001b[A\n",
      " 75%|███████▌  | 75/100 [06:11<01:59,  4.79s/it]\u001b[A\n",
      " 76%|███████▌  | 76/100 [06:16<01:58,  4.92s/it]\u001b[A\n",
      " 77%|███████▋  | 77/100 [06:21<01:51,  4.83s/it]\u001b[A\n",
      " 78%|███████▊  | 78/100 [06:26<01:46,  4.83s/it]\u001b[A\n",
      " 79%|███████▉  | 79/100 [06:30<01:40,  4.77s/it]\u001b[A\n",
      " 80%|████████  | 80/100 [06:36<01:38,  4.91s/it]\u001b[A\n",
      " 81%|████████  | 81/100 [06:40<01:32,  4.88s/it]\u001b[A\n",
      " 82%|████████▏ | 82/100 [06:45<01:26,  4.80s/it]\u001b[A\n",
      " 83%|████████▎ | 83/100 [06:50<01:20,  4.74s/it]\u001b[A\n",
      " 84%|████████▍ | 84/100 [06:54<01:15,  4.70s/it]\u001b[A\n",
      " 85%|████████▌ | 85/100 [06:59<01:10,  4.73s/it]\u001b[A\n",
      " 86%|████████▌ | 86/100 [07:04<01:05,  4.70s/it]\u001b[A\n",
      " 87%|████████▋ | 87/100 [07:09<01:02,  4.83s/it]\u001b[A\n",
      " 88%|████████▊ | 88/100 [07:14<00:58,  4.85s/it]\u001b[A\n",
      " 89%|████████▉ | 89/100 [07:19<00:54,  4.94s/it]\u001b[A\n",
      " 90%|█████████ | 90/100 [07:24<00:50,  5.03s/it]\u001b[A\n",
      " 91%|█████████ | 91/100 [07:29<00:46,  5.12s/it]\u001b[A\n",
      " 92%|█████████▏| 92/100 [07:34<00:40,  5.05s/it]\u001b[A\n",
      " 93%|█████████▎| 93/100 [07:40<00:36,  5.21s/it]\u001b[A\n",
      " 94%|█████████▍| 94/100 [07:45<00:31,  5.23s/it]\u001b[A\n",
      " 95%|█████████▌| 95/100 [07:50<00:25,  5.16s/it]\u001b[A\n",
      " 96%|█████████▌| 96/100 [07:55<00:20,  5.11s/it]\u001b[A\n",
      " 97%|█████████▋| 97/100 [08:00<00:15,  5.08s/it]\u001b[A\n",
      " 98%|█████████▊| 98/100 [08:05<00:10,  5.01s/it]\u001b[A\n",
      " 99%|█████████▉| 99/100 [08:10<00:04,  4.98s/it]\u001b[A\n",
      "100%|██████████| 100/100 [08:15<00:00,  4.95s/it]\u001b[A\n"
     ]
    }
   ],
   "source": [
    "path = \"generators/LSTM/\" + \"LSTM_Generator 54\"\n",
    "model = tf.keras.models.load_model(path)\n",
    "for i in tqdm.tqdm(range(100)):\n",
    "    context = randcontext(train,4)\n",
    "    string = generateText(model,tokenizer,context, t = 0.8, p = 0.6, k = 20)\n",
    "    save_path = \"generators/LSTM_texts/test_texts/\"+ \"LSTMtest\" + \" \" +  str(i)+ \" \" + \".txt\"\n",
    "    save_to_file(string,save_path)"
   ]
  }
 ],
 "metadata": {
  "kernelspec": {
   "display_name": "Python 3 (ipykernel)",
   "language": "python",
   "name": "python3"
  },
  "language_info": {
   "codemirror_mode": {
    "name": "ipython",
    "version": 3
   },
   "file_extension": ".py",
   "mimetype": "text/x-python",
   "name": "python",
   "nbconvert_exporter": "python",
   "pygments_lexer": "ipython3",
   "version": "3.8.12"
  }
 },
 "nbformat": 4,
 "nbformat_minor": 5
}
