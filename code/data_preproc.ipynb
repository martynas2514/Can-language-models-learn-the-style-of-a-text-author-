{
 "cells": [
  {
   "cell_type": "markdown",
   "id": "9028da4a",
   "metadata": {},
   "source": [
    "# load data "
   ]
  },
  {
   "cell_type": "markdown",
   "id": "814db2c6",
   "metadata": {},
   "source": [
    "## write trump and biden speeches to one file "
   ]
  },
  {
   "cell_type": "code",
   "execution_count": 66,
   "id": "8b705238",
   "metadata": {},
   "outputs": [],
   "source": [
    "## Preparing the dataset\n",
    "\n",
    "import os\n",
    "import pandas as pd\n",
    "import re\n",
    "\n",
    "text = \"\"\n",
    "\n",
    "\n",
    "for filename in os.listdir(\"Biden_speeches\"):\n",
    "    path = \"Biden_speeches/\"+filename\n",
    "    with open(path) as f:\n",
    "        t = f.read()\n",
    "        t = re.sub(r\"\\[.*\\]\", '', t)\n",
    "        t = t.replace(\"”\",'\"')\n",
    "        t = t.replace(\"“\",'\"')\n",
    "        t = t.replace(\"’\",\"'\")\n",
    "        t = re.sub(r\"\\\\\", '', t)\n",
    "        text += t\n",
    "\n",
    "\n",
    "with open(\"other_speeches.txt\", \"w\", encoding = 'utf-8') as file1:\n",
    "    # Writing data to a file\n",
    "    file1.write(text)"
   ]
  },
  {
   "cell_type": "markdown",
   "id": "683d978a",
   "metadata": {},
   "source": [
    "# data prep "
   ]
  },
  {
   "cell_type": "code",
   "execution_count": 1,
   "id": "42bbd28f",
   "metadata": {},
   "outputs": [],
   "source": [
    "with open(\"trump_speeches.txt\", encoding = \"utf-8\") as f:\n",
    "    trump = f.read()\n",
    "\n",
    "with open(\"other_speeches.txt\", encoding = \"utf-8\") as f:\n",
    "    others = f.read()"
   ]
  },
  {
   "cell_type": "code",
   "execution_count": 84,
   "id": "432e2969",
   "metadata": {},
   "outputs": [],
   "source": [
    "def splitToSentences(text, minwords):\n",
    "    sentences = []\n",
    "    too_short_save = \"\"\n",
    "\n",
    "    dot_split = text.split(\".\")\n",
    "\n",
    "    mem_words = 0\n",
    "    for i in dot_split:\n",
    "        words = i.split(\" \")\n",
    "        if (len(words) + mem_words) < minwords: \n",
    "            too_short_save = too_short_save + \". \" + i\n",
    "            mem_words = mem_words + len(words)\n",
    "        else:\n",
    "            too_short_save = too_short_save + \". \" + i + \". \"\n",
    "            sentences.append(too_short_save[2:])\n",
    "            mem_words = 0\n",
    "            too_short_save = \"\"\n",
    "    return(sentences)"
   ]
  },
  {
   "cell_type": "code",
   "execution_count": 88,
   "id": "9330fa29",
   "metadata": {},
   "outputs": [],
   "source": [
    "trumpSentenceList = splitToSentences(trump, 100)\n",
    "OtherSentenceList = splitToSentences(others, 100)"
   ]
  },
  {
   "cell_type": "markdown",
   "id": "9d97ef53",
   "metadata": {},
   "source": [
    "lets take first 50000 words for classifier"
   ]
  },
  {
   "cell_type": "code",
   "execution_count": 2,
   "id": "30545099",
   "metadata": {},
   "outputs": [],
   "source": [
    "trump_classifier = trump.split(\" \")[:50000]\n",
    "trump_generator = trump.split(\" \")[50000:]\n",
    "others_words = others.split(\" \")[:50000]\n",
    "others_test_words = others.split(\" \")[50000:]"
   ]
  },
  {
   "cell_type": "code",
   "execution_count": 5,
   "id": "a943661b",
   "metadata": {},
   "outputs": [],
   "source": [
    "trump_classifier_string = \" \".join(trump_classifier)\n",
    "trump_generator_string = \" \".join(trump_generator)\n",
    "others_words_string = \" \".join(others_words)\n",
    "others_valid_string = \" \".join(others_test_words)"
   ]
  },
  {
   "cell_type": "code",
   "execution_count": 101,
   "id": "1aa9c2e8",
   "metadata": {},
   "outputs": [],
   "source": [
    "trumpSentenceList = splitToSentences(trump_generator_string, 100)"
   ]
  },
  {
   "cell_type": "code",
   "execution_count": 110,
   "id": "5f196e61",
   "metadata": {},
   "outputs": [],
   "source": [
    "trumpValidationSentenceList = trumpSentenceList[:int(len(trumpSentenceList) * 0.1)]\n",
    "trumpGeneratorSentenceList = trumpSentenceList[int(len(trumpSentenceList) * 0.1):]"
   ]
  },
  {
   "cell_type": "code",
   "execution_count": 124,
   "id": "33256123",
   "metadata": {
    "scrolled": true
   },
   "outputs": [],
   "source": [
    "trumpGeneratorText = \"\".join(trumpGeneratorSentenceList)\n",
    "trumpValidationText = \"\".join(trumpValidationSentenceList)"
   ]
  },
  {
   "cell_type": "markdown",
   "id": "d75f65cd",
   "metadata": {},
   "source": [
    "- trumpGeneratorText.txt: 2885 sentences with more than 100 words, 314485 words\n",
    "- trumpValidationText.txt: 320 sentences with more than 100 words, 34845 words\n",
    "- trumpClassifierText.txt: 509 sentences with more than 100 words, 50000 words \n",
    "- othersClassifierText.txt: 475 sentences with more than 100 words, 50000 words"
   ]
  },
  {
   "cell_type": "markdown",
   "id": "f639647c",
   "metadata": {},
   "source": [
    " write data to txt that in different runs data wouldnt mix "
   ]
  },
  {
   "cell_type": "code",
   "execution_count": 128,
   "id": "85576a2f",
   "metadata": {},
   "outputs": [],
   "source": [
    "with open(\"data_splits/trumpGeneratorText.txt\", \"w\", encoding = 'utf-8') as file1:\n",
    "    # Writing data to a file\n",
    "    file1.write(trumpGeneratorText)\n",
    "    \n",
    "with open(\"data_splits/trumpValidationText.txt\", \"w\", encoding = 'utf-8') as file1:\n",
    "    # Writing data to a file\n",
    "    file1.write(trumpValidationText)\n",
    "    \n",
    "with open(\"data_splits/trumpClassifierText.txt\", \"w\", encoding = 'utf-8') as file1:\n",
    "    # Writing data to a file\n",
    "    file1.write(trump_classifier_string)\n",
    "    "
   ]
  },
  {
   "cell_type": "code",
   "execution_count": 6,
   "id": "c7c3c3d3",
   "metadata": {},
   "outputs": [],
   "source": [
    "with open(\"data_splits/othersTestText.txt\", \"w\", encoding = 'utf-8') as file1:\n",
    "    # Writing data to a file\n",
    "    file1.write(others_valid_string)"
   ]
  },
  {
   "cell_type": "markdown",
   "id": "2e9601e8",
   "metadata": {},
   "source": [
    "# Metrics "
   ]
  },
  {
   "cell_type": "markdown",
   "id": "03335c10",
   "metadata": {},
   "source": [
    "## read data "
   ]
  },
  {
   "cell_type": "code",
   "execution_count": 2,
   "id": "be88f336",
   "metadata": {},
   "outputs": [],
   "source": [
    "with open(\"data_splits/trumpGeneratorText.txt\", encoding = \"utf-8\") as f:\n",
    "    trumpGeneratorText = f.read()\n",
    "\n",
    "with open(\"data_splits/trumpTestText.txt\", encoding = \"utf-8\") as f:\n",
    "    trumpValidationText = f.read()\n",
    "    \n",
    "with open(\"data_splits/trumpClassifierText.txt\", encoding = \"utf-8\") as f:\n",
    "    trump_classifier_string = f.read()\n",
    "\n",
    "with open(\"data_splits/othersClassifierText.txt\", encoding = \"utf-8\") as f:\n",
    "    others_words_string = f.read()"
   ]
  },
  {
   "cell_type": "markdown",
   "id": "c45b2e77",
   "metadata": {},
   "source": [
    "first test BLEU score, text will be divided into snipets with equal amount of words to avoid brevity penalty. We need to avoid it as its its not a tranlation task so penalyzing for different sentence lenght would give us more information. \n"
   ]
  },
  {
   "cell_type": "code",
   "execution_count": 3,
   "id": "bc4f05ec",
   "metadata": {},
   "outputs": [],
   "source": [
    "def makeChunks(text, size):\n",
    "    our_list = text.split(\" \")\n",
    "    chunked_list = list()\n",
    "    chunk_size = size\n",
    "    for i in range(0, len(our_list), chunk_size):\n",
    "        chunked_list.append(our_list[i:i+chunk_size])\n",
    "    return(chunked_list[:-1]) # not to take last one as it might be not the size as asked"
   ]
  },
  {
   "cell_type": "markdown",
   "id": "1a6b8e0f",
   "metadata": {},
   "source": [
    "trumpValidationText will be ours reference, trump_classifier_string candidate"
   ]
  },
  {
   "cell_type": "code",
   "execution_count": 4,
   "id": "65696bed",
   "metadata": {},
   "outputs": [],
   "source": [
    "reference = makeChunks(trumpValidationText, 100)\n",
    "candidate1 = makeChunks(trump_classifier_string, 100)\n",
    "candidate2 = makeChunks(others_words_string, 100)"
   ]
  },
  {
   "cell_type": "code",
   "execution_count": 5,
   "id": "b1690079",
   "metadata": {
    "scrolled": true
   },
   "outputs": [],
   "source": [
    "from nltk.translate.bleu_score import sentence_bleu\n",
    "from scipy.stats import ttest_ind"
   ]
  },
  {
   "cell_type": "code",
   "execution_count": 6,
   "id": "232967da",
   "metadata": {},
   "outputs": [
    {
     "name": "stderr",
     "output_type": "stream",
     "text": [
      "C:\\Users\\marty\\anaconda3\\envs\\tfgpunew\\lib\\site-packages\\nltk\\translate\\bleu_score.py:552: UserWarning: \n",
      "The hypothesis contains 0 counts of 4-gram overlaps.\n",
      "Therefore the BLEU score evaluates to 0, independently of\n",
      "how many N-gram overlaps of lower order it contains.\n",
      "Consider using lower n-gram order or use SmoothingFunction()\n",
      "  warnings.warn(_msg)\n",
      "C:\\Users\\marty\\anaconda3\\envs\\tfgpunew\\lib\\site-packages\\nltk\\translate\\bleu_score.py:552: UserWarning: \n",
      "The hypothesis contains 0 counts of 3-gram overlaps.\n",
      "Therefore the BLEU score evaluates to 0, independently of\n",
      "how many N-gram overlaps of lower order it contains.\n",
      "Consider using lower n-gram order or use SmoothingFunction()\n",
      "  warnings.warn(_msg)\n"
     ]
    },
    {
     "name": "stdout",
     "output_type": "stream",
     "text": [
      "Ttest_indResult(statistic=15.87934260048414, pvalue=2.2547916197719586e-49)\n"
     ]
    },
    {
     "data": {
      "image/png": "[encoded data removed]",
      "text/plain": [
       "<Figure size 432x288 with 1 Axes>"
      ]
     },
     "metadata": {
      "needs_background": "light"
     },
     "output_type": "display_data"
    }
   ],
   "source": [
    "import matplotlib.pyplot as plt\n",
    "\n",
    "results1 = [sentence_bleu(reference, i,weights = (0.25,0.25,0.25,0.25)) for i in candidate1]\n",
    "results2 = [sentence_bleu(reference, i,weights = (0.25,0.25,0.25,0.25)) for i in candidate2]\n",
    "\n",
    "res = ttest_ind(results1, results2, equal_var = False)\n",
    "print(res)\n",
    "plt.hist(results1, bins = 20, range = (0,1))\n",
    "plt.hist(results2, bins = 20, range = (0,1))\n",
    "plt.show()"
   ]
  },
  {
   "cell_type": "code",
   "execution_count": 7,
   "id": "92ef62f8",
   "metadata": {
    "scrolled": true
   },
   "outputs": [],
   "source": [
    "## lets try to make <M> bleu \n",
    "\n",
    "import spacy\n",
    "import en_core_web_sm\n",
    "\n",
    "def unnameTextWithM(text):\n",
    "    nlp = en_core_web_sm.load()\n",
    "    doc = nlp(text)\n",
    "    text = text\n",
    "    for ent in reversed(doc.ents):\n",
    "        text = text[:ent.start_char] + \"<M>\" + text[ent.end_char:] \n",
    "    return text"
   ]
  },
  {
   "cell_type": "code",
   "execution_count": 8,
   "id": "30200ec4",
   "metadata": {},
   "outputs": [],
   "source": [
    "reference = makeChunks(unnameTextWithM(trumpValidationText), 100)\n",
    "candidate1 = makeChunks(unnameTextWithM(trump_classifier_string), 100)\n",
    "candidate2 = makeChunks(unnameTextWithM(others_words_string), 100)"
   ]
  },
  {
   "cell_type": "code",
   "execution_count": 9,
   "id": "7fbb4949",
   "metadata": {},
   "outputs": [],
   "source": [
    "import matplotlib.pyplot as plt"
   ]
  },
  {
   "cell_type": "code",
   "execution_count": 10,
   "id": "f8d306f6",
   "metadata": {},
   "outputs": [
    {
     "name": "stderr",
     "output_type": "stream",
     "text": [
      "C:\\Users\\marty\\anaconda3\\envs\\tfgpunew\\lib\\site-packages\\nltk\\translate\\bleu_score.py:552: UserWarning: \n",
      "The hypothesis contains 0 counts of 4-gram overlaps.\n",
      "Therefore the BLEU score evaluates to 0, independently of\n",
      "how many N-gram overlaps of lower order it contains.\n",
      "Consider using lower n-gram order or use SmoothingFunction()\n",
      "  warnings.warn(_msg)\n",
      "C:\\Users\\marty\\anaconda3\\envs\\tfgpunew\\lib\\site-packages\\nltk\\translate\\bleu_score.py:552: UserWarning: \n",
      "The hypothesis contains 0 counts of 3-gram overlaps.\n",
      "Therefore the BLEU score evaluates to 0, independently of\n",
      "how many N-gram overlaps of lower order it contains.\n",
      "Consider using lower n-gram order or use SmoothingFunction()\n",
      "  warnings.warn(_msg)\n"
     ]
    },
    {
     "name": "stdout",
     "output_type": "stream",
     "text": [
      "Ttest_indResult(statistic=14.856654552421134, pvalue=3.922902184025463e-44)\n"
     ]
    },
    {
     "data": {
      "image/png": "[encoded data removed]",
      "text/plain": [
       "<Figure size 432x288 with 1 Axes>"
      ]
     },
     "metadata": {
      "needs_background": "light"
     },
     "output_type": "display_data"
    }
   ],
   "source": [
    "results1 = [sentence_bleu(reference, i,weights = (0.25,0.25,0.25,0.25)) for i in candidate1]\n",
    "results2 = [sentence_bleu(reference, i,weights = (0.25,0.25,0.25,0.25)) for i in candidate2]\n",
    "\n",
    "res = ttest_ind(results1, results2, equal_var = False)\n",
    "print(res)\n",
    "plt.hist(results1, bins = 30, range = (0,1))\n",
    "plt.hist(results2, bins = 30, range = (0,1))\n",
    "plt.show()"
   ]
  },
  {
   "cell_type": "markdown",
   "id": "74e17f98",
   "metadata": {},
   "source": [
    "## lets check classifiers and how much they are correlated with BLEU scores "
   ]
  },
  {
   "cell_type": "code",
   "execution_count": 11,
   "id": "f5c94362",
   "metadata": {},
   "outputs": [],
   "source": [
    "import dill as pickle\n",
    "\n",
    "\n",
    "objectRep = open(\"classifiers/POSclassifier4.obj\", \"rb\")\n",
    "POSclassiefier = pickle.load(objectRep)\n",
    "objectRep.close()\n",
    " \n",
    "objectRep = open(\"classifiers/Textclassifier.obj\", \"rb\")\n",
    "Textclassifier = pickle.load(objectRep)\n",
    "objectRep.close()\n"
   ]
  },
  {
   "cell_type": "code",
   "execution_count": 12,
   "id": "46e544a5",
   "metadata": {},
   "outputs": [
    {
     "data": {
      "text/plain": [
       "array([[0.2046865, 0.7953135]], dtype=float32)"
      ]
     },
     "execution_count": 12,
     "metadata": {},
     "output_type": "execute_result"
    }
   ],
   "source": [
    "from tensorflow.keras.preprocessing.sequence import pad_sequences\n",
    "import tensorflow as tf\n",
    "Posclassifier = POSclassiefier()\n",
    "Posclassifier.predict([\"<|endoftext|> of our American … And they coming to be more police.   That's where he has been incredible.   He'll be honest with you.   It'll be honest.   And then I tell you, and we're going to do.   We'll do it.   We're going to have a lot of big, but we're going to make a lot of bad things done long time.   We're going to have your children, but we're going to take things done.   We're going to love that happen it.   We're going to do this country.  \"])"
   ]
  },
  {
   "cell_type": "code",
   "execution_count": 13,
   "id": "779cd2b8",
   "metadata": {},
   "outputs": [
    {
     "data": {
      "text/plain": [
       "array([[0.31582377, 0.68417623]])"
      ]
     },
     "execution_count": 13,
     "metadata": {},
     "output_type": "execute_result"
    }
   ],
   "source": [
    "Textclassifier.predict_proba([\"Thank you, Thank you Great America\"])"
   ]
  },
  {
   "cell_type": "code",
   "execution_count": 14,
   "id": "1599642a",
   "metadata": {},
   "outputs": [],
   "source": [
    "trump_sentences = [\" \".join(listc) for listc in candidate1]\n",
    "others_sentences = [\" \".join(listc) for listc in candidate2]"
   ]
  },
  {
   "cell_type": "code",
   "execution_count": 15,
   "id": "28e2e150",
   "metadata": {},
   "outputs": [],
   "source": [
    "import numpy as np\n",
    "blue1 = np.concatenate((results1, results2), axis = 0)"
   ]
  },
  {
   "cell_type": "code",
   "execution_count": 16,
   "id": "1986738b",
   "metadata": {},
   "outputs": [],
   "source": [
    "all_sentences = trump_sentences + others_sentences"
   ]
  },
  {
   "cell_type": "code",
   "execution_count": 17,
   "id": "fc853a5d",
   "metadata": {},
   "outputs": [],
   "source": [
    "PosCls = Posclassifier.predict(all_sentences)"
   ]
  },
  {
   "cell_type": "code",
   "execution_count": 18,
   "id": "1d7b1bf6",
   "metadata": {},
   "outputs": [
    {
     "name": "stdout",
     "output_type": "stream",
     "text": [
      "0.2107291251238099\n"
     ]
    }
   ],
   "source": [
    "print(\n",
    "        np.corrcoef(PosCls[:,1], blue1)[0,1]\n",
    "     )"
   ]
  },
  {
   "cell_type": "code",
   "execution_count": 19,
   "id": "e2ca8ae0",
   "metadata": {},
   "outputs": [],
   "source": [
    "TextCls = Textclassifier.predict_proba(all_sentences)"
   ]
  },
  {
   "cell_type": "code",
   "execution_count": 20,
   "id": "157009a9",
   "metadata": {},
   "outputs": [
    {
     "name": "stdout",
     "output_type": "stream",
     "text": [
      "0.4335583129853304\n"
     ]
    }
   ],
   "source": [
    "print(\n",
    "        np.corrcoef(TextCls[:,1], blue1)[0,1]\n",
    "     )\n"
   ]
  },
  {
   "cell_type": "code",
   "execution_count": 21,
   "id": "4053d1c5",
   "metadata": {},
   "outputs": [
    {
     "data": {
      "image/png": "[encoded data removed]",
      "text/plain": [
       "<Figure size 432x288 with 1 Axes>"
      ]
     },
     "metadata": {
      "needs_background": "light"
     },
     "output_type": "display_data"
    }
   ],
   "source": [
    "plt.hist(TextCls[:,1])\n",
    "plt.show()"
   ]
  },
  {
   "cell_type": "code",
   "execution_count": 22,
   "id": "a2d49ca7",
   "metadata": {},
   "outputs": [
    {
     "data": {
      "image/png": "[encoded data removed]",
      "text/plain": [
       "<Figure size 432x288 with 1 Axes>"
      ]
     },
     "metadata": {
      "needs_background": "light"
     },
     "output_type": "display_data"
    }
   ],
   "source": [
    "plt.hist(PosCls[:,1])\n",
    "plt.show()"
   ]
  },
  {
   "cell_type": "code",
   "execution_count": null,
   "id": "ba790a17",
   "metadata": {},
   "outputs": [],
   "source": []
  }
 ],
 "metadata": {
  "kernelspec": {
   "display_name": "Python 3 (ipykernel)",
   "language": "python",
   "name": "python3"
  },
  "language_info": {
   "codemirror_mode": {
    "name": "ipython",
    "version": 3
   },
   "file_extension": ".py",
   "mimetype": "text/x-python",
   "name": "python",
   "nbconvert_exporter": "python",
   "pygments_lexer": "ipython3",
   "version": "3.8.12"
  }
 },
 "nbformat": 4,
 "nbformat_minor": 5
}
