{
 "cells": [
  {
   "cell_type": "markdown",
   "id": "53c8be74",
   "metadata": {},
   "source": [
    "# load evaluation functiosn "
   ]
  },
  {
   "cell_type": "code",
   "execution_count": 9,
   "id": "179ae9a9",
   "metadata": {},
   "outputs": [],
   "source": [
    "import os\n",
    "import numpy as np\n",
    "from nltk.translate.bleu_score import sentence_bleu\n",
    "import spacy\n",
    "import en_core_web_sm\n",
    "from scipy.stats import ttest_ind\n",
    "import dill as pickle\n",
    "from tensorflow.keras.preprocessing.sequence import pad_sequences\n",
    "import tensorflow as tf\n",
    "from tqdm import tqdm\n",
    "import pandas as pd"
   ]
  },
  {
   "cell_type": "code",
   "execution_count": 2,
   "id": "a3e5d333",
   "metadata": {},
   "outputs": [],
   "source": [
    "def splitTolenWords(text, nwords):\n",
    "    words = text.split(\" \")\n",
    "    count = int(len(words)/nwords)\n",
    "    sentences = [\" \".join(words[(i*nwords):((i+1)*nwords)]) for i in range(count)]\n",
    "    return(sentences)\n",
    "\n",
    "def unnameTextWithM(text):\n",
    "    nlp = en_core_web_sm.load()\n",
    "    doc = nlp(text)\n",
    "    text = text\n",
    "    for ent in reversed(doc.ents):\n",
    "        text = text[:ent.start_char] + \"<M>\" + text[ent.end_char:] \n",
    "    return text\n",
    "\n",
    "def bleu_scores(string, valid_data):\n",
    "    valid = [i.split(\" \") for i in valid_data]\n",
    "    string = string.split(\" \")[:100]\n",
    "    bleu4 = sentence_bleu(valid, string ,weights = (0.25,0.25,0.25,0.25))\n",
    "    return (bleu4)\n",
    "\n",
    "def read_from_file(path):\n",
    "    with open(path, 'r') as output_file:\n",
    "        string = output_file.read()\n",
    "    return string\n",
    "\n",
    "\n"
   ]
  },
  {
   "cell_type": "code",
   "execution_count": 3,
   "id": "cdc1050b",
   "metadata": {},
   "outputs": [],
   "source": [
    "pickle._dill._reverse_typemap['ClassType'] = type\n",
    "\n",
    "objectRep = open(\"classifiers/POSclassifier4.obj\", \"rb\")\n",
    "POSclassiefier = pickle.load(objectRep)\n",
    "objectRep.close()\n",
    " \n",
    "objectRep = open(\"classifiers/Textclassifier.obj\", \"rb\")\n",
    "Textclassifier = pickle.load(objectRep)\n",
    "objectRep.close()\n",
    "\n",
    "Posclassifier = POSclassiefier()\n",
    "Posclassifier.predict([\"testing methos to predict something\"])\n",
    "\n",
    "def evaluate(genvalid, genstr):\n",
    "    strM = unnameTextWithM(genstr)\n",
    "    b4 = bleu_scores(strM, genvalid)\n",
    "    Tscore = Textclassifier.predict_proba([strM])[0,1]\n",
    "    Posscore= Posclassifier.predict([strM])[0,1]\n",
    "    return (b4,Tscore,Posscore)"
   ]
  },
  {
   "cell_type": "markdown",
   "id": "60b63128",
   "metadata": {},
   "source": [
    "# load data "
   ]
  },
  {
   "cell_type": "code",
   "execution_count": 4,
   "id": "1ddd63b7",
   "metadata": {},
   "outputs": [],
   "source": [
    "with open(\"data_splits/trumpTestText.txt\", encoding = \"utf-8\") as f:\n",
    "    testset = splitTolenWords(unnameTextWithM(f.read()), 100)"
   ]
  },
  {
   "cell_type": "markdown",
   "id": "b9bf2c82",
   "metadata": {},
   "source": [
    "# evaluate"
   ]
  },
  {
   "cell_type": "code",
   "execution_count": 12,
   "id": "b2ed8dde",
   "metadata": {
    "scrolled": true
   },
   "outputs": [
    {
     "name": "stderr",
     "output_type": "stream",
     "text": [
      "100%|██████████| 100/100 [03:22<00:00,  2.02s/it]\n",
      "100%|██████████| 100/100 [01:12<00:00,  1.34it/s]"
     ]
    }
   ],
   "source": [
    "results = []\n",
    "path = \"generators/GPT2_texts/test_texts/\"\n",
    "bar = tqdm(total = len(os.listdir(path[:-1])))\n",
    "for filename in os.listdir(path[:-1]):\n",
    "    filepath = path+filename\n",
    "    genstr = read_from_file(filepath)\n",
    "    evaluation = evaluate(testset, genstr)\n",
    "    results.append(evaluation)\n",
    "    bar.clear()\n",
    "    bar.update(1)\n",
    "res = pd.DataFrame(results)  \n",
    "\n",
    "with open('generators/GPT2scores.obj', 'wb') as file:\n",
    "    pickle.dump(res, file)"
   ]
  },
  {
   "cell_type": "code",
   "execution_count": 13,
   "id": "92b29178",
   "metadata": {
    "scrolled": true
   },
   "outputs": [
    {
     "name": "stderr",
     "output_type": "stream",
     "text": [
      "\n",
      "100%|██████████| 100/100 [01:58<00:00,  1.19s/it]\n",
      "C:\\Users\\marty\\anaconda3\\envs\\tfgpunew\\lib\\site-packages\\nltk\\translate\\bleu_score.py:552: UserWarning: \n",
      "The hypothesis contains 0 counts of 3-gram overlaps.\n",
      "Therefore the BLEU score evaluates to 0, independently of\n",
      "how many N-gram overlaps of lower order it contains.\n",
      "Consider using lower n-gram order or use SmoothingFunction()\n",
      "  warnings.warn(_msg)\n",
      "C:\\Users\\marty\\anaconda3\\envs\\tfgpunew\\lib\\site-packages\\nltk\\translate\\bleu_score.py:552: UserWarning: \n",
      "The hypothesis contains 0 counts of 4-gram overlaps.\n",
      "Therefore the BLEU score evaluates to 0, independently of\n",
      "how many N-gram overlaps of lower order it contains.\n",
      "Consider using lower n-gram order or use SmoothingFunction()\n",
      "  warnings.warn(_msg)\n",
      "\n",
      "\u001b[A                                    \n",
      "  1%|          | 1/100 [00:00<01:11,  1.39it/s]\u001b[A\n",
      "\u001b[A                                            \n",
      "  2%|▏         | 2/100 [00:01<01:07,  1.44it/s]\u001b[A\n",
      "\u001b[A                                            \n",
      "  3%|▎         | 3/100 [00:02<01:12,  1.35it/s]\u001b[A\n",
      "\u001b[A                                            \n",
      "  4%|▍         | 4/100 [00:02<01:06,  1.44it/s]\u001b[A\n",
      "\u001b[A                                            \n",
      "  5%|▌         | 5/100 [00:03<01:03,  1.51it/s]\u001b[A\n",
      "\u001b[A                                            \n",
      "  6%|▌         | 6/100 [00:04<01:02,  1.51it/s]\u001b[A\n",
      "\u001b[A                                            \n",
      "  7%|▋         | 7/100 [00:04<01:04,  1.44it/s]\u001b[A\n",
      "\u001b[A                                            \n",
      "  8%|▊         | 8/100 [00:05<01:04,  1.43it/s]\u001b[A\n",
      "\u001b[A                                            \n",
      "  9%|▉         | 9/100 [00:06<01:01,  1.49it/s]\u001b[A\n",
      "\u001b[A                                            \n",
      " 10%|█         | 10/100 [00:06<01:00,  1.48it/s]\u001b[A\n",
      "\u001b[A                                             \n",
      " 11%|█         | 11/100 [00:07<01:03,  1.39it/s]\u001b[A\n",
      "\u001b[A                                             \n",
      " 12%|█▏        | 12/100 [00:08<01:00,  1.46it/s]\u001b[A\n",
      "\u001b[A                                             \n",
      " 13%|█▎        | 13/100 [00:09<01:00,  1.43it/s]\u001b[A\n",
      "\u001b[A                                             \n",
      " 14%|█▍        | 14/100 [00:09<01:04,  1.32it/s]\u001b[A\n",
      "\u001b[A                                             \n",
      " 15%|█▌        | 15/100 [00:10<01:00,  1.40it/s]\u001b[A\n",
      "\u001b[A                                             \n",
      " 16%|█▌        | 16/100 [00:11<00:59,  1.41it/s]\u001b[AC:\\Users\\marty\\anaconda3\\envs\\tfgpunew\\lib\\site-packages\\nltk\\translate\\bleu_score.py:552: UserWarning: \n",
      "The hypothesis contains 0 counts of 2-gram overlaps.\n",
      "Therefore the BLEU score evaluates to 0, independently of\n",
      "how many N-gram overlaps of lower order it contains.\n",
      "Consider using lower n-gram order or use SmoothingFunction()\n",
      "  warnings.warn(_msg)\n",
      "\n",
      "\u001b[A                                             \n",
      " 17%|█▋        | 17/100 [00:11<00:56,  1.46it/s]\u001b[A\n",
      "\u001b[A                                             \n",
      " 18%|█▊        | 18/100 [00:12<01:00,  1.35it/s]\u001b[A\n",
      "\u001b[A                                             \n",
      " 19%|█▉        | 19/100 [00:13<01:01,  1.31it/s]\u001b[A\n",
      "\u001b[A                                             \n",
      " 20%|██        | 20/100 [00:14<01:01,  1.30it/s]\u001b[A\n",
      "\u001b[A                                             \n",
      " 21%|██        | 21/100 [00:15<01:00,  1.31it/s]\u001b[A\n",
      "\u001b[A                                             \n",
      " 22%|██▏       | 22/100 [00:15<01:00,  1.29it/s]\u001b[A\n",
      "\u001b[A                                             \n",
      " 23%|██▎       | 23/100 [00:16<00:55,  1.40it/s]\u001b[A\n",
      "\u001b[A                                             \n",
      " 24%|██▍       | 24/100 [00:17<00:52,  1.45it/s]\u001b[A\n",
      "\u001b[A                                             \n",
      " 25%|██▌       | 25/100 [00:17<00:51,  1.46it/s]\u001b[A\n",
      "\u001b[A                                             \n",
      " 26%|██▌       | 26/100 [00:18<00:55,  1.34it/s]\u001b[A\n",
      "\u001b[A                                             \n",
      " 27%|██▋       | 27/100 [00:19<00:54,  1.35it/s]\u001b[A\n",
      "\u001b[A                                             \n",
      " 28%|██▊       | 28/100 [00:20<00:53,  1.35it/s]\u001b[A\n",
      "\u001b[A                                             \n",
      " 29%|██▉       | 29/100 [00:20<00:56,  1.26it/s]\u001b[A\n",
      "\u001b[A                                             \n",
      " 30%|███       | 30/100 [00:21<00:55,  1.26it/s]\u001b[A\n",
      "\u001b[A                                             \n",
      " 31%|███       | 31/100 [00:22<00:54,  1.27it/s]\u001b[A\n",
      "\u001b[A                                             \n",
      " 32%|███▏      | 32/100 [00:23<00:53,  1.27it/s]\u001b[A\n",
      "\u001b[A                                             \n",
      " 33%|███▎      | 33/100 [00:24<00:54,  1.23it/s]\u001b[A\n",
      "\u001b[A                                             \n",
      " 34%|███▍      | 34/100 [00:25<00:53,  1.23it/s]\u001b[A\n",
      "\u001b[A                                             \n",
      " 35%|███▌      | 35/100 [00:25<00:54,  1.20it/s]\u001b[A\n",
      "\u001b[A                                             \n",
      " 36%|███▌      | 36/100 [00:26<00:52,  1.21it/s]\u001b[A\n",
      "\u001b[A                                             \n",
      " 37%|███▋      | 37/100 [00:27<00:54,  1.16it/s]\u001b[A\n",
      "\u001b[A                                             \n",
      " 38%|███▊      | 38/100 [00:28<00:50,  1.23it/s]\u001b[A\n",
      "\u001b[A                                             \n",
      " 39%|███▉      | 39/100 [00:29<00:48,  1.25it/s]\u001b[A\n",
      "\u001b[A                                             \n",
      " 40%|████      | 40/100 [00:29<00:48,  1.24it/s]\u001b[A\n",
      "\u001b[A                                             \n",
      " 41%|████      | 41/100 [00:30<00:50,  1.16it/s]\u001b[A\n",
      "\u001b[A                                             \n",
      " 42%|████▏     | 42/100 [00:31<00:47,  1.21it/s]\u001b[A\n",
      "\u001b[A                                             \n",
      " 43%|████▎     | 43/100 [00:32<00:45,  1.26it/s]\u001b[A\n",
      "\u001b[A                                             \n",
      " 44%|████▍     | 44/100 [00:33<00:45,  1.22it/s]\u001b[A\n",
      "\u001b[A                                             \n",
      " 45%|████▌     | 45/100 [00:34<00:43,  1.27it/s]\u001b[A\n",
      "\u001b[A                                             \n",
      " 46%|████▌     | 46/100 [00:34<00:42,  1.29it/s]\u001b[A\n",
      "\u001b[A                                             \n",
      " 47%|████▋     | 47/100 [00:35<00:40,  1.30it/s]\u001b[A\n",
      "\u001b[A                                             \n",
      " 48%|████▊     | 48/100 [00:36<00:41,  1.26it/s]\u001b[A\n",
      "\u001b[A                                             \n",
      " 49%|████▉     | 49/100 [00:37<00:39,  1.28it/s]\u001b[A\n",
      "\u001b[A                                             \n",
      " 50%|█████     | 50/100 [00:37<00:38,  1.31it/s]\u001b[A\n",
      "\u001b[A                                             \n",
      " 51%|█████     | 51/100 [00:38<00:36,  1.34it/s]\u001b[A\n",
      "\u001b[A                                             \n",
      " 52%|█████▏    | 52/100 [00:39<00:37,  1.29it/s]\u001b[A\n",
      "\u001b[A                                             \n",
      " 53%|█████▎    | 53/100 [00:40<00:36,  1.28it/s]\u001b[A\n",
      "\u001b[A                                             \n",
      " 54%|█████▍    | 54/100 [00:40<00:36,  1.27it/s]\u001b[A\n",
      "\u001b[A                                             \n",
      " 55%|█████▌    | 55/100 [00:41<00:36,  1.23it/s]\u001b[A\n",
      "\u001b[A                                             \n",
      " 56%|█████▌    | 56/100 [00:42<00:36,  1.20it/s]\u001b[A\n",
      "\u001b[A                                             \n",
      " 57%|█████▋    | 57/100 [00:43<00:35,  1.22it/s]\u001b[A\n",
      "\u001b[A                                             \n",
      " 58%|█████▊    | 58/100 [00:44<00:33,  1.27it/s]\u001b[A\n",
      "\u001b[A                                             \n",
      " 59%|█████▉    | 59/100 [00:45<00:33,  1.23it/s]\u001b[A\n",
      "\u001b[A                                             \n",
      " 60%|██████    | 60/100 [00:45<00:31,  1.28it/s]\u001b[A\n",
      "\u001b[A                                             \n",
      " 61%|██████    | 61/100 [00:46<00:30,  1.29it/s]\u001b[A\n",
      "\u001b[A                                             \n",
      " 62%|██████▏   | 62/100 [00:47<00:28,  1.31it/s]\u001b[A\n",
      "\u001b[A                                             \n",
      " 63%|██████▎   | 63/100 [00:48<00:30,  1.21it/s]\u001b[A\n",
      "\u001b[A                                             \n",
      " 64%|██████▍   | 64/100 [00:49<00:28,  1.26it/s]\u001b[A\n",
      "\u001b[A                                             \n",
      " 65%|██████▌   | 65/100 [00:49<00:27,  1.27it/s]\u001b[A\n",
      "\u001b[A                                             \n",
      " 66%|██████▌   | 66/100 [00:50<00:25,  1.33it/s]\u001b[A\n",
      "\u001b[A                                             \n",
      " 67%|██████▋   | 67/100 [00:51<00:25,  1.28it/s]\u001b[A\n",
      "\u001b[A                                             \n",
      " 68%|██████▊   | 68/100 [00:52<00:24,  1.30it/s]\u001b[A\n",
      "\u001b[A                                             \n",
      " 69%|██████▉   | 69/100 [00:52<00:23,  1.32it/s]\u001b[A\n",
      "\u001b[A                                             \n",
      " 70%|███████   | 70/100 [00:53<00:22,  1.33it/s]\u001b[A\n"
     ]
    },
    {
     "name": "stderr",
     "output_type": "stream",
     "text": [
      "\u001b[A                                             \n",
      " 71%|███████   | 71/100 [00:54<00:23,  1.22it/s]\u001b[A\n",
      "\u001b[A                                             \n",
      " 72%|███████▏  | 72/100 [00:55<00:22,  1.25it/s]\u001b[A\n",
      "\u001b[A                                             \n",
      " 73%|███████▎  | 73/100 [00:55<00:21,  1.28it/s]\u001b[A\n",
      "\u001b[A                                             \n",
      " 74%|███████▍  | 74/100 [00:56<00:21,  1.22it/s]\u001b[A\n",
      "\u001b[A                                             \n",
      " 75%|███████▌  | 75/100 [00:57<00:20,  1.22it/s]\u001b[A\n",
      "\u001b[A                                             \n",
      " 76%|███████▌  | 76/100 [00:58<00:19,  1.24it/s]\u001b[A\n",
      "\u001b[A                                             \n",
      " 77%|███████▋  | 77/100 [00:59<00:17,  1.28it/s]\u001b[A\n",
      "\u001b[A                                             \n",
      " 78%|███████▊  | 78/100 [01:00<00:17,  1.25it/s]\u001b[A\n",
      "\u001b[A                                             \n",
      " 79%|███████▉  | 79/100 [01:00<00:15,  1.31it/s]\u001b[A\n",
      "\u001b[A                                             \n",
      " 80%|████████  | 80/100 [01:01<00:15,  1.33it/s]\u001b[A\n",
      "\u001b[A                                             \n",
      " 81%|████████  | 81/100 [01:02<00:14,  1.32it/s]\u001b[A\n",
      "\u001b[A                                             \n",
      " 82%|████████▏ | 82/100 [01:03<00:14,  1.24it/s]\u001b[A\n",
      "\u001b[A                                             \n",
      " 83%|████████▎ | 83/100 [01:03<00:13,  1.26it/s]\u001b[A\n",
      "\u001b[A                                             \n",
      " 84%|████████▍ | 84/100 [01:04<00:12,  1.28it/s]\u001b[A\n",
      "\u001b[A                                             \n",
      " 85%|████████▌ | 85/100 [01:05<00:11,  1.28it/s]\u001b[A\n",
      "\u001b[A                                             \n",
      " 86%|████████▌ | 86/100 [01:06<00:11,  1.24it/s]\u001b[A\n",
      "\u001b[A                                             \n",
      " 87%|████████▋ | 87/100 [01:07<00:10,  1.27it/s]\u001b[A\n",
      "\u001b[A                                             \n",
      " 88%|████████▊ | 88/100 [01:07<00:09,  1.30it/s]\u001b[A\n",
      "\u001b[A                                             \n",
      " 89%|████████▉ | 89/100 [01:08<00:08,  1.24it/s]\u001b[A\n",
      "\u001b[A                                             \n",
      " 90%|█████████ | 90/100 [01:09<00:07,  1.26it/s]\u001b[A\n",
      "\u001b[A                                             \n",
      " 91%|█████████ | 91/100 [01:10<00:06,  1.31it/s]\u001b[A\n",
      "\u001b[A                                             \n",
      " 92%|█████████▏| 92/100 [01:10<00:05,  1.34it/s]\u001b[A\n",
      "\u001b[A                                             \n",
      " 93%|█████████▎| 93/100 [01:11<00:05,  1.27it/s]\u001b[A\n",
      "\u001b[A                                             \n",
      " 94%|█████████▍| 94/100 [01:12<00:04,  1.34it/s]\u001b[A\n",
      "\u001b[A                                             \n",
      " 95%|█████████▌| 95/100 [01:13<00:03,  1.28it/s]\u001b[A\n",
      "\u001b[A                                             \n",
      " 96%|█████████▌| 96/100 [01:14<00:03,  1.24it/s]\u001b[A\n",
      "\u001b[A                                             \n",
      " 97%|█████████▋| 97/100 [01:14<00:02,  1.20it/s]\u001b[A\n",
      "\u001b[A                                             \n",
      " 98%|█████████▊| 98/100 [01:15<00:01,  1.26it/s]\u001b[A\n",
      "\u001b[A                                             \n",
      " 99%|█████████▉| 99/100 [01:16<00:00,  1.30it/s]\u001b[A\n",
      "\u001b[A                                             \n",
      "100%|██████████| 100/100 [01:17<00:00,  1.32it/s]\u001b[A"
     ]
    }
   ],
   "source": [
    "results = []\n",
    "path = \"generators/LSTM_texts/test_texts/\"\n",
    "bar = tqdm(total = len(os.listdir(path[:-1])))\n",
    "for filename in os.listdir(path[:-1]):\n",
    "    filepath = path+filename\n",
    "    genstr = read_from_file(filepath)\n",
    "    evaluation = evaluate(testset, genstr)\n",
    "    results.append(evaluation)\n",
    "    bar.clear()\n",
    "    bar.update(1)\n",
    "res = pd.DataFrame(results)  \n",
    "\n",
    "with open('generators/LSTMscores.obj', 'wb') as file:\n",
    "    pickle.dump(res, file)"
   ]
  },
  {
   "cell_type": "code",
   "execution_count": 14,
   "id": "b8a2db82",
   "metadata": {},
   "outputs": [
    {
     "name": "stderr",
     "output_type": "stream",
     "text": [
      "100%|██████████| 100/100 [02:35<00:00,  1.56s/it]\n",
      "100%|██████████| 100/100 [01:20<00:00,  1.20it/s]"
     ]
    }
   ],
   "source": [
    "results = []\n",
    "path = \"generators/Ngram_texts/test_texts/\"\n",
    "bar = tqdm(total = len(os.listdir(path[:-1])))\n",
    "for filename in os.listdir(path[:-1]):\n",
    "    filepath = path+filename\n",
    "    genstr = read_from_file(filepath)\n",
    "    evaluation = evaluate(testset, genstr)\n",
    "    results.append(evaluation)\n",
    "    bar.clear()\n",
    "    bar.update(1)\n",
    "res = pd.DataFrame(results)  \n",
    "\n",
    "with open('generators/Ngramscores.obj', 'wb') as file:\n",
    "    pickle.dump(res, file)"
   ]
  },
  {
   "cell_type": "code",
   "execution_count": 15,
   "id": "07262db6",
   "metadata": {},
   "outputs": [],
   "source": [
    "objectRep = open(\"generators/GPT2scores.obj\", \"rb\")\n",
    "GPT2scores = pickle.load(objectRep)\n",
    "objectRep.close()\n",
    "\n",
    "objectRep = open(\"generators/LSTMscores.obj\", \"rb\")\n",
    "LSTMscores = pickle.load(objectRep)\n",
    "objectRep.close()\n",
    "\n",
    "objectRep = open(\"generators/Ngramscores.obj\", \"rb\")\n",
    "Ngramscores = pickle.load(objectRep)\n",
    "objectRep.close()"
   ]
  },
  {
   "cell_type": "code",
   "execution_count": 17,
   "id": "4fe84b11",
   "metadata": {},
   "outputs": [],
   "source": [
    "with open(\"data_splits/trumpClassifierText.txt\", encoding = \"utf-8\") as f:\n",
    "    trump_classifier_string = splitTolenWords(unnameTextWithM(f.read()),100)\n",
    "\n",
    "with open(\"data_splits/othersClassifierText.txt\", encoding = \"utf-8\") as f:\n",
    "    others_words_string = splitTolenWords(unnameTextWithM(f.read()),100)\n",
    "    \n",
    "with open(\"data_splits/othersTestText.txt\", encoding = \"utf-8\") as f:\n",
    "    testsetfalse = splitTolenWords(unnameTextWithM(f.read()),100)\n",
    "    \n",
    "with open(\"data_splits/trumpTestText.txt\", encoding = \"utf-8\") as f:\n",
    "    testsettrue = splitTolenWords(unnameTextWithM(f.read()),100)"
   ]
  },
  {
   "cell_type": "code",
   "execution_count": 18,
   "id": "a42fa360",
   "metadata": {},
   "outputs": [
    {
     "name": "stderr",
     "output_type": "stream",
     "text": [
      "C:\\Users\\marty\\anaconda3\\envs\\tfgpunew\\lib\\site-packages\\nltk\\translate\\bleu_score.py:552: UserWarning: \n",
      "The hypothesis contains 0 counts of 4-gram overlaps.\n",
      "Therefore the BLEU score evaluates to 0, independently of\n",
      "how many N-gram overlaps of lower order it contains.\n",
      "Consider using lower n-gram order or use SmoothingFunction()\n",
      "  warnings.warn(_msg)\n",
      "C:\\Users\\marty\\anaconda3\\envs\\tfgpunew\\lib\\site-packages\\nltk\\translate\\bleu_score.py:552: UserWarning: \n",
      "The hypothesis contains 0 counts of 3-gram overlaps.\n",
      "Therefore the BLEU score evaluates to 0, independently of\n",
      "how many N-gram overlaps of lower order it contains.\n",
      "Consider using lower n-gram order or use SmoothingFunction()\n",
      "  warnings.warn(_msg)\n"
     ]
    }
   ],
   "source": [
    "bleu_trump = [np.array(bleu_scores(genstr, testset)) for genstr in trump_classifier_string]\n",
    "bleu_others = [np.array(bleu_scores(genstr, testset)) for genstr in others_words_string]\n",
    "bleu_trump = np.array(bleu_trump)\n",
    "bleu_others = np.array(bleu_others)"
   ]
  },
  {
   "cell_type": "code",
   "execution_count": 19,
   "id": "07699171",
   "metadata": {},
   "outputs": [],
   "source": [
    "textclsTrue = Textclassifier.predict_proba(testsettrue)[:,1]\n",
    "POSclsTrue = Posclassifier.predict(testsettrue)[:,1]\n",
    "textclsFalse = Textclassifier.predict_proba(testsetfalse)[:,1]\n",
    "POSclsFalse = Posclassifier.predict(testsetfalse)[:,1]"
   ]
  },
  {
   "cell_type": "code",
   "execution_count": 41,
   "id": "784617f9",
   "metadata": {},
   "outputs": [
    {
     "data": {
      "image/png": "[encoded data removed]",
      "text/plain": [
       "<Figure size 432x288 with 2 Axes>"
      ]
     },
     "metadata": {
      "needs_background": "light"
     },
     "output_type": "display_data"
    }
   ],
   "source": [
    "from matplotlib import pyplot as plt\n",
    "\n",
    "fig, axs = plt.subplots(2, sharex=True)\n",
    "fig.suptitle(\"distributions of M-BLEU4 score\")\n",
    "\n",
    "axs[0].hist(bleu_trump, range = (0,1), density = True, bins = 30, histtype = \"step\", label = \"Trump\")\n",
    "axs[0].hist(bleu_others,range = (0,1), density = True, bins = 30, histtype = \"step\", label = \"Others\")\n",
    "axs[1].hist(GPT2scores[0],range = (0,1), density = True, bins = 30, histtype = \"step\", label = \"GPT2-simple LM\")\n",
    "axs[1].hist(LSTMscores[0],range = (0,1), density = True, bins = 30, histtype = \"step\", label = \"LSTM LM\")\n",
    "axs[1].hist(Ngramscores[0],range = (0,1), density = True, bins = 30, histtype = \"step\", label = \"N-gram LM\")\n",
    "axs[0].legend()\n",
    "axs[1].legend()\n",
    "plt.show()"
   ]
  },
  {
   "cell_type": "code",
   "execution_count": 45,
   "id": "5a80a194",
   "metadata": {},
   "outputs": [
    {
     "data": {
      "image/png": "[encoded data removed]",
      "text/plain": [
       "<Figure size 432x288 with 2 Axes>"
      ]
     },
     "metadata": {
      "needs_background": "light"
     },
     "output_type": "display_data"
    }
   ],
   "source": [
    "fig, axs = plt.subplots(2, sharex=True)\n",
    "fig.suptitle('distributions of \"TextClassifier\" probab. predictions')\n",
    "\n",
    "axs[0].hist(textclsTrue, range = (0,1), density = True, bins = 30, histtype = \"step\", label = \"Trump\")\n",
    "axs[0].hist(textclsFalse,range = (0,1), density = True, bins = 30, histtype = \"step\", label = \"Others\")\n",
    "axs[1].hist(GPT2scores[1],range = (0,1), density = True, bins = 30, histtype = \"step\", label = \"GPT2-simple LM\")\n",
    "axs[1].hist(LSTMscores[1],range = (0,1), density = True, bins = 30, histtype = \"step\", label = \"LSTM LM\")\n",
    "axs[1].hist(Ngramscores[1],range = (0,1), density = True, bins = 30, histtype = \"step\", label = \"N-gram LM\")\n",
    "axs[0].legend(loc = 9)\n",
    "axs[1].legend(loc = 9)\n",
    "plt.show()"
   ]
  },
  {
   "cell_type": "code",
   "execution_count": 44,
   "id": "3e7e390a",
   "metadata": {
    "scrolled": true
   },
   "outputs": [
    {
     "data": {
      "image/png": "[encoded data removed]",
      "text/plain": [
       "<Figure size 432x288 with 2 Axes>"
      ]
     },
     "metadata": {
      "needs_background": "light"
     },
     "output_type": "display_data"
    }
   ],
   "source": [
    "fig, axs = plt.subplots(2, sharex=True)\n",
    "fig.suptitle('distributions of \"POS_DEP classifier\" prob. predictions')\n",
    "\n",
    "axs[0].hist(POSclsTrue, range = (0,1), density = True, bins = 30, histtype = \"step\", label = \"Trump\")\n",
    "axs[0].hist(POSclsFalse, range = (0,1), density = True, bins = 30, histtype = \"step\", label = \"Others\")\n",
    "axs[1].hist(GPT2scores[2], range = (0,1), density = True, bins = 30, histtype = \"step\", label = \"GPT2-simple LM\")\n",
    "axs[1].hist(LSTMscores[2], range = (0,1), density = True, bins = 30, histtype = \"step\", label = \"LSTM LM\")\n",
    "axs[1].hist(Ngramscores[2], range = (0,1), density = True, bins = 30, histtype = \"step\", label = \"N-gram LM\")\n",
    "axs[0].legend(loc = 9)\n",
    "axs[1].legend(loc = 9)\n",
    "plt.show()"
   ]
  },
  {
   "cell_type": "code",
   "execution_count": 36,
   "id": "6cda4f8e",
   "metadata": {},
   "outputs": [
    {
     "name": "stdout",
     "output_type": "stream",
     "text": [
      "GPT2\n",
      "0.3194242106893276\n",
      "4.3174981341773765e-24\n",
      "LSTM\n",
      "0.04887279512050876\n",
      "5.318360550468359e-32\n",
      "ngram\n",
      "6.8218991304715456e-15\n",
      "1.7074710703352028e-37\n"
     ]
    }
   ],
   "source": [
    "from scipy.stats import mannwhitneyu\n",
    "print(\"GPT2\")\n",
    "print(mannwhitneyu(GPT2scores[2], POSclsTrue)[1])\n",
    "print(mannwhitneyu(GPT2scores[2], POSclsFalse)[1])\n",
    "print(\"LSTM\")\n",
    "print(mannwhitneyu(LSTMscores[2], POSclsTrue)[1])\n",
    "print(mannwhitneyu(LSTMscores[2], POSclsFalse)[1])\n",
    "print(\"ngram\")\n",
    "print(mannwhitneyu(Ngramscores[2], POSclsTrue)[1])\n",
    "print(mannwhitneyu(Ngramscores[2], POSclsFalse)[1])"
   ]
  },
  {
   "cell_type": "code",
   "execution_count": 37,
   "id": "d2e00c5c",
   "metadata": {},
   "outputs": [
    {
     "name": "stdout",
     "output_type": "stream",
     "text": [
      "GPT2\n",
      "9.895290133143734e-06\n",
      "2.7486956802536556e-36\n",
      "LSTM\n",
      "5.943789156515716e-05\n",
      "2.2506275797818828e-33\n",
      "ngram\n",
      "0.4456711973816315\n",
      "1.047614934077781e-40\n"
     ]
    }
   ],
   "source": [
    "print(\"GPT2\")\n",
    "print(mannwhitneyu(GPT2scores[1], textclsTrue)[1])\n",
    "print(mannwhitneyu(GPT2scores[1], textclsFalse)[1])\n",
    "\n",
    "print(\"LSTM\")\n",
    "print(mannwhitneyu(LSTMscores[1], textclsTrue)[1])\n",
    "print(mannwhitneyu(LSTMscores[1], textclsFalse)[1])\n",
    "\n",
    "print(\"ngram\")\n",
    "print(mannwhitneyu(Ngramscores[1], textclsTrue)[1])\n",
    "print(mannwhitneyu(Ngramscores[1], textclsFalse)[1])"
   ]
  },
  {
   "cell_type": "code",
   "execution_count": 38,
   "id": "3ce0f1ec",
   "metadata": {},
   "outputs": [
    {
     "name": "stdout",
     "output_type": "stream",
     "text": [
      "GPT2\n",
      "1.706310225532113e-47\n",
      "3.909042570141976e-56\n",
      "LSTM\n",
      "2.1219043275953516e-31\n",
      "1.7794451575216123e-35\n",
      "ngram\n",
      "4.847461352805996e-52\n",
      "5.248266423201257e-45\n"
     ]
    }
   ],
   "source": [
    "print(\"GPT2\")\n",
    "print(mannwhitneyu(GPT2scores[0], bleu_trump)[1])\n",
    "print(mannwhitneyu(GPT2scores[0], bleu_others)[1])\n",
    "\n",
    "print(\"LSTM\")\n",
    "print(mannwhitneyu(LSTMscores[0], bleu_trump)[1])\n",
    "print(mannwhitneyu(LSTMscores[0], bleu_others)[1])\n",
    "\n",
    "print(\"ngram\")\n",
    "print(mannwhitneyu(Ngramscores[0], bleu_trump)[1])\n",
    "print(mannwhitneyu(Ngramscores[0], bleu_others)[1])"
   ]
  },
  {
   "cell_type": "code",
   "execution_count": 39,
   "id": "259877af",
   "metadata": {},
   "outputs": [
    {
     "name": "stdout",
     "output_type": "stream",
     "text": [
      "0.5045436936318646\n",
      "0.5754241067739501\n",
      "2.208018958275017e-78\n",
      "0.9999920797479971\n",
      "0.9999974314782263\n",
      "0.9999998387575733\n",
      "0.783763974905014\n",
      "0.8454097807407379\n",
      "0.9168563783168793\n",
      "0.18581396466293398\n",
      "0.11529961786961752\n",
      "0.999999864663389\n",
      "3.5379052441545675e-05\n",
      "0.826636\n",
      "0.1464737\n"
     ]
    }
   ],
   "source": [
    "from statistics import median\n",
    "\n",
    "print(median(GPT2scores[0]))\n",
    "print(median(LSTMscores[0]))\n",
    "print(median(Ngramscores[0]))\n",
    "\n",
    "print(median(GPT2scores[1]))\n",
    "print(median(LSTMscores[1]))\n",
    "print(median(Ngramscores[1]))\n",
    "\n",
    "print(median(GPT2scores[2]))\n",
    "print(median(LSTMscores[2]))\n",
    "print(median(Ngramscores[2]))\n",
    "\n",
    "print(median(bleu_trump))\n",
    "print(median(bleu_others))\n",
    "\n",
    "print(median(textclsTrue))\n",
    "print(median(textclsFalse))\n",
    "\n",
    "print(median(POSclsTrue))\n",
    "print(median(POSclsFalse))\n"
   ]
  },
  {
   "cell_type": "code",
   "execution_count": null,
   "id": "3cfa2278",
   "metadata": {},
   "outputs": [],
   "source": []
  }
 ],
 "metadata": {
  "kernelspec": {
   "display_name": "Python 3 (ipykernel)",
   "language": "python",
   "name": "python3"
  },
  "language_info": {
   "codemirror_mode": {
    "name": "ipython",
    "version": 3
   },
   "file_extension": ".py",
   "mimetype": "text/x-python",
   "name": "python",
   "nbconvert_exporter": "python",
   "pygments_lexer": "ipython3",
   "version": "3.8.12"
  }
 },
 "nbformat": 4,
 "nbformat_minor": 5
}
