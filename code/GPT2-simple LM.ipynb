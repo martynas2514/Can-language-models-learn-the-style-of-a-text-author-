{
 "cells": [
  {
   "cell_type": "code",
   "execution_count": 1,
   "metadata": {
    "id": "4N5N9Kynyrn1",
    "outputId": "0bae7a0f-dfc1-4ced-9641-b32fb7fdbe86"
   },
   "outputs": [
    {
     "name": "stdout",
     "output_type": "stream",
     "text": [
      "4.15.0.dev0\n"
     ]
    }
   ],
   "source": [
    "import transformers\n",
    "\n",
    "print(transformers.__version__)"
   ]
  },
  {
   "cell_type": "markdown",
   "metadata": {
    "id": "a3KD3WXU3l-O"
   },
   "source": [
    "# Train a language model"
   ]
  },
  {
   "cell_type": "markdown",
   "metadata": {
    "id": "JEA1ju653l-p"
   },
   "source": [
    "## Causal Language modeling"
   ]
  },
  {
   "cell_type": "code",
   "execution_count": 2,
   "metadata": {},
   "outputs": [],
   "source": [
    "def splitTolenWords(text, nwords):\n",
    "    words = text.split(\" \")\n",
    "    count = int(len(words)/nwords)\n",
    "    sentences = [\" \".join(words[(i*nwords):((i+1)*nwords)]) for i in range(count)]\n",
    "    return(sentences)"
   ]
  },
  {
   "cell_type": "code",
   "execution_count": 3,
   "metadata": {},
   "outputs": [],
   "source": [
    "with open(\"data_splits/trumpGeneratorTextTrain.txt\", encoding = \"utf-8\") as f:\n",
    "    gentrain = splitTolenWords(f.read(), 100)\n",
    "    \n",
    "with open(\"data_splits/trumpGeneratorTextValid.txt\", encoding = \"utf-8\") as f:\n",
    "    genvalid = splitTolenWords(f.read(), 100)\n",
    "    \n",
    "with open(\"data_splits/trumpGeneratorTextTrain.txt\", encoding = \"utf-8\") as f:\n",
    "    wholetext = f.read()"
   ]
  },
  {
   "cell_type": "code",
   "execution_count": 4,
   "metadata": {},
   "outputs": [],
   "source": [
    "from datasets import Dataset\n",
    "import datasets\n",
    "datasettrain = Dataset.from_dict({\"train\": gentrain})\n",
    "datasetvalid = Dataset.from_dict({\"train\": genvalid})\n",
    "\n",
    "dataset = datasets.dataset_dict.DatasetDict({\"train\": datasettrain, \"test\": datasetvalid})"
   ]
  },
  {
   "cell_type": "code",
   "execution_count": 5,
   "metadata": {
    "id": "-WGBCO343l-q"
   },
   "outputs": [],
   "source": [
    "model_checkpoint = \"gpt2\"\n",
    "tokenizer_checkpoint = 'gpt2'"
   ]
  },
  {
   "cell_type": "code",
   "execution_count": 6,
   "metadata": {
    "id": "iAYlS40Z3l-v"
   },
   "outputs": [
    {
     "data": {
      "application/vnd.jupyter.widget-view+json": {
       "model_id": "949d39dbf7c844b48899029f6e0ec0ba",
       "version_major": 2,
       "version_minor": 0
      },
      "text/plain": [
       "  0%|          | 0/3 [00:00<?, ?ba/s]"
      ]
     },
     "metadata": {},
     "output_type": "display_data"
    },
    {
     "data": {
      "application/vnd.jupyter.widget-view+json": {
       "model_id": "8c8b2a2282e8431b9c5f241655548009",
       "version_major": 2,
       "version_minor": 0
      },
      "text/plain": [
       "  0%|          | 0/1 [00:00<?, ?ba/s]"
      ]
     },
     "metadata": {},
     "output_type": "display_data"
    }
   ],
   "source": [
    "from transformers import AutoTokenizer\n",
    "\n",
    "tokenizer = AutoTokenizer.from_pretrained(tokenizer_checkpoint)\n",
    "\n",
    "def tokenize_function(examples):\n",
    "    return tokenizer(examples[\"train\"])\n",
    "\n",
    "tokenized_datasets = dataset.map(\n",
    "    tokenize_function, batched=True, num_proc=1, remove_columns=[\"train\"]\n",
    ")"
   ]
  },
  {
   "cell_type": "code",
   "execution_count": 7,
   "metadata": {},
   "outputs": [
    {
     "data": {
      "text/plain": [
       "PreTrainedTokenizerFast(name_or_path='gpt2', vocab_size=50257, model_max_len=1024, is_fast=True, padding_side='right', special_tokens={'bos_token': '<|endoftext|>', 'eos_token': '<|endoftext|>', 'unk_token': '<|endoftext|>'})"
      ]
     },
     "execution_count": 7,
     "metadata": {},
     "output_type": "execute_result"
    }
   ],
   "source": [
    "tokenizer"
   ]
  },
  {
   "cell_type": "code",
   "execution_count": 8,
   "metadata": {
    "id": "iaAJy5Hu3l_B"
   },
   "outputs": [
    {
     "data": {
      "application/vnd.jupyter.widget-view+json": {
       "model_id": "1e77e2ae39ea4c76a5eb58420c19cdd1",
       "version_major": 2,
       "version_minor": 0
      },
      "text/plain": [
       "  0%|          | 0/3 [00:00<?, ?ba/s]"
      ]
     },
     "metadata": {},
     "output_type": "display_data"
    },
    {
     "data": {
      "application/vnd.jupyter.widget-view+json": {
       "model_id": "f6c18229d60b43c0b814b59ae088c6b0",
       "version_major": 2,
       "version_minor": 0
      },
      "text/plain": [
       "  0%|          | 0/1 [00:00<?, ?ba/s]"
      ]
     },
     "metadata": {},
     "output_type": "display_data"
    }
   ],
   "source": [
    "#block_size = tokenizer.model_max_length\n",
    "block_size = 200\n",
    "\n",
    "def group_texts(examples):\n",
    "    # Concatenate all texts.\n",
    "    concatenated_examples = {k: sum(examples[k], []) for k in examples.keys()}\n",
    "    total_length = len(concatenated_examples[list(examples.keys())[0]])\n",
    "    # We drop the small remainder, we could add padding if the model supported it instead of this drop, you can\n",
    "    # customize this part to your needs.\n",
    "    total_length = (total_length // block_size) * block_size\n",
    "    # Split by chunks of max_len.\n",
    "    result = {\n",
    "        k: [t[i : i + block_size] for i in range(0, total_length, block_size)]\n",
    "        for k, t in concatenated_examples.items()\n",
    "    }\n",
    "    result[\"labels\"] = result[\"input_ids\"].copy()\n",
    "    return result\n",
    "\n",
    "lm_datasets = tokenized_datasets.map(\n",
    "    group_texts,\n",
    "    batched=True,\n",
    "    batch_size=1000,\n",
    "    num_proc=1,\n",
    ")"
   ]
  },
  {
   "cell_type": "code",
   "execution_count": 9,
   "metadata": {
    "colab": {
     "base_uri": "https://localhost:8080/",
     "height": 88
    },
    "id": "hTeGCLl_3l_G",
    "outputId": "b5034f49-79c9-419d-ac7a-369f3c0cbfaf",
    "scrolled": true
   },
   "outputs": [
    {
     "data": {
      "text/plain": [
       "\" everything we had, it was depleted.  Now we've rebuilt our military like never before.  And all But if you want to vote for a weak candidate tomorrow, go ahead.  Pick one.  Pick the weakest one you think, I don't know who it is.  We are a big party with big ideas for the future.  Very big.  We become a big party and an open-minded party and we're the party that people like.  We're the hot party and we're the party with all the enthusiasm.  We are fighting for school choice because no parent should ever be forced to send their child to a failing government school.  Right?word.  That's the word.  I stand before you today to declare the silent majority is stronger than ever before.  Five months from now, we're going to defeat sleepy Joe Biden.  Boy, does he get a pass from these people, huh? We're going to stop the radical left\""
      ]
     },
     "execution_count": 9,
     "metadata": {},
     "output_type": "execute_result"
    }
   ],
   "source": [
    "tokenizer.decode(lm_datasets[\"train\"][3][\"input_ids\"])"
   ]
  },
  {
   "cell_type": "markdown",
   "metadata": {
    "id": "iEmeQ7Xm3l_H"
   },
   "source": [
    "Now that the data has been cleaned, we're ready to instantiate our `Model`. First we create the model using the same config as our checkpoint, but initialized with random weights:"
   ]
  },
  {
   "cell_type": "code",
   "execution_count": 10,
   "metadata": {},
   "outputs": [],
   "source": [
    "batch_size = 1\n",
    "num_epochs = 150"
   ]
  },
  {
   "cell_type": "code",
   "execution_count": 11,
   "metadata": {
    "id": "P9KaJInEyroD"
   },
   "outputs": [],
   "source": [
    "from transformers import DefaultDataCollator\n",
    "\n",
    "data_collator = DefaultDataCollator(return_tensors='tf')\n",
    "\n",
    "train_set = lm_datasets[\"train\"].to_tf_dataset(\n",
    "    columns=[\"attention_mask\", \"input_ids\", \"labels\"],\n",
    "    shuffle=True,\n",
    "    batch_size=batch_size,\n",
    "    collate_fn=data_collator\n",
    ")\n",
    "validation_set = lm_datasets[\"test\"].to_tf_dataset(\n",
    "    columns=[\"attention_mask\", \"input_ids\", \"labels\"],\n",
    "    shuffle=False,\n",
    "    batch_size=batch_size,\n",
    "    collate_fn=data_collator\n",
    ")"
   ]
  },
  {
   "cell_type": "code",
   "execution_count": 12,
   "metadata": {},
   "outputs": [],
   "source": [
    "from transformers import AutoConfig, TFAutoModelForCausalLM"
   ]
  },
  {
   "cell_type": "code",
   "execution_count": 13,
   "metadata": {},
   "outputs": [
    {
     "name": "stderr",
     "output_type": "stream",
     "text": [
      "No loss specified in compile() - the model's internal loss computation will be used as the loss. Don't panic - this is a common way to train TensorFlow models in Transformers! Please ensure your labels are passed as the 'labels' key of the input dict so that they are accessible to the model during the forward pass. To disable this behaviour, please pass a loss argument, or explicitly pass loss=None if you do not want your model to compute a loss.\n"
     ]
    }
   ],
   "source": [
    "from transformers import create_optimizer\n",
    "import tensorflow as tf\n",
    "\n",
    "batches_per_epoch = len(lm_datasets[\"train\"]) // batch_size\n",
    "total_train_steps = int(batches_per_epoch * num_epochs)\n",
    "optimizer, schedule = create_optimizer(\n",
    "    init_lr=0.00001, \n",
    "    num_warmup_steps=0, \n",
    "    num_train_steps=total_train_steps\n",
    ")\n",
    "\n",
    "from transformers import AutoConfig, TFAutoModelForCausalLM\n",
    "\n",
    "config = AutoConfig.from_pretrained(model_checkpoint)\n",
    "model = TFAutoModelForCausalLM.from_config(config)\n",
    "\n",
    "model.compile(optimizer = optimizer)"
   ]
  },
  {
   "cell_type": "markdown",
   "metadata": {
    "id": "6Vvz34Td3l_O"
   },
   "source": [
    "Now we can train our model. We can also add a callback to sync up our model with the Hub - this allows us to resume training from other machines and even test the model's inference quality midway through training! Make sure to change the `username` if you do. If you don't want to do this, simply remove the callbacks argument in the call to `fit()`."
   ]
  },
  {
   "cell_type": "code",
   "execution_count": 15,
   "metadata": {},
   "outputs": [],
   "source": [
    "model_checkpoint_callback = SaveModelPrintMetricsCallback(name = \"generators/gpt2-small/GPT_2\", metric = \"val_loss\", every_n = 10, validation_data = genvalid, tokenizer = tokenizer)\n",
    "\n",
    "callbacks = [\n",
    "    model_checkpoint_callback,\n",
    "]\n",
    "\n"
   ]
  },
  {
   "cell_type": "code",
   "execution_count": 16,
   "metadata": {
    "colab": {
     "base_uri": "https://localhost:8080/"
    },
    "id": "NyZvu_MF3l_P",
    "outputId": "fc13e9b8-7e23-4c20-9dd5-1ffeb022ddb3",
    "scrolled": true
   },
   "outputs": [
    {
     "name": "stdout",
     "output_type": "stream",
     "text": [
      "Epoch 1/150\n",
      "WARNING:tensorflow:From C:\\Users\\marty\\anaconda3\\envs\\tensorflow_gpu\\lib\\site-packages\\tensorflow\\python\\ops\\array_ops.py:5043: calling gather (from tensorflow.python.ops.array_ops) with validate_indices is deprecated and will be removed in a future version.\n",
      "Instructions for updating:\n",
      "The `validate_indices` argument has no effect. Indices are always validated on CPU and never validated on GPU.\n",
      "1759/1759 [==============================] - 497s 274ms/step - loss: 6.0927 - val_loss: 5.0877\n"
     ]
    },
    {
     "name": "stderr",
     "output_type": "stream",
     "text": [
      "Setting `pad_token_id` to 50256 (first `eos_token_id`) to generate sequence\n"
     ]
    },
    {
     "name": "stdout",
     "output_type": "stream",
     "text": [
      "interval evaluation - epoch: 0 - blue1: 0.894231, blue2: 0.689320, blue3: 0.392157, blue4: 0.118812,\n",
      "Epoch 2/150\n",
      "1759/1759 [==============================] - 493s 280ms/step - loss: 4.9364 - val_loss: 4.7482\n"
     ]
    },
    {
     "name": "stderr",
     "output_type": "stream",
     "text": [
      "Setting `pad_token_id` to 50256 (first `eos_token_id`) to generate sequence\n"
     ]
    },
    {
     "name": "stdout",
     "output_type": "stream",
     "text": [
      "interval evaluation - epoch: 1 - blue1: 0.903846, blue2: 0.805825, blue3: 0.588235, blue4: 0.326733,\n",
      "Epoch 3/150\n",
      "1759/1759 [==============================] - 497s 283ms/step - loss: 4.6583 - val_loss: 4.5734\n"
     ]
    },
    {
     "name": "stderr",
     "output_type": "stream",
     "text": [
      "Setting `pad_token_id` to 50256 (first `eos_token_id`) to generate sequence\n"
     ]
    },
    {
     "name": "stdout",
     "output_type": "stream",
     "text": [
      "interval evaluation - epoch: 2 - blue1: 0.838360, blue2: 0.675882, blue3: 0.387503, blue4: 0.164952,\n",
      "Epoch 4/150\n",
      "1759/1759 [==============================] - 493s 280ms/step - loss: 4.4775 - val_loss: 4.4679\n"
     ]
    },
    {
     "name": "stderr",
     "output_type": "stream",
     "text": [
      "Setting `pad_token_id` to 50256 (first `eos_token_id`) to generate sequence\n"
     ]
    },
    {
     "name": "stdout",
     "output_type": "stream",
     "text": [
      "interval evaluation - epoch: 3 - blue1: 0.970297, blue2: 0.840000, blue3: 0.535354, blue4: 0.214286,\n",
      "Epoch 5/150\n",
      "1759/1759 [==============================] - 489s 278ms/step - loss: 4.3397 - val_loss: 4.3968\n"
     ]
    },
    {
     "name": "stderr",
     "output_type": "stream",
     "text": [
      "Setting `pad_token_id` to 50256 (first `eos_token_id`) to generate sequence\n"
     ]
    },
    {
     "name": "stdout",
     "output_type": "stream",
     "text": [
      "interval evaluation - epoch: 4 - blue1: 0.877358, blue2: 0.761905, blue3: 0.567308, blue4: 0.291262,\n",
      "Epoch 6/150\n",
      "1759/1759 [==============================] - 486s 276ms/step - loss: 4.2276 - val_loss: 4.3508\n"
     ]
    },
    {
     "name": "stderr",
     "output_type": "stream",
     "text": [
      "Setting `pad_token_id` to 50256 (first `eos_token_id`) to generate sequence\n"
     ]
    },
    {
     "name": "stdout",
     "output_type": "stream",
     "text": [
      "interval evaluation - epoch: 5 - blue1: 0.940000, blue2: 0.828283, blue3: 0.520408, blue4: 0.257732,\n",
      "Epoch 7/150\n",
      "1759/1759 [==============================] - 480s 273ms/step - loss: 4.1302 - val_loss: 4.3032\n"
     ]
    },
    {
     "name": "stderr",
     "output_type": "stream",
     "text": [
      "Setting `pad_token_id` to 50256 (first `eos_token_id`) to generate sequence\n"
     ]
    },
    {
     "name": "stdout",
     "output_type": "stream",
     "text": [
      "interval evaluation - epoch: 6 - blue1: 0.939952, blue2: 0.828325, blue3: 0.479666, blue4: 0.144368,\n",
      "Epoch 8/150\n",
      "1759/1759 [==============================] - 480s 273ms/step - loss: 4.0424 - val_loss: 4.2760\n"
     ]
    },
    {
     "name": "stderr",
     "output_type": "stream",
     "text": [
      "Setting `pad_token_id` to 50256 (first `eos_token_id`) to generate sequence\n"
     ]
    },
    {
     "name": "stdout",
     "output_type": "stream",
     "text": [
      "interval evaluation - epoch: 7 - blue1: 0.709964, blue2: 0.555584, blue3: 0.285759, blue4: 0.103120,\n",
      "Epoch 9/150\n",
      "1759/1759 [==============================] - 479s 273ms/step - loss: 3.9624 - val_loss: 4.2513\n"
     ]
    },
    {
     "name": "stderr",
     "output_type": "stream",
     "text": [
      "Setting `pad_token_id` to 50256 (first `eos_token_id`) to generate sequence\n"
     ]
    },
    {
     "name": "stdout",
     "output_type": "stream",
     "text": [
      "interval evaluation - epoch: 8 - blue1: 0.831683, blue2: 0.760000, blue3: 0.545455, blue4: 0.255102,\n",
      "Epoch 10/150\n",
      "1759/1759 [==============================] - 479s 272ms/step - loss: 3.8853 - val_loss: 4.2319\n"
     ]
    },
    {
     "name": "stderr",
     "output_type": "stream",
     "text": [
      "Setting `pad_token_id` to 50256 (first `eos_token_id`) to generate sequence\n"
     ]
    },
    {
     "name": "stdout",
     "output_type": "stream",
     "text": [
      "interval evaluation - epoch: 9 - blue1: 0.784314, blue2: 0.663366, blue3: 0.480000, blue4: 0.252525,\n",
      "Epoch 11/150\n",
      "1759/1759 [==============================] - 479s 272ms/step - loss: 3.8130 - val_loss: 4.2254\n"
     ]
    },
    {
     "name": "stderr",
     "output_type": "stream",
     "text": [
      "Setting `pad_token_id` to 50256 (first `eos_token_id`) to generate sequence\n"
     ]
    },
    {
     "name": "stdout",
     "output_type": "stream",
     "text": [
      "interval evaluation - epoch: 10 - blue1: 0.723810, blue2: 0.576923, blue3: 0.330097, blue4: 0.156863,\n",
      "Epoch 12/150\n",
      "1759/1759 [==============================] - 479s 273ms/step - loss: 3.7417 - val_loss: 4.2128\n"
     ]
    },
    {
     "name": "stderr",
     "output_type": "stream",
     "text": [
      "Setting `pad_token_id` to 50256 (first `eos_token_id`) to generate sequence\n"
     ]
    },
    {
     "name": "stdout",
     "output_type": "stream",
     "text": [
      "interval evaluation - epoch: 11 - blue1: 0.811881, blue2: 0.700000, blue3: 0.474747, blue4: 0.224490,\n",
      "Epoch 13/150\n",
      "1759/1759 [==============================] - 480s 273ms/step - loss: 3.6696 - val_loss: 4.2135\n"
     ]
    },
    {
     "name": "stderr",
     "output_type": "stream",
     "text": [
      "Setting `pad_token_id` to 50256 (first `eos_token_id`) to generate sequence\n"
     ]
    },
    {
     "name": "stdout",
     "output_type": "stream",
     "text": [
      "interval evaluation - epoch: 12 - blue1: 0.769639, blue2: 0.646364, blue3: 0.418435, blue4: 0.195972,\n",
      "Epoch 14/150\n",
      "1759/1759 [==============================] - 479s 272ms/step - loss: 3.6010 - val_loss: 4.2140\n"
     ]
    },
    {
     "name": "stderr",
     "output_type": "stream",
     "text": [
      "Setting `pad_token_id` to 50256 (first `eos_token_id`) to generate sequence\n"
     ]
    },
    {
     "name": "stdout",
     "output_type": "stream",
     "text": [
      "interval evaluation - epoch: 13 - blue1: 0.809621, blue2: 0.797855, blue3: 0.591933, blue4: 0.268172,\n",
      "Epoch 15/150\n",
      "1759/1759 [==============================] - 479s 272ms/step - loss: 3.5332 - val_loss: 4.2180\n"
     ]
    },
    {
     "name": "stderr",
     "output_type": "stream",
     "text": [
      "Setting `pad_token_id` to 50256 (first `eos_token_id`) to generate sequence\n"
     ]
    },
    {
     "name": "stdout",
     "output_type": "stream",
     "text": [
      "interval evaluation - epoch: 14 - blue1: 0.627451, blue2: 0.495050, blue3: 0.410000, blue4: 0.252525,\n",
      "Epoch 16/150\n",
      "1759/1759 [==============================] - 479s 273ms/step - loss: 3.4641 - val_loss: 4.2287\n"
     ]
    },
    {
     "name": "stderr",
     "output_type": "stream",
     "text": [
      "Setting `pad_token_id` to 50256 (first `eos_token_id`) to generate sequence\n"
     ]
    },
    {
     "name": "stdout",
     "output_type": "stream",
     "text": [
      "interval evaluation - epoch: 15 - blue1: 0.921569, blue2: 0.772277, blue3: 0.480000, blue4: 0.181818,\n",
      "Epoch 17/150\n",
      "1759/1759 [==============================] - 479s 272ms/step - loss: 3.3973 - val_loss: 4.2354\n"
     ]
    },
    {
     "name": "stderr",
     "output_type": "stream",
     "text": [
      "Setting `pad_token_id` to 50256 (first `eos_token_id`) to generate sequence\n"
     ]
    },
    {
     "name": "stdout",
     "output_type": "stream",
     "text": [
      "interval evaluation - epoch: 16 - blue1: 0.899578, blue2: 0.747358, blue3: 0.438847, blue4: 0.175343,\n",
      "Epoch 18/150\n",
      "1759/1759 [==============================] - 479s 272ms/step - loss: 3.3280 - val_loss: 4.2550\n"
     ]
    },
    {
     "name": "stderr",
     "output_type": "stream",
     "text": [
      "Setting `pad_token_id` to 50256 (first `eos_token_id`) to generate sequence\n"
     ]
    },
    {
     "name": "stdout",
     "output_type": "stream",
     "text": [
      "interval evaluation - epoch: 17 - blue1: 0.847710, blue2: 0.685539, blue3: 0.346536, blue4: 0.103055,\n",
      "Epoch 19/150\n",
      "1759/1759 [==============================] - 479s 272ms/step - loss: 3.2578 - val_loss: 4.2714\n"
     ]
    },
    {
     "name": "stderr",
     "output_type": "stream",
     "text": [
      "Setting `pad_token_id` to 50256 (first `eos_token_id`) to generate sequence\n"
     ]
    },
    {
     "name": "stdout",
     "output_type": "stream",
     "text": [
      "interval evaluation - epoch: 18 - blue1: 0.598383, blue2: 0.423421, blue3: 0.254806, blue4: 0.092749,\n",
      "Epoch 20/150\n",
      "1759/1759 [==============================] - 479s 272ms/step - loss: 3.1900 - val_loss: 4.2903\n"
     ]
    },
    {
     "name": "stderr",
     "output_type": "stream",
     "text": [
      "Setting `pad_token_id` to 50256 (first `eos_token_id`) to generate sequence\n"
     ]
    },
    {
     "name": "stdout",
     "output_type": "stream",
     "text": [
      "interval evaluation - epoch: 19 - blue1: 0.776428, blue2: 0.634083, blue3: 0.274803, blue4: 0.072055,\n",
      "Epoch 21/150\n",
      "1759/1759 [==============================] - 478s 272ms/step - loss: 3.1192 - val_loss: 4.3076\n"
     ]
    },
    {
     "name": "stderr",
     "output_type": "stream",
     "text": [
      "Setting `pad_token_id` to 50256 (first `eos_token_id`) to generate sequence\n"
     ]
    },
    {
     "name": "stdout",
     "output_type": "stream",
     "text": [
      "interval evaluation - epoch: 20 - blue1: 0.893204, blue2: 0.745098, blue3: 0.415842, blue4: 0.100000,\n",
      "Epoch 22/150\n",
      "1759/1759 [==============================] - 479s 272ms/step - loss: 3.0529 - val_loss: 4.3473\n"
     ]
    },
    {
     "name": "stderr",
     "output_type": "stream",
     "text": [
      "Setting `pad_token_id` to 50256 (first `eos_token_id`) to generate sequence\n"
     ]
    },
    {
     "name": "stdout",
     "output_type": "stream",
     "text": [
      "interval evaluation - epoch: 21 - blue1: 0.796296, blue2: 0.523364, blue3: 0.235849, blue4: 0.104762,\n",
      "Epoch 23/150\n",
      "1759/1759 [==============================] - 479s 272ms/step - loss: 2.9810 - val_loss: 4.3692\n"
     ]
    },
    {
     "name": "stderr",
     "output_type": "stream",
     "text": [
      "Setting `pad_token_id` to 50256 (first `eos_token_id`) to generate sequence\n"
     ]
    },
    {
     "name": "stdout",
     "output_type": "stream",
     "text": [
      "interval evaluation - epoch: 22 - blue1: 0.758516, blue2: 0.595180, blue3: 0.275331, blue4: 0.072167,\n",
      "Epoch 24/150\n",
      "1759/1759 [==============================] - 479s 272ms/step - loss: 2.9143 - val_loss: 4.3968\n"
     ]
    },
    {
     "name": "stderr",
     "output_type": "stream",
     "text": [
      "Setting `pad_token_id` to 50256 (first `eos_token_id`) to generate sequence\n"
     ]
    },
    {
     "name": "stdout",
     "output_type": "stream",
     "text": [
      "interval evaluation - epoch: 23 - blue1: 0.879819, blue2: 0.747475, blue3: 0.377631, blue4: 0.113450,\n",
      "Epoch 25/150\n",
      "1759/1759 [==============================] - 479s 272ms/step - loss: 2.8476 - val_loss: 4.4252\n"
     ]
    },
    {
     "name": "stderr",
     "output_type": "stream",
     "text": [
      "Setting `pad_token_id` to 50256 (first `eos_token_id`) to generate sequence\n"
     ]
    },
    {
     "name": "stdout",
     "output_type": "stream",
     "text": [
      "interval evaluation - epoch: 24 - blue1: 0.683023, blue2: 0.550769, blue3: 0.233031, blue4: 0.071767,\n",
      "Epoch 26/150\n",
      "1759/1759 [==============================] - 479s 272ms/step - loss: 2.7792 - val_loss: 4.4590\n"
     ]
    },
    {
     "name": "stderr",
     "output_type": "stream",
     "text": [
      "Setting `pad_token_id` to 50256 (first `eos_token_id`) to generate sequence\n"
     ]
    },
    {
     "name": "stdout",
     "output_type": "stream",
     "text": [
      "interval evaluation - epoch: 25 - blue1: 0.886824, blue2: 0.725315, blue3: 0.346315, blue4: 0.072101,\n",
      "Epoch 27/150\n",
      "1759/1759 [==============================] - 478s 272ms/step - loss: 2.7123 - val_loss: 4.4822\n"
     ]
    },
    {
     "name": "stderr",
     "output_type": "stream",
     "text": [
      "Setting `pad_token_id` to 50256 (first `eos_token_id`) to generate sequence\n"
     ]
    },
    {
     "name": "stdout",
     "output_type": "stream",
     "text": [
      "interval evaluation - epoch: 26 - blue1: 0.889908, blue2: 0.694444, blue3: 0.420561, blue4: 0.132075,\n",
      "Epoch 28/150\n",
      "1759/1759 [==============================] - 479s 272ms/step - loss: 2.6458 - val_loss: 4.5268\n"
     ]
    },
    {
     "name": "stderr",
     "output_type": "stream",
     "text": [
      "Setting `pad_token_id` to 50256 (first `eos_token_id`) to generate sequence\n"
     ]
    },
    {
     "name": "stdout",
     "output_type": "stream",
     "text": [
      "interval evaluation - epoch: 27 - blue1: 0.817074, blue2: 0.574207, blue3: 0.254644, blue4: 0.061801,\n",
      "Epoch 29/150\n",
      "1759/1759 [==============================] - 478s 272ms/step - loss: 2.5787 - val_loss: 4.5675\n"
     ]
    },
    {
     "name": "stderr",
     "output_type": "stream",
     "text": [
      "Setting `pad_token_id` to 50256 (first `eos_token_id`) to generate sequence\n"
     ]
    },
    {
     "name": "stdout",
     "output_type": "stream",
     "text": [
      "interval evaluation - epoch: 28 - blue1: 0.959951, blue2: 0.767716, blue3: 0.346993, blue4: 0.061872,\n",
      "Epoch 30/150\n",
      "1759/1759 [==============================] - 479s 272ms/step - loss: 2.5168 - val_loss: 4.6013\n"
     ]
    },
    {
     "name": "stderr",
     "output_type": "stream",
     "text": [
      "Setting `pad_token_id` to 50256 (first `eos_token_id`) to generate sequence\n"
     ]
    },
    {
     "name": "stdout",
     "output_type": "stream",
     "text": [
      "interval evaluation - epoch: 29 - blue1: 0.770642, blue2: 0.518519, blue3: 0.271028, blue4: 0.066038,\n",
      "Epoch 31/150\n",
      "1759/1759 [==============================] - 478s 272ms/step - loss: 2.4531 - val_loss: 4.6382\n"
     ]
    },
    {
     "name": "stderr",
     "output_type": "stream",
     "text": [
      "Setting `pad_token_id` to 50256 (first `eos_token_id`) to generate sequence\n"
     ]
    },
    {
     "name": "stdout",
     "output_type": "stream",
     "text": [
      "interval evaluation - epoch: 30 - blue1: 0.914286, blue2: 0.692308, blue3: 0.388350, blue4: 0.186275,\n",
      "Epoch 32/150\n",
      "1759/1759 [==============================] - 479s 272ms/step - loss: 2.3890 - val_loss: 4.6723\n"
     ]
    },
    {
     "name": "stderr",
     "output_type": "stream",
     "text": [
      "Setting `pad_token_id` to 50256 (first `eos_token_id`) to generate sequence\n"
     ]
    },
    {
     "name": "stdout",
     "output_type": "stream",
     "text": [
      "interval evaluation - epoch: 31 - blue1: 0.941176, blue2: 0.792079, blue3: 0.400000, blue4: 0.111111,\n",
      "Epoch 33/150\n",
      "1759/1759 [==============================] - 478s 272ms/step - loss: 2.3248 - val_loss: 4.7039\n"
     ]
    },
    {
     "name": "stderr",
     "output_type": "stream",
     "text": [
      "Setting `pad_token_id` to 50256 (first `eos_token_id`) to generate sequence\n"
     ]
    },
    {
     "name": "stdout",
     "output_type": "stream",
     "text": [
      "interval evaluation - epoch: 32 - blue1: 0.990000, blue2: 0.797980, blue3: 0.408163, blue4: 0.134021,\n",
      "Epoch 34/150\n",
      "1759/1759 [==============================] - 478s 272ms/step - loss: 2.2643 - val_loss: 4.7464\n"
     ]
    },
    {
     "name": "stderr",
     "output_type": "stream",
     "text": [
      "Setting `pad_token_id` to 50256 (first `eos_token_id`) to generate sequence\n"
     ]
    },
    {
     "name": "stdout",
     "output_type": "stream",
     "text": [
      "interval evaluation - epoch: 33 - blue1: 0.899954, blue2: 0.676802, blue3: 0.295964, blue4: 0.082496,\n",
      "Epoch 35/150\n",
      "1759/1759 [==============================] - 479s 272ms/step - loss: 2.2052 - val_loss: 4.7993\n"
     ]
    },
    {
     "name": "stderr",
     "output_type": "stream",
     "text": [
      "Setting `pad_token_id` to 50256 (first `eos_token_id`) to generate sequence\n"
     ]
    },
    {
     "name": "stdout",
     "output_type": "stream",
     "text": [
      "interval evaluation - epoch: 34 - blue1: 0.921569, blue2: 0.663366, blue3: 0.250000, blue4: 0.030303,\n",
      "Epoch 36/150\n",
      "1759/1759 [==============================] - 478s 272ms/step - loss: 2.1459 - val_loss: 4.8240\n"
     ]
    },
    {
     "name": "stderr",
     "output_type": "stream",
     "text": [
      "Setting `pad_token_id` to 50256 (first `eos_token_id`) to generate sequence\n"
     ]
    },
    {
     "name": "stdout",
     "output_type": "stream",
     "text": [
      "interval evaluation - epoch: 35 - blue1: 0.981132, blue2: 0.828571, blue3: 0.394231, blue4: 0.067961,\n",
      "Epoch 37/150\n",
      "1759/1759 [==============================] - 478s 272ms/step - loss: 2.0868 - val_loss: 4.8637\n"
     ]
    },
    {
     "name": "stderr",
     "output_type": "stream",
     "text": [
      "Setting `pad_token_id` to 50256 (first `eos_token_id`) to generate sequence\n"
     ]
    },
    {
     "name": "stdout",
     "output_type": "stream",
     "text": [
      "interval evaluation - epoch: 36 - blue1: 0.952830, blue2: 0.723810, blue3: 0.365385, blue4: 0.106796,\n",
      "Epoch 38/150\n",
      "1759/1759 [==============================] - 478s 272ms/step - loss: 2.0306 - val_loss: 4.9005\n"
     ]
    },
    {
     "name": "stderr",
     "output_type": "stream",
     "text": [
      "Setting `pad_token_id` to 50256 (first `eos_token_id`) to generate sequence\n"
     ]
    },
    {
     "name": "stdout",
     "output_type": "stream",
     "text": [
      "interval evaluation - epoch: 37 - blue1: 0.920000, blue2: 0.646465, blue3: 0.183673, blue4: 0.020619,\n",
      "Epoch 39/150\n",
      "1759/1759 [==============================] - 478s 272ms/step - loss: 1.9755 - val_loss: 4.9420\n"
     ]
    },
    {
     "name": "stderr",
     "output_type": "stream",
     "text": [
      "Setting `pad_token_id` to 50256 (first `eos_token_id`) to generate sequence\n"
     ]
    },
    {
     "name": "stdout",
     "output_type": "stream",
     "text": [
      "interval evaluation - epoch: 38 - blue1: 0.908257, blue2: 0.712963, blue3: 0.299065, blue4: 0.075472,\n",
      "Epoch 40/150\n",
      "1759/1759 [==============================] - 478s 272ms/step - loss: 1.9198 - val_loss: 4.9843\n"
     ]
    },
    {
     "name": "stderr",
     "output_type": "stream",
     "text": [
      "Setting `pad_token_id` to 50256 (first `eos_token_id`) to generate sequence\n"
     ]
    },
    {
     "name": "stdout",
     "output_type": "stream",
     "text": [
      "interval evaluation - epoch: 39 - blue1: 0.889249, blue2: 0.676481, blue3: 0.377553, blue4: 0.154708,\n",
      "Epoch 41/150\n",
      "1759/1759 [==============================] - 478s 272ms/step - loss: 1.8664 - val_loss: 5.0255\n"
     ]
    },
    {
     "name": "stderr",
     "output_type": "stream",
     "text": [
      "Setting `pad_token_id` to 50256 (first `eos_token_id`) to generate sequence\n"
     ]
    },
    {
     "name": "stdout",
     "output_type": "stream",
     "text": [
      "interval evaluation - epoch: 40 - blue1: 0.930000, blue2: 0.636364, blue3: 0.275510, blue4: 0.072165,\n",
      "Epoch 42/150\n",
      "1759/1759 [==============================] - 478s 272ms/step - loss: 1.8140 - val_loss: 5.0698\n"
     ]
    },
    {
     "name": "stderr",
     "output_type": "stream",
     "text": [
      "Setting `pad_token_id` to 50256 (first `eos_token_id`) to generate sequence\n"
     ]
    },
    {
     "name": "stdout",
     "output_type": "stream",
     "text": [
      "interval evaluation - epoch: 41 - blue1: 0.970000, blue2: 0.747475, blue3: 0.275510, blue4: 0.082474,\n",
      "Epoch 43/150\n",
      "1759/1759 [==============================] - 479s 272ms/step - loss: 1.7615 - val_loss: 5.1142\n"
     ]
    },
    {
     "name": "stderr",
     "output_type": "stream",
     "text": [
      "Setting `pad_token_id` to 50256 (first `eos_token_id`) to generate sequence\n"
     ]
    },
    {
     "name": "stdout",
     "output_type": "stream",
     "text": [
      "interval evaluation - epoch: 42 - blue1: 0.890000, blue2: 0.626263, blue3: 0.224490, blue4: 0.030928,\n",
      "Epoch 44/150\n",
      "1759/1759 [==============================] - 483s 275ms/step - loss: 1.7121 - val_loss: 5.1325\n"
     ]
    },
    {
     "name": "stderr",
     "output_type": "stream",
     "text": [
      "Setting `pad_token_id` to 50256 (first `eos_token_id`) to generate sequence\n"
     ]
    },
    {
     "name": "stdout",
     "output_type": "stream",
     "text": [
      "interval evaluation - epoch: 43 - blue1: 0.818903, blue2: 0.524829, blue3: 0.173424, blue4: 0.020625,\n",
      "Epoch 45/150\n",
      "1759/1759 [==============================] - 480s 273ms/step - loss: 1.6620 - val_loss: 5.1693\n"
     ]
    },
    {
     "name": "stderr",
     "output_type": "stream",
     "text": [
      "Setting `pad_token_id` to 50256 (first `eos_token_id`) to generate sequence\n"
     ]
    },
    {
     "name": "stdout",
     "output_type": "stream",
     "text": [
      "interval evaluation - epoch: 44 - blue1: 0.930000, blue2: 0.747475, blue3: 0.408163, blue4: 0.123711,\n",
      "Epoch 46/150\n",
      "1759/1759 [==============================] - 479s 273ms/step - loss: 1.6129 - val_loss: 5.2029\n"
     ]
    },
    {
     "name": "stderr",
     "output_type": "stream",
     "text": [
      "Setting `pad_token_id` to 50256 (first `eos_token_id`) to generate sequence\n"
     ]
    },
    {
     "name": "stdout",
     "output_type": "stream",
     "text": [
      "interval evaluation - epoch: 45 - blue1: 0.951456, blue2: 0.686275, blue3: 0.306931, blue4: 0.110000,\n",
      "Epoch 47/150\n",
      "1759/1759 [==============================] - 479s 272ms/step - loss: 1.5658 - val_loss: 5.2481\n"
     ]
    },
    {
     "name": "stderr",
     "output_type": "stream",
     "text": [
      "Setting `pad_token_id` to 50256 (first `eos_token_id`) to generate sequence\n"
     ]
    },
    {
     "name": "stdout",
     "output_type": "stream",
     "text": [
      "interval evaluation - epoch: 46 - blue1: 0.758984, blue2: 0.444086, blue3: 0.142819, blue4: 0.010312,\n",
      "Epoch 48/150\n",
      "1759/1759 [==============================] - 479s 272ms/step - loss: 1.5229 - val_loss: 5.2675\n"
     ]
    },
    {
     "name": "stderr",
     "output_type": "stream",
     "text": [
      "Setting `pad_token_id` to 50256 (first `eos_token_id`) to generate sequence\n"
     ]
    },
    {
     "name": "stdout",
     "output_type": "stream",
     "text": [
      "interval evaluation - epoch: 47 - blue1: 0.962963, blue2: 0.672897, blue3: 0.273585, blue4: 0.057143,\n",
      "Epoch 49/150\n",
      "1759/1759 [==============================] - 479s 272ms/step - loss: 1.4752 - val_loss: 5.3112\n"
     ]
    },
    {
     "name": "stderr",
     "output_type": "stream",
     "text": [
      "Setting `pad_token_id` to 50256 (first `eos_token_id`) to generate sequence\n"
     ]
    },
    {
     "name": "stdout",
     "output_type": "stream",
     "text": [
      "interval evaluation - epoch: 48 - blue1: 0.962617, blue2: 0.716981, blue3: 0.314286, blue4: 0.057692,\n",
      "Epoch 50/150\n",
      "1759/1759 [==============================] - 479s 272ms/step - loss: 1.4321 - val_loss: 5.3513\n"
     ]
    },
    {
     "name": "stderr",
     "output_type": "stream",
     "text": [
      "Setting `pad_token_id` to 50256 (first `eos_token_id`) to generate sequence\n"
     ]
    },
    {
     "name": "stdout",
     "output_type": "stream",
     "text": [
      "interval evaluation - epoch: 49 - blue1: 0.879588, blue2: 0.636264, blue3: 0.183703, blue4: 0.020629,\n",
      "Epoch 51/150\n",
      "1759/1759 [==============================] - 479s 272ms/step - loss: 1.3908 - val_loss: 5.4061\n"
     ]
    },
    {
     "name": "stderr",
     "output_type": "stream",
     "text": [
      "Setting `pad_token_id` to 50256 (first `eos_token_id`) to generate sequence\n"
     ]
    },
    {
     "name": "stdout",
     "output_type": "stream",
     "text": [
      "interval evaluation - epoch: 50 - blue1: 0.925926, blue2: 0.691589, blue3: 0.254717, blue4: 0.009524,\n",
      "Epoch 52/150\n",
      "1759/1759 [==============================] - 479s 272ms/step - loss: 1.3487 - val_loss: 5.4250\n"
     ]
    },
    {
     "name": "stderr",
     "output_type": "stream",
     "text": [
      "Setting `pad_token_id` to 50256 (first `eos_token_id`) to generate sequence\n"
     ]
    },
    {
     "name": "stdout",
     "output_type": "stream",
     "text": [
      "interval evaluation - epoch: 51 - blue1: 0.970588, blue2: 0.801980, blue3: 0.360000, blue4: 0.111111,\n",
      "Epoch 53/150\n",
      "1759/1759 [==============================] - 479s 272ms/step - loss: 1.3082 - val_loss: 5.4511\n"
     ]
    },
    {
     "name": "stderr",
     "output_type": "stream",
     "text": [
      "Setting `pad_token_id` to 50256 (first `eos_token_id`) to generate sequence\n"
     ]
    },
    {
     "name": "stdout",
     "output_type": "stream",
     "text": [
      "interval evaluation - epoch: 52 - blue1: 0.910000, blue2: 0.606061, blue3: 0.234694, blue4: 0.020619,\n",
      "Epoch 54/150\n",
      "1759/1759 [==============================] - 479s 273ms/step - loss: 1.2677 - val_loss: 5.4872\n"
     ]
    },
    {
     "name": "stderr",
     "output_type": "stream",
     "text": [
      "Setting `pad_token_id` to 50256 (first `eos_token_id`) to generate sequence\n"
     ]
    },
    {
     "name": "stdout",
     "output_type": "stream",
     "text": [
      "interval evaluation - epoch: 53 - blue1: 0.990741, blue2: 0.747664, blue3: 0.330189, blue4: 0.133333,\n",
      "Epoch 55/150\n",
      "1759/1759 [==============================] - 479s 272ms/step - loss: 1.2285 - val_loss: 5.5197\n"
     ]
    },
    {
     "name": "stderr",
     "output_type": "stream",
     "text": [
      "Setting `pad_token_id` to 50256 (first `eos_token_id`) to generate sequence\n"
     ]
    },
    {
     "name": "stdout",
     "output_type": "stream",
     "text": [
      "interval evaluation - epoch: 54 - blue1: 0.919811, blue2: 0.676768, blue3: 0.275568, blue4: 0.020627,\n",
      "Epoch 56/150\n",
      "1759/1759 [==============================] - 479s 272ms/step - loss: 1.1913 - val_loss: 5.5469\n"
     ]
    },
    {
     "name": "stderr",
     "output_type": "stream",
     "text": [
      "Setting `pad_token_id` to 50256 (first `eos_token_id`) to generate sequence\n"
     ]
    },
    {
     "name": "stdout",
     "output_type": "stream",
     "text": [
      "interval evaluation - epoch: 55 - blue1: 0.926606, blue2: 0.574074, blue3: 0.214953, blue4: 0.047170,\n",
      "Epoch 57/150\n",
      "1759/1759 [==============================] - 480s 273ms/step - loss: 1.1553 - val_loss: 5.5875\n"
     ]
    },
    {
     "name": "stderr",
     "output_type": "stream",
     "text": [
      "Setting `pad_token_id` to 50256 (first `eos_token_id`) to generate sequence\n"
     ]
    },
    {
     "name": "stdout",
     "output_type": "stream",
     "text": [
      "interval evaluation - epoch: 56 - blue1: 0.921569, blue2: 0.673267, blue3: 0.240000, blue4: 0.101010,\n",
      "Epoch 58/150\n",
      "1759/1759 [==============================] - 480s 273ms/step - loss: 1.1192 - val_loss: 5.6106\n"
     ]
    },
    {
     "name": "stderr",
     "output_type": "stream",
     "text": [
      "Setting `pad_token_id` to 50256 (first `eos_token_id`) to generate sequence\n"
     ]
    },
    {
     "name": "stdout",
     "output_type": "stream",
     "text": [
      "interval evaluation - epoch: 57 - blue1: 0.789630, blue2: 0.454474, blue3: 0.183703, blue4: 0.061886,\n",
      "Epoch 59/150\n",
      "1759/1759 [==============================] - 480s 273ms/step - loss: 1.0838 - val_loss: 5.6514\n"
     ]
    },
    {
     "name": "stderr",
     "output_type": "stream",
     "text": [
      "Setting `pad_token_id` to 50256 (first `eos_token_id`) to generate sequence\n"
     ]
    },
    {
     "name": "stdout",
     "output_type": "stream",
     "text": [
      "interval evaluation - epoch: 58 - blue1: 0.952381, blue2: 0.692308, blue3: 0.271845, blue4: 0.039216,\n",
      "Epoch 60/150\n",
      "1759/1759 [==============================] - 480s 273ms/step - loss: 1.0504 - val_loss: 5.6690\n"
     ]
    },
    {
     "name": "stderr",
     "output_type": "stream",
     "text": [
      "Setting `pad_token_id` to 50256 (first `eos_token_id`) to generate sequence\n"
     ]
    },
    {
     "name": "stdout",
     "output_type": "stream",
     "text": [
      "interval evaluation - epoch: 59 - blue1: 0.941748, blue2: 0.637255, blue3: 0.217822, blue4: 0.050000,\n",
      "Epoch 61/150\n",
      "1759/1759 [==============================] - 480s 273ms/step - loss: 1.0176 - val_loss: 5.7004\n"
     ]
    },
    {
     "name": "stderr",
     "output_type": "stream",
     "text": [
      "Setting `pad_token_id` to 50256 (first `eos_token_id`) to generate sequence\n"
     ]
    },
    {
     "name": "stdout",
     "output_type": "stream",
     "text": [
      "interval evaluation - epoch: 60 - blue1: 0.899815, blue2: 0.626263, blue3: 0.224537, blue4: 0.030941,\n",
      "Epoch 62/150\n",
      "1759/1759 [==============================] - 479s 273ms/step - loss: 0.9848 - val_loss: 5.7209\n"
     ]
    },
    {
     "name": "stderr",
     "output_type": "stream",
     "text": [
      "Setting `pad_token_id` to 50256 (first `eos_token_id`) to generate sequence\n"
     ]
    },
    {
     "name": "stdout",
     "output_type": "stream",
     "text": [
      "interval evaluation - epoch: 61 - blue1: 0.882353, blue2: 0.633663, blue3: 0.200000, blue4: 0.050505,\n",
      "Epoch 63/150\n",
      "1759/1759 [==============================] - 479s 272ms/step - loss: 0.9552 - val_loss: 5.7568\n"
     ]
    },
    {
     "name": "stderr",
     "output_type": "stream",
     "text": [
      "Setting `pad_token_id` to 50256 (first `eos_token_id`) to generate sequence\n"
     ]
    },
    {
     "name": "stdout",
     "output_type": "stream",
     "text": [
      "interval evaluation - epoch: 62 - blue1: 0.952830, blue2: 0.666667, blue3: 0.259615, blue4: 0.058252,\n",
      "Epoch 64/150\n",
      "1759/1759 [==============================] - 479s 272ms/step - loss: 0.9263 - val_loss: 5.7776\n"
     ]
    },
    {
     "name": "stderr",
     "output_type": "stream",
     "text": [
      "Setting `pad_token_id` to 50256 (first `eos_token_id`) to generate sequence\n"
     ]
    },
    {
     "name": "stdout",
     "output_type": "stream",
     "text": [
      "interval evaluation - epoch: 63 - blue1: 0.910891, blue2: 0.630000, blue3: 0.292929, blue4: 0.061224,\n",
      "Epoch 65/150\n",
      "1759/1759 [==============================] - 479s 272ms/step - loss: 0.8949 - val_loss: 5.8325\n"
     ]
    },
    {
     "name": "stderr",
     "output_type": "stream",
     "text": [
      "Setting `pad_token_id` to 50256 (first `eos_token_id`) to generate sequence\n"
     ]
    },
    {
     "name": "stdout",
     "output_type": "stream",
     "text": [
      "interval evaluation - epoch: 64 - blue1: 0.869956, blue2: 0.565686, blue3: 0.224525, blue4: 0.061872,\n",
      "Epoch 66/150\n",
      "1759/1759 [==============================] - 479s 272ms/step - loss: 0.8673 - val_loss: 5.8313\n"
     ]
    },
    {
     "name": "stderr",
     "output_type": "stream",
     "text": [
      "Setting `pad_token_id` to 50256 (first `eos_token_id`) to generate sequence\n"
     ]
    },
    {
     "name": "stdout",
     "output_type": "stream",
     "text": [
      "interval evaluation - epoch: 65 - blue1: 0.932039, blue2: 0.656863, blue3: 0.227723, blue4: 0.050000,\n",
      "Epoch 67/150\n",
      "1759/1759 [==============================] - 480s 273ms/step - loss: 0.8392 - val_loss: 5.8722\n"
     ]
    },
    {
     "name": "stderr",
     "output_type": "stream",
     "text": [
      "Setting `pad_token_id` to 50256 (first `eos_token_id`) to generate sequence\n"
     ]
    },
    {
     "name": "stdout",
     "output_type": "stream",
     "text": [
      "interval evaluation - epoch: 66 - blue1: 0.799325, blue2: 0.454353, blue3: 0.132654, blue4: 0.030942,\n",
      "Epoch 68/150\n",
      "1759/1759 [==============================] - 479s 272ms/step - loss: 0.8127 - val_loss: 5.8956\n"
     ]
    },
    {
     "name": "stderr",
     "output_type": "stream",
     "text": [
      "Setting `pad_token_id` to 50256 (first `eos_token_id`) to generate sequence\n"
     ]
    },
    {
     "name": "stdout",
     "output_type": "stream",
     "text": [
      "interval evaluation - epoch: 67 - blue1: 0.942857, blue2: 0.711538, blue3: 0.271845, blue4: 0.039216,\n",
      "Epoch 69/150\n",
      "1759/1759 [==============================] - 479s 272ms/step - loss: 0.7876 - val_loss: 5.9021\n"
     ]
    },
    {
     "name": "stderr",
     "output_type": "stream",
     "text": [
      "Setting `pad_token_id` to 50256 (first `eos_token_id`) to generate sequence\n"
     ]
    },
    {
     "name": "stdout",
     "output_type": "stream",
     "text": [
      "interval evaluation - epoch: 68 - blue1: 0.960784, blue2: 0.673267, blue3: 0.280000, blue4: 0.050505,\n",
      "Epoch 70/150\n",
      "1759/1759 [==============================] - 479s 272ms/step - loss: 0.7575 - val_loss: 5.9478\n"
     ]
    },
    {
     "name": "stderr",
     "output_type": "stream",
     "text": [
      "Setting `pad_token_id` to 50256 (first `eos_token_id`) to generate sequence\n"
     ]
    },
    {
     "name": "stdout",
     "output_type": "stream",
     "text": [
      "interval evaluation - epoch: 69 - blue1: 0.890000, blue2: 0.636364, blue3: 0.193878, blue4: 0.010309,\n",
      "Epoch 71/150\n",
      "1759/1759 [==============================] - 479s 272ms/step - loss: 0.7349 - val_loss: 5.9458\n"
     ]
    },
    {
     "name": "stderr",
     "output_type": "stream",
     "text": [
      "Setting `pad_token_id` to 50256 (first `eos_token_id`) to generate sequence\n"
     ]
    },
    {
     "name": "stdout",
     "output_type": "stream",
     "text": [
      "interval evaluation - epoch: 70 - blue1: 0.915888, blue2: 0.688679, blue3: 0.304762, blue4: 0.067308,\n",
      "Epoch 72/150\n",
      "1759/1759 [==============================] - 478s 272ms/step - loss: 0.7123 - val_loss: 6.0056\n"
     ]
    },
    {
     "name": "stderr",
     "output_type": "stream",
     "text": [
      "Setting `pad_token_id` to 50256 (first `eos_token_id`) to generate sequence\n"
     ]
    },
    {
     "name": "stdout",
     "output_type": "stream",
     "text": [
      "interval evaluation - epoch: 71 - blue1: 0.960784, blue2: 0.722772, blue3: 0.310000, blue4: 0.080808,\n",
      "Epoch 73/150\n",
      "1759/1759 [==============================] - 478s 272ms/step - loss: 0.6899 - val_loss: 6.0221\n"
     ]
    },
    {
     "name": "stderr",
     "output_type": "stream",
     "text": [
      "Setting `pad_token_id` to 50256 (first `eos_token_id`) to generate sequence\n"
     ]
    },
    {
     "name": "stdout",
     "output_type": "stream",
     "text": [
      "interval evaluation - epoch: 72 - blue1: 0.899954, blue2: 0.616193, blue3: 0.214319, blue4: 0.030936,\n",
      "Epoch 74/150\n",
      "1759/1759 [==============================] - 479s 272ms/step - loss: 0.6668 - val_loss: 6.0399\n"
     ]
    },
    {
     "name": "stderr",
     "output_type": "stream",
     "text": [
      "Setting `pad_token_id` to 50256 (first `eos_token_id`) to generate sequence\n"
     ]
    },
    {
     "name": "stdout",
     "output_type": "stream",
     "text": [
      "interval evaluation - epoch: 73 - blue1: 0.961165, blue2: 0.686275, blue3: 0.316832, blue4: 0.130000,\n",
      "Epoch 75/150\n",
      "1759/1759 [==============================] - 479s 272ms/step - loss: 0.6460 - val_loss: 6.0805\n"
     ]
    },
    {
     "name": "stderr",
     "output_type": "stream",
     "text": [
      "Setting `pad_token_id` to 50256 (first `eos_token_id`) to generate sequence\n"
     ]
    },
    {
     "name": "stdout",
     "output_type": "stream",
     "text": [
      "interval evaluation - epoch: 74 - blue1: 0.931373, blue2: 0.574257, blue3: 0.190000, blue4: 0.030303,\n",
      "Epoch 76/150\n",
      "1759/1759 [==============================] - 479s 272ms/step - loss: 0.6233 - val_loss: 6.1033\n"
     ]
    },
    {
     "name": "stderr",
     "output_type": "stream",
     "text": [
      "Setting `pad_token_id` to 50256 (first `eos_token_id`) to generate sequence\n"
     ]
    },
    {
     "name": "stdout",
     "output_type": "stream",
     "text": [
      "interval evaluation - epoch: 75 - blue1: 0.930693, blue2: 0.630000, blue3: 0.212121, blue4: 0.030612,\n",
      "Epoch 77/150\n",
      "1759/1759 [==============================] - 479s 273ms/step - loss: 0.6029 - val_loss: 6.1220\n"
     ]
    },
    {
     "name": "stderr",
     "output_type": "stream",
     "text": [
      "Setting `pad_token_id` to 50256 (first `eos_token_id`) to generate sequence\n"
     ]
    },
    {
     "name": "stdout",
     "output_type": "stream",
     "text": [
      "interval evaluation - epoch: 76 - blue1: 0.896226, blue2: 0.523810, blue3: 0.144231, blue4: 0.019417,\n",
      "Epoch 78/150\n",
      "1759/1759 [==============================] - 479s 272ms/step - loss: 0.5837 - val_loss: 6.1406\n"
     ]
    },
    {
     "name": "stderr",
     "output_type": "stream",
     "text": [
      "Setting `pad_token_id` to 50256 (first `eos_token_id`) to generate sequence\n"
     ]
    },
    {
     "name": "stdout",
     "output_type": "stream",
     "text": [
      "interval evaluation - epoch: 77 - blue1: 0.894231, blue2: 0.611650, blue3: 0.176471, blue4: 0.019802,\n",
      "Epoch 79/150\n",
      "1759/1759 [==============================] - 479s 272ms/step - loss: 0.5665 - val_loss: 6.1549\n"
     ]
    },
    {
     "name": "stderr",
     "output_type": "stream",
     "text": [
      "Setting `pad_token_id` to 50256 (first `eos_token_id`) to generate sequence\n"
     ]
    },
    {
     "name": "stdout",
     "output_type": "stream",
     "text": [
      "interval evaluation - epoch: 78 - blue1: 0.944444, blue2: 0.626168, blue3: 0.245283, blue4: 0.047619,\n",
      "Epoch 80/150\n",
      "1759/1759 [==============================] - 479s 273ms/step - loss: 0.5482 - val_loss: 6.1828\n"
     ]
    },
    {
     "name": "stderr",
     "output_type": "stream",
     "text": [
      "Setting `pad_token_id` to 50256 (first `eos_token_id`) to generate sequence\n"
     ]
    },
    {
     "name": "stdout",
     "output_type": "stream",
     "text": [
      "interval evaluation - epoch: 79 - blue1: 0.866667, blue2: 0.528846, blue3: 0.194175, blue4: 0.049020,\n",
      "Epoch 81/150\n",
      "1759/1759 [==============================] - 480s 273ms/step - loss: 0.5287 - val_loss: 6.2068\n"
     ]
    },
    {
     "name": "stderr",
     "output_type": "stream",
     "text": [
      "Setting `pad_token_id` to 50256 (first `eos_token_id`) to generate sequence\n"
     ]
    },
    {
     "name": "stdout",
     "output_type": "stream",
     "text": [
      "interval evaluation - epoch: 80 - blue1: 0.860000, blue2: 0.595960, blue3: 0.214286, blue4: 0.030928,\n",
      "Epoch 82/150\n",
      "1759/1759 [==============================] - 479s 272ms/step - loss: 0.5115 - val_loss: 6.2342\n"
     ]
    },
    {
     "name": "stderr",
     "output_type": "stream",
     "text": [
      "Setting `pad_token_id` to 50256 (first `eos_token_id`) to generate sequence\n"
     ]
    },
    {
     "name": "stdout",
     "output_type": "stream",
     "text": [
      "interval evaluation - epoch: 81 - blue1: 0.909954, blue2: 0.636396, blue3: 0.204113, blue4: 0.041248,\n",
      "Epoch 83/150\n",
      "1759/1759 [==============================] - 479s 272ms/step - loss: 0.4967 - val_loss: 6.2514\n"
     ]
    },
    {
     "name": "stderr",
     "output_type": "stream",
     "text": [
      "Setting `pad_token_id` to 50256 (first `eos_token_id`) to generate sequence\n"
     ]
    },
    {
     "name": "stdout",
     "output_type": "stream",
     "text": [
      "interval evaluation - epoch: 82 - blue1: 0.914286, blue2: 0.692308, blue3: 0.310680, blue4: 0.058824,\n",
      "Epoch 84/150\n",
      "1759/1759 [==============================] - 479s 272ms/step - loss: 0.4807 - val_loss: 6.2719\n"
     ]
    },
    {
     "name": "stderr",
     "output_type": "stream",
     "text": [
      "Setting `pad_token_id` to 50256 (first `eos_token_id`) to generate sequence\n"
     ]
    },
    {
     "name": "stdout",
     "output_type": "stream",
     "text": [
      "interval evaluation - epoch: 83 - blue1: 0.849825, blue2: 0.555556, blue3: 0.244950, blue4: 0.061882,\n",
      "Epoch 85/150\n",
      "1759/1759 [==============================] - 479s 272ms/step - loss: 0.4654 - val_loss: 6.2990\n"
     ]
    },
    {
     "name": "stderr",
     "output_type": "stream",
     "text": [
      "Setting `pad_token_id` to 50256 (first `eos_token_id`) to generate sequence\n"
     ]
    },
    {
     "name": "stdout",
     "output_type": "stream",
     "text": [
      "interval evaluation - epoch: 84 - blue1: 0.940000, blue2: 0.717172, blue3: 0.275510, blue4: 0.041237,\n",
      "Epoch 86/150\n",
      "1759/1759 [==============================] - 479s 272ms/step - loss: 0.4506 - val_loss: 6.3059\n"
     ]
    },
    {
     "name": "stderr",
     "output_type": "stream",
     "text": [
      "Setting `pad_token_id` to 50256 (first `eos_token_id`) to generate sequence\n"
     ]
    },
    {
     "name": "stdout",
     "output_type": "stream",
     "text": [
      "interval evaluation - epoch: 85 - blue1: 0.888810, blue2: 0.555108, blue3: 0.193826, blue4: 0.061874,\n",
      "Epoch 87/150\n",
      "1759/1759 [==============================] - 479s 272ms/step - loss: 0.4370 - val_loss: 6.3348\n"
     ]
    },
    {
     "name": "stderr",
     "output_type": "stream",
     "text": [
      "Setting `pad_token_id` to 50256 (first `eos_token_id`) to generate sequence\n"
     ]
    },
    {
     "name": "stdout",
     "output_type": "stream",
     "text": [
      "interval evaluation - epoch: 86 - blue1: 0.922330, blue2: 0.627451, blue3: 0.188119, blue4: 0.010000,\n",
      "Epoch 88/150\n",
      "1759/1759 [==============================] - 480s 273ms/step - loss: 0.4228 - val_loss: 6.3537\n"
     ]
    },
    {
     "name": "stderr",
     "output_type": "stream",
     "text": [
      "Setting `pad_token_id` to 50256 (first `eos_token_id`) to generate sequence\n"
     ]
    },
    {
     "name": "stdout",
     "output_type": "stream",
     "text": [
      "interval evaluation - epoch: 87 - blue1: 0.868836, blue2: 0.625758, blue3: 0.224431, blue4: 0.041249,\n",
      "Epoch 89/150\n",
      "1759/1759 [==============================] - 479s 272ms/step - loss: 0.4104 - val_loss: 6.3679\n"
     ]
    },
    {
     "name": "stderr",
     "output_type": "stream",
     "text": [
      "Setting `pad_token_id` to 50256 (first `eos_token_id`) to generate sequence\n"
     ]
    },
    {
     "name": "stdout",
     "output_type": "stream",
     "text": [
      "interval evaluation - epoch: 88 - blue1: 0.902913, blue2: 0.617647, blue3: 0.267327, blue4: 0.060000,\n",
      "Epoch 90/150\n",
      "1759/1759 [==============================] - 479s 272ms/step - loss: 0.3963 - val_loss: 6.3965\n"
     ]
    },
    {
     "name": "stderr",
     "output_type": "stream",
     "text": [
      "Setting `pad_token_id` to 50256 (first `eos_token_id`) to generate sequence\n"
     ]
    },
    {
     "name": "stdout",
     "output_type": "stream",
     "text": [
      "interval evaluation - epoch: 89 - blue1: 0.940000, blue2: 0.686869, blue3: 0.397959, blue4: 0.134021,\n",
      "Epoch 91/150\n",
      "1759/1759 [==============================] - 479s 272ms/step - loss: 0.3851 - val_loss: 6.4143\n"
     ]
    },
    {
     "name": "stderr",
     "output_type": "stream",
     "text": [
      "Setting `pad_token_id` to 50256 (first `eos_token_id`) to generate sequence\n"
     ]
    },
    {
     "name": "stdout",
     "output_type": "stream",
     "text": [
      "interval evaluation - epoch: 90 - blue1: 0.869956, blue2: 0.535381, blue3: 0.183702, blue4: 0.010312,\n",
      "Epoch 92/150\n",
      "1759/1759 [==============================] - 479s 272ms/step - loss: 0.3715 - val_loss: 6.4261\n"
     ]
    },
    {
     "name": "stderr",
     "output_type": "stream",
     "text": [
      "Setting `pad_token_id` to 50256 (first `eos_token_id`) to generate sequence\n"
     ]
    },
    {
     "name": "stdout",
     "output_type": "stream",
     "text": [
      "interval evaluation - epoch: 91 - blue1: 0.914286, blue2: 0.615385, blue3: 0.184466, blue4: 0.039216,\n",
      "Epoch 93/150\n",
      "1759/1759 [==============================] - 479s 272ms/step - loss: 0.3620 - val_loss: 6.4326\n"
     ]
    },
    {
     "name": "stderr",
     "output_type": "stream",
     "text": [
      "Setting `pad_token_id` to 50256 (first `eos_token_id`) to generate sequence\n"
     ]
    },
    {
     "name": "stdout",
     "output_type": "stream",
     "text": [
      "interval evaluation - epoch: 92 - blue1: 0.868301, blue2: 0.645619, blue3: 0.234541, blue4: 0.082476,\n",
      "Epoch 94/150\n",
      "1759/1759 [==============================] - 480s 273ms/step - loss: 0.3505 - val_loss: 6.4607\n"
     ]
    },
    {
     "name": "stderr",
     "output_type": "stream",
     "text": [
      "Setting `pad_token_id` to 50256 (first `eos_token_id`) to generate sequence\n"
     ]
    },
    {
     "name": "stdout",
     "output_type": "stream",
     "text": [
      "interval evaluation - epoch: 93 - blue1: 0.849602, blue2: 0.434276, blue3: 0.142880, blue4: 0.030943,\n",
      "Epoch 95/150\n",
      "1759/1759 [==============================] - 479s 272ms/step - loss: 0.3398 - val_loss: 6.4662\n"
     ]
    },
    {
     "name": "stderr",
     "output_type": "stream",
     "text": [
      "Setting `pad_token_id` to 50256 (first `eos_token_id`) to generate sequence\n"
     ]
    },
    {
     "name": "stdout",
     "output_type": "stream",
     "text": [
      "interval evaluation - epoch: 94 - blue1: 0.915094, blue2: 0.657143, blue3: 0.384615, blue4: 0.223301,\n",
      "Epoch 96/150\n",
      "1759/1759 [==============================] - 479s 272ms/step - loss: 0.3299 - val_loss: 6.4897\n"
     ]
    },
    {
     "name": "stderr",
     "output_type": "stream",
     "text": [
      "Setting `pad_token_id` to 50256 (first `eos_token_id`) to generate sequence\n"
     ]
    },
    {
     "name": "stdout",
     "output_type": "stream",
     "text": [
      "interval evaluation - epoch: 95 - blue1: 0.897196, blue2: 0.566038, blue3: 0.180952, blue4: 0.019231,\n",
      "Epoch 97/150\n",
      "1759/1759 [==============================] - 479s 272ms/step - loss: 0.3197 - val_loss: 6.5068\n"
     ]
    },
    {
     "name": "stderr",
     "output_type": "stream",
     "text": [
      "Setting `pad_token_id` to 50256 (first `eos_token_id`) to generate sequence\n"
     ]
    },
    {
     "name": "stdout",
     "output_type": "stream",
     "text": [
      "interval evaluation - epoch: 96 - blue1: 0.788458, blue2: 0.514477, blue3: 0.234541, blue4: 0.051548,\n",
      "Epoch 98/150\n",
      "1759/1759 [==============================] - 479s 272ms/step - loss: 0.3124 - val_loss: 6.5323\n"
     ]
    },
    {
     "name": "stderr",
     "output_type": "stream",
     "text": [
      "Setting `pad_token_id` to 50256 (first `eos_token_id`) to generate sequence\n"
     ]
    },
    {
     "name": "stdout",
     "output_type": "stream",
     "text": [
      "interval evaluation - epoch: 97 - blue1: 0.849957, blue2: 0.595990, blue3: 0.234730, blue4: 0.092808,\n",
      "Epoch 99/150\n",
      "1759/1759 [==============================] - 480s 273ms/step - loss: 0.3023 - val_loss: 6.5289\n"
     ]
    },
    {
     "name": "stderr",
     "output_type": "stream",
     "text": [
      "Setting `pad_token_id` to 50256 (first `eos_token_id`) to generate sequence\n"
     ]
    },
    {
     "name": "stdout",
     "output_type": "stream",
     "text": [
      "interval evaluation - epoch: 98 - blue1: 0.792453, blue2: 0.476190, blue3: 0.144231, blue4: 0.048544,\n",
      "Epoch 100/150\n",
      "1759/1759 [==============================] - 479s 272ms/step - loss: 0.2950 - val_loss: 6.5679\n"
     ]
    },
    {
     "name": "stderr",
     "output_type": "stream",
     "text": [
      "Setting `pad_token_id` to 50256 (first `eos_token_id`) to generate sequence\n"
     ]
    },
    {
     "name": "stdout",
     "output_type": "stream",
     "text": [
      "interval evaluation - epoch: 99 - blue1: 0.881188, blue2: 0.580000, blue3: 0.242424, blue4: 0.051020,\n",
      "Epoch 101/150\n",
      "1759/1759 [==============================] - 479s 272ms/step - loss: 0.2856 - val_loss: 6.5716\n"
     ]
    },
    {
     "name": "stderr",
     "output_type": "stream",
     "text": [
      "Setting `pad_token_id` to 50256 (first `eos_token_id`) to generate sequence\n"
     ]
    },
    {
     "name": "stdout",
     "output_type": "stream",
     "text": [
      "interval evaluation - epoch: 100 - blue1: 0.867925, blue2: 0.609524, blue3: 0.269231, blue4: 0.087379,\n",
      "Epoch 102/150\n",
      "1759/1759 [==============================] - 479s 272ms/step - loss: 0.2776 - val_loss: 6.5562\n"
     ]
    },
    {
     "name": "stderr",
     "output_type": "stream",
     "text": [
      "Setting `pad_token_id` to 50256 (first `eos_token_id`) to generate sequence\n"
     ]
    },
    {
     "name": "stdout",
     "output_type": "stream",
     "text": [
      "interval evaluation - epoch: 101 - blue1: 0.923810, blue2: 0.634615, blue3: 0.203883, blue4: 0.058824,\n",
      "Epoch 103/150\n",
      "1759/1759 [==============================] - 479s 272ms/step - loss: 0.2703 - val_loss: 6.5906\n"
     ]
    },
    {
     "name": "stderr",
     "output_type": "stream",
     "text": [
      "Setting `pad_token_id` to 50256 (first `eos_token_id`) to generate sequence\n"
     ]
    },
    {
     "name": "stdout",
     "output_type": "stream",
     "text": [
      "interval evaluation - epoch: 102 - blue1: 0.797844, blue2: 0.473829, blue3: 0.122307, blue4: 0.010305,\n",
      "Epoch 104/150\n",
      "1759/1759 [==============================] - 480s 273ms/step - loss: 0.2632 - val_loss: 6.6085\n"
     ]
    },
    {
     "name": "stderr",
     "output_type": "stream",
     "text": [
      "Setting `pad_token_id` to 50256 (first `eos_token_id`) to generate sequence\n"
     ]
    },
    {
     "name": "stdout",
     "output_type": "stream",
     "text": [
      "interval evaluation - epoch: 103 - blue1: 0.859956, blue2: 0.525280, blue3: 0.183702, blue4: 0.030936,\n",
      "Epoch 105/150\n",
      "1759/1759 [==============================] - 478s 272ms/step - loss: 0.2558 - val_loss: 6.6061\n"
     ]
    },
    {
     "name": "stderr",
     "output_type": "stream",
     "text": [
      "Setting `pad_token_id` to 50256 (first `eos_token_id`) to generate sequence\n"
     ]
    },
    {
     "name": "stdout",
     "output_type": "stream",
     "text": [
      "interval evaluation - epoch: 104 - blue1: 0.910891, blue2: 0.650000, blue3: 0.343434, blue4: 0.112245,\n",
      "Epoch 106/150\n",
      "1759/1759 [==============================] - 479s 272ms/step - loss: 0.2475 - val_loss: 6.6218\n"
     ]
    },
    {
     "name": "stderr",
     "output_type": "stream",
     "text": [
      "Setting `pad_token_id` to 50256 (first `eos_token_id`) to generate sequence\n"
     ]
    },
    {
     "name": "stdout",
     "output_type": "stream",
     "text": [
      "interval evaluation - epoch: 105 - blue1: 0.913462, blue2: 0.543689, blue3: 0.166667, blue4: 0.079208,\n",
      "Epoch 107/150\n",
      "1759/1759 [==============================] - 478s 272ms/step - loss: 0.2435 - val_loss: 6.6537\n"
     ]
    },
    {
     "name": "stderr",
     "output_type": "stream",
     "text": [
      "Setting `pad_token_id` to 50256 (first `eos_token_id`) to generate sequence\n"
     ]
    },
    {
     "name": "stdout",
     "output_type": "stream",
     "text": [
      "interval evaluation - epoch: 106 - blue1: 0.901961, blue2: 0.613861, blue3: 0.210000, blue4: 0.030303,\n",
      "Epoch 108/150\n",
      "1759/1759 [==============================] - 478s 272ms/step - loss: 0.2375 - val_loss: 6.6594\n"
     ]
    },
    {
     "name": "stderr",
     "output_type": "stream",
     "text": [
      "Setting `pad_token_id` to 50256 (first `eos_token_id`) to generate sequence\n"
     ]
    },
    {
     "name": "stdout",
     "output_type": "stream",
     "text": [
      "interval evaluation - epoch: 107 - blue1: 0.922330, blue2: 0.676471, blue3: 0.158416, blue4: 0.010000,\n",
      "Epoch 109/150\n",
      "1759/1759 [==============================] - 479s 272ms/step - loss: 0.2320 - val_loss: 6.6676\n"
     ]
    },
    {
     "name": "stderr",
     "output_type": "stream",
     "text": [
      "Setting `pad_token_id` to 50256 (first `eos_token_id`) to generate sequence\n"
     ]
    },
    {
     "name": "stdout",
     "output_type": "stream",
     "text": [
      "interval evaluation - epoch: 108 - blue1: 0.902913, blue2: 0.647059, blue3: 0.297030, blue4: 0.100000,\n",
      "Epoch 110/150\n",
      "1759/1759 [==============================] - 480s 273ms/step - loss: 0.2242 - val_loss: 6.6863\n"
     ]
    },
    {
     "name": "stderr",
     "output_type": "stream",
     "text": [
      "Setting `pad_token_id` to 50256 (first `eos_token_id`) to generate sequence\n"
     ]
    },
    {
     "name": "stdout",
     "output_type": "stream",
     "text": [
      "interval evaluation - epoch: 109 - blue1: 0.899954, blue2: 0.606092, blue3: 0.255142, blue4: 0.082496,\n",
      "Epoch 111/150\n",
      "1759/1759 [==============================] - 485s 276ms/step - loss: 0.2196 - val_loss: 6.6962\n"
     ]
    },
    {
     "name": "stderr",
     "output_type": "stream",
     "text": [
      "Setting `pad_token_id` to 50256 (first `eos_token_id`) to generate sequence\n"
     ]
    },
    {
     "name": "stdout",
     "output_type": "stream",
     "text": [
      "interval evaluation - epoch: 110 - blue1: 0.941748, blue2: 0.617647, blue3: 0.247525, blue4: 0.080000,\n",
      "Epoch 112/150\n",
      "1759/1759 [==============================] - 484s 275ms/step - loss: 0.2149 - val_loss: 6.7187\n"
     ]
    },
    {
     "name": "stderr",
     "output_type": "stream",
     "text": [
      "Setting `pad_token_id` to 50256 (first `eos_token_id`) to generate sequence\n"
     ]
    },
    {
     "name": "stdout",
     "output_type": "stream",
     "text": [
      "interval evaluation - epoch: 111 - blue1: 0.912621, blue2: 0.558824, blue3: 0.188119, blue4: 0.070000,\n",
      "Epoch 113/150\n",
      "1759/1759 [==============================] - 492s 280ms/step - loss: 0.2085 - val_loss: 6.7288\n"
     ]
    },
    {
     "name": "stderr",
     "output_type": "stream",
     "text": [
      "Setting `pad_token_id` to 50256 (first `eos_token_id`) to generate sequence\n"
     ]
    },
    {
     "name": "stdout",
     "output_type": "stream",
     "text": [
      "interval evaluation - epoch: 112 - blue1: 0.931373, blue2: 0.633663, blue3: 0.170000, blue4: 0.050505,\n",
      "Epoch 114/150\n",
      "1759/1759 [==============================] - 494s 281ms/step - loss: 0.2048 - val_loss: 6.7290\n"
     ]
    },
    {
     "name": "stderr",
     "output_type": "stream",
     "text": [
      "Setting `pad_token_id` to 50256 (first `eos_token_id`) to generate sequence\n"
     ]
    },
    {
     "name": "stdout",
     "output_type": "stream",
     "text": [
      "interval evaluation - epoch: 113 - blue1: 0.909954, blue2: 0.646498, blue3: 0.336787, blue4: 0.082496,\n",
      "Epoch 115/150\n",
      "1759/1759 [==============================] - 495s 281ms/step - loss: 0.2005 - val_loss: 6.7558\n"
     ]
    },
    {
     "name": "stderr",
     "output_type": "stream",
     "text": [
      "Setting `pad_token_id` to 50256 (first `eos_token_id`) to generate sequence\n"
     ]
    },
    {
     "name": "stdout",
     "output_type": "stream",
     "text": [
      "interval evaluation - epoch: 114 - blue1: 0.932692, blue2: 0.640777, blue3: 0.284314, blue4: 0.079208,\n",
      "Epoch 116/150\n",
      "1759/1759 [==============================] - 502s 285ms/step - loss: 0.1957 - val_loss: 6.7472\n"
     ]
    },
    {
     "name": "stderr",
     "output_type": "stream",
     "text": [
      "Setting `pad_token_id` to 50256 (first `eos_token_id`) to generate sequence\n"
     ]
    },
    {
     "name": "stdout",
     "output_type": "stream",
     "text": [
      "interval evaluation - epoch: 115 - blue1: 0.879257, blue2: 0.555320, blue3: 0.153062, blue4: 0.030942,\n",
      "Epoch 117/150\n",
      "1759/1759 [==============================] - 503s 286ms/step - loss: 0.1909 - val_loss: 6.7643\n"
     ]
    },
    {
     "name": "stderr",
     "output_type": "stream",
     "text": [
      "Setting `pad_token_id` to 50256 (first `eos_token_id`) to generate sequence\n"
     ]
    },
    {
     "name": "stdout",
     "output_type": "stream",
     "text": [
      "interval evaluation - epoch: 116 - blue1: 0.949805, blue2: 0.717172, blue3: 0.275568, blue4: 0.041255,\n",
      "Epoch 118/150\n",
      "1759/1759 [==============================] - 498s 283ms/step - loss: 0.1876 - val_loss: 6.7725\n"
     ]
    },
    {
     "name": "stderr",
     "output_type": "stream",
     "text": [
      "Setting `pad_token_id` to 50256 (first `eos_token_id`) to generate sequence\n"
     ]
    },
    {
     "name": "stdout",
     "output_type": "stream",
     "text": [
      "interval evaluation - epoch: 117 - blue1: 0.930000, blue2: 0.666667, blue3: 0.265306, blue4: 0.041237,\n",
      "Epoch 119/150\n",
      "1759/1759 [==============================] - 500s 284ms/step - loss: 0.1833 - val_loss: 6.7693\n"
     ]
    },
    {
     "name": "stderr",
     "output_type": "stream",
     "text": [
      "Setting `pad_token_id` to 50256 (first `eos_token_id`) to generate sequence\n"
     ]
    },
    {
     "name": "stdout",
     "output_type": "stream",
     "text": [
      "interval evaluation - epoch: 118 - blue1: 0.850000, blue2: 0.494949, blue3: 0.193878, blue4: 0.061856,\n",
      "Epoch 120/150\n",
      "1759/1759 [==============================] - 498s 283ms/step - loss: 0.1800 - val_loss: 6.8020\n"
     ]
    },
    {
     "name": "stderr",
     "output_type": "stream",
     "text": [
      "Setting `pad_token_id` to 50256 (first `eos_token_id`) to generate sequence\n"
     ]
    },
    {
     "name": "stdout",
     "output_type": "stream",
     "text": [
      "interval evaluation - epoch: 119 - blue1: 0.894231, blue2: 0.601942, blue3: 0.205882, blue4: 0.029703,\n",
      "Epoch 121/150\n",
      "1759/1759 [==============================] - 496s 282ms/step - loss: 0.1771 - val_loss: 6.8077\n"
     ]
    },
    {
     "name": "stderr",
     "output_type": "stream",
     "text": [
      "Setting `pad_token_id` to 50256 (first `eos_token_id`) to generate sequence\n"
     ]
    },
    {
     "name": "stdout",
     "output_type": "stream",
     "text": [
      "interval evaluation - epoch: 120 - blue1: 0.834951, blue2: 0.470588, blue3: 0.168317, blue4: 0.030000,\n",
      "Epoch 122/150\n",
      "1759/1759 [==============================] - 498s 283ms/step - loss: 0.1730 - val_loss: 6.7910\n"
     ]
    },
    {
     "name": "stderr",
     "output_type": "stream",
     "text": [
      "Setting `pad_token_id` to 50256 (first `eos_token_id`) to generate sequence\n"
     ]
    },
    {
     "name": "stdout",
     "output_type": "stream",
     "text": [
      "interval evaluation - epoch: 121 - blue1: 0.942857, blue2: 0.653846, blue3: 0.339806, blue4: 0.088235,\n",
      "Epoch 123/150\n",
      "1759/1759 [==============================] - 499s 284ms/step - loss: 0.1694 - val_loss: 6.8357\n"
     ]
    },
    {
     "name": "stderr",
     "output_type": "stream",
     "text": [
      "Setting `pad_token_id` to 50256 (first `eos_token_id`) to generate sequence\n"
     ]
    },
    {
     "name": "stdout",
     "output_type": "stream",
     "text": [
      "interval evaluation - epoch: 122 - blue1: 0.867925, blue2: 0.552381, blue3: 0.211538, blue4: 0.077670,\n",
      "Epoch 124/150\n",
      "1759/1759 [==============================] - 509s 289ms/step - loss: 0.1663 - val_loss: 6.8287\n"
     ]
    },
    {
     "name": "stderr",
     "output_type": "stream",
     "text": [
      "Setting `pad_token_id` to 50256 (first `eos_token_id`) to generate sequence\n"
     ]
    },
    {
     "name": "stdout",
     "output_type": "stream",
     "text": [
      "interval evaluation - epoch: 123 - blue1: 0.855769, blue2: 0.524272, blue3: 0.156863, blue4: 0.049505,\n",
      "Epoch 125/150\n",
      "1759/1759 [==============================] - 528s 300ms/step - loss: 0.1626 - val_loss: 6.8453\n"
     ]
    },
    {
     "name": "stderr",
     "output_type": "stream",
     "text": [
      "Setting `pad_token_id` to 50256 (first `eos_token_id`) to generate sequence\n"
     ]
    },
    {
     "name": "stdout",
     "output_type": "stream",
     "text": [
      "interval evaluation - epoch: 124 - blue1: 0.952381, blue2: 0.615385, blue3: 0.213592, blue4: 0.058824,\n",
      "Epoch 126/150\n",
      "1759/1759 [==============================] - 509s 290ms/step - loss: 0.1599 - val_loss: 6.8562\n"
     ]
    },
    {
     "name": "stderr",
     "output_type": "stream",
     "text": [
      "Setting `pad_token_id` to 50256 (first `eos_token_id`) to generate sequence\n"
     ]
    },
    {
     "name": "stdout",
     "output_type": "stream",
     "text": [
      "interval evaluation - epoch: 125 - blue1: 0.933962, blue2: 0.619048, blue3: 0.259615, blue4: 0.038835,\n",
      "Epoch 127/150\n",
      "1759/1759 [==============================] - 503s 286ms/step - loss: 0.1574 - val_loss: 6.8745\n"
     ]
    },
    {
     "name": "stderr",
     "output_type": "stream",
     "text": [
      "Setting `pad_token_id` to 50256 (first `eos_token_id`) to generate sequence\n"
     ]
    },
    {
     "name": "stdout",
     "output_type": "stream",
     "text": [
      "interval evaluation - epoch: 126 - blue1: 0.942308, blue2: 0.640777, blue3: 0.225490, blue4: 0.069307,\n",
      "Epoch 128/150\n",
      "1759/1759 [==============================] - 501s 285ms/step - loss: 0.1551 - val_loss: 6.8634\n"
     ]
    },
    {
     "name": "stderr",
     "output_type": "stream",
     "text": [
      "Setting `pad_token_id` to 50256 (first `eos_token_id`) to generate sequence\n"
     ]
    },
    {
     "name": "stdout",
     "output_type": "stream",
     "text": [
      "interval evaluation - epoch: 127 - blue1: 0.896226, blue2: 0.600000, blue3: 0.230769, blue4: 0.067961,\n",
      "Epoch 129/150\n",
      "1759/1759 [==============================] - 493s 280ms/step - loss: 0.1530 - val_loss: 6.8915\n"
     ]
    },
    {
     "name": "stderr",
     "output_type": "stream",
     "text": [
      "Setting `pad_token_id` to 50256 (first `eos_token_id`) to generate sequence\n"
     ]
    },
    {
     "name": "stdout",
     "output_type": "stream",
     "text": [
      "interval evaluation - epoch: 128 - blue1: 0.951923, blue2: 0.718447, blue3: 0.352941, blue4: 0.178218,\n",
      "Epoch 130/150\n",
      "1759/1759 [==============================] - 523s 297ms/step - loss: 0.1494 - val_loss: 6.8888\n"
     ]
    },
    {
     "name": "stderr",
     "output_type": "stream",
     "text": [
      "Setting `pad_token_id` to 50256 (first `eos_token_id`) to generate sequence\n"
     ]
    },
    {
     "name": "stdout",
     "output_type": "stream",
     "text": [
      "interval evaluation - epoch: 129 - blue1: 0.902913, blue2: 0.558824, blue3: 0.148515, blue4: 0.010000,\n",
      "Epoch 131/150\n",
      "1759/1759 [==============================] - 510s 290ms/step - loss: 0.1481 - val_loss: 6.9008\n"
     ]
    },
    {
     "name": "stderr",
     "output_type": "stream",
     "text": [
      "Setting `pad_token_id` to 50256 (first `eos_token_id`) to generate sequence\n"
     ]
    },
    {
     "name": "stdout",
     "output_type": "stream",
     "text": [
      "interval evaluation - epoch: 130 - blue1: 0.849825, blue2: 0.505051, blue3: 0.163300, blue4: 0.030941,\n",
      "Epoch 132/150\n",
      "1759/1759 [==============================] - 513s 292ms/step - loss: 0.1464 - val_loss: 6.9096\n"
     ]
    },
    {
     "name": "stderr",
     "output_type": "stream",
     "text": [
      "Setting `pad_token_id` to 50256 (first `eos_token_id`) to generate sequence\n"
     ]
    },
    {
     "name": "stdout",
     "output_type": "stream",
     "text": [
      "interval evaluation - epoch: 131 - blue1: 0.894231, blue2: 0.611650, blue3: 0.205882, blue4: 0.029703,\n",
      "Epoch 133/150\n",
      "1759/1759 [==============================] - 495s 281ms/step - loss: 0.1440 - val_loss: 6.9161\n"
     ]
    },
    {
     "name": "stderr",
     "output_type": "stream",
     "text": [
      "Setting `pad_token_id` to 50256 (first `eos_token_id`) to generate sequence\n"
     ]
    },
    {
     "name": "stdout",
     "output_type": "stream",
     "text": [
      "interval evaluation - epoch: 132 - blue1: 0.932039, blue2: 0.647059, blue3: 0.247525, blue4: 0.100000,\n",
      "Epoch 134/150\n",
      "1759/1759 [==============================] - 493s 280ms/step - loss: 0.1415 - val_loss: 6.9035\n"
     ]
    },
    {
     "name": "stderr",
     "output_type": "stream",
     "text": [
      "Setting `pad_token_id` to 50256 (first `eos_token_id`) to generate sequence\n"
     ]
    },
    {
     "name": "stdout",
     "output_type": "stream",
     "text": [
      "interval evaluation - epoch: 133 - blue1: 0.828890, blue2: 0.524829, blue3: 0.122417, blue4: 0.020625,\n",
      "Epoch 135/150\n",
      "1759/1759 [==============================] - 498s 283ms/step - loss: 0.1400 - val_loss: 6.9200\n"
     ]
    },
    {
     "name": "stderr",
     "output_type": "stream",
     "text": [
      "Setting `pad_token_id` to 50256 (first `eos_token_id`) to generate sequence\n"
     ]
    },
    {
     "name": "stdout",
     "output_type": "stream",
     "text": [
      "interval evaluation - epoch: 134 - blue1: 0.833333, blue2: 0.564356, blue3: 0.200000, blue4: 0.030303,\n",
      "Epoch 136/150\n",
      "1759/1759 [==============================] - 493s 280ms/step - loss: 0.1377 - val_loss: 6.9197\n"
     ]
    },
    {
     "name": "stderr",
     "output_type": "stream",
     "text": [
      "Setting `pad_token_id` to 50256 (first `eos_token_id`) to generate sequence\n"
     ]
    },
    {
     "name": "stdout",
     "output_type": "stream",
     "text": [
      "interval evaluation - epoch: 135 - blue1: 0.798438, blue2: 0.474126, blue3: 0.163159, blue4: 0.061857,\n",
      "Epoch 137/150\n",
      "1759/1759 [==============================] - 492s 280ms/step - loss: 0.1371 - val_loss: 6.9302\n"
     ]
    },
    {
     "name": "stderr",
     "output_type": "stream",
     "text": [
      "Setting `pad_token_id` to 50256 (first `eos_token_id`) to generate sequence\n"
     ]
    },
    {
     "name": "stdout",
     "output_type": "stream",
     "text": [
      "interval evaluation - epoch: 136 - blue1: 0.904762, blue2: 0.625000, blue3: 0.271845, blue4: 0.068627,\n",
      "Epoch 138/150\n",
      "1759/1759 [==============================] - 492s 280ms/step - loss: 0.1346 - val_loss: 6.9335\n"
     ]
    },
    {
     "name": "stderr",
     "output_type": "stream",
     "text": [
      "Setting `pad_token_id` to 50256 (first `eos_token_id`) to generate sequence\n"
     ]
    },
    {
     "name": "stdout",
     "output_type": "stream",
     "text": [
      "interval evaluation - epoch: 137 - blue1: 0.909813, blue2: 0.646465, blue3: 0.224537, blue4: 0.041255,\n",
      "Epoch 139/150\n",
      "1759/1759 [==============================] - 491s 279ms/step - loss: 0.1338 - val_loss: 6.9411\n"
     ]
    },
    {
     "name": "stderr",
     "output_type": "stream",
     "text": [
      "Setting `pad_token_id` to 50256 (first `eos_token_id`) to generate sequence\n"
     ]
    },
    {
     "name": "stdout",
     "output_type": "stream",
     "text": [
      "interval evaluation - epoch: 138 - blue1: 0.879955, blue2: 0.575787, blue3: 0.204113, blue4: 0.010312,\n",
      "Epoch 140/150\n",
      "1759/1759 [==============================] - 492s 279ms/step - loss: 0.1323 - val_loss: 6.9327\n"
     ]
    },
    {
     "name": "stderr",
     "output_type": "stream",
     "text": [
      "Setting `pad_token_id` to 50256 (first `eos_token_id`) to generate sequence\n"
     ]
    },
    {
     "name": "stdout",
     "output_type": "stream",
     "text": [
      "interval evaluation - epoch: 139 - blue1: 0.900000, blue2: 0.636364, blue3: 0.306122, blue4: 0.103093,\n",
      "Epoch 141/150\n",
      "1759/1759 [==============================] - 491s 279ms/step - loss: 0.1307 - val_loss: 6.9374\n"
     ]
    },
    {
     "name": "stderr",
     "output_type": "stream",
     "text": [
      "Setting `pad_token_id` to 50256 (first `eos_token_id`) to generate sequence\n"
     ]
    },
    {
     "name": "stdout",
     "output_type": "stream",
     "text": [
      "interval evaluation - epoch: 140 - blue1: 0.801887, blue2: 0.504762, blue3: 0.192308, blue4: 0.019417,\n",
      "Epoch 142/150\n",
      "1759/1759 [==============================] - 491s 279ms/step - loss: 0.1302 - val_loss: 6.9361\n"
     ]
    },
    {
     "name": "stderr",
     "output_type": "stream",
     "text": [
      "Setting `pad_token_id` to 50256 (first `eos_token_id`) to generate sequence\n"
     ]
    },
    {
     "name": "stdout",
     "output_type": "stream",
     "text": [
      "interval evaluation - epoch: 141 - blue1: 0.901961, blue2: 0.663366, blue3: 0.340000, blue4: 0.111111,\n",
      "Epoch 143/150\n",
      "1759/1759 [==============================] - 491s 279ms/step - loss: 0.1283 - val_loss: 6.9411\n"
     ]
    },
    {
     "name": "stderr",
     "output_type": "stream",
     "text": [
      "Setting `pad_token_id` to 50256 (first `eos_token_id`) to generate sequence\n"
     ]
    },
    {
     "name": "stdout",
     "output_type": "stream",
     "text": [
      "interval evaluation - epoch: 142 - blue1: 0.913462, blue2: 0.631068, blue3: 0.176471, blue4: 0.029703,\n",
      "Epoch 144/150\n",
      "1759/1759 [==============================] - 491s 279ms/step - loss: 0.1277 - val_loss: 6.9504\n"
     ]
    },
    {
     "name": "stderr",
     "output_type": "stream",
     "text": [
      "Setting `pad_token_id` to 50256 (first `eos_token_id`) to generate sequence\n"
     ]
    },
    {
     "name": "stdout",
     "output_type": "stream",
     "text": [
      "interval evaluation - epoch: 143 - blue1: 0.862745, blue2: 0.594059, blue3: 0.260000, blue4: 0.080808,\n",
      "Epoch 145/150\n",
      "1759/1759 [==============================] - 491s 279ms/step - loss: 0.1259 - val_loss: 6.9518\n"
     ]
    },
    {
     "name": "stderr",
     "output_type": "stream",
     "text": [
      "Setting `pad_token_id` to 50256 (first `eos_token_id`) to generate sequence\n"
     ]
    },
    {
     "name": "stdout",
     "output_type": "stream",
     "text": [
      "interval evaluation - epoch: 144 - blue1: 0.881188, blue2: 0.510000, blue3: 0.161616, blue4: 0.020408,\n",
      "Epoch 146/150\n",
      "1759/1759 [==============================] - 491s 279ms/step - loss: 0.1264 - val_loss: 6.9482\n"
     ]
    },
    {
     "name": "stderr",
     "output_type": "stream",
     "text": [
      "Setting `pad_token_id` to 50256 (first `eos_token_id`) to generate sequence\n"
     ]
    },
    {
     "name": "stdout",
     "output_type": "stream",
     "text": [
      "interval evaluation - epoch: 145 - blue1: 0.904762, blue2: 0.605769, blue3: 0.213592, blue4: 0.068627,\n",
      "Epoch 147/150\n",
      "1759/1759 [==============================] - 491s 279ms/step - loss: 0.1262 - val_loss: 6.9548\n"
     ]
    },
    {
     "name": "stderr",
     "output_type": "stream",
     "text": [
      "Setting `pad_token_id` to 50256 (first `eos_token_id`) to generate sequence\n"
     ]
    },
    {
     "name": "stdout",
     "output_type": "stream",
     "text": [
      "interval evaluation - epoch: 146 - blue1: 0.923077, blue2: 0.621359, blue3: 0.254902, blue4: 0.089109,\n",
      "Epoch 148/150\n",
      "1759/1759 [==============================] - 490s 279ms/step - loss: 0.1239 - val_loss: 6.9563\n"
     ]
    },
    {
     "name": "stderr",
     "output_type": "stream",
     "text": [
      "Setting `pad_token_id` to 50256 (first `eos_token_id`) to generate sequence\n"
     ]
    },
    {
     "name": "stdout",
     "output_type": "stream",
     "text": [
      "interval evaluation - epoch: 147 - blue1: 0.899083, blue2: 0.638889, blue3: 0.196262, blue4: 0.018868,\n",
      "Epoch 149/150\n",
      "1759/1759 [==============================] - 491s 279ms/step - loss: 0.1235 - val_loss: 6.9569\n"
     ]
    },
    {
     "name": "stderr",
     "output_type": "stream",
     "text": [
      "Setting `pad_token_id` to 50256 (first `eos_token_id`) to generate sequence\n"
     ]
    },
    {
     "name": "stdout",
     "output_type": "stream",
     "text": [
      "interval evaluation - epoch: 148 - blue1: 0.941176, blue2: 0.613861, blue3: 0.190000, blue4: 0.040404,\n",
      "Epoch 150/150\n",
      "1759/1759 [==============================] - 490s 279ms/step - loss: 0.1233 - val_loss: 6.9546\n"
     ]
    },
    {
     "name": "stderr",
     "output_type": "stream",
     "text": [
      "Setting `pad_token_id` to 50256 (first `eos_token_id`) to generate sequence\n"
     ]
    },
    {
     "name": "stdout",
     "output_type": "stream",
     "text": [
      "interval evaluation - epoch: 149 - blue1: 0.943925, blue2: 0.584906, blue3: 0.200000, blue4: 0.009615,\n"
     ]
    }
   ],
   "source": [
    "\n",
    "\n",
    "history = model.fit(train_set, validation_data=validation_set, epochs=num_epochs, callbacks = callbacks)\n"
   ]
  },
  {
   "cell_type": "code",
   "execution_count": 15,
   "metadata": {},
   "outputs": [],
   "source": [
    "import dill as pickle\n",
    "objectRep = open(\"generators/gpt2history.obj\", \"rb\")\n",
    "history = pickle.load(objectRep)\n",
    "objectRep.close()"
   ]
  },
  {
   "cell_type": "code",
   "execution_count": 36,
   "metadata": {},
   "outputs": [
    {
     "data": {
      "image/png": "[encoded data removed]",
      "text/plain": [
       "<Figure size 720x216 with 1 Axes>"
      ]
     },
     "metadata": {
      "needs_background": "light"
     },
     "output_type": "display_data"
    }
   ],
   "source": [
    "from matplotlib import pyplot as plt\n",
    "import numpy as np\n",
    "plt.rcParams['figure.figsize'] = [10, 3]\n",
    "fig, axs = plt.subplots(1, sharex=True)\n",
    "l = len(history[\"loss\"])\n",
    "fig.suptitle(\"GPT-2-simple LM fine-tuning evaluation\")\n",
    "plot_1 = axs.plot(np.arange(100), history[\"loss\"][:100], label = \"Cross entropy loss\", color = \"black\")\n",
    "plot_2 = axs.plot(np.arange(100), history[\"val_loss\"][:100], label = \"Cross entropy validation loss\", color = \"brown\")\n",
    "axs.axvline(x=history[\"val_loss\"].index(min(history[\"val_loss\"])), ymax=0.6, color='g', linestyle=':', linewidth=3, label = \"minimum validation loss\")\n",
    "axs.legend()\n",
    "#labels = [l.get_label() for l in lns]\n",
    "#plt.legend(lns, labels, loc=0)\n",
    "\n",
    "plt.show()"
   ]
  },
  {
   "cell_type": "code",
   "execution_count": 20,
   "metadata": {},
   "outputs": [
    {
     "data": {
      "text/plain": [
       "11"
      ]
     },
     "execution_count": 20,
     "metadata": {},
     "output_type": "execute_result"
    }
   ],
   "source": [
    "history[\"val_loss\"].index(min(history[\"val_loss\"]))"
   ]
  },
  {
   "cell_type": "code",
   "execution_count": 21,
   "metadata": {},
   "outputs": [
    {
     "data": {
      "text/plain": [
       "4.212845802307129"
      ]
     },
     "execution_count": 21,
     "metadata": {},
     "output_type": "execute_result"
    }
   ],
   "source": [
    "min(history[\"val_loss\"])"
   ]
  },
  {
   "cell_type": "markdown",
   "metadata": {},
   "source": [
    "# tune sampling parameters"
   ]
  },
  {
   "cell_type": "code",
   "execution_count": 14,
   "metadata": {},
   "outputs": [],
   "source": [
    "import random\n",
    "import os \n",
    "def randcontext(text,lensen):\n",
    "    gentrainwords = text.split(\" \")\n",
    "    ran = len(gentrainwords)-lensen\n",
    "    x = random.randint(0,ran)\n",
    "    text = \" \".join(gentrainwords[x:(x+lensen)])\n",
    "    return text\n",
    "\n",
    "def generateText(model,tokenizer,context, t = 0.7, p = 0.9, k = 0):\n",
    "    prompt = context\n",
    "    inputs = tokenizer(prompt, add_special_tokens=False, return_tensors=\"tf\")[\"input_ids\"]\n",
    "    outputs = model.generate(\n",
    "        max_length=130, \n",
    "        do_sample=True,\n",
    "        temperature=t,\n",
    "        top_p = p,\n",
    "        top_k = k\n",
    "    )\n",
    "    generated = prompt + tokenizer.decode(outputs[0][1:])\n",
    "    return generated\n",
    "\n",
    "def save_to_file(string, path):\n",
    "    with open(path, 'w') as output_file:\n",
    "        output_file.write(string)"
   ]
  },
  {
   "cell_type": "code",
   "execution_count": 24,
   "metadata": {
    "scrolled": true
   },
   "outputs": [
    {
     "name": "stderr",
     "output_type": "stream",
     "text": [
      "\n",
      "  1%|          | 7/800 [02:09<4:04:00, 18.46s/it]\n",
      "All model checkpoint layers were used when initializing TFGPT2LMHeadModel.\n",
      "\n",
      "All the layers of TFGPT2LMHeadModel were initialized from the model checkpoint at generators/gpt2-small/GPT_2 11.\n",
      "If your task is similar to the task the model of the checkpoint was trained on, you can already use TFGPT2LMHeadModel for predictions without further training.\n",
      "Setting `pad_token_id` to 50256 (first `eos_token_id`) to generate sequence\n",
      "\n",
      "  0%|          | 1/800 [00:14<3:18:45, 14.93s/it]\u001b[ASetting `pad_token_id` to 50256 (first `eos_token_id`) to generate sequence\n",
      "\n",
      "  0%|          | 2/800 [00:29<3:15:29, 14.70s/it]\u001b[ASetting `pad_token_id` to 50256 (first `eos_token_id`) to generate sequence\n",
      "\n",
      "  0%|          | 3/800 [00:44<3:18:03, 14.91s/it]\u001b[ASetting `pad_token_id` to 50256 (first `eos_token_id`) to generate sequence\n",
      "\n",
      "  0%|          | 4/800 [01:00<3:24:46, 15.44s/it]\u001b[ASetting `pad_token_id` to 50256 (first `eos_token_id`) to generate sequence\n",
      "\n",
      "  1%|          | 5/800 [01:19<3:40:17, 16.63s/it]\u001b[ASetting `pad_token_id` to 50256 (first `eos_token_id`) to generate sequence\n",
      "\n",
      "  1%|          | 6/800 [01:34<3:33:55, 16.17s/it]\u001b[ASetting `pad_token_id` to 50256 (first `eos_token_id`) to generate sequence\n",
      "\n",
      "  1%|          | 7/800 [01:49<3:27:51, 15.73s/it]\u001b[ASetting `pad_token_id` to 50256 (first `eos_token_id`) to generate sequence\n",
      "\n",
      "  1%|          | 8/800 [02:04<3:23:41, 15.43s/it]\u001b[ASetting `pad_token_id` to 50256 (first `eos_token_id`) to generate sequence\n",
      "\n",
      "  1%|          | 9/800 [02:19<3:21:51, 15.31s/it]\u001b[ASetting `pad_token_id` to 50256 (first `eos_token_id`) to generate sequence\n",
      "\n",
      "  1%|▏         | 10/800 [02:34<3:19:45, 15.17s/it]\u001b[ASetting `pad_token_id` to 50256 (first `eos_token_id`) to generate sequence\n",
      "\n",
      "  1%|▏         | 11/800 [02:49<3:18:32, 15.10s/it]\u001b[ASetting `pad_token_id` to 50256 (first `eos_token_id`) to generate sequence\n",
      "\n",
      "  2%|▏         | 12/800 [03:04<3:17:33, 15.04s/it]\u001b[ASetting `pad_token_id` to 50256 (first `eos_token_id`) to generate sequence\n",
      "\n",
      "  2%|▏         | 13/800 [03:19<3:16:45, 15.00s/it]\u001b[ASetting `pad_token_id` to 50256 (first `eos_token_id`) to generate sequence\n",
      "\n",
      "  2%|▏         | 14/800 [03:33<3:15:47, 14.95s/it]\u001b[ASetting `pad_token_id` to 50256 (first `eos_token_id`) to generate sequence\n",
      "\n",
      "  2%|▏         | 15/800 [03:48<3:14:34, 14.87s/it]\u001b[ASetting `pad_token_id` to 50256 (first `eos_token_id`) to generate sequence\n",
      "\n",
      "  2%|▏         | 16/800 [04:03<3:15:25, 14.96s/it]\u001b[ASetting `pad_token_id` to 50256 (first `eos_token_id`) to generate sequence\n",
      "\n",
      "  2%|▏         | 17/800 [04:20<3:20:32, 15.37s/it]\u001b[ASetting `pad_token_id` to 50256 (first `eos_token_id`) to generate sequence\n",
      "\n",
      "  2%|▏         | 18/800 [04:36<3:22:45, 15.56s/it]\u001b[ASetting `pad_token_id` to 50256 (first `eos_token_id`) to generate sequence\n",
      "\n",
      "  2%|▏         | 19/800 [04:51<3:20:26, 15.40s/it]\u001b[ASetting `pad_token_id` to 50256 (first `eos_token_id`) to generate sequence\n",
      "\n",
      "  2%|▎         | 20/800 [05:07<3:22:13, 15.56s/it]\u001b[ASetting `pad_token_id` to 50256 (first `eos_token_id`) to generate sequence\n",
      "\n",
      "  3%|▎         | 21/800 [05:22<3:19:36, 15.37s/it]\u001b[ASetting `pad_token_id` to 50256 (first `eos_token_id`) to generate sequence\n",
      "\n",
      "  3%|▎         | 22/800 [05:37<3:18:30, 15.31s/it]\u001b[ASetting `pad_token_id` to 50256 (first `eos_token_id`) to generate sequence\n",
      "\n",
      "  3%|▎         | 23/800 [05:52<3:19:18, 15.39s/it]\u001b[ASetting `pad_token_id` to 50256 (first `eos_token_id`) to generate sequence\n",
      "\n",
      "  3%|▎         | 24/800 [06:09<3:26:02, 15.93s/it]\u001b[ASetting `pad_token_id` to 50256 (first `eos_token_id`) to generate sequence\n",
      "\n",
      "  3%|▎         | 25/800 [06:25<3:26:01, 15.95s/it]\u001b[ASetting `pad_token_id` to 50256 (first `eos_token_id`) to generate sequence\n",
      "\n",
      "  3%|▎         | 26/800 [06:42<3:28:25, 16.16s/it]\u001b[ASetting `pad_token_id` to 50256 (first `eos_token_id`) to generate sequence\n",
      "\n",
      "  3%|▎         | 27/800 [06:59<3:29:32, 16.26s/it]\u001b[ASetting `pad_token_id` to 50256 (first `eos_token_id`) to generate sequence\n",
      "\n",
      "  4%|▎         | 28/800 [07:15<3:29:48, 16.31s/it]\u001b[ASetting `pad_token_id` to 50256 (first `eos_token_id`) to generate sequence\n",
      "\n",
      "  4%|▎         | 29/800 [07:33<3:34:11, 16.67s/it]\u001b[ASetting `pad_token_id` to 50256 (first `eos_token_id`) to generate sequence\n",
      "\n",
      "  4%|▍         | 30/800 [07:49<3:33:28, 16.63s/it]\u001b[ASetting `pad_token_id` to 50256 (first `eos_token_id`) to generate sequence\n",
      "\n",
      "  4%|▍         | 31/800 [08:05<3:29:15, 16.33s/it]\u001b[ASetting `pad_token_id` to 50256 (first `eos_token_id`) to generate sequence\n",
      "\n",
      "  4%|▍         | 32/800 [08:19<3:22:43, 15.84s/it]\u001b[ASetting `pad_token_id` to 50256 (first `eos_token_id`) to generate sequence\n",
      "\n",
      "  4%|▍         | 33/800 [08:34<3:18:19, 15.51s/it]\u001b[ASetting `pad_token_id` to 50256 (first `eos_token_id`) to generate sequence\n",
      "\n",
      "  4%|▍         | 34/800 [08:50<3:19:33, 15.63s/it]\u001b[ASetting `pad_token_id` to 50256 (first `eos_token_id`) to generate sequence\n",
      "\n",
      "  4%|▍         | 35/800 [09:06<3:19:51, 15.67s/it]\u001b[ASetting `pad_token_id` to 50256 (first `eos_token_id`) to generate sequence\n",
      "\n",
      "  4%|▍         | 36/800 [09:22<3:20:41, 15.76s/it]\u001b[ASetting `pad_token_id` to 50256 (first `eos_token_id`) to generate sequence\n",
      "\n",
      "  5%|▍         | 37/800 [09:38<3:20:56, 15.80s/it]\u001b[ASetting `pad_token_id` to 50256 (first `eos_token_id`) to generate sequence\n",
      "\n",
      "  5%|▍         | 38/800 [09:53<3:17:17, 15.53s/it]\u001b[ASetting `pad_token_id` to 50256 (first `eos_token_id`) to generate sequence\n",
      "\n",
      "  5%|▍         | 39/800 [10:08<3:16:16, 15.48s/it]\u001b[ASetting `pad_token_id` to 50256 (first `eos_token_id`) to generate sequence\n",
      "\n",
      "  5%|▌         | 40/800 [10:23<3:15:19, 15.42s/it]\u001b[ASetting `pad_token_id` to 50256 (first `eos_token_id`) to generate sequence\n",
      "\n",
      "  5%|▌         | 41/800 [10:40<3:18:28, 15.69s/it]\u001b[ASetting `pad_token_id` to 50256 (first `eos_token_id`) to generate sequence\n",
      "\n",
      "  5%|▌         | 42/800 [10:56<3:22:39, 16.04s/it]\u001b[ASetting `pad_token_id` to 50256 (first `eos_token_id`) to generate sequence\n",
      "\n",
      "  5%|▌         | 43/800 [11:13<3:22:45, 16.07s/it]\u001b[ASetting `pad_token_id` to 50256 (first `eos_token_id`) to generate sequence\n",
      "\n",
      "  6%|▌         | 44/800 [11:29<3:22:22, 16.06s/it]\u001b[ASetting `pad_token_id` to 50256 (first `eos_token_id`) to generate sequence\n",
      "\n",
      "  6%|▌         | 45/800 [11:45<3:22:21, 16.08s/it]\u001b[ASetting `pad_token_id` to 50256 (first `eos_token_id`) to generate sequence\n",
      "\n",
      "  6%|▌         | 46/800 [12:01<3:22:09, 16.09s/it]\u001b[ASetting `pad_token_id` to 50256 (first `eos_token_id`) to generate sequence\n",
      "\n",
      "  6%|▌         | 47/800 [12:16<3:18:01, 15.78s/it]\u001b[ASetting `pad_token_id` to 50256 (first `eos_token_id`) to generate sequence\n",
      "\n",
      "  6%|▌         | 48/800 [12:31<3:15:29, 15.60s/it]\u001b[ASetting `pad_token_id` to 50256 (first `eos_token_id`) to generate sequence\n",
      "\n",
      "  6%|▌         | 49/800 [12:46<3:14:20, 15.53s/it]\u001b[ASetting `pad_token_id` to 50256 (first `eos_token_id`) to generate sequence\n",
      "\n",
      "  6%|▋         | 50/800 [13:02<3:14:45, 15.58s/it]\u001b[ASetting `pad_token_id` to 50256 (first `eos_token_id`) to generate sequence\n",
      "\n",
      "  6%|▋         | 51/800 [13:18<3:17:06, 15.79s/it]\u001b[ASetting `pad_token_id` to 50256 (first `eos_token_id`) to generate sequence\n",
      "\n",
      "  6%|▋         | 52/800 [13:35<3:20:41, 16.10s/it]\u001b[ASetting `pad_token_id` to 50256 (first `eos_token_id`) to generate sequence\n",
      "\n",
      "  7%|▋         | 53/800 [13:51<3:19:57, 16.06s/it]\u001b[ASetting `pad_token_id` to 50256 (first `eos_token_id`) to generate sequence\n",
      "\n",
      "  7%|▋         | 54/800 [14:08<3:21:20, 16.19s/it]\u001b[ASetting `pad_token_id` to 50256 (first `eos_token_id`) to generate sequence\n",
      "\n",
      "  7%|▋         | 55/800 [14:23<3:18:56, 16.02s/it]\u001b[ASetting `pad_token_id` to 50256 (first `eos_token_id`) to generate sequence\n",
      "\n",
      "  7%|▋         | 56/800 [14:39<3:19:09, 16.06s/it]\u001b[ASetting `pad_token_id` to 50256 (first `eos_token_id`) to generate sequence\n",
      "\n",
      "  7%|▋         | 57/800 [14:59<3:31:08, 17.05s/it]\u001b[ASetting `pad_token_id` to 50256 (first `eos_token_id`) to generate sequence\n",
      "\n",
      "  7%|▋         | 58/800 [15:15<3:28:10, 16.83s/it]\u001b[ASetting `pad_token_id` to 50256 (first `eos_token_id`) to generate sequence\n",
      "\n",
      "  7%|▋         | 59/800 [15:31<3:23:15, 16.46s/it]\u001b[ASetting `pad_token_id` to 50256 (first `eos_token_id`) to generate sequence\n",
      "\n",
      "  8%|▊         | 60/800 [15:47<3:22:01, 16.38s/it]\u001b[ASetting `pad_token_id` to 50256 (first `eos_token_id`) to generate sequence\n"
     ]
    },
    {
     "name": "stderr",
     "output_type": "stream",
     "text": [
      "\n",
      "  8%|▊         | 61/800 [16:03<3:21:06, 16.33s/it]\u001b[ASetting `pad_token_id` to 50256 (first `eos_token_id`) to generate sequence\n",
      "\n",
      "  8%|▊         | 62/800 [16:19<3:18:45, 16.16s/it]\u001b[ASetting `pad_token_id` to 50256 (first `eos_token_id`) to generate sequence\n",
      "\n",
      "  8%|▊         | 63/800 [16:37<3:24:43, 16.67s/it]\u001b[ASetting `pad_token_id` to 50256 (first `eos_token_id`) to generate sequence\n",
      "\n",
      "  8%|▊         | 64/800 [16:54<3:26:15, 16.81s/it]\u001b[ASetting `pad_token_id` to 50256 (first `eos_token_id`) to generate sequence\n",
      "\n",
      "  8%|▊         | 65/800 [17:12<3:29:38, 17.11s/it]\u001b[ASetting `pad_token_id` to 50256 (first `eos_token_id`) to generate sequence\n",
      "\n",
      "  8%|▊         | 66/800 [17:29<3:29:53, 17.16s/it]\u001b[ASetting `pad_token_id` to 50256 (first `eos_token_id`) to generate sequence\n",
      "\n",
      "  8%|▊         | 67/800 [17:46<3:27:44, 17.00s/it]\u001b[ASetting `pad_token_id` to 50256 (first `eos_token_id`) to generate sequence\n",
      "\n",
      "  8%|▊         | 68/800 [18:03<3:30:03, 17.22s/it]\u001b[ASetting `pad_token_id` to 50256 (first `eos_token_id`) to generate sequence\n",
      "\n",
      "  9%|▊         | 69/800 [18:20<3:26:05, 16.92s/it]\u001b[ASetting `pad_token_id` to 50256 (first `eos_token_id`) to generate sequence\n",
      "\n",
      "  9%|▉         | 70/800 [18:35<3:21:58, 16.60s/it]\u001b[ASetting `pad_token_id` to 50256 (first `eos_token_id`) to generate sequence\n",
      "\n",
      "  9%|▉         | 71/800 [18:52<3:21:19, 16.57s/it]\u001b[ASetting `pad_token_id` to 50256 (first `eos_token_id`) to generate sequence\n",
      "\n",
      "  9%|▉         | 72/800 [19:09<3:21:20, 16.59s/it]\u001b[ASetting `pad_token_id` to 50256 (first `eos_token_id`) to generate sequence\n",
      "\n",
      "  9%|▉         | 73/800 [19:24<3:17:40, 16.31s/it]\u001b[ASetting `pad_token_id` to 50256 (first `eos_token_id`) to generate sequence\n",
      "\n",
      "  9%|▉         | 74/800 [19:40<3:15:59, 16.20s/it]\u001b[ASetting `pad_token_id` to 50256 (first `eos_token_id`) to generate sequence\n",
      "\n",
      "  9%|▉         | 75/800 [19:56<3:13:05, 15.98s/it]\u001b[ASetting `pad_token_id` to 50256 (first `eos_token_id`) to generate sequence\n",
      "\n",
      " 10%|▉         | 76/800 [20:12<3:12:57, 15.99s/it]\u001b[ASetting `pad_token_id` to 50256 (first `eos_token_id`) to generate sequence\n",
      "\n",
      " 10%|▉         | 77/800 [20:28<3:12:32, 15.98s/it]\u001b[ASetting `pad_token_id` to 50256 (first `eos_token_id`) to generate sequence\n",
      "\n",
      " 10%|▉         | 78/800 [20:45<3:16:34, 16.34s/it]\u001b[ASetting `pad_token_id` to 50256 (first `eos_token_id`) to generate sequence\n",
      "\n",
      " 10%|▉         | 79/800 [21:02<3:20:22, 16.68s/it]\u001b[ASetting `pad_token_id` to 50256 (first `eos_token_id`) to generate sequence\n",
      "\n",
      " 10%|█         | 80/800 [21:19<3:19:52, 16.66s/it]\u001b[ASetting `pad_token_id` to 50256 (first `eos_token_id`) to generate sequence\n",
      "\n",
      " 10%|█         | 81/800 [21:36<3:20:15, 16.71s/it]\u001b[ASetting `pad_token_id` to 50256 (first `eos_token_id`) to generate sequence\n",
      "\n",
      " 10%|█         | 82/800 [21:51<3:15:54, 16.37s/it]\u001b[ASetting `pad_token_id` to 50256 (first `eos_token_id`) to generate sequence\n",
      "\n",
      " 10%|█         | 83/800 [22:07<3:12:10, 16.08s/it]\u001b[ASetting `pad_token_id` to 50256 (first `eos_token_id`) to generate sequence\n",
      "\n",
      " 10%|█         | 84/800 [22:23<3:12:35, 16.14s/it]\u001b[ASetting `pad_token_id` to 50256 (first `eos_token_id`) to generate sequence\n",
      "\n",
      " 11%|█         | 85/800 [22:40<3:14:37, 16.33s/it]\u001b[ASetting `pad_token_id` to 50256 (first `eos_token_id`) to generate sequence\n",
      "\n",
      " 11%|█         | 86/800 [22:56<3:13:46, 16.28s/it]\u001b[ASetting `pad_token_id` to 50256 (first `eos_token_id`) to generate sequence\n",
      "\n",
      " 11%|█         | 87/800 [23:14<3:20:05, 16.84s/it]\u001b[ASetting `pad_token_id` to 50256 (first `eos_token_id`) to generate sequence\n",
      "\n",
      " 11%|█         | 88/800 [23:31<3:18:30, 16.73s/it]\u001b[ASetting `pad_token_id` to 50256 (first `eos_token_id`) to generate sequence\n",
      "\n",
      " 11%|█         | 89/800 [23:47<3:15:39, 16.51s/it]\u001b[ASetting `pad_token_id` to 50256 (first `eos_token_id`) to generate sequence\n",
      "\n",
      " 11%|█▏        | 90/800 [24:02<3:10:51, 16.13s/it]\u001b[ASetting `pad_token_id` to 50256 (first `eos_token_id`) to generate sequence\n",
      "\n",
      " 11%|█▏        | 91/800 [24:18<3:11:53, 16.24s/it]\u001b[ASetting `pad_token_id` to 50256 (first `eos_token_id`) to generate sequence\n",
      "\n",
      " 12%|█▏        | 92/800 [24:34<3:08:42, 15.99s/it]\u001b[ASetting `pad_token_id` to 50256 (first `eos_token_id`) to generate sequence\n",
      "\n",
      " 12%|█▏        | 93/800 [24:49<3:07:05, 15.88s/it]\u001b[ASetting `pad_token_id` to 50256 (first `eos_token_id`) to generate sequence\n",
      "\n",
      " 12%|█▏        | 94/800 [25:06<3:08:55, 16.06s/it]\u001b[ASetting `pad_token_id` to 50256 (first `eos_token_id`) to generate sequence\n",
      "\n",
      " 12%|█▏        | 95/800 [25:22<3:09:57, 16.17s/it]\u001b[ASetting `pad_token_id` to 50256 (first `eos_token_id`) to generate sequence\n",
      "\n",
      " 12%|█▏        | 96/800 [25:38<3:08:22, 16.05s/it]\u001b[ASetting `pad_token_id` to 50256 (first `eos_token_id`) to generate sequence\n",
      "\n",
      " 12%|█▏        | 97/800 [25:55<3:10:55, 16.30s/it]\u001b[ASetting `pad_token_id` to 50256 (first `eos_token_id`) to generate sequence\n",
      "\n",
      " 12%|█▏        | 98/800 [26:11<3:10:19, 16.27s/it]\u001b[ASetting `pad_token_id` to 50256 (first `eos_token_id`) to generate sequence\n",
      "\n",
      " 12%|█▏        | 99/800 [26:28<3:10:50, 16.33s/it]\u001b[ASetting `pad_token_id` to 50256 (first `eos_token_id`) to generate sequence\n",
      "\n",
      " 12%|█▎        | 100/800 [26:44<3:11:06, 16.38s/it]\u001b[ASetting `pad_token_id` to 50256 (first `eos_token_id`) to generate sequence\n",
      "\n",
      " 13%|█▎        | 101/800 [27:00<3:09:48, 16.29s/it]\u001b[ASetting `pad_token_id` to 50256 (first `eos_token_id`) to generate sequence\n",
      "\n",
      " 13%|█▎        | 102/800 [27:20<3:23:33, 17.50s/it]\u001b[ASetting `pad_token_id` to 50256 (first `eos_token_id`) to generate sequence\n",
      "\n",
      " 13%|█▎        | 103/800 [27:37<3:20:21, 17.25s/it]\u001b[ASetting `pad_token_id` to 50256 (first `eos_token_id`) to generate sequence\n",
      "\n",
      " 13%|█▎        | 104/800 [27:55<3:21:05, 17.33s/it]\u001b[ASetting `pad_token_id` to 50256 (first `eos_token_id`) to generate sequence\n",
      "\n",
      " 13%|█▎        | 105/800 [28:12<3:20:26, 17.30s/it]\u001b[ASetting `pad_token_id` to 50256 (first `eos_token_id`) to generate sequence\n",
      "\n",
      " 13%|█▎        | 106/800 [28:29<3:19:25, 17.24s/it]\u001b[ASetting `pad_token_id` to 50256 (first `eos_token_id`) to generate sequence\n",
      "\n",
      " 13%|█▎        | 107/800 [28:47<3:20:29, 17.36s/it]\u001b[ASetting `pad_token_id` to 50256 (first `eos_token_id`) to generate sequence\n",
      "\n",
      " 14%|█▎        | 108/800 [29:02<3:13:46, 16.80s/it]\u001b[ASetting `pad_token_id` to 50256 (first `eos_token_id`) to generate sequence\n",
      "\n",
      " 14%|█▎        | 109/800 [29:21<3:19:45, 17.34s/it]\u001b[ASetting `pad_token_id` to 50256 (first `eos_token_id`) to generate sequence\n",
      "\n",
      " 14%|█▍        | 110/800 [29:42<3:34:13, 18.63s/it]\u001b[ASetting `pad_token_id` to 50256 (first `eos_token_id`) to generate sequence\n",
      "\n",
      " 14%|█▍        | 111/800 [29:58<3:23:37, 17.73s/it]\u001b[ASetting `pad_token_id` to 50256 (first `eos_token_id`) to generate sequence\n",
      "\n",
      " 14%|█▍        | 112/800 [30:14<3:17:41, 17.24s/it]\u001b[ASetting `pad_token_id` to 50256 (first `eos_token_id`) to generate sequence\n",
      "\n",
      " 14%|█▍        | 113/800 [30:31<3:15:40, 17.09s/it]\u001b[ASetting `pad_token_id` to 50256 (first `eos_token_id`) to generate sequence\n",
      "\n",
      " 14%|█▍        | 114/800 [30:46<3:09:12, 16.55s/it]\u001b[ASetting `pad_token_id` to 50256 (first `eos_token_id`) to generate sequence\n",
      "\n",
      " 14%|█▍        | 115/800 [31:01<3:02:37, 16.00s/it]\u001b[ASetting `pad_token_id` to 50256 (first `eos_token_id`) to generate sequence\n",
      "\n",
      " 14%|█▍        | 116/800 [31:18<3:06:09, 16.33s/it]\u001b[ASetting `pad_token_id` to 50256 (first `eos_token_id`) to generate sequence\n",
      "\n",
      " 15%|█▍        | 117/800 [31:34<3:04:47, 16.23s/it]\u001b[ASetting `pad_token_id` to 50256 (first `eos_token_id`) to generate sequence\n",
      "\n",
      " 15%|█▍        | 118/800 [31:50<3:04:01, 16.19s/it]\u001b[ASetting `pad_token_id` to 50256 (first `eos_token_id`) to generate sequence\n",
      "\n",
      " 15%|█▍        | 119/800 [32:05<2:58:26, 15.72s/it]\u001b[ASetting `pad_token_id` to 50256 (first `eos_token_id`) to generate sequence\n",
      "\n",
      " 15%|█▌        | 120/800 [32:20<2:56:40, 15.59s/it]\u001b[ASetting `pad_token_id` to 50256 (first `eos_token_id`) to generate sequence\n",
      "\n",
      " 15%|█▌        | 121/800 [32:37<3:00:21, 15.94s/it]\u001b[ASetting `pad_token_id` to 50256 (first `eos_token_id`) to generate sequence\n",
      "\n",
      " 15%|█▌        | 122/800 [32:53<3:00:37, 15.98s/it]\u001b[ASetting `pad_token_id` to 50256 (first `eos_token_id`) to generate sequence\n",
      "\n",
      " 15%|█▌        | 123/800 [33:09<2:59:48, 15.94s/it]\u001b[ASetting `pad_token_id` to 50256 (first `eos_token_id`) to generate sequence\n"
     ]
    },
    {
     "name": "stderr",
     "output_type": "stream",
     "text": [
      "\n",
      " 16%|█▌        | 124/800 [33:24<2:58:15, 15.82s/it]\u001b[ASetting `pad_token_id` to 50256 (first `eos_token_id`) to generate sequence\n",
      "\n",
      " 16%|█▌        | 125/800 [33:40<2:58:30, 15.87s/it]\u001b[ASetting `pad_token_id` to 50256 (first `eos_token_id`) to generate sequence\n",
      "\n",
      " 16%|█▌        | 126/800 [33:57<3:00:10, 16.04s/it]\u001b[ASetting `pad_token_id` to 50256 (first `eos_token_id`) to generate sequence\n",
      "\n",
      " 16%|█▌        | 127/800 [34:14<3:05:19, 16.52s/it]\u001b[ASetting `pad_token_id` to 50256 (first `eos_token_id`) to generate sequence\n",
      "\n",
      " 16%|█▌        | 128/800 [34:30<3:04:07, 16.44s/it]\u001b[ASetting `pad_token_id` to 50256 (first `eos_token_id`) to generate sequence\n",
      "\n",
      " 16%|█▌        | 129/800 [34:46<3:00:18, 16.12s/it]\u001b[ASetting `pad_token_id` to 50256 (first `eos_token_id`) to generate sequence\n",
      "\n",
      " 16%|█▋        | 130/800 [35:02<3:00:11, 16.14s/it]\u001b[ASetting `pad_token_id` to 50256 (first `eos_token_id`) to generate sequence\n",
      "\n",
      " 16%|█▋        | 131/800 [35:19<3:03:53, 16.49s/it]\u001b[ASetting `pad_token_id` to 50256 (first `eos_token_id`) to generate sequence\n",
      "\n",
      " 16%|█▋        | 132/800 [35:35<3:01:37, 16.31s/it]\u001b[ASetting `pad_token_id` to 50256 (first `eos_token_id`) to generate sequence\n",
      "\n",
      " 17%|█▋        | 133/800 [35:52<3:02:53, 16.45s/it]\u001b[ASetting `pad_token_id` to 50256 (first `eos_token_id`) to generate sequence\n",
      "\n",
      " 17%|█▋        | 134/800 [36:09<3:03:15, 16.51s/it]\u001b[ASetting `pad_token_id` to 50256 (first `eos_token_id`) to generate sequence\n",
      "\n",
      " 17%|█▋        | 135/800 [36:25<3:02:31, 16.47s/it]\u001b[ASetting `pad_token_id` to 50256 (first `eos_token_id`) to generate sequence\n",
      "\n",
      " 17%|█▋        | 136/800 [36:42<3:02:37, 16.50s/it]\u001b[ASetting `pad_token_id` to 50256 (first `eos_token_id`) to generate sequence\n",
      "\n",
      " 17%|█▋        | 137/800 [36:58<3:01:58, 16.47s/it]\u001b[ASetting `pad_token_id` to 50256 (first `eos_token_id`) to generate sequence\n",
      "\n",
      " 17%|█▋        | 138/800 [37:15<3:03:21, 16.62s/it]\u001b[ASetting `pad_token_id` to 50256 (first `eos_token_id`) to generate sequence\n",
      "\n",
      " 17%|█▋        | 139/800 [37:33<3:06:45, 16.95s/it]\u001b[ASetting `pad_token_id` to 50256 (first `eos_token_id`) to generate sequence\n",
      "\n",
      " 18%|█▊        | 140/800 [37:49<3:03:06, 16.65s/it]\u001b[ASetting `pad_token_id` to 50256 (first `eos_token_id`) to generate sequence\n",
      "\n",
      " 18%|█▊        | 141/800 [38:05<3:00:36, 16.44s/it]\u001b[ASetting `pad_token_id` to 50256 (first `eos_token_id`) to generate sequence\n",
      "\n",
      " 18%|█▊        | 142/800 [38:22<3:02:45, 16.67s/it]\u001b[ASetting `pad_token_id` to 50256 (first `eos_token_id`) to generate sequence\n",
      "\n",
      " 18%|█▊        | 143/800 [38:38<3:02:17, 16.65s/it]\u001b[ASetting `pad_token_id` to 50256 (first `eos_token_id`) to generate sequence\n",
      "\n",
      " 18%|█▊        | 144/800 [38:55<3:01:34, 16.61s/it]\u001b[ASetting `pad_token_id` to 50256 (first `eos_token_id`) to generate sequence\n",
      "\n",
      " 18%|█▊        | 145/800 [39:11<3:00:54, 16.57s/it]\u001b[ASetting `pad_token_id` to 50256 (first `eos_token_id`) to generate sequence\n",
      "\n",
      " 18%|█▊        | 146/800 [39:28<3:01:04, 16.61s/it]\u001b[ASetting `pad_token_id` to 50256 (first `eos_token_id`) to generate sequence\n",
      "\n",
      " 18%|█▊        | 147/800 [39:43<2:56:42, 16.24s/it]\u001b[ASetting `pad_token_id` to 50256 (first `eos_token_id`) to generate sequence\n",
      "\n",
      " 18%|█▊        | 148/800 [39:59<2:53:09, 15.93s/it]\u001b[ASetting `pad_token_id` to 50256 (first `eos_token_id`) to generate sequence\n",
      "\n",
      " 19%|█▊        | 149/800 [40:15<2:52:53, 15.94s/it]\u001b[ASetting `pad_token_id` to 50256 (first `eos_token_id`) to generate sequence\n",
      "\n",
      " 19%|█▉        | 150/800 [40:31<2:55:00, 16.15s/it]\u001b[ASetting `pad_token_id` to 50256 (first `eos_token_id`) to generate sequence\n",
      "\n",
      " 19%|█▉        | 151/800 [40:46<2:49:28, 15.67s/it]\u001b[ASetting `pad_token_id` to 50256 (first `eos_token_id`) to generate sequence\n",
      "\n",
      " 19%|█▉        | 152/800 [41:01<2:47:55, 15.55s/it]\u001b[ASetting `pad_token_id` to 50256 (first `eos_token_id`) to generate sequence\n",
      "\n",
      " 19%|█▉        | 153/800 [41:16<2:47:17, 15.51s/it]\u001b[ASetting `pad_token_id` to 50256 (first `eos_token_id`) to generate sequence\n",
      "\n",
      " 19%|█▉        | 154/800 [41:31<2:43:59, 15.23s/it]\u001b[ASetting `pad_token_id` to 50256 (first `eos_token_id`) to generate sequence\n",
      "\n",
      " 19%|█▉        | 155/800 [41:46<2:41:18, 15.01s/it]\u001b[ASetting `pad_token_id` to 50256 (first `eos_token_id`) to generate sequence\n",
      "\n",
      " 20%|█▉        | 156/800 [42:00<2:39:16, 14.84s/it]\u001b[ASetting `pad_token_id` to 50256 (first `eos_token_id`) to generate sequence\n",
      "\n",
      " 20%|█▉        | 157/800 [42:16<2:42:20, 15.15s/it]\u001b[ASetting `pad_token_id` to 50256 (first `eos_token_id`) to generate sequence\n",
      "\n",
      " 20%|█▉        | 158/800 [42:32<2:44:09, 15.34s/it]\u001b[ASetting `pad_token_id` to 50256 (first `eos_token_id`) to generate sequence\n",
      "\n",
      " 20%|█▉        | 159/800 [42:49<2:51:42, 16.07s/it]\u001b[ASetting `pad_token_id` to 50256 (first `eos_token_id`) to generate sequence\n",
      "\n",
      " 20%|██        | 160/800 [43:06<2:52:44, 16.19s/it]\u001b[ASetting `pad_token_id` to 50256 (first `eos_token_id`) to generate sequence\n",
      "\n",
      " 20%|██        | 161/800 [43:22<2:53:32, 16.29s/it]\u001b[ASetting `pad_token_id` to 50256 (first `eos_token_id`) to generate sequence\n",
      "\n",
      " 20%|██        | 162/800 [43:38<2:49:54, 15.98s/it]\u001b[ASetting `pad_token_id` to 50256 (first `eos_token_id`) to generate sequence\n",
      "\n",
      " 20%|██        | 163/800 [43:57<3:00:19, 16.99s/it]\u001b[ASetting `pad_token_id` to 50256 (first `eos_token_id`) to generate sequence\n",
      "\n",
      " 20%|██        | 164/800 [44:13<2:57:03, 16.70s/it]\u001b[ASetting `pad_token_id` to 50256 (first `eos_token_id`) to generate sequence\n",
      "\n",
      " 21%|██        | 165/800 [44:31<2:59:38, 16.97s/it]\u001b[ASetting `pad_token_id` to 50256 (first `eos_token_id`) to generate sequence\n",
      "\n",
      " 21%|██        | 166/800 [44:47<2:57:16, 16.78s/it]\u001b[ASetting `pad_token_id` to 50256 (first `eos_token_id`) to generate sequence\n",
      "\n",
      " 21%|██        | 167/800 [45:02<2:52:46, 16.38s/it]\u001b[ASetting `pad_token_id` to 50256 (first `eos_token_id`) to generate sequence\n",
      "\n",
      " 21%|██        | 168/800 [45:18<2:49:58, 16.14s/it]\u001b[ASetting `pad_token_id` to 50256 (first `eos_token_id`) to generate sequence\n",
      "\n",
      " 21%|██        | 169/800 [45:34<2:49:53, 16.15s/it]\u001b[ASetting `pad_token_id` to 50256 (first `eos_token_id`) to generate sequence\n",
      "\n",
      " 21%|██▏       | 170/800 [45:50<2:48:49, 16.08s/it]\u001b[ASetting `pad_token_id` to 50256 (first `eos_token_id`) to generate sequence\n",
      "\n",
      " 21%|██▏       | 171/800 [46:06<2:47:06, 15.94s/it]\u001b[ASetting `pad_token_id` to 50256 (first `eos_token_id`) to generate sequence\n",
      "\n",
      " 22%|██▏       | 172/800 [46:22<2:49:16, 16.17s/it]\u001b[ASetting `pad_token_id` to 50256 (first `eos_token_id`) to generate sequence\n",
      "\n",
      " 22%|██▏       | 173/800 [46:39<2:50:51, 16.35s/it]\u001b[ASetting `pad_token_id` to 50256 (first `eos_token_id`) to generate sequence\n",
      "\n",
      " 22%|██▏       | 174/800 [46:55<2:50:16, 16.32s/it]\u001b[ASetting `pad_token_id` to 50256 (first `eos_token_id`) to generate sequence\n",
      "\n",
      " 22%|██▏       | 175/800 [47:12<2:49:34, 16.28s/it]\u001b[ASetting `pad_token_id` to 50256 (first `eos_token_id`) to generate sequence\n",
      "\n",
      " 22%|██▏       | 176/800 [47:27<2:45:38, 15.93s/it]\u001b[ASetting `pad_token_id` to 50256 (first `eos_token_id`) to generate sequence\n",
      "\n",
      " 22%|██▏       | 177/800 [47:43<2:46:42, 16.06s/it]\u001b[ASetting `pad_token_id` to 50256 (first `eos_token_id`) to generate sequence\n",
      "\n",
      " 22%|██▏       | 178/800 [48:01<2:53:21, 16.72s/it]\u001b[ASetting `pad_token_id` to 50256 (first `eos_token_id`) to generate sequence\n",
      "\n",
      " 22%|██▏       | 179/800 [48:17<2:51:07, 16.53s/it]\u001b[ASetting `pad_token_id` to 50256 (first `eos_token_id`) to generate sequence\n",
      "\n",
      " 22%|██▎       | 180/800 [48:34<2:51:24, 16.59s/it]\u001b[ASetting `pad_token_id` to 50256 (first `eos_token_id`) to generate sequence\n",
      "\n",
      " 23%|██▎       | 181/800 [48:51<2:51:44, 16.65s/it]\u001b[ASetting `pad_token_id` to 50256 (first `eos_token_id`) to generate sequence\n",
      "\n",
      " 23%|██▎       | 182/800 [49:10<2:58:00, 17.28s/it]\u001b[ASetting `pad_token_id` to 50256 (first `eos_token_id`) to generate sequence\n",
      "\n",
      " 23%|██▎       | 183/800 [49:26<2:55:07, 17.03s/it]\u001b[ASetting `pad_token_id` to 50256 (first `eos_token_id`) to generate sequence\n",
      "\n",
      " 23%|██▎       | 184/800 [49:42<2:50:41, 16.63s/it]\u001b[ASetting `pad_token_id` to 50256 (first `eos_token_id`) to generate sequence\n",
      "\n",
      " 23%|██▎       | 185/800 [49:58<2:48:08, 16.40s/it]\u001b[ASetting `pad_token_id` to 50256 (first `eos_token_id`) to generate sequence\n",
      "\n",
      " 23%|██▎       | 186/800 [50:14<2:46:18, 16.25s/it]\u001b[ASetting `pad_token_id` to 50256 (first `eos_token_id`) to generate sequence\n"
     ]
    },
    {
     "name": "stderr",
     "output_type": "stream",
     "text": [
      "\n",
      " 23%|██▎       | 187/800 [50:31<2:47:58, 16.44s/it]\u001b[ASetting `pad_token_id` to 50256 (first `eos_token_id`) to generate sequence\n",
      "\n",
      " 24%|██▎       | 188/800 [50:47<2:46:28, 16.32s/it]\u001b[ASetting `pad_token_id` to 50256 (first `eos_token_id`) to generate sequence\n",
      "\n",
      " 24%|██▎       | 189/800 [51:02<2:44:15, 16.13s/it]\u001b[ASetting `pad_token_id` to 50256 (first `eos_token_id`) to generate sequence\n",
      "\n",
      " 24%|██▍       | 190/800 [51:20<2:48:00, 16.53s/it]\u001b[ASetting `pad_token_id` to 50256 (first `eos_token_id`) to generate sequence\n",
      "\n",
      " 24%|██▍       | 191/800 [51:35<2:43:32, 16.11s/it]\u001b[ASetting `pad_token_id` to 50256 (first `eos_token_id`) to generate sequence\n",
      "\n",
      " 24%|██▍       | 192/800 [51:49<2:37:58, 15.59s/it]\u001b[ASetting `pad_token_id` to 50256 (first `eos_token_id`) to generate sequence\n",
      "\n",
      " 24%|██▍       | 193/800 [52:03<2:33:11, 15.14s/it]\u001b[ASetting `pad_token_id` to 50256 (first `eos_token_id`) to generate sequence\n",
      "\n",
      " 24%|██▍       | 194/800 [52:18<2:30:38, 14.92s/it]\u001b[ASetting `pad_token_id` to 50256 (first `eos_token_id`) to generate sequence\n",
      "\n",
      " 24%|██▍       | 195/800 [52:32<2:28:25, 14.72s/it]\u001b[ASetting `pad_token_id` to 50256 (first `eos_token_id`) to generate sequence\n",
      "\n",
      " 24%|██▍       | 196/800 [52:46<2:26:35, 14.56s/it]\u001b[ASetting `pad_token_id` to 50256 (first `eos_token_id`) to generate sequence\n",
      "\n",
      " 25%|██▍       | 197/800 [53:00<2:25:18, 14.46s/it]\u001b[ASetting `pad_token_id` to 50256 (first `eos_token_id`) to generate sequence\n",
      "\n",
      " 25%|██▍       | 198/800 [53:15<2:24:59, 14.45s/it]\u001b[ASetting `pad_token_id` to 50256 (first `eos_token_id`) to generate sequence\n",
      "\n",
      " 25%|██▍       | 199/800 [53:29<2:24:00, 14.38s/it]\u001b[ASetting `pad_token_id` to 50256 (first `eos_token_id`) to generate sequence\n",
      "\n",
      " 25%|██▌       | 200/800 [53:43<2:23:13, 14.32s/it]\u001b[ASetting `pad_token_id` to 50256 (first `eos_token_id`) to generate sequence\n",
      "\n",
      " 25%|██▌       | 201/800 [53:58<2:24:56, 14.52s/it]\u001b[ASetting `pad_token_id` to 50256 (first `eos_token_id`) to generate sequence\n",
      "\n",
      " 25%|██▌       | 202/800 [54:13<2:25:49, 14.63s/it]\u001b[ASetting `pad_token_id` to 50256 (first `eos_token_id`) to generate sequence\n",
      "\n",
      " 25%|██▌       | 203/800 [54:28<2:27:29, 14.82s/it]\u001b[ASetting `pad_token_id` to 50256 (first `eos_token_id`) to generate sequence\n",
      "\n",
      " 26%|██▌       | 204/800 [54:43<2:27:52, 14.89s/it]\u001b[ASetting `pad_token_id` to 50256 (first `eos_token_id`) to generate sequence\n",
      "\n",
      " 26%|██▌       | 205/800 [54:58<2:27:52, 14.91s/it]\u001b[ASetting `pad_token_id` to 50256 (first `eos_token_id`) to generate sequence\n",
      "\n",
      " 26%|██▌       | 206/800 [55:14<2:28:37, 15.01s/it]\u001b[ASetting `pad_token_id` to 50256 (first `eos_token_id`) to generate sequence\n",
      "\n",
      " 26%|██▌       | 207/800 [55:29<2:28:30, 15.03s/it]\u001b[ASetting `pad_token_id` to 50256 (first `eos_token_id`) to generate sequence\n",
      "\n",
      " 26%|██▌       | 208/800 [55:44<2:27:55, 14.99s/it]\u001b[ASetting `pad_token_id` to 50256 (first `eos_token_id`) to generate sequence\n",
      "\n",
      " 26%|██▌       | 209/800 [55:59<2:27:31, 14.98s/it]\u001b[ASetting `pad_token_id` to 50256 (first `eos_token_id`) to generate sequence\n",
      "\n",
      " 26%|██▋       | 210/800 [56:14<2:28:21, 15.09s/it]\u001b[ASetting `pad_token_id` to 50256 (first `eos_token_id`) to generate sequence\n",
      "\n",
      " 26%|██▋       | 211/800 [56:29<2:27:48, 15.06s/it]\u001b[ASetting `pad_token_id` to 50256 (first `eos_token_id`) to generate sequence\n",
      "\n",
      " 26%|██▋       | 212/800 [56:44<2:28:17, 15.13s/it]\u001b[ASetting `pad_token_id` to 50256 (first `eos_token_id`) to generate sequence\n",
      "\n",
      " 27%|██▋       | 213/800 [57:00<2:29:55, 15.32s/it]\u001b[ASetting `pad_token_id` to 50256 (first `eos_token_id`) to generate sequence\n",
      "\n",
      " 27%|██▋       | 214/800 [57:16<2:31:25, 15.50s/it]\u001b[ASetting `pad_token_id` to 50256 (first `eos_token_id`) to generate sequence\n",
      "\n",
      " 27%|██▋       | 215/800 [57:31<2:29:51, 15.37s/it]\u001b[ASetting `pad_token_id` to 50256 (first `eos_token_id`) to generate sequence\n",
      "\n",
      " 27%|██▋       | 216/800 [57:46<2:29:37, 15.37s/it]\u001b[ASetting `pad_token_id` to 50256 (first `eos_token_id`) to generate sequence\n",
      "\n",
      " 27%|██▋       | 217/800 [58:03<2:32:41, 15.71s/it]\u001b[ASetting `pad_token_id` to 50256 (first `eos_token_id`) to generate sequence\n",
      "\n",
      " 27%|██▋       | 218/800 [58:19<2:34:21, 15.91s/it]\u001b[ASetting `pad_token_id` to 50256 (first `eos_token_id`) to generate sequence\n",
      "\n",
      " 27%|██▋       | 219/800 [58:37<2:38:15, 16.34s/it]\u001b[ASetting `pad_token_id` to 50256 (first `eos_token_id`) to generate sequence\n",
      "\n",
      " 28%|██▊       | 220/800 [58:52<2:35:38, 16.10s/it]\u001b[ASetting `pad_token_id` to 50256 (first `eos_token_id`) to generate sequence\n",
      "\n",
      " 28%|██▊       | 221/800 [59:07<2:32:38, 15.82s/it]\u001b[ASetting `pad_token_id` to 50256 (first `eos_token_id`) to generate sequence\n",
      "\n",
      " 28%|██▊       | 222/800 [59:22<2:30:45, 15.65s/it]\u001b[ASetting `pad_token_id` to 50256 (first `eos_token_id`) to generate sequence\n",
      "\n",
      " 28%|██▊       | 223/800 [59:39<2:32:34, 15.87s/it]\u001b[ASetting `pad_token_id` to 50256 (first `eos_token_id`) to generate sequence\n",
      "\n",
      " 28%|██▊       | 224/800 [59:56<2:34:49, 16.13s/it]\u001b[ASetting `pad_token_id` to 50256 (first `eos_token_id`) to generate sequence\n",
      "\n",
      " 28%|██▊       | 225/800 [1:00:12<2:34:58, 16.17s/it]\u001b[ASetting `pad_token_id` to 50256 (first `eos_token_id`) to generate sequence\n",
      "\n",
      " 28%|██▊       | 226/800 [1:00:27<2:31:28, 15.83s/it]\u001b[ASetting `pad_token_id` to 50256 (first `eos_token_id`) to generate sequence\n",
      "\n",
      " 28%|██▊       | 227/800 [1:00:43<2:32:41, 15.99s/it]\u001b[ASetting `pad_token_id` to 50256 (first `eos_token_id`) to generate sequence\n",
      "\n",
      " 28%|██▊       | 228/800 [1:01:00<2:33:48, 16.13s/it]\u001b[ASetting `pad_token_id` to 50256 (first `eos_token_id`) to generate sequence\n",
      "\n",
      " 29%|██▊       | 229/800 [1:01:16<2:34:47, 16.27s/it]\u001b[ASetting `pad_token_id` to 50256 (first `eos_token_id`) to generate sequence\n",
      "\n",
      " 29%|██▉       | 230/800 [1:01:33<2:36:33, 16.48s/it]\u001b[ASetting `pad_token_id` to 50256 (first `eos_token_id`) to generate sequence\n",
      "\n",
      " 29%|██▉       | 231/800 [1:01:49<2:33:20, 16.17s/it]\u001b[ASetting `pad_token_id` to 50256 (first `eos_token_id`) to generate sequence\n",
      "\n",
      " 29%|██▉       | 232/800 [1:02:03<2:28:40, 15.71s/it]\u001b[ASetting `pad_token_id` to 50256 (first `eos_token_id`) to generate sequence\n",
      "\n",
      " 29%|██▉       | 233/800 [1:02:18<2:26:17, 15.48s/it]\u001b[ASetting `pad_token_id` to 50256 (first `eos_token_id`) to generate sequence\n",
      "\n",
      " 29%|██▉       | 234/800 [1:02:33<2:23:41, 15.23s/it]\u001b[ASetting `pad_token_id` to 50256 (first `eos_token_id`) to generate sequence\n",
      "\n",
      " 29%|██▉       | 235/800 [1:02:49<2:24:34, 15.35s/it]\u001b[ASetting `pad_token_id` to 50256 (first `eos_token_id`) to generate sequence\n",
      "\n",
      " 30%|██▉       | 236/800 [1:03:07<2:32:08, 16.18s/it]\u001b[ASetting `pad_token_id` to 50256 (first `eos_token_id`) to generate sequence\n",
      "\n",
      " 30%|██▉       | 237/800 [1:03:23<2:31:31, 16.15s/it]\u001b[ASetting `pad_token_id` to 50256 (first `eos_token_id`) to generate sequence\n",
      "\n",
      " 30%|██▉       | 238/800 [1:03:38<2:28:12, 15.82s/it]\u001b[ASetting `pad_token_id` to 50256 (first `eos_token_id`) to generate sequence\n",
      "\n",
      " 30%|██▉       | 239/800 [1:03:52<2:23:50, 15.38s/it]\u001b[ASetting `pad_token_id` to 50256 (first `eos_token_id`) to generate sequence\n",
      "\n",
      " 30%|███       | 240/800 [1:04:07<2:20:36, 15.06s/it]\u001b[ASetting `pad_token_id` to 50256 (first `eos_token_id`) to generate sequence\n",
      "\n",
      " 30%|███       | 241/800 [1:04:22<2:20:16, 15.06s/it]\u001b[ASetting `pad_token_id` to 50256 (first `eos_token_id`) to generate sequence\n",
      "\n",
      " 30%|███       | 242/800 [1:04:37<2:19:51, 15.04s/it]\u001b[ASetting `pad_token_id` to 50256 (first `eos_token_id`) to generate sequence\n",
      "\n",
      " 30%|███       | 243/800 [1:04:52<2:20:52, 15.17s/it]\u001b[ASetting `pad_token_id` to 50256 (first `eos_token_id`) to generate sequence\n",
      "\n",
      " 30%|███       | 244/800 [1:05:08<2:23:24, 15.48s/it]\u001b[ASetting `pad_token_id` to 50256 (first `eos_token_id`) to generate sequence\n",
      "\n",
      " 31%|███       | 245/800 [1:05:24<2:25:15, 15.70s/it]\u001b[ASetting `pad_token_id` to 50256 (first `eos_token_id`) to generate sequence\n",
      "\n",
      " 31%|███       | 246/800 [1:05:41<2:26:43, 15.89s/it]\u001b[ASetting `pad_token_id` to 50256 (first `eos_token_id`) to generate sequence\n",
      "\n",
      " 31%|███       | 247/800 [1:05:57<2:26:40, 15.91s/it]\u001b[ASetting `pad_token_id` to 50256 (first `eos_token_id`) to generate sequence\n",
      "\n",
      " 31%|███       | 248/800 [1:06:13<2:27:26, 16.03s/it]\u001b[ASetting `pad_token_id` to 50256 (first `eos_token_id`) to generate sequence\n",
      "\n",
      " 31%|███       | 249/800 [1:06:30<2:28:52, 16.21s/it]\u001b[ASetting `pad_token_id` to 50256 (first `eos_token_id`) to generate sequence\n",
      "\n",
      " 31%|███▏      | 250/800 [1:06:45<2:27:02, 16.04s/it]\u001b[ASetting `pad_token_id` to 50256 (first `eos_token_id`) to generate sequence\n",
      "\n",
      " 31%|███▏      | 251/800 [1:07:01<2:25:32, 15.91s/it]\u001b[ASetting `pad_token_id` to 50256 (first `eos_token_id`) to generate sequence\n",
      "\n",
      " 32%|███▏      | 252/800 [1:07:17<2:25:53, 15.97s/it]\u001b[ASetting `pad_token_id` to 50256 (first `eos_token_id`) to generate sequence\n",
      "\n",
      " 32%|███▏      | 253/800 [1:07:32<2:23:10, 15.71s/it]\u001b[ASetting `pad_token_id` to 50256 (first `eos_token_id`) to generate sequence\n",
      "\n",
      " 32%|███▏      | 254/800 [1:07:48<2:22:10, 15.62s/it]\u001b[ASetting `pad_token_id` to 50256 (first `eos_token_id`) to generate sequence\n",
      "\n",
      " 32%|███▏      | 255/800 [1:08:03<2:20:13, 15.44s/it]\u001b[ASetting `pad_token_id` to 50256 (first `eos_token_id`) to generate sequence\n",
      "\n",
      " 32%|███▏      | 256/800 [1:08:19<2:21:24, 15.60s/it]\u001b[ASetting `pad_token_id` to 50256 (first `eos_token_id`) to generate sequence\n",
      "\n",
      " 32%|███▏      | 257/800 [1:08:35<2:22:52, 15.79s/it]\u001b[ASetting `pad_token_id` to 50256 (first `eos_token_id`) to generate sequence\n",
      "\n",
      " 32%|███▏      | 258/800 [1:08:51<2:24:10, 15.96s/it]\u001b[ASetting `pad_token_id` to 50256 (first `eos_token_id`) to generate sequence\n",
      "\n",
      " 32%|███▏      | 259/800 [1:09:07<2:24:51, 16.07s/it]\u001b[ASetting `pad_token_id` to 50256 (first `eos_token_id`) to generate sequence\n",
      "\n",
      " 32%|███▎      | 260/800 [1:09:23<2:23:39, 15.96s/it]\u001b[ASetting `pad_token_id` to 50256 (first `eos_token_id`) to generate sequence\n",
      "\n",
      " 33%|███▎      | 261/800 [1:09:41<2:29:45, 16.67s/it]\u001b[ASetting `pad_token_id` to 50256 (first `eos_token_id`) to generate sequence\n",
      "\n",
      " 33%|███▎      | 262/800 [1:10:01<2:36:20, 17.44s/it]\u001b[ASetting `pad_token_id` to 50256 (first `eos_token_id`) to generate sequence\n",
      "\n",
      " 33%|███▎      | 263/800 [1:10:17<2:32:36, 17.05s/it]\u001b[ASetting `pad_token_id` to 50256 (first `eos_token_id`) to generate sequence\n",
      "\n",
      " 33%|███▎      | 264/800 [1:10:33<2:31:00, 16.90s/it]\u001b[ASetting `pad_token_id` to 50256 (first `eos_token_id`) to generate sequence\n",
      "\n",
      " 33%|███▎      | 265/800 [1:10:49<2:27:59, 16.60s/it]\u001b[ASetting `pad_token_id` to 50256 (first `eos_token_id`) to generate sequence\n",
      "\n",
      " 33%|███▎      | 266/800 [1:11:05<2:25:19, 16.33s/it]\u001b[ASetting `pad_token_id` to 50256 (first `eos_token_id`) to generate sequence\n",
      "\n",
      " 33%|███▎      | 267/800 [1:11:21<2:24:27, 16.26s/it]\u001b[ASetting `pad_token_id` to 50256 (first `eos_token_id`) to generate sequence\n",
      "\n",
      " 34%|███▎      | 268/800 [1:11:37<2:23:47, 16.22s/it]\u001b[ASetting `pad_token_id` to 50256 (first `eos_token_id`) to generate sequence\n",
      "\n",
      " 34%|███▎      | 269/800 [1:11:53<2:22:20, 16.08s/it]\u001b[ASetting `pad_token_id` to 50256 (first `eos_token_id`) to generate sequence\n",
      "\n",
      " 34%|███▍      | 270/800 [1:12:09<2:22:18, 16.11s/it]\u001b[ASetting `pad_token_id` to 50256 (first `eos_token_id`) to generate sequence\n",
      "\n",
      " 34%|███▍      | 271/800 [1:12:25<2:20:01, 15.88s/it]\u001b[ASetting `pad_token_id` to 50256 (first `eos_token_id`) to generate sequence\n",
      "\n",
      " 34%|███▍      | 272/800 [1:12:40<2:18:09, 15.70s/it]\u001b[ASetting `pad_token_id` to 50256 (first `eos_token_id`) to generate sequence\n",
      "\n",
      " 34%|███▍      | 273/800 [1:12:55<2:15:38, 15.44s/it]\u001b[ASetting `pad_token_id` to 50256 (first `eos_token_id`) to generate sequence\n",
      "\n",
      " 34%|███▍      | 274/800 [1:13:10<2:15:14, 15.43s/it]\u001b[ASetting `pad_token_id` to 50256 (first `eos_token_id`) to generate sequence\n",
      "\n",
      " 34%|███▍      | 275/800 [1:13:26<2:15:26, 15.48s/it]\u001b[ASetting `pad_token_id` to 50256 (first `eos_token_id`) to generate sequence\n",
      "\n",
      " 34%|███▍      | 276/800 [1:13:43<2:20:25, 16.08s/it]\u001b[ASetting `pad_token_id` to 50256 (first `eos_token_id`) to generate sequence\n",
      "\n",
      " 35%|███▍      | 277/800 [1:13:59<2:20:16, 16.09s/it]\u001b[ASetting `pad_token_id` to 50256 (first `eos_token_id`) to generate sequence\n",
      "\n",
      " 35%|███▍      | 278/800 [1:14:15<2:18:17, 15.90s/it]\u001b[ASetting `pad_token_id` to 50256 (first `eos_token_id`) to generate sequence\n",
      "\n",
      " 35%|███▍      | 279/800 [1:14:29<2:14:11, 15.45s/it]\u001b[ASetting `pad_token_id` to 50256 (first `eos_token_id`) to generate sequence\n",
      "\n",
      " 35%|███▌      | 280/800 [1:14:44<2:12:50, 15.33s/it]\u001b[ASetting `pad_token_id` to 50256 (first `eos_token_id`) to generate sequence\n",
      "\n",
      " 35%|███▌      | 281/800 [1:15:01<2:15:39, 15.68s/it]\u001b[ASetting `pad_token_id` to 50256 (first `eos_token_id`) to generate sequence\n",
      "\n",
      " 35%|███▌      | 282/800 [1:15:17<2:18:12, 16.01s/it]\u001b[ASetting `pad_token_id` to 50256 (first `eos_token_id`) to generate sequence\n",
      "\n",
      " 35%|███▌      | 283/800 [1:15:33<2:17:35, 15.97s/it]\u001b[ASetting `pad_token_id` to 50256 (first `eos_token_id`) to generate sequence\n",
      "\n",
      " 36%|███▌      | 284/800 [1:15:49<2:16:39, 15.89s/it]\u001b[ASetting `pad_token_id` to 50256 (first `eos_token_id`) to generate sequence\n",
      "\n",
      " 36%|███▌      | 285/800 [1:16:05<2:15:29, 15.79s/it]\u001b[ASetting `pad_token_id` to 50256 (first `eos_token_id`) to generate sequence\n",
      "\n",
      " 36%|███▌      | 286/800 [1:16:21<2:15:55, 15.87s/it]\u001b[ASetting `pad_token_id` to 50256 (first `eos_token_id`) to generate sequence\n",
      "\n",
      " 36%|███▌      | 287/800 [1:16:36<2:13:51, 15.66s/it]\u001b[ASetting `pad_token_id` to 50256 (first `eos_token_id`) to generate sequence\n",
      "\n",
      " 36%|███▌      | 288/800 [1:16:51<2:12:20, 15.51s/it]\u001b[ASetting `pad_token_id` to 50256 (first `eos_token_id`) to generate sequence\n",
      "\n",
      " 36%|███▌      | 289/800 [1:17:07<2:14:28, 15.79s/it]\u001b[ASetting `pad_token_id` to 50256 (first `eos_token_id`) to generate sequence\n",
      "\n",
      " 36%|███▋      | 290/800 [1:17:23<2:13:33, 15.71s/it]\u001b[ASetting `pad_token_id` to 50256 (first `eos_token_id`) to generate sequence\n",
      "\n",
      " 36%|███▋      | 291/800 [1:17:38<2:11:40, 15.52s/it]\u001b[ASetting `pad_token_id` to 50256 (first `eos_token_id`) to generate sequence\n",
      "\n",
      " 36%|███▋      | 292/800 [1:17:53<2:10:21, 15.40s/it]\u001b[ASetting `pad_token_id` to 50256 (first `eos_token_id`) to generate sequence\n",
      "\n",
      " 37%|███▋      | 293/800 [1:18:08<2:09:03, 15.27s/it]\u001b[ASetting `pad_token_id` to 50256 (first `eos_token_id`) to generate sequence\n",
      "\n",
      " 37%|███▋      | 294/800 [1:18:23<2:08:27, 15.23s/it]\u001b[ASetting `pad_token_id` to 50256 (first `eos_token_id`) to generate sequence\n",
      "\n",
      " 37%|███▋      | 295/800 [1:18:40<2:11:49, 15.66s/it]\u001b[ASetting `pad_token_id` to 50256 (first `eos_token_id`) to generate sequence\n",
      "\n",
      " 37%|███▋      | 296/800 [1:18:56<2:11:50, 15.69s/it]\u001b[ASetting `pad_token_id` to 50256 (first `eos_token_id`) to generate sequence\n",
      "\n",
      " 37%|███▋      | 297/800 [1:19:11<2:10:31, 15.57s/it]\u001b[ASetting `pad_token_id` to 50256 (first `eos_token_id`) to generate sequence\n",
      "\n",
      " 37%|███▋      | 298/800 [1:19:28<2:12:50, 15.88s/it]\u001b[ASetting `pad_token_id` to 50256 (first `eos_token_id`) to generate sequence\n",
      "\n",
      " 37%|███▋      | 299/800 [1:19:43<2:11:51, 15.79s/it]\u001b[ASetting `pad_token_id` to 50256 (first `eos_token_id`) to generate sequence\n",
      "\n",
      " 38%|███▊      | 300/800 [1:19:59<2:10:55, 15.71s/it]\u001b[ASetting `pad_token_id` to 50256 (first `eos_token_id`) to generate sequence\n",
      "\n",
      " 38%|███▊      | 301/800 [1:20:14<2:10:20, 15.67s/it]\u001b[ASetting `pad_token_id` to 50256 (first `eos_token_id`) to generate sequence\n",
      "\n",
      " 38%|███▊      | 302/800 [1:20:30<2:09:29, 15.60s/it]\u001b[ASetting `pad_token_id` to 50256 (first `eos_token_id`) to generate sequence\n",
      "\n",
      " 38%|███▊      | 303/800 [1:20:45<2:08:47, 15.55s/it]\u001b[ASetting `pad_token_id` to 50256 (first `eos_token_id`) to generate sequence\n",
      "\n",
      " 38%|███▊      | 304/800 [1:21:01<2:09:15, 15.64s/it]\u001b[ASetting `pad_token_id` to 50256 (first `eos_token_id`) to generate sequence\n",
      "\n",
      " 38%|███▊      | 305/800 [1:21:16<2:08:12, 15.54s/it]\u001b[ASetting `pad_token_id` to 50256 (first `eos_token_id`) to generate sequence\n",
      "\n",
      " 38%|███▊      | 306/800 [1:21:32<2:07:43, 15.51s/it]\u001b[ASetting `pad_token_id` to 50256 (first `eos_token_id`) to generate sequence\n",
      "\n",
      " 38%|███▊      | 307/800 [1:21:47<2:06:35, 15.41s/it]\u001b[ASetting `pad_token_id` to 50256 (first `eos_token_id`) to generate sequence\n",
      "\n",
      " 38%|███▊      | 308/800 [1:22:03<2:08:48, 15.71s/it]\u001b[ASetting `pad_token_id` to 50256 (first `eos_token_id`) to generate sequence\n",
      "\n",
      " 39%|███▊      | 309/800 [1:22:21<2:13:11, 16.28s/it]\u001b[ASetting `pad_token_id` to 50256 (first `eos_token_id`) to generate sequence\n",
      "\n",
      " 39%|███▉      | 310/800 [1:22:37<2:12:53, 16.27s/it]\u001b[ASetting `pad_token_id` to 50256 (first `eos_token_id`) to generate sequence\n"
     ]
    },
    {
     "name": "stderr",
     "output_type": "stream",
     "text": [
      "\n",
      " 39%|███▉      | 311/800 [1:22:52<2:08:35, 15.78s/it]\u001b[ASetting `pad_token_id` to 50256 (first `eos_token_id`) to generate sequence\n",
      "\n",
      " 39%|███▉      | 312/800 [1:23:07<2:06:00, 15.49s/it]\u001b[ASetting `pad_token_id` to 50256 (first `eos_token_id`) to generate sequence\n",
      "\n",
      " 39%|███▉      | 313/800 [1:23:23<2:08:09, 15.79s/it]\u001b[ASetting `pad_token_id` to 50256 (first `eos_token_id`) to generate sequence\n",
      "\n",
      " 39%|███▉      | 314/800 [1:23:42<2:14:24, 16.59s/it]\u001b[ASetting `pad_token_id` to 50256 (first `eos_token_id`) to generate sequence\n",
      "\n",
      " 39%|███▉      | 315/800 [1:23:59<2:16:29, 16.89s/it]\u001b[ASetting `pad_token_id` to 50256 (first `eos_token_id`) to generate sequence\n",
      "\n",
      " 40%|███▉      | 316/800 [1:24:16<2:17:03, 16.99s/it]\u001b[ASetting `pad_token_id` to 50256 (first `eos_token_id`) to generate sequence\n",
      "\n",
      " 40%|███▉      | 317/800 [1:24:34<2:17:37, 17.10s/it]\u001b[ASetting `pad_token_id` to 50256 (first `eos_token_id`) to generate sequence\n",
      "\n",
      " 40%|███▉      | 318/800 [1:24:50<2:14:55, 16.80s/it]\u001b[ASetting `pad_token_id` to 50256 (first `eos_token_id`) to generate sequence\n",
      "\n",
      " 40%|███▉      | 319/800 [1:25:06<2:14:14, 16.75s/it]\u001b[ASetting `pad_token_id` to 50256 (first `eos_token_id`) to generate sequence\n",
      "\n",
      " 40%|████      | 320/800 [1:25:24<2:15:16, 16.91s/it]\u001b[ASetting `pad_token_id` to 50256 (first `eos_token_id`) to generate sequence\n",
      "\n",
      " 40%|████      | 321/800 [1:25:42<2:18:10, 17.31s/it]\u001b[ASetting `pad_token_id` to 50256 (first `eos_token_id`) to generate sequence\n",
      "\n",
      " 40%|████      | 322/800 [1:26:00<2:20:45, 17.67s/it]\u001b[ASetting `pad_token_id` to 50256 (first `eos_token_id`) to generate sequence\n",
      "\n",
      " 40%|████      | 323/800 [1:26:20<2:25:58, 18.36s/it]\u001b[ASetting `pad_token_id` to 50256 (first `eos_token_id`) to generate sequence\n",
      "\n",
      " 40%|████      | 324/800 [1:26:41<2:30:42, 19.00s/it]\u001b[ASetting `pad_token_id` to 50256 (first `eos_token_id`) to generate sequence\n",
      "\n",
      " 41%|████      | 325/800 [1:27:01<2:32:55, 19.32s/it]\u001b[ASetting `pad_token_id` to 50256 (first `eos_token_id`) to generate sequence\n",
      "\n",
      " 41%|████      | 326/800 [1:27:21<2:34:52, 19.60s/it]\u001b[ASetting `pad_token_id` to 50256 (first `eos_token_id`) to generate sequence\n",
      "\n",
      " 41%|████      | 327/800 [1:27:40<2:31:36, 19.23s/it]\u001b[ASetting `pad_token_id` to 50256 (first `eos_token_id`) to generate sequence\n",
      "\n",
      " 41%|████      | 328/800 [1:27:56<2:25:38, 18.51s/it]\u001b[ASetting `pad_token_id` to 50256 (first `eos_token_id`) to generate sequence\n",
      "\n",
      " 41%|████      | 329/800 [1:28:12<2:19:12, 17.73s/it]\u001b[ASetting `pad_token_id` to 50256 (first `eos_token_id`) to generate sequence\n",
      "\n",
      " 41%|████▏     | 330/800 [1:28:29<2:16:54, 17.48s/it]\u001b[ASetting `pad_token_id` to 50256 (first `eos_token_id`) to generate sequence\n",
      "\n",
      " 41%|████▏     | 331/800 [1:28:45<2:12:46, 16.99s/it]\u001b[ASetting `pad_token_id` to 50256 (first `eos_token_id`) to generate sequence\n",
      "\n",
      " 42%|████▏     | 332/800 [1:29:06<2:21:41, 18.17s/it]\u001b[ASetting `pad_token_id` to 50256 (first `eos_token_id`) to generate sequence\n",
      "\n",
      " 42%|████▏     | 333/800 [1:29:25<2:23:11, 18.40s/it]\u001b[ASetting `pad_token_id` to 50256 (first `eos_token_id`) to generate sequence\n",
      "\n",
      " 42%|████▏     | 334/800 [1:29:44<2:25:06, 18.68s/it]\u001b[ASetting `pad_token_id` to 50256 (first `eos_token_id`) to generate sequence\n",
      "\n",
      " 42%|████▏     | 335/800 [1:30:04<2:27:02, 18.97s/it]\u001b[ASetting `pad_token_id` to 50256 (first `eos_token_id`) to generate sequence\n",
      "\n",
      " 42%|████▏     | 336/800 [1:30:20<2:19:14, 18.01s/it]\u001b[ASetting `pad_token_id` to 50256 (first `eos_token_id`) to generate sequence\n",
      "\n",
      " 42%|████▏     | 337/800 [1:30:37<2:18:15, 17.92s/it]\u001b[ASetting `pad_token_id` to 50256 (first `eos_token_id`) to generate sequence\n",
      "\n",
      " 42%|████▏     | 338/800 [1:30:53<2:13:49, 17.38s/it]\u001b[ASetting `pad_token_id` to 50256 (first `eos_token_id`) to generate sequence\n",
      "\n",
      " 42%|████▏     | 339/800 [1:31:10<2:12:16, 17.22s/it]\u001b[ASetting `pad_token_id` to 50256 (first `eos_token_id`) to generate sequence\n",
      "\n",
      " 42%|████▎     | 340/800 [1:31:31<2:18:59, 18.13s/it]\u001b[ASetting `pad_token_id` to 50256 (first `eos_token_id`) to generate sequence\n",
      "\n",
      " 43%|████▎     | 341/800 [1:31:47<2:15:40, 17.73s/it]\u001b[ASetting `pad_token_id` to 50256 (first `eos_token_id`) to generate sequence\n",
      "\n",
      " 43%|████▎     | 342/800 [1:32:03<2:09:23, 16.95s/it]\u001b[ASetting `pad_token_id` to 50256 (first `eos_token_id`) to generate sequence\n",
      "\n",
      " 43%|████▎     | 343/800 [1:32:19<2:06:59, 16.67s/it]\u001b[ASetting `pad_token_id` to 50256 (first `eos_token_id`) to generate sequence\n",
      "\n",
      " 43%|████▎     | 344/800 [1:32:38<2:13:51, 17.61s/it]\u001b[ASetting `pad_token_id` to 50256 (first `eos_token_id`) to generate sequence\n",
      "\n",
      " 43%|████▎     | 345/800 [1:32:55<2:11:39, 17.36s/it]\u001b[ASetting `pad_token_id` to 50256 (first `eos_token_id`) to generate sequence\n",
      "\n",
      " 43%|████▎     | 346/800 [1:33:11<2:08:26, 16.98s/it]\u001b[ASetting `pad_token_id` to 50256 (first `eos_token_id`) to generate sequence\n",
      "\n",
      " 43%|████▎     | 347/800 [1:33:29<2:09:17, 17.12s/it]\u001b[ASetting `pad_token_id` to 50256 (first `eos_token_id`) to generate sequence\n",
      "\n",
      " 44%|████▎     | 348/800 [1:33:44<2:04:38, 16.55s/it]\u001b[ASetting `pad_token_id` to 50256 (first `eos_token_id`) to generate sequence\n",
      "\n",
      " 44%|████▎     | 349/800 [1:34:00<2:03:40, 16.45s/it]\u001b[ASetting `pad_token_id` to 50256 (first `eos_token_id`) to generate sequence\n",
      "\n",
      " 44%|████▍     | 350/800 [1:34:17<2:04:51, 16.65s/it]\u001b[ASetting `pad_token_id` to 50256 (first `eos_token_id`) to generate sequence\n",
      "\n",
      " 44%|████▍     | 351/800 [1:34:33<2:03:36, 16.52s/it]\u001b[ASetting `pad_token_id` to 50256 (first `eos_token_id`) to generate sequence\n",
      "\n",
      " 44%|████▍     | 352/800 [1:34:49<2:00:49, 16.18s/it]\u001b[ASetting `pad_token_id` to 50256 (first `eos_token_id`) to generate sequence\n",
      "\n",
      " 44%|████▍     | 353/800 [1:35:04<1:57:47, 15.81s/it]\u001b[ASetting `pad_token_id` to 50256 (first `eos_token_id`) to generate sequence\n",
      "\n",
      " 44%|████▍     | 354/800 [1:35:19<1:57:21, 15.79s/it]\u001b[ASetting `pad_token_id` to 50256 (first `eos_token_id`) to generate sequence\n",
      "\n",
      " 44%|████▍     | 355/800 [1:35:37<2:00:24, 16.23s/it]\u001b[ASetting `pad_token_id` to 50256 (first `eos_token_id`) to generate sequence\n",
      "\n",
      " 44%|████▍     | 356/800 [1:35:56<2:06:34, 17.10s/it]\u001b[ASetting `pad_token_id` to 50256 (first `eos_token_id`) to generate sequence\n",
      "\n",
      " 45%|████▍     | 357/800 [1:36:12<2:04:41, 16.89s/it]\u001b[ASetting `pad_token_id` to 50256 (first `eos_token_id`) to generate sequence\n",
      "\n",
      " 45%|████▍     | 358/800 [1:36:30<2:05:08, 16.99s/it]\u001b[ASetting `pad_token_id` to 50256 (first `eos_token_id`) to generate sequence\n",
      "\n",
      " 45%|████▍     | 359/800 [1:36:46<2:03:11, 16.76s/it]\u001b[ASetting `pad_token_id` to 50256 (first `eos_token_id`) to generate sequence\n",
      "\n",
      " 45%|████▌     | 360/800 [1:37:02<2:01:46, 16.60s/it]\u001b[ASetting `pad_token_id` to 50256 (first `eos_token_id`) to generate sequence\n",
      "\n",
      " 45%|████▌     | 361/800 [1:37:19<2:01:40, 16.63s/it]\u001b[ASetting `pad_token_id` to 50256 (first `eos_token_id`) to generate sequence\n",
      "\n",
      " 45%|████▌     | 362/800 [1:37:36<2:02:17, 16.75s/it]\u001b[ASetting `pad_token_id` to 50256 (first `eos_token_id`) to generate sequence\n",
      "\n",
      " 45%|████▌     | 363/800 [1:37:52<2:01:08, 16.63s/it]\u001b[ASetting `pad_token_id` to 50256 (first `eos_token_id`) to generate sequence\n",
      "\n",
      " 46%|████▌     | 364/800 [1:38:08<1:59:59, 16.51s/it]\u001b[ASetting `pad_token_id` to 50256 (first `eos_token_id`) to generate sequence\n",
      "\n",
      " 46%|████▌     | 365/800 [1:38:25<1:59:05, 16.43s/it]\u001b[ASetting `pad_token_id` to 50256 (first `eos_token_id`) to generate sequence\n",
      "\n",
      " 46%|████▌     | 366/800 [1:38:41<1:58:39, 16.40s/it]\u001b[ASetting `pad_token_id` to 50256 (first `eos_token_id`) to generate sequence\n",
      "\n",
      " 46%|████▌     | 367/800 [1:38:57<1:57:54, 16.34s/it]\u001b[ASetting `pad_token_id` to 50256 (first `eos_token_id`) to generate sequence\n",
      "\n",
      " 46%|████▌     | 368/800 [1:39:13<1:57:29, 16.32s/it]\u001b[ASetting `pad_token_id` to 50256 (first `eos_token_id`) to generate sequence\n",
      "\n",
      " 46%|████▌     | 369/800 [1:39:30<1:57:10, 16.31s/it]\u001b[ASetting `pad_token_id` to 50256 (first `eos_token_id`) to generate sequence\n",
      "\n",
      " 46%|████▋     | 370/800 [1:39:46<1:56:43, 16.29s/it]\u001b[ASetting `pad_token_id` to 50256 (first `eos_token_id`) to generate sequence\n",
      "\n",
      " 46%|████▋     | 371/800 [1:40:02<1:56:13, 16.26s/it]\u001b[ASetting `pad_token_id` to 50256 (first `eos_token_id`) to generate sequence\n",
      "\n",
      " 46%|████▋     | 372/800 [1:40:18<1:55:51, 16.24s/it]\u001b[ASetting `pad_token_id` to 50256 (first `eos_token_id`) to generate sequence\n"
     ]
    },
    {
     "name": "stderr",
     "output_type": "stream",
     "text": [
      "\n",
      " 47%|████▋     | 373/800 [1:40:35<1:55:38, 16.25s/it]\u001b[ASetting `pad_token_id` to 50256 (first `eos_token_id`) to generate sequence\n",
      "\n",
      " 47%|████▋     | 374/800 [1:40:51<1:55:22, 16.25s/it]\u001b[ASetting `pad_token_id` to 50256 (first `eos_token_id`) to generate sequence\n",
      "\n",
      " 47%|████▋     | 375/800 [1:41:09<2:00:02, 16.95s/it]\u001b[ASetting `pad_token_id` to 50256 (first `eos_token_id`) to generate sequence\n",
      "\n",
      " 47%|████▋     | 376/800 [1:41:27<2:00:37, 17.07s/it]\u001b[ASetting `pad_token_id` to 50256 (first `eos_token_id`) to generate sequence\n",
      "\n",
      " 47%|████▋     | 377/800 [1:41:44<2:01:48, 17.28s/it]\u001b[ASetting `pad_token_id` to 50256 (first `eos_token_id`) to generate sequence\n",
      "\n",
      " 47%|████▋     | 378/800 [1:42:01<1:59:57, 17.06s/it]\u001b[ASetting `pad_token_id` to 50256 (first `eos_token_id`) to generate sequence\n",
      "\n",
      " 47%|████▋     | 379/800 [1:42:17<1:58:23, 16.87s/it]\u001b[ASetting `pad_token_id` to 50256 (first `eos_token_id`) to generate sequence\n",
      "\n",
      " 48%|████▊     | 380/800 [1:42:34<1:56:42, 16.67s/it]\u001b[ASetting `pad_token_id` to 50256 (first `eos_token_id`) to generate sequence\n",
      "\n",
      " 48%|████▊     | 381/800 [1:42:49<1:54:41, 16.42s/it]\u001b[ASetting `pad_token_id` to 50256 (first `eos_token_id`) to generate sequence\n",
      "\n",
      " 48%|████▊     | 382/800 [1:43:05<1:53:26, 16.28s/it]\u001b[ASetting `pad_token_id` to 50256 (first `eos_token_id`) to generate sequence\n",
      "\n",
      " 48%|████▊     | 383/800 [1:43:22<1:54:21, 16.45s/it]\u001b[ASetting `pad_token_id` to 50256 (first `eos_token_id`) to generate sequence\n",
      "\n",
      " 48%|████▊     | 384/800 [1:43:40<1:56:55, 16.86s/it]\u001b[ASetting `pad_token_id` to 50256 (first `eos_token_id`) to generate sequence\n",
      "\n",
      " 48%|████▊     | 385/800 [1:43:56<1:53:46, 16.45s/it]\u001b[ASetting `pad_token_id` to 50256 (first `eos_token_id`) to generate sequence\n",
      "\n",
      " 48%|████▊     | 386/800 [1:44:11<1:51:08, 16.11s/it]\u001b[ASetting `pad_token_id` to 50256 (first `eos_token_id`) to generate sequence\n",
      "\n",
      " 48%|████▊     | 387/800 [1:44:27<1:50:19, 16.03s/it]\u001b[ASetting `pad_token_id` to 50256 (first `eos_token_id`) to generate sequence\n",
      "\n",
      " 48%|████▊     | 388/800 [1:44:42<1:47:51, 15.71s/it]\u001b[ASetting `pad_token_id` to 50256 (first `eos_token_id`) to generate sequence\n",
      "\n",
      " 49%|████▊     | 389/800 [1:44:58<1:48:46, 15.88s/it]\u001b[ASetting `pad_token_id` to 50256 (first `eos_token_id`) to generate sequence\n",
      "\n",
      " 49%|████▉     | 390/800 [1:45:13<1:47:12, 15.69s/it]\u001b[ASetting `pad_token_id` to 50256 (first `eos_token_id`) to generate sequence\n",
      "\n",
      " 49%|████▉     | 391/800 [1:45:29<1:46:13, 15.58s/it]\u001b[ASetting `pad_token_id` to 50256 (first `eos_token_id`) to generate sequence\n",
      "\n",
      " 49%|████▉     | 392/800 [1:45:45<1:47:18, 15.78s/it]\u001b[ASetting `pad_token_id` to 50256 (first `eos_token_id`) to generate sequence\n",
      "\n",
      " 49%|████▉     | 393/800 [1:46:01<1:48:04, 15.93s/it]\u001b[ASetting `pad_token_id` to 50256 (first `eos_token_id`) to generate sequence\n",
      "\n",
      " 49%|████▉     | 394/800 [1:46:15<1:44:37, 15.46s/it]\u001b[ASetting `pad_token_id` to 50256 (first `eos_token_id`) to generate sequence\n",
      "\n",
      " 49%|████▉     | 395/800 [1:46:30<1:41:58, 15.11s/it]\u001b[ASetting `pad_token_id` to 50256 (first `eos_token_id`) to generate sequence\n",
      "\n",
      " 50%|████▉     | 396/800 [1:46:44<1:40:04, 14.86s/it]\u001b[ASetting `pad_token_id` to 50256 (first `eos_token_id`) to generate sequence\n",
      "\n",
      " 50%|████▉     | 397/800 [1:46:58<1:38:35, 14.68s/it]\u001b[ASetting `pad_token_id` to 50256 (first `eos_token_id`) to generate sequence\n",
      "\n",
      " 50%|████▉     | 398/800 [1:47:12<1:37:18, 14.52s/it]\u001b[ASetting `pad_token_id` to 50256 (first `eos_token_id`) to generate sequence\n",
      "\n",
      " 50%|████▉     | 399/800 [1:47:27<1:36:22, 14.42s/it]\u001b[ASetting `pad_token_id` to 50256 (first `eos_token_id`) to generate sequence\n",
      "\n",
      " 50%|█████     | 400/800 [1:47:41<1:35:56, 14.39s/it]\u001b[ASetting `pad_token_id` to 50256 (first `eos_token_id`) to generate sequence\n",
      "\n",
      " 50%|█████     | 401/800 [1:48:01<1:47:48, 16.21s/it]\u001b[ASetting `pad_token_id` to 50256 (first `eos_token_id`) to generate sequence\n",
      "\n",
      " 50%|█████     | 402/800 [1:48:21<1:53:36, 17.13s/it]\u001b[ASetting `pad_token_id` to 50256 (first `eos_token_id`) to generate sequence\n",
      "\n",
      " 50%|█████     | 403/800 [1:48:38<1:52:53, 17.06s/it]\u001b[ASetting `pad_token_id` to 50256 (first `eos_token_id`) to generate sequence\n",
      "\n",
      " 50%|█████     | 404/800 [1:48:53<1:49:56, 16.66s/it]\u001b[ASetting `pad_token_id` to 50256 (first `eos_token_id`) to generate sequence\n",
      "\n",
      " 51%|█████     | 405/800 [1:49:10<1:49:02, 16.56s/it]\u001b[ASetting `pad_token_id` to 50256 (first `eos_token_id`) to generate sequence\n",
      "\n",
      " 51%|█████     | 406/800 [1:49:27<1:49:42, 16.71s/it]\u001b[ASetting `pad_token_id` to 50256 (first `eos_token_id`) to generate sequence\n",
      "\n",
      " 51%|█████     | 407/800 [1:49:43<1:49:03, 16.65s/it]\u001b[ASetting `pad_token_id` to 50256 (first `eos_token_id`) to generate sequence\n",
      "\n",
      " 51%|█████     | 408/800 [1:50:00<1:48:54, 16.67s/it]\u001b[ASetting `pad_token_id` to 50256 (first `eos_token_id`) to generate sequence\n",
      "\n",
      " 51%|█████     | 409/800 [1:50:16<1:47:48, 16.54s/it]\u001b[ASetting `pad_token_id` to 50256 (first `eos_token_id`) to generate sequence\n",
      "\n",
      " 51%|█████▏    | 410/800 [1:50:32<1:46:49, 16.43s/it]\u001b[ASetting `pad_token_id` to 50256 (first `eos_token_id`) to generate sequence\n",
      "\n",
      " 51%|█████▏    | 411/800 [1:50:48<1:45:29, 16.27s/it]\u001b[ASetting `pad_token_id` to 50256 (first `eos_token_id`) to generate sequence\n",
      "\n",
      " 52%|█████▏    | 412/800 [1:51:04<1:43:56, 16.07s/it]\u001b[ASetting `pad_token_id` to 50256 (first `eos_token_id`) to generate sequence\n",
      "\n",
      " 52%|█████▏    | 413/800 [1:51:20<1:44:39, 16.23s/it]\u001b[ASetting `pad_token_id` to 50256 (first `eos_token_id`) to generate sequence\n",
      "\n",
      " 52%|█████▏    | 414/800 [1:51:36<1:43:40, 16.12s/it]\u001b[ASetting `pad_token_id` to 50256 (first `eos_token_id`) to generate sequence\n",
      "\n",
      " 52%|█████▏    | 415/800 [1:51:52<1:42:56, 16.04s/it]\u001b[ASetting `pad_token_id` to 50256 (first `eos_token_id`) to generate sequence\n",
      "\n",
      " 52%|█████▏    | 416/800 [1:52:09<1:44:55, 16.39s/it]\u001b[ASetting `pad_token_id` to 50256 (first `eos_token_id`) to generate sequence\n",
      "\n",
      " 52%|█████▏    | 417/800 [1:52:26<1:44:10, 16.32s/it]\u001b[ASetting `pad_token_id` to 50256 (first `eos_token_id`) to generate sequence\n",
      "\n",
      " 52%|█████▏    | 418/800 [1:52:41<1:42:07, 16.04s/it]\u001b[ASetting `pad_token_id` to 50256 (first `eos_token_id`) to generate sequence\n",
      "\n",
      " 52%|█████▏    | 419/800 [1:52:56<1:40:27, 15.82s/it]\u001b[ASetting `pad_token_id` to 50256 (first `eos_token_id`) to generate sequence\n",
      "\n",
      " 52%|█████▎    | 420/800 [1:53:12<1:39:20, 15.68s/it]\u001b[ASetting `pad_token_id` to 50256 (first `eos_token_id`) to generate sequence\n",
      "\n",
      " 53%|█████▎    | 421/800 [1:53:27<1:38:32, 15.60s/it]\u001b[ASetting `pad_token_id` to 50256 (first `eos_token_id`) to generate sequence\n",
      "\n",
      " 53%|█████▎    | 422/800 [1:53:42<1:37:21, 15.45s/it]\u001b[ASetting `pad_token_id` to 50256 (first `eos_token_id`) to generate sequence\n",
      "\n",
      " 53%|█████▎    | 423/800 [1:53:58<1:37:17, 15.48s/it]\u001b[ASetting `pad_token_id` to 50256 (first `eos_token_id`) to generate sequence\n",
      "\n",
      " 53%|█████▎    | 424/800 [1:54:13<1:37:29, 15.56s/it]\u001b[ASetting `pad_token_id` to 50256 (first `eos_token_id`) to generate sequence\n",
      "\n",
      " 53%|█████▎    | 425/800 [1:54:30<1:38:39, 15.79s/it]\u001b[ASetting `pad_token_id` to 50256 (first `eos_token_id`) to generate sequence\n",
      "\n",
      " 53%|█████▎    | 426/800 [1:54:48<1:42:52, 16.50s/it]\u001b[ASetting `pad_token_id` to 50256 (first `eos_token_id`) to generate sequence\n",
      "\n",
      " 53%|█████▎    | 427/800 [1:55:04<1:42:27, 16.48s/it]\u001b[ASetting `pad_token_id` to 50256 (first `eos_token_id`) to generate sequence\n",
      "\n",
      " 54%|█████▎    | 428/800 [1:55:24<1:47:22, 17.32s/it]\u001b[ASetting `pad_token_id` to 50256 (first `eos_token_id`) to generate sequence\n",
      "\n",
      " 54%|█████▎    | 429/800 [1:55:40<1:44:50, 16.96s/it]\u001b[ASetting `pad_token_id` to 50256 (first `eos_token_id`) to generate sequence\n",
      "\n",
      " 54%|█████▍    | 430/800 [1:55:57<1:44:32, 16.95s/it]\u001b[ASetting `pad_token_id` to 50256 (first `eos_token_id`) to generate sequence\n",
      "\n",
      " 54%|█████▍    | 431/800 [1:56:13<1:42:21, 16.64s/it]\u001b[ASetting `pad_token_id` to 50256 (first `eos_token_id`) to generate sequence\n",
      "\n",
      " 54%|█████▍    | 432/800 [1:56:28<1:40:38, 16.41s/it]\u001b[ASetting `pad_token_id` to 50256 (first `eos_token_id`) to generate sequence\n",
      "\n",
      " 54%|█████▍    | 433/800 [1:56:44<1:38:12, 16.06s/it]\u001b[ASetting `pad_token_id` to 50256 (first `eos_token_id`) to generate sequence\n",
      "\n",
      " 54%|█████▍    | 434/800 [1:56:59<1:36:14, 15.78s/it]\u001b[ASetting `pad_token_id` to 50256 (first `eos_token_id`) to generate sequence\n"
     ]
    },
    {
     "name": "stderr",
     "output_type": "stream",
     "text": [
      "\n",
      " 54%|█████▍    | 435/800 [1:57:15<1:36:48, 15.91s/it]\u001b[ASetting `pad_token_id` to 50256 (first `eos_token_id`) to generate sequence\n",
      "\n",
      " 55%|█████▍    | 436/800 [1:57:34<1:41:16, 16.69s/it]\u001b[ASetting `pad_token_id` to 50256 (first `eos_token_id`) to generate sequence\n",
      "\n",
      " 55%|█████▍    | 437/800 [1:57:51<1:41:35, 16.79s/it]\u001b[ASetting `pad_token_id` to 50256 (first `eos_token_id`) to generate sequence\n",
      "\n",
      " 55%|█████▍    | 438/800 [1:58:07<1:40:53, 16.72s/it]\u001b[ASetting `pad_token_id` to 50256 (first `eos_token_id`) to generate sequence\n",
      "\n",
      " 55%|█████▍    | 439/800 [1:58:23<1:38:45, 16.41s/it]\u001b[ASetting `pad_token_id` to 50256 (first `eos_token_id`) to generate sequence\n",
      "\n",
      " 55%|█████▌    | 440/800 [1:58:39<1:38:55, 16.49s/it]\u001b[ASetting `pad_token_id` to 50256 (first `eos_token_id`) to generate sequence\n",
      "\n",
      " 55%|█████▌    | 441/800 [1:58:57<1:40:11, 16.75s/it]\u001b[ASetting `pad_token_id` to 50256 (first `eos_token_id`) to generate sequence\n",
      "\n",
      " 55%|█████▌    | 442/800 [1:59:13<1:39:12, 16.63s/it]\u001b[ASetting `pad_token_id` to 50256 (first `eos_token_id`) to generate sequence\n",
      "\n",
      " 55%|█████▌    | 443/800 [1:59:31<1:41:37, 17.08s/it]\u001b[ASetting `pad_token_id` to 50256 (first `eos_token_id`) to generate sequence\n",
      "\n",
      " 56%|█████▌    | 444/800 [1:59:51<1:45:25, 17.77s/it]\u001b[ASetting `pad_token_id` to 50256 (first `eos_token_id`) to generate sequence\n",
      "\n",
      " 56%|█████▌    | 445/800 [2:00:09<1:45:21, 17.81s/it]\u001b[ASetting `pad_token_id` to 50256 (first `eos_token_id`) to generate sequence\n",
      "\n",
      " 56%|█████▌    | 446/800 [2:00:25<1:42:46, 17.42s/it]\u001b[ASetting `pad_token_id` to 50256 (first `eos_token_id`) to generate sequence\n",
      "\n",
      " 56%|█████▌    | 447/800 [2:00:44<1:45:16, 17.89s/it]\u001b[ASetting `pad_token_id` to 50256 (first `eos_token_id`) to generate sequence\n",
      "\n",
      " 56%|█████▌    | 448/800 [2:01:01<1:42:49, 17.53s/it]\u001b[ASetting `pad_token_id` to 50256 (first `eos_token_id`) to generate sequence\n",
      "\n",
      " 56%|█████▌    | 449/800 [2:01:18<1:42:33, 17.53s/it]\u001b[ASetting `pad_token_id` to 50256 (first `eos_token_id`) to generate sequence\n",
      "\n",
      " 56%|█████▋    | 450/800 [2:01:35<1:41:34, 17.41s/it]\u001b[ASetting `pad_token_id` to 50256 (first `eos_token_id`) to generate sequence\n",
      "\n",
      " 56%|█████▋    | 451/800 [2:01:52<1:40:24, 17.26s/it]\u001b[ASetting `pad_token_id` to 50256 (first `eos_token_id`) to generate sequence\n",
      "\n",
      " 56%|█████▋    | 452/800 [2:02:10<1:40:25, 17.31s/it]\u001b[ASetting `pad_token_id` to 50256 (first `eos_token_id`) to generate sequence\n",
      "\n",
      " 57%|█████▋    | 453/800 [2:02:27<1:40:11, 17.32s/it]\u001b[ASetting `pad_token_id` to 50256 (first `eos_token_id`) to generate sequence\n",
      "\n",
      " 57%|█████▋    | 454/800 [2:02:45<1:41:31, 17.61s/it]\u001b[ASetting `pad_token_id` to 50256 (first `eos_token_id`) to generate sequence\n",
      "\n",
      " 57%|█████▋    | 455/800 [2:03:03<1:41:25, 17.64s/it]\u001b[ASetting `pad_token_id` to 50256 (first `eos_token_id`) to generate sequence\n",
      "\n",
      " 57%|█████▋    | 456/800 [2:03:20<1:39:19, 17.32s/it]\u001b[ASetting `pad_token_id` to 50256 (first `eos_token_id`) to generate sequence\n",
      "\n",
      " 57%|█████▋    | 457/800 [2:03:36<1:36:42, 16.92s/it]\u001b[ASetting `pad_token_id` to 50256 (first `eos_token_id`) to generate sequence\n",
      "\n",
      " 57%|█████▋    | 458/800 [2:03:52<1:35:54, 16.83s/it]\u001b[ASetting `pad_token_id` to 50256 (first `eos_token_id`) to generate sequence\n",
      "\n",
      " 57%|█████▋    | 459/800 [2:04:09<1:34:44, 16.67s/it]\u001b[ASetting `pad_token_id` to 50256 (first `eos_token_id`) to generate sequence\n",
      "\n",
      " 57%|█████▊    | 460/800 [2:04:26<1:36:06, 16.96s/it]\u001b[ASetting `pad_token_id` to 50256 (first `eos_token_id`) to generate sequence\n",
      "\n",
      " 58%|█████▊    | 461/800 [2:04:43<1:35:35, 16.92s/it]\u001b[ASetting `pad_token_id` to 50256 (first `eos_token_id`) to generate sequence\n",
      "\n",
      " 58%|█████▊    | 462/800 [2:05:00<1:35:59, 17.04s/it]\u001b[ASetting `pad_token_id` to 50256 (first `eos_token_id`) to generate sequence\n",
      "\n",
      " 58%|█████▊    | 463/800 [2:05:17<1:35:41, 17.04s/it]\u001b[ASetting `pad_token_id` to 50256 (first `eos_token_id`) to generate sequence\n",
      "\n",
      " 58%|█████▊    | 464/800 [2:05:35<1:35:47, 17.11s/it]\u001b[ASetting `pad_token_id` to 50256 (first `eos_token_id`) to generate sequence\n",
      "\n",
      " 58%|█████▊    | 465/800 [2:05:51<1:34:15, 16.88s/it]\u001b[ASetting `pad_token_id` to 50256 (first `eos_token_id`) to generate sequence\n",
      "\n",
      " 58%|█████▊    | 466/800 [2:06:08<1:34:19, 16.94s/it]\u001b[ASetting `pad_token_id` to 50256 (first `eos_token_id`) to generate sequence\n",
      "\n",
      " 58%|█████▊    | 467/800 [2:06:25<1:34:00, 16.94s/it]\u001b[ASetting `pad_token_id` to 50256 (first `eos_token_id`) to generate sequence\n",
      "\n",
      " 58%|█████▊    | 468/800 [2:06:42<1:34:01, 16.99s/it]\u001b[ASetting `pad_token_id` to 50256 (first `eos_token_id`) to generate sequence\n",
      "\n",
      " 59%|█████▊    | 469/800 [2:06:59<1:33:38, 16.97s/it]\u001b[ASetting `pad_token_id` to 50256 (first `eos_token_id`) to generate sequence\n",
      "\n",
      " 59%|█████▉    | 470/800 [2:07:17<1:34:22, 17.16s/it]\u001b[ASetting `pad_token_id` to 50256 (first `eos_token_id`) to generate sequence\n",
      "\n",
      " 59%|█████▉    | 471/800 [2:07:33<1:32:48, 16.93s/it]\u001b[ASetting `pad_token_id` to 50256 (first `eos_token_id`) to generate sequence\n",
      "\n",
      " 59%|█████▉    | 472/800 [2:07:50<1:32:45, 16.97s/it]\u001b[ASetting `pad_token_id` to 50256 (first `eos_token_id`) to generate sequence\n",
      "\n",
      " 59%|█████▉    | 473/800 [2:08:07<1:31:32, 16.80s/it]\u001b[ASetting `pad_token_id` to 50256 (first `eos_token_id`) to generate sequence\n",
      "\n",
      " 59%|█████▉    | 474/800 [2:08:23<1:30:22, 16.63s/it]\u001b[ASetting `pad_token_id` to 50256 (first `eos_token_id`) to generate sequence\n",
      "\n",
      " 59%|█████▉    | 475/800 [2:08:39<1:29:50, 16.59s/it]\u001b[ASetting `pad_token_id` to 50256 (first `eos_token_id`) to generate sequence\n",
      "\n",
      " 60%|█████▉    | 476/800 [2:08:56<1:29:13, 16.52s/it]\u001b[ASetting `pad_token_id` to 50256 (first `eos_token_id`) to generate sequence\n",
      "\n",
      " 60%|█████▉    | 477/800 [2:09:12<1:28:31, 16.44s/it]\u001b[ASetting `pad_token_id` to 50256 (first `eos_token_id`) to generate sequence\n",
      "\n",
      " 60%|█████▉    | 478/800 [2:09:29<1:28:38, 16.52s/it]\u001b[ASetting `pad_token_id` to 50256 (first `eos_token_id`) to generate sequence\n",
      "\n",
      " 60%|█████▉    | 479/800 [2:09:45<1:27:46, 16.41s/it]\u001b[ASetting `pad_token_id` to 50256 (first `eos_token_id`) to generate sequence\n",
      "\n",
      " 60%|██████    | 480/800 [2:10:02<1:28:56, 16.68s/it]\u001b[ASetting `pad_token_id` to 50256 (first `eos_token_id`) to generate sequence\n",
      "\n",
      " 60%|██████    | 481/800 [2:10:21<1:31:38, 17.24s/it]\u001b[ASetting `pad_token_id` to 50256 (first `eos_token_id`) to generate sequence\n",
      "\n",
      " 60%|██████    | 482/800 [2:10:39<1:32:38, 17.48s/it]\u001b[ASetting `pad_token_id` to 50256 (first `eos_token_id`) to generate sequence\n",
      "\n",
      " 60%|██████    | 483/800 [2:10:55<1:31:00, 17.23s/it]\u001b[ASetting `pad_token_id` to 50256 (first `eos_token_id`) to generate sequence\n",
      "\n",
      " 60%|██████    | 484/800 [2:11:10<1:27:03, 16.53s/it]\u001b[ASetting `pad_token_id` to 50256 (first `eos_token_id`) to generate sequence\n",
      "\n",
      " 61%|██████    | 485/800 [2:11:25<1:24:23, 16.07s/it]\u001b[ASetting `pad_token_id` to 50256 (first `eos_token_id`) to generate sequence\n",
      "\n",
      " 61%|██████    | 486/800 [2:11:40<1:22:19, 15.73s/it]\u001b[ASetting `pad_token_id` to 50256 (first `eos_token_id`) to generate sequence\n",
      "\n",
      " 61%|██████    | 487/800 [2:11:55<1:20:49, 15.49s/it]\u001b[ASetting `pad_token_id` to 50256 (first `eos_token_id`) to generate sequence\n",
      "\n",
      " 61%|██████    | 488/800 [2:12:10<1:19:41, 15.32s/it]\u001b[ASetting `pad_token_id` to 50256 (first `eos_token_id`) to generate sequence\n",
      "\n",
      " 61%|██████    | 489/800 [2:12:25<1:19:09, 15.27s/it]\u001b[ASetting `pad_token_id` to 50256 (first `eos_token_id`) to generate sequence\n",
      "\n",
      " 61%|██████▏   | 490/800 [2:12:40<1:18:19, 15.16s/it]\u001b[ASetting `pad_token_id` to 50256 (first `eos_token_id`) to generate sequence\n",
      "\n",
      " 61%|██████▏   | 491/800 [2:12:55<1:17:55, 15.13s/it]\u001b[ASetting `pad_token_id` to 50256 (first `eos_token_id`) to generate sequence\n",
      "\n",
      " 62%|██████▏   | 492/800 [2:13:10<1:17:16, 15.05s/it]\u001b[ASetting `pad_token_id` to 50256 (first `eos_token_id`) to generate sequence\n",
      "\n",
      " 62%|██████▏   | 493/800 [2:13:25<1:17:25, 15.13s/it]\u001b[ASetting `pad_token_id` to 50256 (first `eos_token_id`) to generate sequence\n",
      "\n",
      " 62%|██████▏   | 494/800 [2:13:40<1:17:00, 15.10s/it]\u001b[ASetting `pad_token_id` to 50256 (first `eos_token_id`) to generate sequence\n",
      "\n",
      " 62%|██████▏   | 495/800 [2:13:55<1:16:28, 15.04s/it]\u001b[ASetting `pad_token_id` to 50256 (first `eos_token_id`) to generate sequence\n",
      "\n",
      " 62%|██████▏   | 496/800 [2:14:10<1:16:01, 15.01s/it]\u001b[ASetting `pad_token_id` to 50256 (first `eos_token_id`) to generate sequence\n"
     ]
    },
    {
     "name": "stderr",
     "output_type": "stream",
     "text": [
      "\n",
      " 62%|██████▏   | 497/800 [2:14:25<1:16:03, 15.06s/it]\u001b[ASetting `pad_token_id` to 50256 (first `eos_token_id`) to generate sequence\n",
      "\n",
      " 62%|██████▏   | 498/800 [2:14:40<1:15:57, 15.09s/it]\u001b[ASetting `pad_token_id` to 50256 (first `eos_token_id`) to generate sequence\n",
      "\n",
      " 62%|██████▏   | 499/800 [2:15:00<1:21:58, 16.34s/it]\u001b[ASetting `pad_token_id` to 50256 (first `eos_token_id`) to generate sequence\n",
      "\n",
      " 62%|██████▎   | 500/800 [2:15:25<1:35:47, 19.16s/it]\u001b[ASetting `pad_token_id` to 50256 (first `eos_token_id`) to generate sequence\n",
      "\n",
      " 63%|██████▎   | 501/800 [2:15:41<1:30:35, 18.18s/it]\u001b[ASetting `pad_token_id` to 50256 (first `eos_token_id`) to generate sequence\n",
      "\n",
      " 63%|██████▎   | 502/800 [2:15:58<1:27:23, 17.60s/it]\u001b[ASetting `pad_token_id` to 50256 (first `eos_token_id`) to generate sequence\n",
      "\n",
      " 63%|██████▎   | 503/800 [2:16:13<1:23:35, 16.89s/it]\u001b[ASetting `pad_token_id` to 50256 (first `eos_token_id`) to generate sequence\n",
      "\n",
      " 63%|██████▎   | 504/800 [2:16:28<1:20:51, 16.39s/it]\u001b[ASetting `pad_token_id` to 50256 (first `eos_token_id`) to generate sequence\n",
      "\n",
      " 63%|██████▎   | 505/800 [2:16:44<1:19:48, 16.23s/it]\u001b[ASetting `pad_token_id` to 50256 (first `eos_token_id`) to generate sequence\n",
      "\n",
      " 63%|██████▎   | 506/800 [2:16:59<1:18:01, 15.92s/it]\u001b[ASetting `pad_token_id` to 50256 (first `eos_token_id`) to generate sequence\n",
      "\n",
      " 63%|██████▎   | 507/800 [2:17:14<1:16:22, 15.64s/it]\u001b[ASetting `pad_token_id` to 50256 (first `eos_token_id`) to generate sequence\n",
      "\n",
      " 64%|██████▎   | 508/800 [2:17:29<1:15:18, 15.47s/it]\u001b[ASetting `pad_token_id` to 50256 (first `eos_token_id`) to generate sequence\n",
      "\n",
      " 64%|██████▎   | 509/800 [2:17:44<1:14:23, 15.34s/it]\u001b[ASetting `pad_token_id` to 50256 (first `eos_token_id`) to generate sequence\n",
      "\n",
      " 64%|██████▍   | 510/800 [2:17:59<1:13:44, 15.26s/it]\u001b[ASetting `pad_token_id` to 50256 (first `eos_token_id`) to generate sequence\n",
      "\n",
      " 64%|██████▍   | 511/800 [2:18:13<1:11:36, 14.87s/it]\u001b[ASetting `pad_token_id` to 50256 (first `eos_token_id`) to generate sequence\n",
      "\n",
      " 64%|██████▍   | 512/800 [2:18:27<1:10:24, 14.67s/it]\u001b[ASetting `pad_token_id` to 50256 (first `eos_token_id`) to generate sequence\n",
      "\n",
      " 64%|██████▍   | 513/800 [2:18:42<1:09:29, 14.53s/it]\u001b[ASetting `pad_token_id` to 50256 (first `eos_token_id`) to generate sequence\n",
      "\n",
      " 64%|██████▍   | 514/800 [2:18:56<1:08:58, 14.47s/it]\u001b[ASetting `pad_token_id` to 50256 (first `eos_token_id`) to generate sequence\n",
      "\n",
      " 64%|██████▍   | 515/800 [2:19:10<1:08:20, 14.39s/it]\u001b[ASetting `pad_token_id` to 50256 (first `eos_token_id`) to generate sequence\n",
      "\n",
      " 64%|██████▍   | 516/800 [2:19:24<1:07:58, 14.36s/it]\u001b[ASetting `pad_token_id` to 50256 (first `eos_token_id`) to generate sequence\n",
      "\n",
      " 65%|██████▍   | 517/800 [2:19:39<1:07:40, 14.35s/it]\u001b[ASetting `pad_token_id` to 50256 (first `eos_token_id`) to generate sequence\n",
      "\n",
      " 65%|██████▍   | 518/800 [2:19:53<1:07:11, 14.30s/it]\u001b[ASetting `pad_token_id` to 50256 (first `eos_token_id`) to generate sequence\n",
      "\n",
      " 65%|██████▍   | 519/800 [2:20:07<1:06:49, 14.27s/it]\u001b[ASetting `pad_token_id` to 50256 (first `eos_token_id`) to generate sequence\n",
      "\n",
      " 65%|██████▌   | 520/800 [2:20:21<1:06:09, 14.18s/it]\u001b[ASetting `pad_token_id` to 50256 (first `eos_token_id`) to generate sequence\n",
      "\n",
      " 65%|██████▌   | 521/800 [2:20:36<1:07:05, 14.43s/it]\u001b[ASetting `pad_token_id` to 50256 (first `eos_token_id`) to generate sequence\n",
      "\n",
      " 65%|██████▌   | 522/800 [2:20:51<1:07:52, 14.65s/it]\u001b[ASetting `pad_token_id` to 50256 (first `eos_token_id`) to generate sequence\n",
      "\n",
      " 65%|██████▌   | 523/800 [2:21:06<1:08:07, 14.76s/it]\u001b[ASetting `pad_token_id` to 50256 (first `eos_token_id`) to generate sequence\n",
      "\n",
      " 66%|██████▌   | 524/800 [2:21:21<1:08:12, 14.83s/it]\u001b[ASetting `pad_token_id` to 50256 (first `eos_token_id`) to generate sequence\n",
      "\n",
      " 66%|██████▌   | 525/800 [2:21:36<1:08:12, 14.88s/it]\u001b[ASetting `pad_token_id` to 50256 (first `eos_token_id`) to generate sequence\n",
      "\n",
      " 66%|██████▌   | 526/800 [2:21:51<1:08:07, 14.92s/it]\u001b[ASetting `pad_token_id` to 50256 (first `eos_token_id`) to generate sequence\n",
      "\n",
      " 66%|██████▌   | 527/800 [2:22:06<1:08:13, 14.99s/it]\u001b[ASetting `pad_token_id` to 50256 (first `eos_token_id`) to generate sequence\n",
      "\n",
      " 66%|██████▌   | 528/800 [2:22:22<1:08:02, 15.01s/it]\u001b[ASetting `pad_token_id` to 50256 (first `eos_token_id`) to generate sequence\n",
      "\n",
      " 66%|██████▌   | 529/800 [2:22:37<1:08:04, 15.07s/it]\u001b[ASetting `pad_token_id` to 50256 (first `eos_token_id`) to generate sequence\n",
      "\n",
      " 66%|██████▋   | 530/800 [2:22:52<1:07:53, 15.09s/it]\u001b[ASetting `pad_token_id` to 50256 (first `eos_token_id`) to generate sequence\n",
      "\n",
      " 66%|██████▋   | 531/800 [2:23:07<1:07:59, 15.17s/it]\u001b[ASetting `pad_token_id` to 50256 (first `eos_token_id`) to generate sequence\n",
      "\n",
      " 66%|██████▋   | 532/800 [2:23:23<1:08:43, 15.38s/it]\u001b[ASetting `pad_token_id` to 50256 (first `eos_token_id`) to generate sequence\n",
      "\n",
      " 67%|██████▋   | 533/800 [2:23:38<1:08:04, 15.30s/it]\u001b[ASetting `pad_token_id` to 50256 (first `eos_token_id`) to generate sequence\n",
      "\n",
      " 67%|██████▋   | 534/800 [2:23:53<1:07:35, 15.25s/it]\u001b[ASetting `pad_token_id` to 50256 (first `eos_token_id`) to generate sequence\n",
      "\n",
      " 67%|██████▋   | 535/800 [2:24:08<1:07:06, 15.20s/it]\u001b[ASetting `pad_token_id` to 50256 (first `eos_token_id`) to generate sequence\n",
      "\n",
      " 67%|██████▋   | 536/800 [2:24:23<1:06:34, 15.13s/it]\u001b[ASetting `pad_token_id` to 50256 (first `eos_token_id`) to generate sequence\n",
      "\n",
      " 67%|██████▋   | 537/800 [2:24:38<1:05:54, 15.04s/it]\u001b[ASetting `pad_token_id` to 50256 (first `eos_token_id`) to generate sequence\n",
      "\n",
      " 67%|██████▋   | 538/800 [2:24:53<1:05:43, 15.05s/it]\u001b[ASetting `pad_token_id` to 50256 (first `eos_token_id`) to generate sequence\n",
      "\n",
      " 67%|██████▋   | 539/800 [2:25:08<1:05:26, 15.04s/it]\u001b[ASetting `pad_token_id` to 50256 (first `eos_token_id`) to generate sequence\n",
      "\n",
      " 68%|██████▊   | 540/800 [2:25:23<1:05:08, 15.03s/it]\u001b[ASetting `pad_token_id` to 50256 (first `eos_token_id`) to generate sequence\n",
      "\n",
      " 68%|██████▊   | 541/800 [2:25:38<1:04:51, 15.02s/it]\u001b[ASetting `pad_token_id` to 50256 (first `eos_token_id`) to generate sequence\n",
      "\n",
      " 68%|██████▊   | 542/800 [2:25:53<1:04:31, 15.00s/it]\u001b[ASetting `pad_token_id` to 50256 (first `eos_token_id`) to generate sequence\n",
      "\n",
      " 68%|██████▊   | 543/800 [2:26:08<1:04:12, 14.99s/it]\u001b[ASetting `pad_token_id` to 50256 (first `eos_token_id`) to generate sequence\n",
      "\n",
      " 68%|██████▊   | 544/800 [2:26:23<1:04:10, 15.04s/it]\u001b[ASetting `pad_token_id` to 50256 (first `eos_token_id`) to generate sequence\n",
      "\n",
      " 68%|██████▊   | 545/800 [2:26:38<1:03:48, 15.01s/it]\u001b[ASetting `pad_token_id` to 50256 (first `eos_token_id`) to generate sequence\n",
      "\n",
      " 68%|██████▊   | 546/800 [2:26:55<1:05:36, 15.50s/it]\u001b[ASetting `pad_token_id` to 50256 (first `eos_token_id`) to generate sequence\n",
      "\n",
      " 68%|██████▊   | 547/800 [2:27:11<1:06:22, 15.74s/it]\u001b[ASetting `pad_token_id` to 50256 (first `eos_token_id`) to generate sequence\n",
      "\n",
      " 68%|██████▊   | 548/800 [2:27:29<1:08:19, 16.27s/it]\u001b[ASetting `pad_token_id` to 50256 (first `eos_token_id`) to generate sequence\n",
      "\n",
      " 69%|██████▊   | 549/800 [2:27:45<1:08:21, 16.34s/it]\u001b[ASetting `pad_token_id` to 50256 (first `eos_token_id`) to generate sequence\n",
      "\n",
      " 69%|██████▉   | 550/800 [2:28:00<1:06:30, 15.96s/it]\u001b[ASetting `pad_token_id` to 50256 (first `eos_token_id`) to generate sequence\n",
      "\n",
      " 69%|██████▉   | 551/800 [2:28:15<1:04:02, 15.43s/it]\u001b[ASetting `pad_token_id` to 50256 (first `eos_token_id`) to generate sequence\n",
      "\n",
      " 69%|██████▉   | 552/800 [2:28:29<1:02:20, 15.08s/it]\u001b[ASetting `pad_token_id` to 50256 (first `eos_token_id`) to generate sequence\n",
      "\n",
      " 69%|██████▉   | 553/800 [2:28:43<1:00:54, 14.80s/it]\u001b[ASetting `pad_token_id` to 50256 (first `eos_token_id`) to generate sequence\n",
      "\n",
      " 69%|██████▉   | 554/800 [2:28:57<1:00:02, 14.64s/it]\u001b[ASetting `pad_token_id` to 50256 (first `eos_token_id`) to generate sequence\n",
      "\n",
      " 69%|██████▉   | 555/800 [2:29:12<59:57, 14.68s/it]  \u001b[ASetting `pad_token_id` to 50256 (first `eos_token_id`) to generate sequence\n",
      "\n",
      " 70%|██████▉   | 556/800 [2:29:26<58:50, 14.47s/it]\u001b[ASetting `pad_token_id` to 50256 (first `eos_token_id`) to generate sequence\n",
      "\n",
      " 70%|██████▉   | 557/800 [2:29:40<58:10, 14.36s/it]\u001b[ASetting `pad_token_id` to 50256 (first `eos_token_id`) to generate sequence\n",
      "\n",
      " 70%|██████▉   | 558/800 [2:29:54<57:40, 14.30s/it]\u001b[ASetting `pad_token_id` to 50256 (first `eos_token_id`) to generate sequence\n"
     ]
    },
    {
     "name": "stderr",
     "output_type": "stream",
     "text": [
      "\n",
      " 70%|██████▉   | 559/800 [2:30:08<57:16, 14.26s/it]\u001b[ASetting `pad_token_id` to 50256 (first `eos_token_id`) to generate sequence\n",
      "\n",
      " 70%|███████   | 560/800 [2:30:23<56:52, 14.22s/it]\u001b[ASetting `pad_token_id` to 50256 (first `eos_token_id`) to generate sequence\n",
      "\n",
      " 70%|███████   | 561/800 [2:30:38<57:31, 14.44s/it]\u001b[ASetting `pad_token_id` to 50256 (first `eos_token_id`) to generate sequence\n",
      "\n",
      " 70%|███████   | 562/800 [2:30:53<58:04, 14.64s/it]\u001b[ASetting `pad_token_id` to 50256 (first `eos_token_id`) to generate sequence\n",
      "\n",
      " 70%|███████   | 563/800 [2:31:08<58:09, 14.73s/it]\u001b[ASetting `pad_token_id` to 50256 (first `eos_token_id`) to generate sequence\n",
      "\n",
      " 70%|███████   | 564/800 [2:31:23<58:19, 14.83s/it]\u001b[ASetting `pad_token_id` to 50256 (first `eos_token_id`) to generate sequence\n",
      "\n",
      " 71%|███████   | 565/800 [2:31:39<59:34, 15.21s/it]\u001b[ASetting `pad_token_id` to 50256 (first `eos_token_id`) to generate sequence\n",
      "\n",
      " 71%|███████   | 566/800 [2:31:54<59:26, 15.24s/it]\u001b[ASetting `pad_token_id` to 50256 (first `eos_token_id`) to generate sequence\n",
      "\n",
      " 71%|███████   | 567/800 [2:32:09<59:14, 15.26s/it]\u001b[ASetting `pad_token_id` to 50256 (first `eos_token_id`) to generate sequence\n",
      "\n",
      " 71%|███████   | 568/800 [2:32:25<59:57, 15.51s/it]\u001b[ASetting `pad_token_id` to 50256 (first `eos_token_id`) to generate sequence\n",
      "\n",
      " 71%|███████   | 569/800 [2:32:41<59:47, 15.53s/it]\u001b[ASetting `pad_token_id` to 50256 (first `eos_token_id`) to generate sequence\n",
      "\n",
      " 71%|███████▏  | 570/800 [2:32:56<59:03, 15.41s/it]\u001b[ASetting `pad_token_id` to 50256 (first `eos_token_id`) to generate sequence\n",
      "\n",
      " 71%|███████▏  | 571/800 [2:33:11<58:09, 15.24s/it]\u001b[ASetting `pad_token_id` to 50256 (first `eos_token_id`) to generate sequence\n",
      "\n",
      " 72%|███████▏  | 572/800 [2:33:26<57:17, 15.08s/it]\u001b[ASetting `pad_token_id` to 50256 (first `eos_token_id`) to generate sequence\n",
      "\n",
      " 72%|███████▏  | 573/800 [2:33:41<56:48, 15.01s/it]\u001b[ASetting `pad_token_id` to 50256 (first `eos_token_id`) to generate sequence\n",
      "\n",
      " 72%|███████▏  | 574/800 [2:33:56<56:32, 15.01s/it]\u001b[ASetting `pad_token_id` to 50256 (first `eos_token_id`) to generate sequence\n",
      "\n",
      " 72%|███████▏  | 575/800 [2:34:10<56:11, 14.98s/it]\u001b[ASetting `pad_token_id` to 50256 (first `eos_token_id`) to generate sequence\n",
      "\n",
      " 72%|███████▏  | 576/800 [2:34:25<55:49, 14.95s/it]\u001b[ASetting `pad_token_id` to 50256 (first `eos_token_id`) to generate sequence\n",
      "\n",
      " 72%|███████▏  | 577/800 [2:34:40<55:33, 14.95s/it]\u001b[ASetting `pad_token_id` to 50256 (first `eos_token_id`) to generate sequence\n",
      "\n",
      " 72%|███████▏  | 578/800 [2:34:55<55:21, 14.96s/it]\u001b[ASetting `pad_token_id` to 50256 (first `eos_token_id`) to generate sequence\n",
      "\n",
      " 72%|███████▏  | 579/800 [2:35:10<54:58, 14.92s/it]\u001b[ASetting `pad_token_id` to 50256 (first `eos_token_id`) to generate sequence\n",
      "\n",
      " 72%|███████▎  | 580/800 [2:35:25<54:46, 14.94s/it]\u001b[ASetting `pad_token_id` to 50256 (first `eos_token_id`) to generate sequence\n",
      "\n",
      " 73%|███████▎  | 581/800 [2:35:40<54:22, 14.90s/it]\u001b[ASetting `pad_token_id` to 50256 (first `eos_token_id`) to generate sequence\n",
      "\n",
      " 73%|███████▎  | 582/800 [2:35:55<54:05, 14.89s/it]\u001b[ASetting `pad_token_id` to 50256 (first `eos_token_id`) to generate sequence\n",
      "\n",
      " 73%|███████▎  | 583/800 [2:36:10<53:48, 14.88s/it]\u001b[ASetting `pad_token_id` to 50256 (first `eos_token_id`) to generate sequence\n",
      "\n",
      " 73%|███████▎  | 584/800 [2:36:24<53:30, 14.86s/it]\u001b[ASetting `pad_token_id` to 50256 (first `eos_token_id`) to generate sequence\n",
      "\n",
      " 73%|███████▎  | 585/800 [2:36:40<53:39, 14.97s/it]\u001b[ASetting `pad_token_id` to 50256 (first `eos_token_id`) to generate sequence\n",
      "\n",
      " 73%|███████▎  | 586/800 [2:36:55<53:47, 15.08s/it]\u001b[ASetting `pad_token_id` to 50256 (first `eos_token_id`) to generate sequence\n",
      "\n",
      " 73%|███████▎  | 587/800 [2:37:10<53:32, 15.08s/it]\u001b[ASetting `pad_token_id` to 50256 (first `eos_token_id`) to generate sequence\n",
      "\n",
      " 74%|███████▎  | 588/800 [2:37:25<53:09, 15.05s/it]\u001b[ASetting `pad_token_id` to 50256 (first `eos_token_id`) to generate sequence\n",
      "\n",
      " 74%|███████▎  | 589/800 [2:37:40<52:43, 14.99s/it]\u001b[ASetting `pad_token_id` to 50256 (first `eos_token_id`) to generate sequence\n",
      "\n",
      " 74%|███████▍  | 590/800 [2:37:55<52:16, 14.94s/it]\u001b[ASetting `pad_token_id` to 50256 (first `eos_token_id`) to generate sequence\n",
      "\n",
      " 74%|███████▍  | 591/800 [2:38:09<51:07, 14.68s/it]\u001b[ASetting `pad_token_id` to 50256 (first `eos_token_id`) to generate sequence\n",
      "\n",
      " 74%|███████▍  | 592/800 [2:38:23<50:13, 14.49s/it]\u001b[ASetting `pad_token_id` to 50256 (first `eos_token_id`) to generate sequence\n",
      "\n",
      " 74%|███████▍  | 593/800 [2:38:37<49:28, 14.34s/it]\u001b[ASetting `pad_token_id` to 50256 (first `eos_token_id`) to generate sequence\n",
      "\n",
      " 74%|███████▍  | 594/800 [2:38:51<49:04, 14.29s/it]\u001b[ASetting `pad_token_id` to 50256 (first `eos_token_id`) to generate sequence\n",
      "\n",
      " 74%|███████▍  | 595/800 [2:39:05<48:33, 14.21s/it]\u001b[ASetting `pad_token_id` to 50256 (first `eos_token_id`) to generate sequence\n",
      "\n",
      " 74%|███████▍  | 596/800 [2:39:19<48:04, 14.14s/it]\u001b[ASetting `pad_token_id` to 50256 (first `eos_token_id`) to generate sequence\n",
      "\n",
      " 75%|███████▍  | 597/800 [2:39:33<47:53, 14.16s/it]\u001b[ASetting `pad_token_id` to 50256 (first `eos_token_id`) to generate sequence\n",
      "\n",
      " 75%|███████▍  | 598/800 [2:39:47<47:30, 14.11s/it]\u001b[ASetting `pad_token_id` to 50256 (first `eos_token_id`) to generate sequence\n",
      "\n",
      " 75%|███████▍  | 599/800 [2:40:01<47:12, 14.09s/it]\u001b[ASetting `pad_token_id` to 50256 (first `eos_token_id`) to generate sequence\n",
      "\n",
      " 75%|███████▌  | 600/800 [2:40:15<46:50, 14.05s/it]\u001b[ASetting `pad_token_id` to 50256 (first `eos_token_id`) to generate sequence\n",
      "\n",
      " 75%|███████▌  | 601/800 [2:40:30<47:28, 14.32s/it]\u001b[ASetting `pad_token_id` to 50256 (first `eos_token_id`) to generate sequence\n",
      "\n",
      " 75%|███████▌  | 602/800 [2:40:45<47:49, 14.49s/it]\u001b[ASetting `pad_token_id` to 50256 (first `eos_token_id`) to generate sequence\n",
      "\n",
      " 75%|███████▌  | 603/800 [2:41:00<48:05, 14.64s/it]\u001b[ASetting `pad_token_id` to 50256 (first `eos_token_id`) to generate sequence\n",
      "\n",
      " 76%|███████▌  | 604/800 [2:41:15<48:14, 14.77s/it]\u001b[ASetting `pad_token_id` to 50256 (first `eos_token_id`) to generate sequence\n",
      "\n",
      " 76%|███████▌  | 605/800 [2:41:30<48:08, 14.81s/it]\u001b[ASetting `pad_token_id` to 50256 (first `eos_token_id`) to generate sequence\n",
      "\n",
      " 76%|███████▌  | 606/800 [2:41:45<47:57, 14.83s/it]\u001b[ASetting `pad_token_id` to 50256 (first `eos_token_id`) to generate sequence\n",
      "\n",
      " 76%|███████▌  | 607/800 [2:42:00<47:47, 14.86s/it]\u001b[ASetting `pad_token_id` to 50256 (first `eos_token_id`) to generate sequence\n",
      "\n",
      " 76%|███████▌  | 608/800 [2:42:15<47:37, 14.88s/it]\u001b[ASetting `pad_token_id` to 50256 (first `eos_token_id`) to generate sequence\n",
      "\n",
      " 76%|███████▌  | 609/800 [2:42:30<47:30, 14.92s/it]\u001b[ASetting `pad_token_id` to 50256 (first `eos_token_id`) to generate sequence\n",
      "\n",
      " 76%|███████▋  | 610/800 [2:42:45<47:12, 14.91s/it]\u001b[ASetting `pad_token_id` to 50256 (first `eos_token_id`) to generate sequence\n",
      "\n",
      " 76%|███████▋  | 611/800 [2:43:00<47:04, 14.95s/it]\u001b[ASetting `pad_token_id` to 50256 (first `eos_token_id`) to generate sequence\n",
      "\n",
      " 76%|███████▋  | 612/800 [2:43:15<46:46, 14.93s/it]\u001b[ASetting `pad_token_id` to 50256 (first `eos_token_id`) to generate sequence\n",
      "\n",
      " 77%|███████▋  | 613/800 [2:43:30<46:35, 14.95s/it]\u001b[ASetting `pad_token_id` to 50256 (first `eos_token_id`) to generate sequence\n",
      "\n",
      " 77%|███████▋  | 614/800 [2:43:44<46:14, 14.92s/it]\u001b[ASetting `pad_token_id` to 50256 (first `eos_token_id`) to generate sequence\n",
      "\n",
      " 77%|███████▋  | 615/800 [2:43:59<45:56, 14.90s/it]\u001b[ASetting `pad_token_id` to 50256 (first `eos_token_id`) to generate sequence\n",
      "\n",
      " 77%|███████▋  | 616/800 [2:44:14<45:41, 14.90s/it]\u001b[ASetting `pad_token_id` to 50256 (first `eos_token_id`) to generate sequence\n",
      "\n",
      " 77%|███████▋  | 617/800 [2:44:29<45:24, 14.89s/it]\u001b[ASetting `pad_token_id` to 50256 (first `eos_token_id`) to generate sequence\n",
      "\n",
      " 77%|███████▋  | 618/800 [2:44:44<45:08, 14.88s/it]\u001b[ASetting `pad_token_id` to 50256 (first `eos_token_id`) to generate sequence\n",
      "\n",
      " 77%|███████▋  | 619/800 [2:44:59<45:03, 14.94s/it]\u001b[ASetting `pad_token_id` to 50256 (first `eos_token_id`) to generate sequence\n",
      "\n",
      " 78%|███████▊  | 620/800 [2:45:14<44:51, 14.95s/it]\u001b[ASetting `pad_token_id` to 50256 (first `eos_token_id`) to generate sequence\n",
      "\n",
      " 78%|███████▊  | 621/800 [2:45:29<44:35, 14.94s/it]\u001b[ASetting `pad_token_id` to 50256 (first `eos_token_id`) to generate sequence\n"
     ]
    },
    {
     "name": "stderr",
     "output_type": "stream",
     "text": [
      "\n",
      " 78%|███████▊  | 622/800 [2:45:44<44:14, 14.91s/it]\u001b[ASetting `pad_token_id` to 50256 (first `eos_token_id`) to generate sequence\n",
      "\n",
      " 78%|███████▊  | 623/800 [2:45:58<43:47, 14.84s/it]\u001b[ASetting `pad_token_id` to 50256 (first `eos_token_id`) to generate sequence\n",
      "\n",
      " 78%|███████▊  | 624/800 [2:46:13<43:32, 14.84s/it]\u001b[ASetting `pad_token_id` to 50256 (first `eos_token_id`) to generate sequence\n",
      "\n",
      " 78%|███████▊  | 625/800 [2:46:28<43:23, 14.88s/it]\u001b[ASetting `pad_token_id` to 50256 (first `eos_token_id`) to generate sequence\n",
      "\n",
      " 78%|███████▊  | 626/800 [2:46:45<44:59, 15.52s/it]\u001b[ASetting `pad_token_id` to 50256 (first `eos_token_id`) to generate sequence\n",
      "\n",
      " 78%|███████▊  | 627/800 [2:47:02<45:46, 15.87s/it]\u001b[ASetting `pad_token_id` to 50256 (first `eos_token_id`) to generate sequence\n",
      "\n",
      " 78%|███████▊  | 628/800 [2:47:17<44:47, 15.63s/it]\u001b[ASetting `pad_token_id` to 50256 (first `eos_token_id`) to generate sequence\n",
      "\n",
      " 79%|███████▊  | 629/800 [2:47:32<43:59, 15.44s/it]\u001b[ASetting `pad_token_id` to 50256 (first `eos_token_id`) to generate sequence\n",
      "\n",
      " 79%|███████▉  | 630/800 [2:47:47<43:18, 15.28s/it]\u001b[ASetting `pad_token_id` to 50256 (first `eos_token_id`) to generate sequence\n",
      "\n",
      " 79%|███████▉  | 631/800 [2:48:01<42:05, 14.94s/it]\u001b[ASetting `pad_token_id` to 50256 (first `eos_token_id`) to generate sequence\n",
      "\n",
      " 79%|███████▉  | 632/800 [2:48:15<41:13, 14.73s/it]\u001b[ASetting `pad_token_id` to 50256 (first `eos_token_id`) to generate sequence\n",
      "\n",
      " 79%|███████▉  | 633/800 [2:48:29<40:26, 14.53s/it]\u001b[ASetting `pad_token_id` to 50256 (first `eos_token_id`) to generate sequence\n",
      "\n",
      " 79%|███████▉  | 634/800 [2:48:43<39:50, 14.40s/it]\u001b[ASetting `pad_token_id` to 50256 (first `eos_token_id`) to generate sequence\n",
      "\n",
      " 79%|███████▉  | 635/800 [2:48:58<39:28, 14.35s/it]\u001b[ASetting `pad_token_id` to 50256 (first `eos_token_id`) to generate sequence\n",
      "\n",
      " 80%|███████▉  | 636/800 [2:49:12<38:59, 14.27s/it]\u001b[ASetting `pad_token_id` to 50256 (first `eos_token_id`) to generate sequence\n",
      "\n",
      " 80%|███████▉  | 637/800 [2:49:26<38:28, 14.17s/it]\u001b[ASetting `pad_token_id` to 50256 (first `eos_token_id`) to generate sequence\n",
      "\n",
      " 80%|███████▉  | 638/800 [2:49:40<38:17, 14.18s/it]\u001b[ASetting `pad_token_id` to 50256 (first `eos_token_id`) to generate sequence\n",
      "\n",
      " 80%|███████▉  | 639/800 [2:49:54<37:59, 14.16s/it]\u001b[ASetting `pad_token_id` to 50256 (first `eos_token_id`) to generate sequence\n",
      "\n",
      " 80%|████████  | 640/800 [2:50:08<37:44, 14.15s/it]\u001b[ASetting `pad_token_id` to 50256 (first `eos_token_id`) to generate sequence\n",
      "\n",
      " 80%|████████  | 641/800 [2:50:23<38:01, 14.35s/it]\u001b[ASetting `pad_token_id` to 50256 (first `eos_token_id`) to generate sequence\n",
      "\n",
      " 80%|████████  | 642/800 [2:50:38<38:09, 14.49s/it]\u001b[ASetting `pad_token_id` to 50256 (first `eos_token_id`) to generate sequence\n",
      "\n",
      " 80%|████████  | 643/800 [2:50:53<38:26, 14.69s/it]\u001b[ASetting `pad_token_id` to 50256 (first `eos_token_id`) to generate sequence\n",
      "\n",
      " 80%|████████  | 644/800 [2:51:08<38:29, 14.80s/it]\u001b[ASetting `pad_token_id` to 50256 (first `eos_token_id`) to generate sequence\n",
      "\n",
      " 81%|████████  | 645/800 [2:51:23<38:17, 14.82s/it]\u001b[ASetting `pad_token_id` to 50256 (first `eos_token_id`) to generate sequence\n",
      "\n",
      " 81%|████████  | 646/800 [2:51:38<38:00, 14.81s/it]\u001b[ASetting `pad_token_id` to 50256 (first `eos_token_id`) to generate sequence\n",
      "\n",
      " 81%|████████  | 647/800 [2:51:52<37:46, 14.82s/it]\u001b[ASetting `pad_token_id` to 50256 (first `eos_token_id`) to generate sequence\n",
      "\n",
      " 81%|████████  | 648/800 [2:52:08<38:12, 15.08s/it]\u001b[ASetting `pad_token_id` to 50256 (first `eos_token_id`) to generate sequence\n",
      "\n",
      " 81%|████████  | 649/800 [2:52:23<37:44, 15.00s/it]\u001b[ASetting `pad_token_id` to 50256 (first `eos_token_id`) to generate sequence\n",
      "\n",
      " 81%|████████▏ | 650/800 [2:52:38<37:18, 14.92s/it]\u001b[ASetting `pad_token_id` to 50256 (first `eos_token_id`) to generate sequence\n",
      "\n",
      " 81%|████████▏ | 651/800 [2:52:53<37:04, 14.93s/it]\u001b[ASetting `pad_token_id` to 50256 (first `eos_token_id`) to generate sequence\n",
      "\n",
      " 82%|████████▏ | 652/800 [2:53:07<36:44, 14.89s/it]\u001b[ASetting `pad_token_id` to 50256 (first `eos_token_id`) to generate sequence\n",
      "\n",
      " 82%|████████▏ | 653/800 [2:53:22<36:26, 14.87s/it]\u001b[ASetting `pad_token_id` to 50256 (first `eos_token_id`) to generate sequence\n",
      "\n",
      " 82%|████████▏ | 654/800 [2:53:37<36:08, 14.85s/it]\u001b[ASetting `pad_token_id` to 50256 (first `eos_token_id`) to generate sequence\n",
      "\n",
      " 82%|████████▏ | 655/800 [2:53:52<35:51, 14.84s/it]\u001b[ASetting `pad_token_id` to 50256 (first `eos_token_id`) to generate sequence\n",
      "\n",
      " 82%|████████▏ | 656/800 [2:54:07<35:35, 14.83s/it]\u001b[ASetting `pad_token_id` to 50256 (first `eos_token_id`) to generate sequence\n",
      "\n",
      " 82%|████████▏ | 657/800 [2:54:22<35:19, 14.82s/it]\u001b[ASetting `pad_token_id` to 50256 (first `eos_token_id`) to generate sequence\n",
      "\n",
      " 82%|████████▏ | 658/800 [2:54:37<35:15, 14.90s/it]\u001b[ASetting `pad_token_id` to 50256 (first `eos_token_id`) to generate sequence\n",
      "\n",
      " 82%|████████▏ | 659/800 [2:54:52<35:09, 14.96s/it]\u001b[ASetting `pad_token_id` to 50256 (first `eos_token_id`) to generate sequence\n",
      "\n",
      " 82%|████████▎ | 660/800 [2:55:07<34:57, 14.98s/it]\u001b[ASetting `pad_token_id` to 50256 (first `eos_token_id`) to generate sequence\n",
      "\n",
      " 83%|████████▎ | 661/800 [2:55:22<34:41, 14.97s/it]\u001b[ASetting `pad_token_id` to 50256 (first `eos_token_id`) to generate sequence\n",
      "\n",
      " 83%|████████▎ | 662/800 [2:55:37<34:20, 14.93s/it]\u001b[ASetting `pad_token_id` to 50256 (first `eos_token_id`) to generate sequence\n",
      "\n",
      " 83%|████████▎ | 663/800 [2:55:51<33:57, 14.87s/it]\u001b[ASetting `pad_token_id` to 50256 (first `eos_token_id`) to generate sequence\n",
      "\n",
      " 83%|████████▎ | 664/800 [2:56:06<33:33, 14.81s/it]\u001b[ASetting `pad_token_id` to 50256 (first `eos_token_id`) to generate sequence\n",
      "\n",
      " 83%|████████▎ | 665/800 [2:56:21<33:17, 14.80s/it]\u001b[ASetting `pad_token_id` to 50256 (first `eos_token_id`) to generate sequence\n",
      "\n",
      " 83%|████████▎ | 666/800 [2:56:36<33:03, 14.80s/it]\u001b[ASetting `pad_token_id` to 50256 (first `eos_token_id`) to generate sequence\n",
      "\n",
      " 83%|████████▎ | 667/800 [2:56:50<32:56, 14.86s/it]\u001b[ASetting `pad_token_id` to 50256 (first `eos_token_id`) to generate sequence\n",
      "\n",
      " 84%|████████▎ | 668/800 [2:57:05<32:39, 14.84s/it]\u001b[ASetting `pad_token_id` to 50256 (first `eos_token_id`) to generate sequence\n",
      "\n",
      " 84%|████████▎ | 669/800 [2:57:20<32:21, 14.82s/it]\u001b[ASetting `pad_token_id` to 50256 (first `eos_token_id`) to generate sequence\n",
      "\n",
      " 84%|████████▍ | 670/800 [2:57:35<32:07, 14.83s/it]\u001b[ASetting `pad_token_id` to 50256 (first `eos_token_id`) to generate sequence\n",
      "\n",
      " 84%|████████▍ | 671/800 [2:57:49<31:19, 14.57s/it]\u001b[ASetting `pad_token_id` to 50256 (first `eos_token_id`) to generate sequence\n",
      "\n",
      " 84%|████████▍ | 672/800 [2:58:03<30:42, 14.40s/it]\u001b[ASetting `pad_token_id` to 50256 (first `eos_token_id`) to generate sequence\n",
      "\n",
      " 84%|████████▍ | 673/800 [2:58:17<30:12, 14.27s/it]\u001b[ASetting `pad_token_id` to 50256 (first `eos_token_id`) to generate sequence\n",
      "\n",
      " 84%|████████▍ | 674/800 [2:58:31<29:42, 14.15s/it]\u001b[ASetting `pad_token_id` to 50256 (first `eos_token_id`) to generate sequence\n",
      "\n",
      " 84%|████████▍ | 675/800 [2:58:45<29:20, 14.08s/it]\u001b[ASetting `pad_token_id` to 50256 (first `eos_token_id`) to generate sequence\n",
      "\n",
      " 84%|████████▍ | 676/800 [2:58:59<29:07, 14.09s/it]\u001b[ASetting `pad_token_id` to 50256 (first `eos_token_id`) to generate sequence\n",
      "\n",
      " 85%|████████▍ | 677/800 [2:59:13<28:49, 14.06s/it]\u001b[ASetting `pad_token_id` to 50256 (first `eos_token_id`) to generate sequence\n",
      "\n",
      " 85%|████████▍ | 678/800 [2:59:27<28:33, 14.05s/it]\u001b[ASetting `pad_token_id` to 50256 (first `eos_token_id`) to generate sequence\n",
      "\n",
      " 85%|████████▍ | 679/800 [2:59:41<28:16, 14.02s/it]\u001b[ASetting `pad_token_id` to 50256 (first `eos_token_id`) to generate sequence\n",
      "\n",
      " 85%|████████▌ | 680/800 [2:59:55<28:01, 14.01s/it]\u001b[ASetting `pad_token_id` to 50256 (first `eos_token_id`) to generate sequence\n",
      "\n",
      " 85%|████████▌ | 681/800 [3:00:10<28:17, 14.27s/it]\u001b[ASetting `pad_token_id` to 50256 (first `eos_token_id`) to generate sequence\n",
      "\n",
      " 85%|████████▌ | 682/800 [3:00:25<28:44, 14.61s/it]\u001b[ASetting `pad_token_id` to 50256 (first `eos_token_id`) to generate sequence\n",
      "\n",
      " 85%|████████▌ | 683/800 [3:00:40<28:42, 14.72s/it]\u001b[ASetting `pad_token_id` to 50256 (first `eos_token_id`) to generate sequence\n",
      "\n",
      " 86%|████████▌ | 684/800 [3:00:55<28:32, 14.76s/it]\u001b[ASetting `pad_token_id` to 50256 (first `eos_token_id`) to generate sequence\n"
     ]
    },
    {
     "name": "stderr",
     "output_type": "stream",
     "text": [
      "\n",
      " 86%|████████▌ | 685/800 [3:01:10<28:16, 14.75s/it]\u001b[ASetting `pad_token_id` to 50256 (first `eos_token_id`) to generate sequence\n",
      "\n",
      " 86%|████████▌ | 686/800 [3:01:24<28:04, 14.78s/it]\u001b[ASetting `pad_token_id` to 50256 (first `eos_token_id`) to generate sequence\n",
      "\n",
      " 86%|████████▌ | 687/800 [3:01:39<27:51, 14.79s/it]\u001b[ASetting `pad_token_id` to 50256 (first `eos_token_id`) to generate sequence\n",
      "\n",
      " 86%|████████▌ | 688/800 [3:01:54<27:38, 14.81s/it]\u001b[ASetting `pad_token_id` to 50256 (first `eos_token_id`) to generate sequence\n",
      "\n",
      " 86%|████████▌ | 689/800 [3:02:09<27:24, 14.82s/it]\u001b[ASetting `pad_token_id` to 50256 (first `eos_token_id`) to generate sequence\n",
      "\n",
      " 86%|████████▋ | 690/800 [3:02:24<27:11, 14.83s/it]\u001b[ASetting `pad_token_id` to 50256 (first `eos_token_id`) to generate sequence\n",
      "\n",
      " 86%|████████▋ | 691/800 [3:02:39<26:57, 14.84s/it]\u001b[ASetting `pad_token_id` to 50256 (first `eos_token_id`) to generate sequence\n",
      "\n",
      " 86%|████████▋ | 692/800 [3:02:54<26:47, 14.89s/it]\u001b[ASetting `pad_token_id` to 50256 (first `eos_token_id`) to generate sequence\n",
      "\n",
      " 87%|████████▋ | 693/800 [3:03:08<26:29, 14.86s/it]\u001b[ASetting `pad_token_id` to 50256 (first `eos_token_id`) to generate sequence\n",
      "\n",
      " 87%|████████▋ | 694/800 [3:03:23<26:14, 14.85s/it]\u001b[ASetting `pad_token_id` to 50256 (first `eos_token_id`) to generate sequence\n",
      "\n",
      " 87%|████████▋ | 695/800 [3:03:38<25:57, 14.83s/it]\u001b[ASetting `pad_token_id` to 50256 (first `eos_token_id`) to generate sequence\n",
      "\n",
      " 87%|████████▋ | 696/800 [3:03:53<25:41, 14.82s/it]\u001b[ASetting `pad_token_id` to 50256 (first `eos_token_id`) to generate sequence\n",
      "\n",
      " 87%|████████▋ | 697/800 [3:04:08<25:26, 14.82s/it]\u001b[ASetting `pad_token_id` to 50256 (first `eos_token_id`) to generate sequence\n",
      "\n",
      " 87%|████████▋ | 698/800 [3:04:22<25:05, 14.76s/it]\u001b[ASetting `pad_token_id` to 50256 (first `eos_token_id`) to generate sequence\n",
      "\n",
      " 87%|████████▋ | 699/800 [3:04:37<24:52, 14.78s/it]\u001b[ASetting `pad_token_id` to 50256 (first `eos_token_id`) to generate sequence\n",
      "\n",
      " 88%|████████▊ | 700/800 [3:04:52<24:43, 14.84s/it]\u001b[ASetting `pad_token_id` to 50256 (first `eos_token_id`) to generate sequence\n",
      "\n",
      " 88%|████████▊ | 701/800 [3:05:07<24:31, 14.86s/it]\u001b[ASetting `pad_token_id` to 50256 (first `eos_token_id`) to generate sequence\n",
      "\n",
      " 88%|████████▊ | 702/800 [3:05:22<24:13, 14.83s/it]\u001b[ASetting `pad_token_id` to 50256 (first `eos_token_id`) to generate sequence\n",
      "\n",
      " 88%|████████▊ | 703/800 [3:05:37<23:58, 14.83s/it]\u001b[ASetting `pad_token_id` to 50256 (first `eos_token_id`) to generate sequence\n",
      "\n",
      " 88%|████████▊ | 704/800 [3:05:52<23:47, 14.87s/it]\u001b[ASetting `pad_token_id` to 50256 (first `eos_token_id`) to generate sequence\n",
      "\n",
      " 88%|████████▊ | 705/800 [3:06:06<23:32, 14.87s/it]\u001b[ASetting `pad_token_id` to 50256 (first `eos_token_id`) to generate sequence\n",
      "\n",
      " 88%|████████▊ | 706/800 [3:06:21<23:14, 14.83s/it]\u001b[ASetting `pad_token_id` to 50256 (first `eos_token_id`) to generate sequence\n",
      "\n",
      " 88%|████████▊ | 707/800 [3:06:36<22:58, 14.82s/it]\u001b[ASetting `pad_token_id` to 50256 (first `eos_token_id`) to generate sequence\n",
      "\n",
      " 88%|████████▊ | 708/800 [3:06:51<22:46, 14.86s/it]\u001b[ASetting `pad_token_id` to 50256 (first `eos_token_id`) to generate sequence\n",
      "\n",
      " 89%|████████▊ | 709/800 [3:07:06<22:44, 15.00s/it]\u001b[ASetting `pad_token_id` to 50256 (first `eos_token_id`) to generate sequence\n",
      "\n",
      " 89%|████████▉ | 710/800 [3:07:21<22:34, 15.05s/it]\u001b[ASetting `pad_token_id` to 50256 (first `eos_token_id`) to generate sequence\n",
      "\n",
      " 89%|████████▉ | 711/800 [3:07:35<21:53, 14.76s/it]\u001b[ASetting `pad_token_id` to 50256 (first `eos_token_id`) to generate sequence\n",
      "\n",
      " 89%|████████▉ | 712/800 [3:07:49<21:13, 14.48s/it]\u001b[ASetting `pad_token_id` to 50256 (first `eos_token_id`) to generate sequence\n",
      "\n",
      " 89%|████████▉ | 713/800 [3:08:03<20:47, 14.34s/it]\u001b[ASetting `pad_token_id` to 50256 (first `eos_token_id`) to generate sequence\n",
      "\n",
      " 89%|████████▉ | 714/800 [3:08:17<20:24, 14.24s/it]\u001b[ASetting `pad_token_id` to 50256 (first `eos_token_id`) to generate sequence\n",
      "\n",
      " 89%|████████▉ | 715/800 [3:08:31<20:03, 14.16s/it]\u001b[ASetting `pad_token_id` to 50256 (first `eos_token_id`) to generate sequence\n",
      "\n",
      " 90%|████████▉ | 716/800 [3:08:45<19:46, 14.13s/it]\u001b[ASetting `pad_token_id` to 50256 (first `eos_token_id`) to generate sequence\n",
      "\n",
      " 90%|████████▉ | 717/800 [3:08:59<19:32, 14.12s/it]\u001b[ASetting `pad_token_id` to 50256 (first `eos_token_id`) to generate sequence\n",
      "\n",
      " 90%|████████▉ | 718/800 [3:09:13<19:14, 14.08s/it]\u001b[ASetting `pad_token_id` to 50256 (first `eos_token_id`) to generate sequence\n",
      "\n",
      " 90%|████████▉ | 719/800 [3:09:27<18:58, 14.05s/it]\u001b[ASetting `pad_token_id` to 50256 (first `eos_token_id`) to generate sequence\n",
      "\n",
      " 90%|█████████ | 720/800 [3:09:41<18:37, 13.97s/it]\u001b[ASetting `pad_token_id` to 50256 (first `eos_token_id`) to generate sequence\n",
      "\n",
      " 90%|█████████ | 721/800 [3:09:56<18:43, 14.23s/it]\u001b[ASetting `pad_token_id` to 50256 (first `eos_token_id`) to generate sequence\n",
      "\n",
      " 90%|█████████ | 722/800 [3:10:11<18:43, 14.41s/it]\u001b[ASetting `pad_token_id` to 50256 (first `eos_token_id`) to generate sequence\n",
      "\n",
      " 90%|█████████ | 723/800 [3:10:26<18:39, 14.54s/it]\u001b[ASetting `pad_token_id` to 50256 (first `eos_token_id`) to generate sequence\n",
      "\n",
      " 90%|█████████ | 724/800 [3:10:41<18:31, 14.63s/it]\u001b[ASetting `pad_token_id` to 50256 (first `eos_token_id`) to generate sequence\n",
      "\n",
      " 91%|█████████ | 725/800 [3:10:56<18:25, 14.73s/it]\u001b[ASetting `pad_token_id` to 50256 (first `eos_token_id`) to generate sequence\n",
      "\n",
      " 91%|█████████ | 726/800 [3:11:10<18:11, 14.75s/it]\u001b[ASetting `pad_token_id` to 50256 (first `eos_token_id`) to generate sequence\n",
      "\n",
      " 91%|█████████ | 727/800 [3:11:25<17:58, 14.78s/it]\u001b[ASetting `pad_token_id` to 50256 (first `eos_token_id`) to generate sequence\n",
      "\n",
      " 91%|█████████ | 728/800 [3:11:40<17:44, 14.79s/it]\u001b[ASetting `pad_token_id` to 50256 (first `eos_token_id`) to generate sequence\n",
      "\n",
      " 91%|█████████ | 729/800 [3:11:55<17:31, 14.81s/it]\u001b[ASetting `pad_token_id` to 50256 (first `eos_token_id`) to generate sequence\n",
      "\n",
      " 91%|█████████▏| 730/800 [3:12:10<17:19, 14.84s/it]\u001b[ASetting `pad_token_id` to 50256 (first `eos_token_id`) to generate sequence\n",
      "\n",
      " 91%|█████████▏| 731/800 [3:12:25<17:04, 14.84s/it]\u001b[ASetting `pad_token_id` to 50256 (first `eos_token_id`) to generate sequence\n",
      "\n",
      " 92%|█████████▏| 732/800 [3:12:39<16:48, 14.82s/it]\u001b[ASetting `pad_token_id` to 50256 (first `eos_token_id`) to generate sequence\n",
      "\n",
      " 92%|█████████▏| 733/800 [3:12:54<16:32, 14.81s/it]\u001b[ASetting `pad_token_id` to 50256 (first `eos_token_id`) to generate sequence\n",
      "\n",
      " 92%|█████████▏| 734/800 [3:13:09<16:18, 14.83s/it]\u001b[ASetting `pad_token_id` to 50256 (first `eos_token_id`) to generate sequence\n",
      "\n",
      " 92%|█████████▏| 735/800 [3:13:24<16:05, 14.85s/it]\u001b[ASetting `pad_token_id` to 50256 (first `eos_token_id`) to generate sequence\n",
      "\n",
      " 92%|█████████▏| 736/800 [3:13:39<15:51, 14.86s/it]\u001b[ASetting `pad_token_id` to 50256 (first `eos_token_id`) to generate sequence\n",
      "\n",
      " 92%|█████████▏| 737/800 [3:13:54<15:35, 14.84s/it]\u001b[ASetting `pad_token_id` to 50256 (first `eos_token_id`) to generate sequence\n",
      "\n",
      " 92%|█████████▏| 738/800 [3:14:09<15:21, 14.86s/it]\u001b[ASetting `pad_token_id` to 50256 (first `eos_token_id`) to generate sequence\n",
      "\n",
      " 92%|█████████▏| 739/800 [3:14:23<15:07, 14.87s/it]\u001b[ASetting `pad_token_id` to 50256 (first `eos_token_id`) to generate sequence\n",
      "\n",
      " 92%|█████████▎| 740/800 [3:14:38<14:51, 14.86s/it]\u001b[ASetting `pad_token_id` to 50256 (first `eos_token_id`) to generate sequence\n",
      "\n",
      " 93%|█████████▎| 741/800 [3:14:53<14:39, 14.91s/it]\u001b[ASetting `pad_token_id` to 50256 (first `eos_token_id`) to generate sequence\n",
      "\n",
      " 93%|█████████▎| 742/800 [3:15:08<14:23, 14.88s/it]\u001b[ASetting `pad_token_id` to 50256 (first `eos_token_id`) to generate sequence\n",
      "\n",
      " 93%|█████████▎| 743/800 [3:15:23<14:07, 14.86s/it]\u001b[ASetting `pad_token_id` to 50256 (first `eos_token_id`) to generate sequence\n",
      "\n",
      " 93%|█████████▎| 744/800 [3:15:38<13:51, 14.86s/it]\u001b[ASetting `pad_token_id` to 50256 (first `eos_token_id`) to generate sequence\n",
      "\n",
      " 93%|█████████▎| 745/800 [3:15:53<13:36, 14.84s/it]\u001b[ASetting `pad_token_id` to 50256 (first `eos_token_id`) to generate sequence\n",
      "\n",
      " 93%|█████████▎| 746/800 [3:16:07<13:19, 14.81s/it]\u001b[ASetting `pad_token_id` to 50256 (first `eos_token_id`) to generate sequence\n",
      "\n",
      " 93%|█████████▎| 747/800 [3:16:22<13:02, 14.77s/it]\u001b[ASetting `pad_token_id` to 50256 (first `eos_token_id`) to generate sequence\n"
     ]
    },
    {
     "name": "stderr",
     "output_type": "stream",
     "text": [
      "\n",
      " 94%|█████████▎| 748/800 [3:16:37<12:48, 14.78s/it]\u001b[ASetting `pad_token_id` to 50256 (first `eos_token_id`) to generate sequence\n",
      "\n",
      " 94%|█████████▎| 749/800 [3:16:52<12:37, 14.84s/it]\u001b[ASetting `pad_token_id` to 50256 (first `eos_token_id`) to generate sequence\n",
      "\n",
      " 94%|█████████▍| 750/800 [3:17:07<12:21, 14.83s/it]\u001b[ASetting `pad_token_id` to 50256 (first `eos_token_id`) to generate sequence\n",
      "\n",
      " 94%|█████████▍| 751/800 [3:17:21<11:54, 14.59s/it]\u001b[ASetting `pad_token_id` to 50256 (first `eos_token_id`) to generate sequence\n",
      "\n",
      " 94%|█████████▍| 752/800 [3:17:35<11:32, 14.42s/it]\u001b[ASetting `pad_token_id` to 50256 (first `eos_token_id`) to generate sequence\n",
      "\n",
      " 94%|█████████▍| 753/800 [3:17:49<11:11, 14.30s/it]\u001b[ASetting `pad_token_id` to 50256 (first `eos_token_id`) to generate sequence\n",
      "\n",
      " 94%|█████████▍| 754/800 [3:18:03<10:54, 14.22s/it]\u001b[ASetting `pad_token_id` to 50256 (first `eos_token_id`) to generate sequence\n",
      "\n",
      " 94%|█████████▍| 755/800 [3:18:17<10:36, 14.15s/it]\u001b[ASetting `pad_token_id` to 50256 (first `eos_token_id`) to generate sequence\n",
      "\n",
      " 94%|█████████▍| 756/800 [3:18:30<10:18, 14.05s/it]\u001b[ASetting `pad_token_id` to 50256 (first `eos_token_id`) to generate sequence\n",
      "\n",
      " 95%|█████████▍| 757/800 [3:18:44<10:03, 14.03s/it]\u001b[ASetting `pad_token_id` to 50256 (first `eos_token_id`) to generate sequence\n",
      "\n",
      " 95%|█████████▍| 758/800 [3:18:59<09:50, 14.07s/it]\u001b[ASetting `pad_token_id` to 50256 (first `eos_token_id`) to generate sequence\n",
      "\n",
      " 95%|█████████▍| 759/800 [3:19:13<09:35, 14.04s/it]\u001b[ASetting `pad_token_id` to 50256 (first `eos_token_id`) to generate sequence\n",
      "\n",
      " 95%|█████████▌| 760/800 [3:19:27<09:22, 14.05s/it]\u001b[ASetting `pad_token_id` to 50256 (first `eos_token_id`) to generate sequence\n",
      "\n",
      " 95%|█████████▌| 761/800 [3:19:42<09:18, 14.31s/it]\u001b[ASetting `pad_token_id` to 50256 (first `eos_token_id`) to generate sequence\n",
      "\n",
      " 95%|█████████▌| 762/800 [3:19:56<09:10, 14.48s/it]\u001b[ASetting `pad_token_id` to 50256 (first `eos_token_id`) to generate sequence\n",
      "\n",
      " 95%|█████████▌| 763/800 [3:20:11<09:00, 14.62s/it]\u001b[ASetting `pad_token_id` to 50256 (first `eos_token_id`) to generate sequence\n",
      "\n",
      " 96%|█████████▌| 764/800 [3:20:26<08:49, 14.70s/it]\u001b[ASetting `pad_token_id` to 50256 (first `eos_token_id`) to generate sequence\n",
      "\n",
      " 96%|█████████▌| 765/800 [3:20:41<08:35, 14.74s/it]\u001b[ASetting `pad_token_id` to 50256 (first `eos_token_id`) to generate sequence\n",
      "\n",
      " 96%|█████████▌| 766/800 [3:20:56<08:24, 14.83s/it]\u001b[ASetting `pad_token_id` to 50256 (first `eos_token_id`) to generate sequence\n",
      "\n",
      " 96%|█████████▌| 767/800 [3:21:11<08:09, 14.83s/it]\u001b[ASetting `pad_token_id` to 50256 (first `eos_token_id`) to generate sequence\n",
      "\n",
      " 96%|█████████▌| 768/800 [3:21:26<07:54, 14.82s/it]\u001b[ASetting `pad_token_id` to 50256 (first `eos_token_id`) to generate sequence\n",
      "\n",
      " 96%|█████████▌| 769/800 [3:21:41<07:40, 14.84s/it]\u001b[ASetting `pad_token_id` to 50256 (first `eos_token_id`) to generate sequence\n",
      "\n",
      " 96%|█████████▋| 770/800 [3:21:56<07:26, 14.89s/it]\u001b[ASetting `pad_token_id` to 50256 (first `eos_token_id`) to generate sequence\n",
      "\n",
      " 96%|█████████▋| 771/800 [3:22:11<07:18, 15.11s/it]\u001b[ASetting `pad_token_id` to 50256 (first `eos_token_id`) to generate sequence\n",
      "\n",
      " 96%|█████████▋| 772/800 [3:22:27<07:06, 15.22s/it]\u001b[ASetting `pad_token_id` to 50256 (first `eos_token_id`) to generate sequence\n",
      "\n",
      " 97%|█████████▋| 773/800 [3:22:42<06:50, 15.20s/it]\u001b[ASetting `pad_token_id` to 50256 (first `eos_token_id`) to generate sequence\n",
      "\n",
      " 97%|█████████▋| 774/800 [3:22:57<06:33, 15.14s/it]\u001b[ASetting `pad_token_id` to 50256 (first `eos_token_id`) to generate sequence\n",
      "\n",
      " 97%|█████████▋| 775/800 [3:23:13<06:22, 15.30s/it]\u001b[ASetting `pad_token_id` to 50256 (first `eos_token_id`) to generate sequence\n",
      "\n",
      " 97%|█████████▋| 776/800 [3:23:28<06:04, 15.20s/it]\u001b[ASetting `pad_token_id` to 50256 (first `eos_token_id`) to generate sequence\n",
      "\n",
      " 97%|█████████▋| 777/800 [3:23:42<05:47, 15.11s/it]\u001b[ASetting `pad_token_id` to 50256 (first `eos_token_id`) to generate sequence\n",
      "\n",
      " 97%|█████████▋| 778/800 [3:23:57<05:30, 15.04s/it]\u001b[ASetting `pad_token_id` to 50256 (first `eos_token_id`) to generate sequence\n",
      "\n",
      " 97%|█████████▋| 779/800 [3:24:12<05:15, 15.00s/it]\u001b[ASetting `pad_token_id` to 50256 (first `eos_token_id`) to generate sequence\n",
      "\n",
      " 98%|█████████▊| 780/800 [3:24:27<04:59, 14.97s/it]\u001b[ASetting `pad_token_id` to 50256 (first `eos_token_id`) to generate sequence\n",
      "\n",
      " 98%|█████████▊| 781/800 [3:24:42<04:44, 14.95s/it]\u001b[ASetting `pad_token_id` to 50256 (first `eos_token_id`) to generate sequence\n",
      "\n",
      " 98%|█████████▊| 782/800 [3:24:57<04:30, 15.00s/it]\u001b[ASetting `pad_token_id` to 50256 (first `eos_token_id`) to generate sequence\n",
      "\n",
      " 98%|█████████▊| 783/800 [3:25:12<04:14, 14.97s/it]\u001b[ASetting `pad_token_id` to 50256 (first `eos_token_id`) to generate sequence\n",
      "\n",
      " 98%|█████████▊| 784/800 [3:25:27<03:58, 14.91s/it]\u001b[ASetting `pad_token_id` to 50256 (first `eos_token_id`) to generate sequence\n",
      "\n",
      " 98%|█████████▊| 785/800 [3:25:42<03:43, 14.88s/it]\u001b[ASetting `pad_token_id` to 50256 (first `eos_token_id`) to generate sequence\n",
      "\n",
      " 98%|█████████▊| 786/800 [3:25:57<03:28, 14.88s/it]\u001b[ASetting `pad_token_id` to 50256 (first `eos_token_id`) to generate sequence\n",
      "\n",
      " 98%|█████████▊| 787/800 [3:26:11<03:13, 14.89s/it]\u001b[ASetting `pad_token_id` to 50256 (first `eos_token_id`) to generate sequence\n",
      "\n",
      " 98%|█████████▊| 788/800 [3:26:27<02:59, 14.95s/it]\u001b[ASetting `pad_token_id` to 50256 (first `eos_token_id`) to generate sequence\n",
      "\n",
      " 99%|█████████▊| 789/800 [3:26:41<02:44, 14.94s/it]\u001b[ASetting `pad_token_id` to 50256 (first `eos_token_id`) to generate sequence\n",
      "\n",
      " 99%|█████████▉| 790/800 [3:26:56<02:29, 14.97s/it]\u001b[ASetting `pad_token_id` to 50256 (first `eos_token_id`) to generate sequence\n",
      "\n",
      " 99%|█████████▉| 791/800 [3:27:11<02:12, 14.69s/it]\u001b[ASetting `pad_token_id` to 50256 (first `eos_token_id`) to generate sequence\n",
      "\n",
      " 99%|█████████▉| 792/800 [3:27:25<01:56, 14.51s/it]\u001b[ASetting `pad_token_id` to 50256 (first `eos_token_id`) to generate sequence\n",
      "\n",
      " 99%|█████████▉| 793/800 [3:27:39<01:40, 14.40s/it]\u001b[ASetting `pad_token_id` to 50256 (first `eos_token_id`) to generate sequence\n",
      "\n",
      " 99%|█████████▉| 794/800 [3:27:53<01:25, 14.29s/it]\u001b[ASetting `pad_token_id` to 50256 (first `eos_token_id`) to generate sequence\n",
      "\n",
      " 99%|█████████▉| 795/800 [3:28:07<01:10, 14.18s/it]\u001b[ASetting `pad_token_id` to 50256 (first `eos_token_id`) to generate sequence\n",
      "\n",
      "100%|█████████▉| 796/800 [3:28:21<00:56, 14.14s/it]\u001b[ASetting `pad_token_id` to 50256 (first `eos_token_id`) to generate sequence\n",
      "\n",
      "100%|█████████▉| 797/800 [3:28:35<00:42, 14.15s/it]\u001b[ASetting `pad_token_id` to 50256 (first `eos_token_id`) to generate sequence\n",
      "\n",
      "100%|█████████▉| 798/800 [3:28:49<00:28, 14.17s/it]\u001b[ASetting `pad_token_id` to 50256 (first `eos_token_id`) to generate sequence\n",
      "\n",
      "100%|█████████▉| 799/800 [3:29:03<00:14, 14.14s/it]\u001b[ASetting `pad_token_id` to 50256 (first `eos_token_id`) to generate sequence\n",
      "\n",
      "100%|██████████| 800/800 [3:29:17<00:00, 14.12s/it]\u001b[A"
     ]
    }
   ],
   "source": [
    "## text generation for sampling \n",
    "import tqdm\n",
    "\n",
    "temp = [0.2,0.4,0.6,0.8,1]\n",
    "k = [5,10,20,50]\n",
    "p = [0.2,0.6,0.8,1.0]\n",
    "\n",
    "results = []\n",
    "\n",
    "bar = tqdm.tqdm(total = len(temp) * len(k) * len(p) * 10)\n",
    "\n",
    "model = TFAutoModelForCausalLM.from_pretrained(\"generators/gpt2-small/GPT_2 11\")\n",
    "for t in temp:\n",
    "    for ki in k:\n",
    "        for pi in p:\n",
    "            filename = \"gpt2 \" + str((t, ki, pi))\n",
    "            for i in range(10):\n",
    "                context = randcontext(wholetext,4)\n",
    "                string = generateText(model,tokenizer,context, t = t, p = pi, k = ki)\n",
    "                save_path = \"generators/GPT2_texts/sampling_texts/\"+filename + \" \" + str(i)+ \" \" + \".txt\"\n",
    "                save_to_file(string,save_path)\n",
    "                bar.update(1)"
   ]
  },
  {
   "cell_type": "code",
   "execution_count": 30,
   "metadata": {},
   "outputs": [],
   "source": [
    "import en_core_web_sm\n",
    "import numpy as np\n",
    "from nltk.translate.bleu_score import sentence_bleu\n",
    "\n",
    "def splitTolenWords(text, nwords):\n",
    "    words = text.split(\" \")\n",
    "    count = int(len(words)/nwords)\n",
    "    sentences = [\" \".join(words[(i*nwords):((i+1)*nwords)]) for i in range(count)]\n",
    "    return(sentences)\n",
    "\n",
    "def unnameTextWithM(text):\n",
    "    nlp = en_core_web_sm.load()\n",
    "    doc = nlp(text)\n",
    "    text = text\n",
    "    for ent in reversed(doc.ents):\n",
    "        text = text[:ent.start_char] + \"<M>\" + text[ent.end_char:] \n",
    "    return text\n",
    "\n",
    "def bleu_scores(string, valid_data):\n",
    "    valid = [i.split(\" \") for i in valid_data]\n",
    "    string = string.split(\" \")[:100]\n",
    "    bleu4 = sentence_bleu(valid, string ,weights = (0.25,0.25,0.25,0.25))\n",
    "    return (bleu4)\n",
    "\n",
    "def evaluate(genvalid, genstr):\n",
    "    strM = unnameTextWithM(genstr)\n",
    "    b4 = bleu_scores(strM, genvalid)\n",
    "    return (b4, )\n",
    "\n",
    "def read_from_file(path):\n",
    "    with open(path, 'r') as output_file:\n",
    "        string = output_file.read()\n",
    "    return string"
   ]
  },
  {
   "cell_type": "code",
   "execution_count": 31,
   "metadata": {},
   "outputs": [],
   "source": [
    "results = []\n",
    "for filename in os.listdir(\"generators/GPT2_texts/sampling_texts\"):\n",
    "    path = \"generators/GPT2_texts/sampling_texts/\"+filename\n",
    "    namespl = filename.split(\" \")\n",
    "    name = namespl[1] + namespl[2] + namespl[3]\n",
    "    genstr = read_from_file(path)\n",
    "    evaluation = evaluate(genvalid, genstr)\n",
    "    results.append((name, ) + evaluation)"
   ]
  },
  {
   "cell_type": "code",
   "execution_count": 33,
   "metadata": {},
   "outputs": [
    {
     "data": {
      "text/html": [
       "<div>\n",
       "<style scoped>\n",
       "    .dataframe tbody tr th:only-of-type {\n",
       "        vertical-align: middle;\n",
       "    }\n",
       "\n",
       "    .dataframe tbody tr th {\n",
       "        vertical-align: top;\n",
       "    }\n",
       "\n",
       "    .dataframe thead th {\n",
       "        text-align: right;\n",
       "    }\n",
       "</style>\n",
       "<table border=\"1\" class=\"dataframe\">\n",
       "  <thead>\n",
       "    <tr style=\"text-align: right;\">\n",
       "      <th></th>\n",
       "      <th>0</th>\n",
       "      <th>1</th>\n",
       "    </tr>\n",
       "  </thead>\n",
       "  <tbody>\n",
       "    <tr>\n",
       "      <th>59</th>\n",
       "      <td>(0.8,5,1.0)</td>\n",
       "      <td>0.505712</td>\n",
       "    </tr>\n",
       "  </tbody>\n",
       "</table>\n",
       "</div>"
      ],
      "text/plain": [
       "              0         1\n",
       "59  (0.8,5,1.0)  0.505712"
      ]
     },
     "execution_count": 33,
     "metadata": {},
     "output_type": "execute_result"
    }
   ],
   "source": [
    "import pandas as pd\n",
    "results = pd.DataFrame(results)\n",
    "results = results.groupby([0]).mean().reset_index()\n",
    "results[results[1] == max(results[1])]"
   ]
  },
  {
   "cell_type": "markdown",
   "metadata": {},
   "source": [
    "## maximum score after tuning is 0.505712, \n",
    " best parameters: \n",
    "- temperature = 0.8 \n",
    "- top-k = 5\n",
    "- top-p = 1"
   ]
  },
  {
   "cell_type": "code",
   "execution_count": 34,
   "metadata": {},
   "outputs": [
    {
     "name": "stderr",
     "output_type": "stream",
     "text": [
      "  0%|          | 0/100 [00:00<?, ?it/s]Setting `pad_token_id` to 50256 (first `eos_token_id`) to generate sequence\n",
      "  1%|          | 1/100 [00:12<20:42, 12.55s/it]Setting `pad_token_id` to 50256 (first `eos_token_id`) to generate sequence\n",
      "  2%|▏         | 2/100 [00:25<21:20, 13.06s/it]Setting `pad_token_id` to 50256 (first `eos_token_id`) to generate sequence\n",
      "  3%|▎         | 3/100 [00:40<21:57, 13.59s/it]Setting `pad_token_id` to 50256 (first `eos_token_id`) to generate sequence\n",
      "  4%|▍         | 4/100 [00:54<22:01, 13.77s/it]Setting `pad_token_id` to 50256 (first `eos_token_id`) to generate sequence\n",
      "  5%|▌         | 5/100 [01:08<22:14, 14.05s/it]Setting `pad_token_id` to 50256 (first `eos_token_id`) to generate sequence\n",
      "  6%|▌         | 6/100 [01:23<22:16, 14.22s/it]Setting `pad_token_id` to 50256 (first `eos_token_id`) to generate sequence\n",
      "  7%|▋         | 7/100 [01:37<22:10, 14.30s/it]Setting `pad_token_id` to 50256 (first `eos_token_id`) to generate sequence\n",
      "  8%|▊         | 8/100 [01:52<21:53, 14.28s/it]Setting `pad_token_id` to 50256 (first `eos_token_id`) to generate sequence\n",
      "  9%|▉         | 9/100 [02:06<21:48, 14.37s/it]Setting `pad_token_id` to 50256 (first `eos_token_id`) to generate sequence\n",
      " 10%|█         | 10/100 [02:21<22:01, 14.68s/it]Setting `pad_token_id` to 50256 (first `eos_token_id`) to generate sequence\n",
      " 11%|█         | 11/100 [02:36<21:30, 14.49s/it]Setting `pad_token_id` to 50256 (first `eos_token_id`) to generate sequence\n",
      " 12%|█▏        | 12/100 [02:49<20:59, 14.31s/it]Setting `pad_token_id` to 50256 (first `eos_token_id`) to generate sequence\n",
      " 13%|█▎        | 13/100 [03:04<20:39, 14.24s/it]Setting `pad_token_id` to 50256 (first `eos_token_id`) to generate sequence\n",
      " 14%|█▍        | 14/100 [03:17<20:12, 14.10s/it]Setting `pad_token_id` to 50256 (first `eos_token_id`) to generate sequence\n",
      " 15%|█▌        | 15/100 [03:31<19:57, 14.09s/it]Setting `pad_token_id` to 50256 (first `eos_token_id`) to generate sequence\n",
      " 16%|█▌        | 16/100 [03:45<19:40, 14.05s/it]Setting `pad_token_id` to 50256 (first `eos_token_id`) to generate sequence\n",
      " 17%|█▋        | 17/100 [03:59<19:26, 14.05s/it]Setting `pad_token_id` to 50256 (first `eos_token_id`) to generate sequence\n",
      " 18%|█▊        | 18/100 [04:13<19:12, 14.05s/it]Setting `pad_token_id` to 50256 (first `eos_token_id`) to generate sequence\n",
      " 19%|█▉        | 19/100 [04:27<18:56, 14.03s/it]Setting `pad_token_id` to 50256 (first `eos_token_id`) to generate sequence\n",
      " 20%|██        | 20/100 [04:41<18:41, 14.02s/it]Setting `pad_token_id` to 50256 (first `eos_token_id`) to generate sequence\n",
      " 21%|██        | 21/100 [04:55<18:24, 13.98s/it]Setting `pad_token_id` to 50256 (first `eos_token_id`) to generate sequence\n",
      " 22%|██▏       | 22/100 [05:09<18:08, 13.96s/it]Setting `pad_token_id` to 50256 (first `eos_token_id`) to generate sequence\n",
      " 23%|██▎       | 23/100 [05:23<17:57, 13.99s/it]Setting `pad_token_id` to 50256 (first `eos_token_id`) to generate sequence\n",
      " 24%|██▍       | 24/100 [05:37<17:45, 14.02s/it]Setting `pad_token_id` to 50256 (first `eos_token_id`) to generate sequence\n",
      " 25%|██▌       | 25/100 [05:51<17:32, 14.03s/it]Setting `pad_token_id` to 50256 (first `eos_token_id`) to generate sequence\n",
      " 26%|██▌       | 26/100 [06:05<17:18, 14.04s/it]Setting `pad_token_id` to 50256 (first `eos_token_id`) to generate sequence\n",
      " 27%|██▋       | 27/100 [06:19<17:04, 14.03s/it]Setting `pad_token_id` to 50256 (first `eos_token_id`) to generate sequence\n",
      " 28%|██▊       | 28/100 [06:34<16:59, 14.16s/it]Setting `pad_token_id` to 50256 (first `eos_token_id`) to generate sequence\n",
      " 29%|██▉       | 29/100 [06:48<16:47, 14.20s/it]Setting `pad_token_id` to 50256 (first `eos_token_id`) to generate sequence\n",
      " 30%|███       | 30/100 [07:03<16:39, 14.28s/it]Setting `pad_token_id` to 50256 (first `eos_token_id`) to generate sequence\n",
      " 31%|███       | 31/100 [07:17<16:19, 14.19s/it]Setting `pad_token_id` to 50256 (first `eos_token_id`) to generate sequence\n",
      " 32%|███▏      | 32/100 [07:31<16:09, 14.26s/it]Setting `pad_token_id` to 50256 (first `eos_token_id`) to generate sequence\n",
      " 33%|███▎      | 33/100 [07:45<15:51, 14.20s/it]Setting `pad_token_id` to 50256 (first `eos_token_id`) to generate sequence\n",
      " 34%|███▍      | 34/100 [07:59<15:33, 14.14s/it]Setting `pad_token_id` to 50256 (first `eos_token_id`) to generate sequence\n",
      " 35%|███▌      | 35/100 [08:13<15:17, 14.12s/it]Setting `pad_token_id` to 50256 (first `eos_token_id`) to generate sequence\n",
      " 36%|███▌      | 36/100 [08:27<15:02, 14.10s/it]Setting `pad_token_id` to 50256 (first `eos_token_id`) to generate sequence\n",
      " 37%|███▋      | 37/100 [08:41<14:47, 14.08s/it]Setting `pad_token_id` to 50256 (first `eos_token_id`) to generate sequence\n",
      " 38%|███▊      | 38/100 [08:56<14:44, 14.27s/it]Setting `pad_token_id` to 50256 (first `eos_token_id`) to generate sequence\n",
      " 39%|███▉      | 39/100 [09:10<14:23, 14.16s/it]Setting `pad_token_id` to 50256 (first `eos_token_id`) to generate sequence\n",
      " 40%|████      | 40/100 [09:24<14:11, 14.20s/it]Setting `pad_token_id` to 50256 (first `eos_token_id`) to generate sequence\n",
      " 41%|████      | 41/100 [09:38<13:54, 14.15s/it]Setting `pad_token_id` to 50256 (first `eos_token_id`) to generate sequence\n",
      " 42%|████▏     | 42/100 [09:52<13:37, 14.09s/it]Setting `pad_token_id` to 50256 (first `eos_token_id`) to generate sequence\n",
      " 43%|████▎     | 43/100 [10:06<13:22, 14.07s/it]Setting `pad_token_id` to 50256 (first `eos_token_id`) to generate sequence\n",
      " 44%|████▍     | 44/100 [10:20<13:07, 14.06s/it]Setting `pad_token_id` to 50256 (first `eos_token_id`) to generate sequence\n",
      " 45%|████▌     | 45/100 [10:34<12:52, 14.04s/it]Setting `pad_token_id` to 50256 (first `eos_token_id`) to generate sequence\n",
      " 46%|████▌     | 46/100 [10:48<12:38, 14.04s/it]Setting `pad_token_id` to 50256 (first `eos_token_id`) to generate sequence\n",
      " 47%|████▋     | 47/100 [11:02<12:20, 13.98s/it]Setting `pad_token_id` to 50256 (first `eos_token_id`) to generate sequence\n",
      " 48%|████▊     | 48/100 [11:16<12:06, 13.98s/it]Setting `pad_token_id` to 50256 (first `eos_token_id`) to generate sequence\n",
      " 49%|████▉     | 49/100 [11:30<11:55, 14.03s/it]Setting `pad_token_id` to 50256 (first `eos_token_id`) to generate sequence\n",
      " 50%|█████     | 50/100 [11:44<11:41, 14.03s/it]Setting `pad_token_id` to 50256 (first `eos_token_id`) to generate sequence\n",
      " 51%|█████     | 51/100 [11:58<11:26, 14.02s/it]Setting `pad_token_id` to 50256 (first `eos_token_id`) to generate sequence\n",
      " 52%|█████▏    | 52/100 [12:12<11:13, 14.02s/it]Setting `pad_token_id` to 50256 (first `eos_token_id`) to generate sequence\n",
      " 53%|█████▎    | 53/100 [12:26<10:58, 14.01s/it]Setting `pad_token_id` to 50256 (first `eos_token_id`) to generate sequence\n",
      " 54%|█████▍    | 54/100 [12:40<10:43, 14.00s/it]Setting `pad_token_id` to 50256 (first `eos_token_id`) to generate sequence\n",
      " 55%|█████▌    | 55/100 [12:54<10:27, 13.95s/it]Setting `pad_token_id` to 50256 (first `eos_token_id`) to generate sequence\n",
      " 56%|█████▌    | 56/100 [13:08<10:15, 13.99s/it]Setting `pad_token_id` to 50256 (first `eos_token_id`) to generate sequence\n",
      " 57%|█████▋    | 57/100 [13:22<10:01, 13.98s/it]Setting `pad_token_id` to 50256 (first `eos_token_id`) to generate sequence\n",
      " 58%|█████▊    | 58/100 [13:36<09:49, 14.03s/it]Setting `pad_token_id` to 50256 (first `eos_token_id`) to generate sequence\n",
      " 59%|█████▉    | 59/100 [13:50<09:34, 14.02s/it]Setting `pad_token_id` to 50256 (first `eos_token_id`) to generate sequence\n",
      " 60%|██████    | 60/100 [14:04<09:20, 14.02s/it]Setting `pad_token_id` to 50256 (first `eos_token_id`) to generate sequence\n",
      " 61%|██████    | 61/100 [14:18<09:07, 14.03s/it]Setting `pad_token_id` to 50256 (first `eos_token_id`) to generate sequence\n",
      " 62%|██████▏   | 62/100 [14:32<08:52, 14.01s/it]Setting `pad_token_id` to 50256 (first `eos_token_id`) to generate sequence\n",
      " 63%|██████▎   | 63/100 [14:46<08:35, 13.94s/it]Setting `pad_token_id` to 50256 (first `eos_token_id`) to generate sequence\n",
      " 64%|██████▍   | 64/100 [15:00<08:22, 13.97s/it]Setting `pad_token_id` to 50256 (first `eos_token_id`) to generate sequence\n",
      " 65%|██████▌   | 65/100 [15:14<08:09, 13.99s/it]Setting `pad_token_id` to 50256 (first `eos_token_id`) to generate sequence\n",
      " 66%|██████▌   | 66/100 [15:28<07:57, 14.04s/it]Setting `pad_token_id` to 50256 (first `eos_token_id`) to generate sequence\n",
      " 67%|██████▋   | 67/100 [15:42<07:43, 14.04s/it]Setting `pad_token_id` to 50256 (first `eos_token_id`) to generate sequence\n",
      " 68%|██████▊   | 68/100 [15:56<07:28, 14.02s/it]Setting `pad_token_id` to 50256 (first `eos_token_id`) to generate sequence\n",
      " 69%|██████▉   | 69/100 [16:10<07:14, 14.01s/it]Setting `pad_token_id` to 50256 (first `eos_token_id`) to generate sequence\n",
      " 70%|███████   | 70/100 [16:24<07:00, 14.01s/it]Setting `pad_token_id` to 50256 (first `eos_token_id`) to generate sequence\n",
      " 71%|███████   | 71/100 [16:38<06:45, 13.98s/it]Setting `pad_token_id` to 50256 (first `eos_token_id`) to generate sequence\n",
      " 72%|███████▏  | 72/100 [16:52<06:31, 13.99s/it]Setting `pad_token_id` to 50256 (first `eos_token_id`) to generate sequence\n",
      " 73%|███████▎  | 73/100 [17:06<06:18, 14.02s/it]Setting `pad_token_id` to 50256 (first `eos_token_id`) to generate sequence\n",
      " 74%|███████▍  | 74/100 [17:20<06:04, 14.01s/it]Setting `pad_token_id` to 50256 (first `eos_token_id`) to generate sequence\n",
      " 75%|███████▌  | 75/100 [17:34<05:51, 14.05s/it]Setting `pad_token_id` to 50256 (first `eos_token_id`) to generate sequence\n",
      " 76%|███████▌  | 76/100 [17:49<05:37, 14.08s/it]Setting `pad_token_id` to 50256 (first `eos_token_id`) to generate sequence\n",
      " 77%|███████▋  | 77/100 [18:03<05:23, 14.08s/it]Setting `pad_token_id` to 50256 (first `eos_token_id`) to generate sequence\n",
      " 78%|███████▊  | 78/100 [18:17<05:09, 14.06s/it]Setting `pad_token_id` to 50256 (first `eos_token_id`) to generate sequence\n",
      " 79%|███████▉  | 79/100 [18:30<04:53, 13.98s/it]Setting `pad_token_id` to 50256 (first `eos_token_id`) to generate sequence\n",
      " 80%|████████  | 80/100 [18:44<04:39, 13.99s/it]Setting `pad_token_id` to 50256 (first `eos_token_id`) to generate sequence\n",
      " 81%|████████  | 81/100 [18:59<04:26, 14.01s/it]Setting `pad_token_id` to 50256 (first `eos_token_id`) to generate sequence\n",
      " 82%|████████▏ | 82/100 [19:13<04:12, 14.01s/it]Setting `pad_token_id` to 50256 (first `eos_token_id`) to generate sequence\n",
      " 83%|████████▎ | 83/100 [19:27<03:58, 14.04s/it]Setting `pad_token_id` to 50256 (first `eos_token_id`) to generate sequence\n",
      " 84%|████████▍ | 84/100 [19:41<03:44, 14.04s/it]Setting `pad_token_id` to 50256 (first `eos_token_id`) to generate sequence\n",
      " 85%|████████▌ | 85/100 [19:55<03:30, 14.02s/it]Setting `pad_token_id` to 50256 (first `eos_token_id`) to generate sequence\n",
      " 86%|████████▌ | 86/100 [20:09<03:16, 14.03s/it]Setting `pad_token_id` to 50256 (first `eos_token_id`) to generate sequence\n",
      " 87%|████████▋ | 87/100 [20:23<03:01, 13.97s/it]Setting `pad_token_id` to 50256 (first `eos_token_id`) to generate sequence\n",
      " 88%|████████▊ | 88/100 [20:37<02:47, 13.98s/it]Setting `pad_token_id` to 50256 (first `eos_token_id`) to generate sequence\n",
      " 89%|████████▉ | 89/100 [20:51<02:34, 14.04s/it]Setting `pad_token_id` to 50256 (first `eos_token_id`) to generate sequence\n",
      " 90%|█████████ | 90/100 [21:05<02:20, 14.08s/it]Setting `pad_token_id` to 50256 (first `eos_token_id`) to generate sequence\n",
      " 91%|█████████ | 91/100 [21:19<02:06, 14.06s/it]Setting `pad_token_id` to 50256 (first `eos_token_id`) to generate sequence\n",
      " 92%|█████████▏| 92/100 [21:33<01:52, 14.09s/it]Setting `pad_token_id` to 50256 (first `eos_token_id`) to generate sequence\n",
      " 93%|█████████▎| 93/100 [21:47<01:38, 14.08s/it]Setting `pad_token_id` to 50256 (first `eos_token_id`) to generate sequence\n",
      " 94%|█████████▍| 94/100 [22:01<01:24, 14.06s/it]Setting `pad_token_id` to 50256 (first `eos_token_id`) to generate sequence\n",
      " 95%|█████████▌| 95/100 [22:15<01:09, 13.99s/it]Setting `pad_token_id` to 50256 (first `eos_token_id`) to generate sequence\n",
      " 96%|█████████▌| 96/100 [22:29<00:55, 14.00s/it]Setting `pad_token_id` to 50256 (first `eos_token_id`) to generate sequence\n",
      " 97%|█████████▋| 97/100 [22:43<00:42, 14.05s/it]Setting `pad_token_id` to 50256 (first `eos_token_id`) to generate sequence\n",
      " 98%|█████████▊| 98/100 [22:59<00:29, 14.51s/it]Setting `pad_token_id` to 50256 (first `eos_token_id`) to generate sequence\n",
      " 99%|█████████▉| 99/100 [23:13<00:14, 14.43s/it]Setting `pad_token_id` to 50256 (first `eos_token_id`) to generate sequence\n",
      "100%|██████████| 100/100 [23:27<00:00, 14.08s/it]\n"
     ]
    }
   ],
   "source": [
    "for i in tqdm.tqdm(range(100)):\n",
    "    filename = \"gpt2\"\n",
    "    context = randcontext(wholetext,4)\n",
    "    string = generateText(model,tokenizer,context, t = 0.8, p = 1, k = 5)\n",
    "    save_path = \"generators/GPT2_texts/test_texts/\"+filename + \" \" + str(i)+ \" \" + \".txt\"\n",
    "    save_to_file(string,save_path)"
   ]
  },
  {
   "cell_type": "code",
   "execution_count": null,
   "metadata": {},
   "outputs": [],
   "source": []
  }
 ],
 "metadata": {
  "colab": {
   "name": "Train a language model",
   "provenance": []
  },
  "kernelspec": {
   "display_name": "Python 3 (ipykernel)",
   "language": "python",
   "name": "python3"
  },
  "language_info": {
   "codemirror_mode": {
    "name": "ipython",
    "version": 3
   },
   "file_extension": ".py",
   "mimetype": "text/x-python",
   "name": "python",
   "nbconvert_exporter": "python",
   "pygments_lexer": "ipython3",
   "version": "3.8.12"
  },
  "widgets": {
   "application/vnd.jupyter.widget-state+json": {
    "021ff80727444cc4a8661539ec0f11f6": {
     "model_module": "@jupyter-widgets/controls",
     "model_module_version": "1.5.0",
     "model_name": "HTMLModel",
     "state": {
      "_dom_classes": [],
      "_model_module": "@jupyter-widgets/controls",
      "_model_module_version": "1.5.0",
      "_model_name": "HTMLModel",
      "_view_count": null,
      "_view_module": "@jupyter-widgets/controls",
      "_view_module_version": "1.5.0",
      "_view_name": "HTMLView",
      "description": "",
      "description_tooltip": null,
      "layout": "IPY_MODEL_4aa48da3739347dcacec7eba6a45088f",
      "placeholder": "​",
      "style": "IPY_MODEL_28138142ff814cd699fc58bfd1e134ed",
      "value": "Downloading: 100%"
     }
    },
    "0343bd9054fa4baba1e430117072d946": {
     "model_module": "@jupyter-widgets/controls",
     "model_module_version": "1.5.0",
     "model_name": "HTMLModel",
     "state": {
      "_dom_classes": [],
      "_model_module": "@jupyter-widgets/controls",
      "_model_module_version": "1.5.0",
      "_model_name": "HTMLModel",
      "_view_count": null,
      "_view_module": "@jupyter-widgets/controls",
      "_view_module_version": "1.5.0",
      "_view_name": "HTMLView",
      "description": "",
      "description_tooltip": null,
      "layout": "IPY_MODEL_b3261aea79a74df996ac6249514906df",
      "placeholder": "​",
      "style": "IPY_MODEL_e9abe35769dc4eb1b8b1f9653dd526c5",
      "value": "Downloading: "
     }
    },
    "0b69443739684f8bbe8ca323b78c1b5f": {
     "model_module": "@jupyter-widgets/controls",
     "model_module_version": "1.5.0",
     "model_name": "ProgressStyleModel",
     "state": {
      "_model_module": "@jupyter-widgets/controls",
      "_model_module_version": "1.5.0",
      "_model_name": "ProgressStyleModel",
      "_view_count": null,
      "_view_module": "@jupyter-widgets/base",
      "_view_module_version": "1.2.0",
      "_view_name": "StyleView",
      "bar_color": null,
      "description_width": ""
     }
    },
    "0bc726f0218e441986e2381620e4dcd5": {
     "model_module": "@jupyter-widgets/base",
     "model_module_version": "1.2.0",
     "model_name": "LayoutModel",
     "state": {
      "_model_module": "@jupyter-widgets/base",
      "_model_module_version": "1.2.0",
      "_model_name": "LayoutModel",
      "_view_count": null,
      "_view_module": "@jupyter-widgets/base",
      "_view_module_version": "1.2.0",
      "_view_name": "LayoutView",
      "align_content": null,
      "align_items": null,
      "align_self": null,
      "border": null,
      "bottom": null,
      "display": null,
      "flex": null,
      "flex_flow": null,
      "grid_area": null,
      "grid_auto_columns": null,
      "grid_auto_flow": null,
      "grid_auto_rows": null,
      "grid_column": null,
      "grid_gap": null,
      "grid_row": null,
      "grid_template_areas": null,
      "grid_template_columns": null,
      "grid_template_rows": null,
      "height": null,
      "justify_content": null,
      "justify_items": null,
      "left": null,
      "margin": null,
      "max_height": null,
      "max_width": null,
      "min_height": null,
      "min_width": null,
      "object_fit": null,
      "object_position": null,
      "order": null,
      "overflow": null,
      "overflow_x": null,
      "overflow_y": null,
      "padding": null,
      "right": null,
      "top": null,
      "visibility": null,
      "width": "20px"
     }
    },
    "11220d9686a54487ba4ea6826db1cde0": {
     "model_module": "@jupyter-widgets/base",
     "model_module_version": "1.2.0",
     "model_name": "LayoutModel",
     "state": {
      "_model_module": "@jupyter-widgets/base",
      "_model_module_version": "1.2.0",
      "_model_name": "LayoutModel",
      "_view_count": null,
      "_view_module": "@jupyter-widgets/base",
      "_view_module_version": "1.2.0",
      "_view_name": "LayoutView",
      "align_content": null,
      "align_items": null,
      "align_self": null,
      "border": null,
      "bottom": null,
      "display": null,
      "flex": null,
      "flex_flow": null,
      "grid_area": null,
      "grid_auto_columns": null,
      "grid_auto_flow": null,
      "grid_auto_rows": null,
      "grid_column": null,
      "grid_gap": null,
      "grid_row": null,
      "grid_template_areas": null,
      "grid_template_columns": null,
      "grid_template_rows": null,
      "height": null,
      "justify_content": null,
      "justify_items": null,
      "left": null,
      "margin": null,
      "max_height": null,
      "max_width": null,
      "min_height": null,
      "min_width": null,
      "object_fit": null,
      "object_position": null,
      "order": null,
      "overflow": null,
      "overflow_x": null,
      "overflow_y": null,
      "padding": null,
      "right": null,
      "top": null,
      "visibility": null,
      "width": null
     }
    },
    "1262080baac146708391221ddfb64ac8": {
     "model_module": "@jupyter-widgets/controls",
     "model_module_version": "1.5.0",
     "model_name": "ProgressStyleModel",
     "state": {
      "_model_module": "@jupyter-widgets/controls",
      "_model_module_version": "1.5.0",
      "_model_name": "ProgressStyleModel",
      "_view_count": null,
      "_view_module": "@jupyter-widgets/base",
      "_view_module_version": "1.2.0",
      "_view_name": "StyleView",
      "bar_color": null,
      "description_width": ""
     }
    },
    "189d791de5d1429fa494670bb760d2b1": {
     "model_module": "@jupyter-widgets/controls",
     "model_module_version": "1.5.0",
     "model_name": "ProgressStyleModel",
     "state": {
      "_model_module": "@jupyter-widgets/controls",
      "_model_module_version": "1.5.0",
      "_model_name": "ProgressStyleModel",
      "_view_count": null,
      "_view_module": "@jupyter-widgets/base",
      "_view_module_version": "1.2.0",
      "_view_name": "StyleView",
      "bar_color": null,
      "description_width": ""
     }
    },
    "1bea7495cea141e4935cc72cf6eae8b8": {
     "model_module": "@jupyter-widgets/base",
     "model_module_version": "1.2.0",
     "model_name": "LayoutModel",
     "state": {
      "_model_module": "@jupyter-widgets/base",
      "_model_module_version": "1.2.0",
      "_model_name": "LayoutModel",
      "_view_count": null,
      "_view_module": "@jupyter-widgets/base",
      "_view_module_version": "1.2.0",
      "_view_name": "LayoutView",
      "align_content": null,
      "align_items": null,
      "align_self": null,
      "border": null,
      "bottom": null,
      "display": null,
      "flex": null,
      "flex_flow": null,
      "grid_area": null,
      "grid_auto_columns": null,
      "grid_auto_flow": null,
      "grid_auto_rows": null,
      "grid_column": null,
      "grid_gap": null,
      "grid_row": null,
      "grid_template_areas": null,
      "grid_template_columns": null,
      "grid_template_rows": null,
      "height": null,
      "justify_content": null,
      "justify_items": null,
      "left": null,
      "margin": null,
      "max_height": null,
      "max_width": null,
      "min_height": null,
      "min_width": null,
      "object_fit": null,
      "object_position": null,
      "order": null,
      "overflow": null,
      "overflow_x": null,
      "overflow_y": null,
      "padding": null,
      "right": null,
      "top": null,
      "visibility": null,
      "width": null
     }
    },
    "1dd5394af87f436f91a431fb62bec87d": {
     "model_module": "@jupyter-widgets/controls",
     "model_module_version": "1.5.0",
     "model_name": "HTMLModel",
     "state": {
      "_dom_classes": [],
      "_model_module": "@jupyter-widgets/controls",
      "_model_module_version": "1.5.0",
      "_model_name": "HTMLModel",
      "_view_count": null,
      "_view_module": "@jupyter-widgets/controls",
      "_view_module_version": "1.5.0",
      "_view_name": "HTMLView",
      "description": "",
      "description_tooltip": null,
      "layout": "IPY_MODEL_921f46c92fb54f31bb01da4582b27da3",
      "placeholder": "​",
      "style": "IPY_MODEL_d501dc6ca6044b7d8d1ce6dc79655bdb",
      "value": " 1672/0 [00:00&lt;00:00, 16716.47 examples/s]"
     }
    },
    "1e5952a7e1bf4d6184d389b524486596": {
     "model_module": "@jupyter-widgets/controls",
     "model_module_version": "1.5.0",
     "model_name": "FloatProgressModel",
     "state": {
      "_dom_classes": [],
      "_model_module": "@jupyter-widgets/controls",
      "_model_module_version": "1.5.0",
      "_model_name": "FloatProgressModel",
      "_view_count": null,
      "_view_module": "@jupyter-widgets/controls",
      "_view_module_version": "1.5.0",
      "_view_name": "ProgressView",
      "bar_style": "success",
      "description": "",
      "description_tooltip": null,
      "layout": "IPY_MODEL_1bea7495cea141e4935cc72cf6eae8b8",
      "max": 2032,
      "min": 0,
      "orientation": "horizontal",
      "style": "IPY_MODEL_1262080baac146708391221ddfb64ac8",
      "value": 2032
     }
    },
    "20690c8e9f684c8d9f064a3a1b82279a": {
     "model_module": "@jupyter-widgets/controls",
     "model_module_version": "1.5.0",
     "model_name": "DescriptionStyleModel",
     "state": {
      "_model_module": "@jupyter-widgets/controls",
      "_model_module_version": "1.5.0",
      "_model_name": "DescriptionStyleModel",
      "_view_count": null,
      "_view_module": "@jupyter-widgets/base",
      "_view_module_version": "1.2.0",
      "_view_name": "StyleView",
      "description_width": ""
     }
    },
    "21591f56f2124fe69940a86decd9999e": {
     "model_module": "@jupyter-widgets/controls",
     "model_module_version": "1.5.0",
     "model_name": "HTMLModel",
     "state": {
      "_dom_classes": [],
      "_model_module": "@jupyter-widgets/controls",
      "_model_module_version": "1.5.0",
      "_model_name": "HTMLModel",
      "_view_count": null,
      "_view_module": "@jupyter-widgets/controls",
      "_view_module_version": "1.5.0",
      "_view_name": "HTMLView",
      "description": "",
      "description_tooltip": null,
      "layout": "IPY_MODEL_b29e973677db4fa2a196c8a1c83e16ad",
      "placeholder": "​",
      "style": "IPY_MODEL_5661d66041dd4e24926480ca397a7fc9",
      "value": ""
     }
    },
    "2326732248b14d719abbcb822b9edb1e": {
     "model_module": "@jupyter-widgets/controls",
     "model_module_version": "1.5.0",
     "model_name": "FloatProgressModel",
     "state": {
      "_dom_classes": [],
      "_model_module": "@jupyter-widgets/controls",
      "_model_module_version": "1.5.0",
      "_model_name": "FloatProgressModel",
      "_view_count": null,
      "_view_module": "@jupyter-widgets/controls",
      "_view_module_version": "1.5.0",
      "_view_name": "ProgressView",
      "bar_style": "info",
      "description": "",
      "description_tooltip": null,
      "layout": "IPY_MODEL_0bc726f0218e441986e2381620e4dcd5",
      "max": 1,
      "min": 0,
      "orientation": "horizontal",
      "style": "IPY_MODEL_0b69443739684f8bbe8ca323b78c1b5f",
      "value": 1
     }
    },
    "262fa6e139584de5ababba47e5d38709": {
     "model_module": "@jupyter-widgets/base",
     "model_module_version": "1.2.0",
     "model_name": "LayoutModel",
     "state": {
      "_model_module": "@jupyter-widgets/base",
      "_model_module_version": "1.2.0",
      "_model_name": "LayoutModel",
      "_view_count": null,
      "_view_module": "@jupyter-widgets/base",
      "_view_module_version": "1.2.0",
      "_view_name": "LayoutView",
      "align_content": null,
      "align_items": null,
      "align_self": null,
      "border": null,
      "bottom": null,
      "display": null,
      "flex": null,
      "flex_flow": null,
      "grid_area": null,
      "grid_auto_columns": null,
      "grid_auto_flow": null,
      "grid_auto_rows": null,
      "grid_column": null,
      "grid_gap": null,
      "grid_row": null,
      "grid_template_areas": null,
      "grid_template_columns": null,
      "grid_template_rows": null,
      "height": null,
      "justify_content": null,
      "justify_items": null,
      "left": null,
      "margin": null,
      "max_height": null,
      "max_width": null,
      "min_height": null,
      "min_width": null,
      "object_fit": null,
      "object_position": null,
      "order": null,
      "overflow": null,
      "overflow_x": null,
      "overflow_y": null,
      "padding": null,
      "right": null,
      "top": null,
      "visibility": null,
      "width": "20px"
     }
    },
    "28138142ff814cd699fc58bfd1e134ed": {
     "model_module": "@jupyter-widgets/controls",
     "model_module_version": "1.5.0",
     "model_name": "DescriptionStyleModel",
     "state": {
      "_model_module": "@jupyter-widgets/controls",
      "_model_module_version": "1.5.0",
      "_model_name": "DescriptionStyleModel",
      "_view_count": null,
      "_view_module": "@jupyter-widgets/base",
      "_view_module_version": "1.2.0",
      "_view_name": "StyleView",
      "description_width": ""
     }
    },
    "288cf6625ba048cd9843b2a13def84c9": {
     "model_module": "@jupyter-widgets/controls",
     "model_module_version": "1.5.0",
     "model_name": "FloatProgressModel",
     "state": {
      "_dom_classes": [],
      "_model_module": "@jupyter-widgets/controls",
      "_model_module_version": "1.5.0",
      "_model_name": "FloatProgressModel",
      "_view_count": null,
      "_view_module": "@jupyter-widgets/controls",
      "_view_module_version": "1.5.0",
      "_view_name": "ProgressView",
      "bar_style": "info",
      "description": "",
      "description_tooltip": null,
      "layout": "IPY_MODEL_262fa6e139584de5ababba47e5d38709",
      "max": 1,
      "min": 0,
      "orientation": "horizontal",
      "style": "IPY_MODEL_75f8809939bc413c9c30e30b2eee1584",
      "value": 1
     }
    },
    "2b3507ca0bfc40ec83436f0ad104d058": {
     "model_module": "@jupyter-widgets/base",
     "model_module_version": "1.2.0",
     "model_name": "LayoutModel",
     "state": {
      "_model_module": "@jupyter-widgets/base",
      "_model_module_version": "1.2.0",
      "_model_name": "LayoutModel",
      "_view_count": null,
      "_view_module": "@jupyter-widgets/base",
      "_view_module_version": "1.2.0",
      "_view_name": "LayoutView",
      "align_content": null,
      "align_items": null,
      "align_self": null,
      "border": null,
      "bottom": null,
      "display": null,
      "flex": null,
      "flex_flow": null,
      "grid_area": null,
      "grid_auto_columns": null,
      "grid_auto_flow": null,
      "grid_auto_rows": null,
      "grid_column": null,
      "grid_gap": null,
      "grid_row": null,
      "grid_template_areas": null,
      "grid_template_columns": null,
      "grid_template_rows": null,
      "height": null,
      "justify_content": null,
      "justify_items": null,
      "left": null,
      "margin": null,
      "max_height": null,
      "max_width": null,
      "min_height": null,
      "min_width": null,
      "object_fit": null,
      "object_position": null,
      "order": null,
      "overflow": null,
      "overflow_x": null,
      "overflow_y": null,
      "padding": null,
      "right": null,
      "top": null,
      "visibility": null,
      "width": null
     }
    },
    "30543366a33f4fb5b05944ad1ab496c8": {
     "model_module": "@jupyter-widgets/base",
     "model_module_version": "1.2.0",
     "model_name": "LayoutModel",
     "state": {
      "_model_module": "@jupyter-widgets/base",
      "_model_module_version": "1.2.0",
      "_model_name": "LayoutModel",
      "_view_count": null,
      "_view_module": "@jupyter-widgets/base",
      "_view_module_version": "1.2.0",
      "_view_name": "LayoutView",
      "align_content": null,
      "align_items": null,
      "align_self": null,
      "border": null,
      "bottom": null,
      "display": null,
      "flex": null,
      "flex_flow": null,
      "grid_area": null,
      "grid_auto_columns": null,
      "grid_auto_flow": null,
      "grid_auto_rows": null,
      "grid_column": null,
      "grid_gap": null,
      "grid_row": null,
      "grid_template_areas": null,
      "grid_template_columns": null,
      "grid_template_rows": null,
      "height": null,
      "justify_content": null,
      "justify_items": null,
      "left": null,
      "margin": null,
      "max_height": null,
      "max_width": null,
      "min_height": null,
      "min_width": null,
      "object_fit": null,
      "object_position": null,
      "order": null,
      "overflow": null,
      "overflow_x": null,
      "overflow_y": null,
      "padding": null,
      "right": null,
      "top": null,
      "visibility": null,
      "width": null
     }
    },
    "386f2fcac26949d7934484d9bbef152f": {
     "model_module": "@jupyter-widgets/controls",
     "model_module_version": "1.5.0",
     "model_name": "HTMLModel",
     "state": {
      "_dom_classes": [],
      "_model_module": "@jupyter-widgets/controls",
      "_model_module_version": "1.5.0",
      "_model_name": "HTMLModel",
      "_view_count": null,
      "_view_module": "@jupyter-widgets/controls",
      "_view_module_version": "1.5.0",
      "_view_name": "HTMLView",
      "description": "",
      "description_tooltip": null,
      "layout": "IPY_MODEL_f64e24089baa43959e14dbe5525de150",
      "placeholder": "​",
      "style": "IPY_MODEL_eb42aa2c675446c9b14a447544aadd99",
      "value": "Downloading: 100%"
     }
    },
    "394532299a814446a0e8bc806476849c": {
     "model_module": "@jupyter-widgets/controls",
     "model_module_version": "1.5.0",
     "model_name": "FloatProgressModel",
     "state": {
      "_dom_classes": [],
      "_model_module": "@jupyter-widgets/controls",
      "_model_module_version": "1.5.0",
      "_model_name": "FloatProgressModel",
      "_view_count": null,
      "_view_module": "@jupyter-widgets/controls",
      "_view_module_version": "1.5.0",
      "_view_name": "ProgressView",
      "bar_style": "success",
      "description": "",
      "description_tooltip": null,
      "layout": "IPY_MODEL_b3573a3c8c344140b587d9c60bfc27c9",
      "max": 3,
      "min": 0,
      "orientation": "horizontal",
      "style": "IPY_MODEL_8b5180f332244a7ba37ac67005399940",
      "value": 3
     }
    },
    "3c965dc9676d4ba7a36db2c2c10ce236": {
     "model_module": "@jupyter-widgets/base",
     "model_module_version": "1.2.0",
     "model_name": "LayoutModel",
     "state": {
      "_model_module": "@jupyter-widgets/base",
      "_model_module_version": "1.2.0",
      "_model_name": "LayoutModel",
      "_view_count": null,
      "_view_module": "@jupyter-widgets/base",
      "_view_module_version": "1.2.0",
      "_view_name": "LayoutView",
      "align_content": null,
      "align_items": null,
      "align_self": null,
      "border": null,
      "bottom": null,
      "display": null,
      "flex": null,
      "flex_flow": null,
      "grid_area": null,
      "grid_auto_columns": null,
      "grid_auto_flow": null,
      "grid_auto_rows": null,
      "grid_column": null,
      "grid_gap": null,
      "grid_row": null,
      "grid_template_areas": null,
      "grid_template_columns": null,
      "grid_template_rows": null,
      "height": null,
      "justify_content": null,
      "justify_items": null,
      "left": null,
      "margin": null,
      "max_height": null,
      "max_width": null,
      "min_height": null,
      "min_width": null,
      "object_fit": null,
      "object_position": null,
      "order": null,
      "overflow": null,
      "overflow_x": null,
      "overflow_y": null,
      "padding": null,
      "right": null,
      "top": null,
      "visibility": null,
      "width": "20px"
     }
    },
    "3e5ca5121267400f9b6ca1091b577487": {
     "model_module": "@jupyter-widgets/base",
     "model_module_version": "1.2.0",
     "model_name": "LayoutModel",
     "state": {
      "_model_module": "@jupyter-widgets/base",
      "_model_module_version": "1.2.0",
      "_model_name": "LayoutModel",
      "_view_count": null,
      "_view_module": "@jupyter-widgets/base",
      "_view_module_version": "1.2.0",
      "_view_name": "LayoutView",
      "align_content": null,
      "align_items": null,
      "align_self": null,
      "border": null,
      "bottom": null,
      "display": null,
      "flex": null,
      "flex_flow": null,
      "grid_area": null,
      "grid_auto_columns": null,
      "grid_auto_flow": null,
      "grid_auto_rows": null,
      "grid_column": null,
      "grid_gap": null,
      "grid_row": null,
      "grid_template_areas": null,
      "grid_template_columns": null,
      "grid_template_rows": null,
      "height": null,
      "justify_content": null,
      "justify_items": null,
      "left": null,
      "margin": null,
      "max_height": null,
      "max_width": null,
      "min_height": null,
      "min_width": null,
      "object_fit": null,
      "object_position": null,
      "order": null,
      "overflow": null,
      "overflow_x": null,
      "overflow_y": null,
      "padding": null,
      "right": null,
      "top": null,
      "visibility": null,
      "width": null
     }
    },
    "3eef415f311140c8baca93f935ba4ae1": {
     "model_module": "@jupyter-widgets/controls",
     "model_module_version": "1.5.0",
     "model_name": "DescriptionStyleModel",
     "state": {
      "_model_module": "@jupyter-widgets/controls",
      "_model_module_version": "1.5.0",
      "_model_name": "DescriptionStyleModel",
      "_view_count": null,
      "_view_module": "@jupyter-widgets/base",
      "_view_module_version": "1.2.0",
      "_view_name": "StyleView",
      "description_width": ""
     }
    },
    "445071026f6140149306923bf644dc68": {
     "model_module": "@jupyter-widgets/controls",
     "model_module_version": "1.5.0",
     "model_name": "HBoxModel",
     "state": {
      "_dom_classes": [],
      "_model_module": "@jupyter-widgets/controls",
      "_model_module_version": "1.5.0",
      "_model_name": "HBoxModel",
      "_view_count": null,
      "_view_module": "@jupyter-widgets/controls",
      "_view_module_version": "1.5.0",
      "_view_name": "HBoxView",
      "box_style": "",
      "children": [
       "IPY_MODEL_ff7ff21f801d43cab2f531002cd8c386",
       "IPY_MODEL_288cf6625ba048cd9843b2a13def84c9",
       "IPY_MODEL_1dd5394af87f436f91a431fb62bec87d"
      ],
      "layout": "IPY_MODEL_d7cb1ac20f114a128a71286b1984b893"
     }
    },
    "44e06155345847449b4c18d1d0d3a750": {
     "model_module": "@jupyter-widgets/base",
     "model_module_version": "1.2.0",
     "model_name": "LayoutModel",
     "state": {
      "_model_module": "@jupyter-widgets/base",
      "_model_module_version": "1.2.0",
      "_model_name": "LayoutModel",
      "_view_count": null,
      "_view_module": "@jupyter-widgets/base",
      "_view_module_version": "1.2.0",
      "_view_name": "LayoutView",
      "align_content": null,
      "align_items": null,
      "align_self": null,
      "border": null,
      "bottom": null,
      "display": null,
      "flex": null,
      "flex_flow": null,
      "grid_area": null,
      "grid_auto_columns": null,
      "grid_auto_flow": null,
      "grid_auto_rows": null,
      "grid_column": null,
      "grid_gap": null,
      "grid_row": null,
      "grid_template_areas": null,
      "grid_template_columns": null,
      "grid_template_rows": null,
      "height": null,
      "justify_content": null,
      "justify_items": null,
      "left": null,
      "margin": null,
      "max_height": null,
      "max_width": null,
      "min_height": null,
      "min_width": null,
      "object_fit": null,
      "object_position": null,
      "order": null,
      "overflow": null,
      "overflow_x": null,
      "overflow_y": null,
      "padding": null,
      "right": null,
      "top": null,
      "visibility": null,
      "width": null
     }
    },
    "482dafa3e79b44898fab96e48e4e6e54": {
     "model_module": "@jupyter-widgets/controls",
     "model_module_version": "1.5.0",
     "model_name": "FloatProgressModel",
     "state": {
      "_dom_classes": [],
      "_model_module": "@jupyter-widgets/controls",
      "_model_module_version": "1.5.0",
      "_model_name": "FloatProgressModel",
      "_view_count": null,
      "_view_module": "@jupyter-widgets/controls",
      "_view_module_version": "1.5.0",
      "_view_name": "ProgressView",
      "bar_style": "success",
      "description": "",
      "description_tooltip": null,
      "layout": "IPY_MODEL_adc012c68d06461cb48429ad3e5f4166",
      "max": 4721645,
      "min": 0,
      "orientation": "horizontal",
      "style": "IPY_MODEL_68e75831386746c7a14099edc7af2206",
      "value": 4721645
     }
    },
    "48fbc2a330ff48d2a97d5b0114ff9e69": {
     "model_module": "@jupyter-widgets/base",
     "model_module_version": "1.2.0",
     "model_name": "LayoutModel",
     "state": {
      "_model_module": "@jupyter-widgets/base",
      "_model_module_version": "1.2.0",
      "_model_name": "LayoutModel",
      "_view_count": null,
      "_view_module": "@jupyter-widgets/base",
      "_view_module_version": "1.2.0",
      "_view_name": "LayoutView",
      "align_content": null,
      "align_items": null,
      "align_self": null,
      "border": null,
      "bottom": null,
      "display": null,
      "flex": null,
      "flex_flow": null,
      "grid_area": null,
      "grid_auto_columns": null,
      "grid_auto_flow": null,
      "grid_auto_rows": null,
      "grid_column": null,
      "grid_gap": null,
      "grid_row": null,
      "grid_template_areas": null,
      "grid_template_columns": null,
      "grid_template_rows": null,
      "height": null,
      "justify_content": null,
      "justify_items": null,
      "left": null,
      "margin": null,
      "max_height": null,
      "max_width": null,
      "min_height": null,
      "min_width": null,
      "object_fit": null,
      "object_position": null,
      "order": null,
      "overflow": null,
      "overflow_x": null,
      "overflow_y": null,
      "padding": null,
      "right": null,
      "top": null,
      "visibility": null,
      "width": null
     }
    },
    "4aa48da3739347dcacec7eba6a45088f": {
     "model_module": "@jupyter-widgets/base",
     "model_module_version": "1.2.0",
     "model_name": "LayoutModel",
     "state": {
      "_model_module": "@jupyter-widgets/base",
      "_model_module_version": "1.2.0",
      "_model_name": "LayoutModel",
      "_view_count": null,
      "_view_module": "@jupyter-widgets/base",
      "_view_module_version": "1.2.0",
      "_view_name": "LayoutView",
      "align_content": null,
      "align_items": null,
      "align_self": null,
      "border": null,
      "bottom": null,
      "display": null,
      "flex": null,
      "flex_flow": null,
      "grid_area": null,
      "grid_auto_columns": null,
      "grid_auto_flow": null,
      "grid_auto_rows": null,
      "grid_column": null,
      "grid_gap": null,
      "grid_row": null,
      "grid_template_areas": null,
      "grid_template_columns": null,
      "grid_template_rows": null,
      "height": null,
      "justify_content": null,
      "justify_items": null,
      "left": null,
      "margin": null,
      "max_height": null,
      "max_width": null,
      "min_height": null,
      "min_width": null,
      "object_fit": null,
      "object_position": null,
      "order": null,
      "overflow": null,
      "overflow_x": null,
      "overflow_y": null,
      "padding": null,
      "right": null,
      "top": null,
      "visibility": null,
      "width": null
     }
    },
    "4ac289b8afca4f9ebebd7af333192b01": {
     "model_module": "@jupyter-widgets/controls",
     "model_module_version": "1.5.0",
     "model_name": "FloatProgressModel",
     "state": {
      "_dom_classes": [],
      "_model_module": "@jupyter-widgets/controls",
      "_model_module_version": "1.5.0",
      "_model_name": "FloatProgressModel",
      "_view_count": null,
      "_view_module": "@jupyter-widgets/controls",
      "_view_module_version": "1.5.0",
      "_view_name": "ProgressView",
      "bar_style": "info",
      "description": "",
      "description_tooltip": null,
      "layout": "IPY_MODEL_3c965dc9676d4ba7a36db2c2c10ce236",
      "max": 1,
      "min": 0,
      "orientation": "horizontal",
      "style": "IPY_MODEL_189d791de5d1429fa494670bb760d2b1",
      "value": 1
     }
    },
    "4cec4dbfc5324735a3026b08753a8815": {
     "model_module": "@jupyter-widgets/base",
     "model_module_version": "1.2.0",
     "model_name": "LayoutModel",
     "state": {
      "_model_module": "@jupyter-widgets/base",
      "_model_module_version": "1.2.0",
      "_model_name": "LayoutModel",
      "_view_count": null,
      "_view_module": "@jupyter-widgets/base",
      "_view_module_version": "1.2.0",
      "_view_name": "LayoutView",
      "align_content": null,
      "align_items": null,
      "align_self": null,
      "border": null,
      "bottom": null,
      "display": null,
      "flex": null,
      "flex_flow": null,
      "grid_area": null,
      "grid_auto_columns": null,
      "grid_auto_flow": null,
      "grid_auto_rows": null,
      "grid_column": null,
      "grid_gap": null,
      "grid_row": null,
      "grid_template_areas": null,
      "grid_template_columns": null,
      "grid_template_rows": null,
      "height": null,
      "justify_content": null,
      "justify_items": null,
      "left": null,
      "margin": null,
      "max_height": null,
      "max_width": null,
      "min_height": null,
      "min_width": null,
      "object_fit": null,
      "object_position": null,
      "order": null,
      "overflow": null,
      "overflow_x": null,
      "overflow_y": null,
      "padding": null,
      "right": null,
      "top": null,
      "visibility": null,
      "width": null
     }
    },
    "5661d66041dd4e24926480ca397a7fc9": {
     "model_module": "@jupyter-widgets/controls",
     "model_module_version": "1.5.0",
     "model_name": "DescriptionStyleModel",
     "state": {
      "_model_module": "@jupyter-widgets/controls",
      "_model_module_version": "1.5.0",
      "_model_name": "DescriptionStyleModel",
      "_view_count": null,
      "_view_module": "@jupyter-widgets/base",
      "_view_module_version": "1.2.0",
      "_view_name": "StyleView",
      "description_width": ""
     }
    },
    "585aea011d3048cf9dade40928c1827d": {
     "model_module": "@jupyter-widgets/base",
     "model_module_version": "1.2.0",
     "model_name": "LayoutModel",
     "state": {
      "_model_module": "@jupyter-widgets/base",
      "_model_module_version": "1.2.0",
      "_model_name": "LayoutModel",
      "_view_count": null,
      "_view_module": "@jupyter-widgets/base",
      "_view_module_version": "1.2.0",
      "_view_name": "LayoutView",
      "align_content": null,
      "align_items": null,
      "align_self": null,
      "border": null,
      "bottom": null,
      "display": null,
      "flex": null,
      "flex_flow": null,
      "grid_area": null,
      "grid_auto_columns": null,
      "grid_auto_flow": null,
      "grid_auto_rows": null,
      "grid_column": null,
      "grid_gap": null,
      "grid_row": null,
      "grid_template_areas": null,
      "grid_template_columns": null,
      "grid_template_rows": null,
      "height": null,
      "justify_content": null,
      "justify_items": null,
      "left": null,
      "margin": null,
      "max_height": null,
      "max_width": null,
      "min_height": null,
      "min_width": null,
      "object_fit": null,
      "object_position": null,
      "order": null,
      "overflow": null,
      "overflow_x": null,
      "overflow_y": null,
      "padding": null,
      "right": null,
      "top": null,
      "visibility": null,
      "width": null
     }
    },
    "615516baa5f6448793391c68be56ff9e": {
     "model_module": "@jupyter-widgets/controls",
     "model_module_version": "1.5.0",
     "model_name": "ProgressStyleModel",
     "state": {
      "_model_module": "@jupyter-widgets/controls",
      "_model_module_version": "1.5.0",
      "_model_name": "ProgressStyleModel",
      "_view_count": null,
      "_view_module": "@jupyter-widgets/base",
      "_view_module_version": "1.2.0",
      "_view_name": "StyleView",
      "bar_color": null,
      "description_width": ""
     }
    },
    "62d6ee08bb184de582e91d03d0de2725": {
     "model_module": "@jupyter-widgets/controls",
     "model_module_version": "1.5.0",
     "model_name": "HBoxModel",
     "state": {
      "_dom_classes": [],
      "_model_module": "@jupyter-widgets/controls",
      "_model_module_version": "1.5.0",
      "_model_name": "HBoxModel",
      "_view_count": null,
      "_view_module": "@jupyter-widgets/controls",
      "_view_module_version": "1.5.0",
      "_view_name": "HBoxView",
      "box_style": "",
      "children": [
       "IPY_MODEL_8c7e26cdb1564c0c8f18e9909c13711c",
       "IPY_MODEL_2326732248b14d719abbcb822b9edb1e",
       "IPY_MODEL_72505ea4d2fb405183fa3a20b7576784"
      ],
      "layout": "IPY_MODEL_c2697f8972354964ab05c1f9874f2961"
     }
    },
    "68e75831386746c7a14099edc7af2206": {
     "model_module": "@jupyter-widgets/controls",
     "model_module_version": "1.5.0",
     "model_name": "ProgressStyleModel",
     "state": {
      "_model_module": "@jupyter-widgets/controls",
      "_model_module_version": "1.5.0",
      "_model_name": "ProgressStyleModel",
      "_view_count": null,
      "_view_module": "@jupyter-widgets/base",
      "_view_module_version": "1.2.0",
      "_view_name": "StyleView",
      "bar_color": null,
      "description_width": ""
     }
    },
    "72505ea4d2fb405183fa3a20b7576784": {
     "model_module": "@jupyter-widgets/controls",
     "model_module_version": "1.5.0",
     "model_name": "HTMLModel",
     "state": {
      "_dom_classes": [],
      "_model_module": "@jupyter-widgets/controls",
      "_model_module_version": "1.5.0",
      "_model_name": "HTMLModel",
      "_view_count": null,
      "_view_module": "@jupyter-widgets/controls",
      "_view_module_version": "1.5.0",
      "_view_name": "HTMLView",
      "description": "",
      "description_tooltip": null,
      "layout": "IPY_MODEL_c997b6207f384814b5b54cf1a0a6ca2c",
      "placeholder": "​",
      "style": "IPY_MODEL_a348e1b4bd9149e18ff68bbf8aca3e45",
      "value": " 33732/0 [00:00&lt;00:00, 38360.16 examples/s]"
     }
    },
    "73c0d03054174f44a5aa480ff320e13a": {
     "model_module": "@jupyter-widgets/controls",
     "model_module_version": "1.5.0",
     "model_name": "DescriptionStyleModel",
     "state": {
      "_model_module": "@jupyter-widgets/controls",
      "_model_module_version": "1.5.0",
      "_model_name": "DescriptionStyleModel",
      "_view_count": null,
      "_view_module": "@jupyter-widgets/base",
      "_view_module_version": "1.2.0",
      "_view_name": "StyleView",
      "description_width": ""
     }
    },
    "75f8809939bc413c9c30e30b2eee1584": {
     "model_module": "@jupyter-widgets/controls",
     "model_module_version": "1.5.0",
     "model_name": "ProgressStyleModel",
     "state": {
      "_model_module": "@jupyter-widgets/controls",
      "_model_module_version": "1.5.0",
      "_model_name": "ProgressStyleModel",
      "_view_count": null,
      "_view_module": "@jupyter-widgets/base",
      "_view_module_version": "1.2.0",
      "_view_name": "StyleView",
      "bar_color": null,
      "description_width": ""
     }
    },
    "7792b0bdc44f4e4781cdb35d2a5b3164": {
     "model_module": "@jupyter-widgets/base",
     "model_module_version": "1.2.0",
     "model_name": "LayoutModel",
     "state": {
      "_model_module": "@jupyter-widgets/base",
      "_model_module_version": "1.2.0",
      "_model_name": "LayoutModel",
      "_view_count": null,
      "_view_module": "@jupyter-widgets/base",
      "_view_module_version": "1.2.0",
      "_view_name": "LayoutView",
      "align_content": null,
      "align_items": null,
      "align_self": null,
      "border": null,
      "bottom": null,
      "display": null,
      "flex": null,
      "flex_flow": null,
      "grid_area": null,
      "grid_auto_columns": null,
      "grid_auto_flow": null,
      "grid_auto_rows": null,
      "grid_column": null,
      "grid_gap": null,
      "grid_row": null,
      "grid_template_areas": null,
      "grid_template_columns": null,
      "grid_template_rows": null,
      "height": null,
      "justify_content": null,
      "justify_items": null,
      "left": null,
      "margin": null,
      "max_height": null,
      "max_width": null,
      "min_height": null,
      "min_width": null,
      "object_fit": null,
      "object_position": null,
      "order": null,
      "overflow": null,
      "overflow_x": null,
      "overflow_y": null,
      "padding": null,
      "right": null,
      "top": null,
      "visibility": null,
      "width": null
     }
    },
    "7c4d1230dd08412ca0a5ebd5de60deac": {
     "model_module": "@jupyter-widgets/controls",
     "model_module_version": "1.5.0",
     "model_name": "HTMLModel",
     "state": {
      "_dom_classes": [],
      "_model_module": "@jupyter-widgets/controls",
      "_model_module_version": "1.5.0",
      "_model_name": "HTMLModel",
      "_view_count": null,
      "_view_module": "@jupyter-widgets/controls",
      "_view_module_version": "1.5.0",
      "_view_name": "HTMLView",
      "description": "",
      "description_tooltip": null,
      "layout": "IPY_MODEL_a57f1938e8b84f0cbb29a4ab5d314cdc",
      "placeholder": "​",
      "style": "IPY_MODEL_bb5b7be3a99a436b900576c901c7c615",
      "value": " 4.72M/4.72M [00:00&lt;00:00, 9.60MB/s]"
     }
    },
    "7fcc98c81ac44b8d889394677775c137": {
     "model_module": "@jupyter-widgets/controls",
     "model_module_version": "1.5.0",
     "model_name": "HBoxModel",
     "state": {
      "_dom_classes": [],
      "_model_module": "@jupyter-widgets/controls",
      "_model_module_version": "1.5.0",
      "_model_name": "HBoxModel",
      "_view_count": null,
      "_view_module": "@jupyter-widgets/controls",
      "_view_module_version": "1.5.0",
      "_view_name": "HBoxView",
      "box_style": "",
      "children": [
       "IPY_MODEL_21591f56f2124fe69940a86decd9999e",
       "IPY_MODEL_4ac289b8afca4f9ebebd7af333192b01",
       "IPY_MODEL_b694d82a2abd48e2afbc7cf87432baf2"
      ],
      "layout": "IPY_MODEL_f32c20406c2747c8977453f18f45875c"
     }
    },
    "82341e62b8d24b799650419c2f81928d": {
     "model_module": "@jupyter-widgets/controls",
     "model_module_version": "1.5.0",
     "model_name": "HTMLModel",
     "state": {
      "_dom_classes": [],
      "_model_module": "@jupyter-widgets/controls",
      "_model_module_version": "1.5.0",
      "_model_name": "HTMLModel",
      "_view_count": null,
      "_view_module": "@jupyter-widgets/controls",
      "_view_module_version": "1.5.0",
      "_view_name": "HTMLView",
      "description": "",
      "description_tooltip": null,
      "layout": "IPY_MODEL_48fbc2a330ff48d2a97d5b0114ff9e69",
      "placeholder": "​",
      "style": "IPY_MODEL_e7557e550c214fb8bb4379ebd7e7eb1f",
      "value": " 8.48k/? [00:00&lt;00:00, 215kB/s]"
     }
    },
    "82572508748640c2a9fad4fe438379fb": {
     "model_module": "@jupyter-widgets/base",
     "model_module_version": "1.2.0",
     "model_name": "LayoutModel",
     "state": {
      "_model_module": "@jupyter-widgets/base",
      "_model_module_version": "1.2.0",
      "_model_name": "LayoutModel",
      "_view_count": null,
      "_view_module": "@jupyter-widgets/base",
      "_view_module_version": "1.2.0",
      "_view_name": "LayoutView",
      "align_content": null,
      "align_items": null,
      "align_self": null,
      "border": null,
      "bottom": null,
      "display": null,
      "flex": null,
      "flex_flow": null,
      "grid_area": null,
      "grid_auto_columns": null,
      "grid_auto_flow": null,
      "grid_auto_rows": null,
      "grid_column": null,
      "grid_gap": null,
      "grid_row": null,
      "grid_template_areas": null,
      "grid_template_columns": null,
      "grid_template_rows": null,
      "height": null,
      "justify_content": null,
      "justify_items": null,
      "left": null,
      "margin": null,
      "max_height": null,
      "max_width": null,
      "min_height": null,
      "min_width": null,
      "object_fit": null,
      "object_position": null,
      "order": null,
      "overflow": null,
      "overflow_x": null,
      "overflow_y": null,
      "padding": null,
      "right": null,
      "top": null,
      "visibility": null,
      "width": null
     }
    },
    "8b5180f332244a7ba37ac67005399940": {
     "model_module": "@jupyter-widgets/controls",
     "model_module_version": "1.5.0",
     "model_name": "ProgressStyleModel",
     "state": {
      "_model_module": "@jupyter-widgets/controls",
      "_model_module_version": "1.5.0",
      "_model_name": "ProgressStyleModel",
      "_view_count": null,
      "_view_module": "@jupyter-widgets/base",
      "_view_module_version": "1.2.0",
      "_view_name": "StyleView",
      "bar_color": null,
      "description_width": ""
     }
    },
    "8c7e26cdb1564c0c8f18e9909c13711c": {
     "model_module": "@jupyter-widgets/controls",
     "model_module_version": "1.5.0",
     "model_name": "HTMLModel",
     "state": {
      "_dom_classes": [],
      "_model_module": "@jupyter-widgets/controls",
      "_model_module_version": "1.5.0",
      "_model_name": "HTMLModel",
      "_view_count": null,
      "_view_module": "@jupyter-widgets/controls",
      "_view_module_version": "1.5.0",
      "_view_name": "HTMLView",
      "description": "",
      "description_tooltip": null,
      "layout": "IPY_MODEL_4cec4dbfc5324735a3026b08753a8815",
      "placeholder": "​",
      "style": "IPY_MODEL_d8985b636f784dcd8bdf70ff3a47ee39",
      "value": ""
     }
    },
    "921f46c92fb54f31bb01da4582b27da3": {
     "model_module": "@jupyter-widgets/base",
     "model_module_version": "1.2.0",
     "model_name": "LayoutModel",
     "state": {
      "_model_module": "@jupyter-widgets/base",
      "_model_module_version": "1.2.0",
      "_model_name": "LayoutModel",
      "_view_count": null,
      "_view_module": "@jupyter-widgets/base",
      "_view_module_version": "1.2.0",
      "_view_name": "LayoutView",
      "align_content": null,
      "align_items": null,
      "align_self": null,
      "border": null,
      "bottom": null,
      "display": null,
      "flex": null,
      "flex_flow": null,
      "grid_area": null,
      "grid_auto_columns": null,
      "grid_auto_flow": null,
      "grid_auto_rows": null,
      "grid_column": null,
      "grid_gap": null,
      "grid_row": null,
      "grid_template_areas": null,
      "grid_template_columns": null,
      "grid_template_rows": null,
      "height": null,
      "justify_content": null,
      "justify_items": null,
      "left": null,
      "margin": null,
      "max_height": null,
      "max_width": null,
      "min_height": null,
      "min_width": null,
      "object_fit": null,
      "object_position": null,
      "order": null,
      "overflow": null,
      "overflow_x": null,
      "overflow_y": null,
      "padding": null,
      "right": null,
      "top": null,
      "visibility": null,
      "width": null
     }
    },
    "97b845a4e5914054b5b8767890068c45": {
     "model_module": "@jupyter-widgets/controls",
     "model_module_version": "1.5.0",
     "model_name": "FloatProgressModel",
     "state": {
      "_dom_classes": [],
      "_model_module": "@jupyter-widgets/controls",
      "_model_module_version": "1.5.0",
      "_model_name": "FloatProgressModel",
      "_view_count": null,
      "_view_module": "@jupyter-widgets/controls",
      "_view_module_version": "1.5.0",
      "_view_name": "ProgressView",
      "bar_style": "success",
      "description": "",
      "description_tooltip": null,
      "layout": "IPY_MODEL_7792b0bdc44f4e4781cdb35d2a5b3164",
      "max": 762,
      "min": 0,
      "orientation": "horizontal",
      "style": "IPY_MODEL_615516baa5f6448793391c68be56ff9e",
      "value": 762
     }
    },
    "9863deaea13244e780385c48fa27e65f": {
     "model_module": "@jupyter-widgets/controls",
     "model_module_version": "1.5.0",
     "model_name": "HBoxModel",
     "state": {
      "_dom_classes": [],
      "_model_module": "@jupyter-widgets/controls",
      "_model_module_version": "1.5.0",
      "_model_name": "HBoxModel",
      "_view_count": null,
      "_view_module": "@jupyter-widgets/controls",
      "_view_module_version": "1.5.0",
      "_view_name": "HBoxView",
      "box_style": "",
      "children": [
       "IPY_MODEL_0343bd9054fa4baba1e430117072d946",
       "IPY_MODEL_e1a0f61b5e1e4c529fc79366c1259ba8",
       "IPY_MODEL_a75409de507d40bca57637513501ba17"
      ],
      "layout": "IPY_MODEL_fbd7a74f2ba5487f8b64d5103a280cbe"
     }
    },
    "a348e1b4bd9149e18ff68bbf8aca3e45": {
     "model_module": "@jupyter-widgets/controls",
     "model_module_version": "1.5.0",
     "model_name": "DescriptionStyleModel",
     "state": {
      "_model_module": "@jupyter-widgets/controls",
      "_model_module_version": "1.5.0",
      "_model_name": "DescriptionStyleModel",
      "_view_count": null,
      "_view_module": "@jupyter-widgets/base",
      "_view_module_version": "1.2.0",
      "_view_name": "StyleView",
      "description_width": ""
     }
    },
    "a3e472a9b5084b09b3b23caf51f841d7": {
     "model_module": "@jupyter-widgets/controls",
     "model_module_version": "1.5.0",
     "model_name": "HBoxModel",
     "state": {
      "_dom_classes": [],
      "_model_module": "@jupyter-widgets/controls",
      "_model_module_version": "1.5.0",
      "_model_name": "HBoxModel",
      "_view_count": null,
      "_view_module": "@jupyter-widgets/controls",
      "_view_module_version": "1.5.0",
      "_view_name": "HBoxView",
      "box_style": "",
      "children": [
       "IPY_MODEL_d5e6466fa87a4c5cb93002e6e83cb26e",
       "IPY_MODEL_394532299a814446a0e8bc806476849c",
       "IPY_MODEL_f594246eeeb345cd8be20be0b2be424c"
      ],
      "layout": "IPY_MODEL_efd987e8376841f796609e94c42aa909"
     }
    },
    "a57f1938e8b84f0cbb29a4ab5d314cdc": {
     "model_module": "@jupyter-widgets/base",
     "model_module_version": "1.2.0",
     "model_name": "LayoutModel",
     "state": {
      "_model_module": "@jupyter-widgets/base",
      "_model_module_version": "1.2.0",
      "_model_name": "LayoutModel",
      "_view_count": null,
      "_view_module": "@jupyter-widgets/base",
      "_view_module_version": "1.2.0",
      "_view_name": "LayoutView",
      "align_content": null,
      "align_items": null,
      "align_self": null,
      "border": null,
      "bottom": null,
      "display": null,
      "flex": null,
      "flex_flow": null,
      "grid_area": null,
      "grid_auto_columns": null,
      "grid_auto_flow": null,
      "grid_auto_rows": null,
      "grid_column": null,
      "grid_gap": null,
      "grid_row": null,
      "grid_template_areas": null,
      "grid_template_columns": null,
      "grid_template_rows": null,
      "height": null,
      "justify_content": null,
      "justify_items": null,
      "left": null,
      "margin": null,
      "max_height": null,
      "max_width": null,
      "min_height": null,
      "min_width": null,
      "object_fit": null,
      "object_position": null,
      "order": null,
      "overflow": null,
      "overflow_x": null,
      "overflow_y": null,
      "padding": null,
      "right": null,
      "top": null,
      "visibility": null,
      "width": null
     }
    },
    "a5a9938cc93a4fd69a6809785f22d4a1": {
     "model_module": "@jupyter-widgets/controls",
     "model_module_version": "1.5.0",
     "model_name": "HBoxModel",
     "state": {
      "_dom_classes": [],
      "_model_module": "@jupyter-widgets/controls",
      "_model_module_version": "1.5.0",
      "_model_name": "HBoxModel",
      "_view_count": null,
      "_view_module": "@jupyter-widgets/controls",
      "_view_module_version": "1.5.0",
      "_view_name": "HBoxView",
      "box_style": "",
      "children": [
       "IPY_MODEL_f28069e162f64ada9fa8b7c46d917f34",
       "IPY_MODEL_1e5952a7e1bf4d6184d389b524486596",
       "IPY_MODEL_82341e62b8d24b799650419c2f81928d"
      ],
      "layout": "IPY_MODEL_3e5ca5121267400f9b6ca1091b577487"
     }
    },
    "a75409de507d40bca57637513501ba17": {
     "model_module": "@jupyter-widgets/controls",
     "model_module_version": "1.5.0",
     "model_name": "HTMLModel",
     "state": {
      "_dom_classes": [],
      "_model_module": "@jupyter-widgets/controls",
      "_model_module_version": "1.5.0",
      "_model_name": "HTMLModel",
      "_view_count": null,
      "_view_module": "@jupyter-widgets/controls",
      "_view_module_version": "1.5.0",
      "_view_name": "HTMLView",
      "description": "",
      "description_tooltip": null,
      "layout": "IPY_MODEL_82572508748640c2a9fad4fe438379fb",
      "placeholder": "​",
      "style": "IPY_MODEL_20690c8e9f684c8d9f064a3a1b82279a",
      "value": " 6.84k/? [00:00&lt;00:00, 172kB/s]"
     }
    },
    "adc012c68d06461cb48429ad3e5f4166": {
     "model_module": "@jupyter-widgets/base",
     "model_module_version": "1.2.0",
     "model_name": "LayoutModel",
     "state": {
      "_model_module": "@jupyter-widgets/base",
      "_model_module_version": "1.2.0",
      "_model_name": "LayoutModel",
      "_view_count": null,
      "_view_module": "@jupyter-widgets/base",
      "_view_module_version": "1.2.0",
      "_view_name": "LayoutView",
      "align_content": null,
      "align_items": null,
      "align_self": null,
      "border": null,
      "bottom": null,
      "display": null,
      "flex": null,
      "flex_flow": null,
      "grid_area": null,
      "grid_auto_columns": null,
      "grid_auto_flow": null,
      "grid_auto_rows": null,
      "grid_column": null,
      "grid_gap": null,
      "grid_row": null,
      "grid_template_areas": null,
      "grid_template_columns": null,
      "grid_template_rows": null,
      "height": null,
      "justify_content": null,
      "justify_items": null,
      "left": null,
      "margin": null,
      "max_height": null,
      "max_width": null,
      "min_height": null,
      "min_width": null,
      "object_fit": null,
      "object_position": null,
      "order": null,
      "overflow": null,
      "overflow_x": null,
      "overflow_y": null,
      "padding": null,
      "right": null,
      "top": null,
      "visibility": null,
      "width": null
     }
    },
    "b29e973677db4fa2a196c8a1c83e16ad": {
     "model_module": "@jupyter-widgets/base",
     "model_module_version": "1.2.0",
     "model_name": "LayoutModel",
     "state": {
      "_model_module": "@jupyter-widgets/base",
      "_model_module_version": "1.2.0",
      "_model_name": "LayoutModel",
      "_view_count": null,
      "_view_module": "@jupyter-widgets/base",
      "_view_module_version": "1.2.0",
      "_view_name": "LayoutView",
      "align_content": null,
      "align_items": null,
      "align_self": null,
      "border": null,
      "bottom": null,
      "display": null,
      "flex": null,
      "flex_flow": null,
      "grid_area": null,
      "grid_auto_columns": null,
      "grid_auto_flow": null,
      "grid_auto_rows": null,
      "grid_column": null,
      "grid_gap": null,
      "grid_row": null,
      "grid_template_areas": null,
      "grid_template_columns": null,
      "grid_template_rows": null,
      "height": null,
      "justify_content": null,
      "justify_items": null,
      "left": null,
      "margin": null,
      "max_height": null,
      "max_width": null,
      "min_height": null,
      "min_width": null,
      "object_fit": null,
      "object_position": null,
      "order": null,
      "overflow": null,
      "overflow_x": null,
      "overflow_y": null,
      "padding": null,
      "right": null,
      "top": null,
      "visibility": null,
      "width": null
     }
    },
    "b3261aea79a74df996ac6249514906df": {
     "model_module": "@jupyter-widgets/base",
     "model_module_version": "1.2.0",
     "model_name": "LayoutModel",
     "state": {
      "_model_module": "@jupyter-widgets/base",
      "_model_module_version": "1.2.0",
      "_model_name": "LayoutModel",
      "_view_count": null,
      "_view_module": "@jupyter-widgets/base",
      "_view_module_version": "1.2.0",
      "_view_name": "LayoutView",
      "align_content": null,
      "align_items": null,
      "align_self": null,
      "border": null,
      "bottom": null,
      "display": null,
      "flex": null,
      "flex_flow": null,
      "grid_area": null,
      "grid_auto_columns": null,
      "grid_auto_flow": null,
      "grid_auto_rows": null,
      "grid_column": null,
      "grid_gap": null,
      "grid_row": null,
      "grid_template_areas": null,
      "grid_template_columns": null,
      "grid_template_rows": null,
      "height": null,
      "justify_content": null,
      "justify_items": null,
      "left": null,
      "margin": null,
      "max_height": null,
      "max_width": null,
      "min_height": null,
      "min_width": null,
      "object_fit": null,
      "object_position": null,
      "order": null,
      "overflow": null,
      "overflow_x": null,
      "overflow_y": null,
      "padding": null,
      "right": null,
      "top": null,
      "visibility": null,
      "width": null
     }
    },
    "b3573a3c8c344140b587d9c60bfc27c9": {
     "model_module": "@jupyter-widgets/base",
     "model_module_version": "1.2.0",
     "model_name": "LayoutModel",
     "state": {
      "_model_module": "@jupyter-widgets/base",
      "_model_module_version": "1.2.0",
      "_model_name": "LayoutModel",
      "_view_count": null,
      "_view_module": "@jupyter-widgets/base",
      "_view_module_version": "1.2.0",
      "_view_name": "LayoutView",
      "align_content": null,
      "align_items": null,
      "align_self": null,
      "border": null,
      "bottom": null,
      "display": null,
      "flex": null,
      "flex_flow": null,
      "grid_area": null,
      "grid_auto_columns": null,
      "grid_auto_flow": null,
      "grid_auto_rows": null,
      "grid_column": null,
      "grid_gap": null,
      "grid_row": null,
      "grid_template_areas": null,
      "grid_template_columns": null,
      "grid_template_rows": null,
      "height": null,
      "justify_content": null,
      "justify_items": null,
      "left": null,
      "margin": null,
      "max_height": null,
      "max_width": null,
      "min_height": null,
      "min_width": null,
      "object_fit": null,
      "object_position": null,
      "order": null,
      "overflow": null,
      "overflow_x": null,
      "overflow_y": null,
      "padding": null,
      "right": null,
      "top": null,
      "visibility": null,
      "width": null
     }
    },
    "b40bae1384774a549d28a7f6b0fc43f3": {
     "model_module": "@jupyter-widgets/controls",
     "model_module_version": "1.5.0",
     "model_name": "DescriptionStyleModel",
     "state": {
      "_model_module": "@jupyter-widgets/controls",
      "_model_module_version": "1.5.0",
      "_model_name": "DescriptionStyleModel",
      "_view_count": null,
      "_view_module": "@jupyter-widgets/base",
      "_view_module_version": "1.2.0",
      "_view_name": "StyleView",
      "description_width": ""
     }
    },
    "b694d82a2abd48e2afbc7cf87432baf2": {
     "model_module": "@jupyter-widgets/controls",
     "model_module_version": "1.5.0",
     "model_name": "HTMLModel",
     "state": {
      "_dom_classes": [],
      "_model_module": "@jupyter-widgets/controls",
      "_model_module_version": "1.5.0",
      "_model_name": "HTMLModel",
      "_view_count": null,
      "_view_module": "@jupyter-widgets/controls",
      "_view_module_version": "1.5.0",
      "_view_name": "HTMLView",
      "description": "",
      "description_tooltip": null,
      "layout": "IPY_MODEL_fbb65bdf0bea4ec2a971f8abed2cf259",
      "placeholder": "​",
      "style": "IPY_MODEL_3eef415f311140c8baca93f935ba4ae1",
      "value": " 2762/0 [00:00&lt;00:00, 8973.91 examples/s]"
     }
    },
    "ba22cf6cd7244a90bd5e9268fe92860a": {
     "model_module": "@jupyter-widgets/controls",
     "model_module_version": "1.5.0",
     "model_name": "HBoxModel",
     "state": {
      "_dom_classes": [],
      "_model_module": "@jupyter-widgets/controls",
      "_model_module_version": "1.5.0",
      "_model_name": "HBoxModel",
      "_view_count": null,
      "_view_module": "@jupyter-widgets/controls",
      "_view_module_version": "1.5.0",
      "_view_name": "HBoxView",
      "box_style": "",
      "children": [
       "IPY_MODEL_021ff80727444cc4a8661539ec0f11f6",
       "IPY_MODEL_482dafa3e79b44898fab96e48e4e6e54",
       "IPY_MODEL_7c4d1230dd08412ca0a5ebd5de60deac"
      ],
      "layout": "IPY_MODEL_c9416868c04741d99a5b84aa699376e9"
     }
    },
    "bb5b7be3a99a436b900576c901c7c615": {
     "model_module": "@jupyter-widgets/controls",
     "model_module_version": "1.5.0",
     "model_name": "DescriptionStyleModel",
     "state": {
      "_model_module": "@jupyter-widgets/controls",
      "_model_module_version": "1.5.0",
      "_model_name": "DescriptionStyleModel",
      "_view_count": null,
      "_view_module": "@jupyter-widgets/base",
      "_view_module_version": "1.2.0",
      "_view_name": "StyleView",
      "description_width": ""
     }
    },
    "bc33a31ece304208a337f1c3c4a3f7b3": {
     "model_module": "@jupyter-widgets/controls",
     "model_module_version": "1.5.0",
     "model_name": "HBoxModel",
     "state": {
      "_dom_classes": [],
      "_model_module": "@jupyter-widgets/controls",
      "_model_module_version": "1.5.0",
      "_model_name": "HBoxModel",
      "_view_count": null,
      "_view_module": "@jupyter-widgets/controls",
      "_view_module_version": "1.5.0",
      "_view_name": "HBoxView",
      "box_style": "",
      "children": [
       "IPY_MODEL_386f2fcac26949d7934484d9bbef152f",
       "IPY_MODEL_97b845a4e5914054b5b8767890068c45",
       "IPY_MODEL_bef16335a4c64e869c305ff7517ede08"
      ],
      "layout": "IPY_MODEL_30543366a33f4fb5b05944ad1ab496c8"
     }
    },
    "bef16335a4c64e869c305ff7517ede08": {
     "model_module": "@jupyter-widgets/controls",
     "model_module_version": "1.5.0",
     "model_name": "HTMLModel",
     "state": {
      "_dom_classes": [],
      "_model_module": "@jupyter-widgets/controls",
      "_model_module_version": "1.5.0",
      "_model_name": "HTMLModel",
      "_view_count": null,
      "_view_module": "@jupyter-widgets/controls",
      "_view_module_version": "1.5.0",
      "_view_name": "HTMLView",
      "description": "",
      "description_tooltip": null,
      "layout": "IPY_MODEL_44e06155345847449b4c18d1d0d3a750",
      "placeholder": "​",
      "style": "IPY_MODEL_e4e60a9aa1c244fd83854c8c0634ea89",
      "value": " 762/762 [00:00&lt;00:00, 17.9kB/s]"
     }
    },
    "c2697f8972354964ab05c1f9874f2961": {
     "model_module": "@jupyter-widgets/base",
     "model_module_version": "1.2.0",
     "model_name": "LayoutModel",
     "state": {
      "_model_module": "@jupyter-widgets/base",
      "_model_module_version": "1.2.0",
      "_model_name": "LayoutModel",
      "_view_count": null,
      "_view_module": "@jupyter-widgets/base",
      "_view_module_version": "1.2.0",
      "_view_name": "LayoutView",
      "align_content": null,
      "align_items": null,
      "align_self": null,
      "border": null,
      "bottom": null,
      "display": null,
      "flex": null,
      "flex_flow": null,
      "grid_area": null,
      "grid_auto_columns": null,
      "grid_auto_flow": null,
      "grid_auto_rows": null,
      "grid_column": null,
      "grid_gap": null,
      "grid_row": null,
      "grid_template_areas": null,
      "grid_template_columns": null,
      "grid_template_rows": null,
      "height": null,
      "justify_content": null,
      "justify_items": null,
      "left": null,
      "margin": null,
      "max_height": null,
      "max_width": null,
      "min_height": null,
      "min_width": null,
      "object_fit": null,
      "object_position": null,
      "order": null,
      "overflow": null,
      "overflow_x": null,
      "overflow_y": null,
      "padding": null,
      "right": null,
      "top": null,
      "visibility": null,
      "width": null
     }
    },
    "c62f94472dc94ff88c21bfbe920b4d0b": {
     "model_module": "@jupyter-widgets/base",
     "model_module_version": "1.2.0",
     "model_name": "LayoutModel",
     "state": {
      "_model_module": "@jupyter-widgets/base",
      "_model_module_version": "1.2.0",
      "_model_name": "LayoutModel",
      "_view_count": null,
      "_view_module": "@jupyter-widgets/base",
      "_view_module_version": "1.2.0",
      "_view_name": "LayoutView",
      "align_content": null,
      "align_items": null,
      "align_self": null,
      "border": null,
      "bottom": null,
      "display": null,
      "flex": null,
      "flex_flow": null,
      "grid_area": null,
      "grid_auto_columns": null,
      "grid_auto_flow": null,
      "grid_auto_rows": null,
      "grid_column": null,
      "grid_gap": null,
      "grid_row": null,
      "grid_template_areas": null,
      "grid_template_columns": null,
      "grid_template_rows": null,
      "height": null,
      "justify_content": null,
      "justify_items": null,
      "left": null,
      "margin": null,
      "max_height": null,
      "max_width": null,
      "min_height": null,
      "min_width": null,
      "object_fit": null,
      "object_position": null,
      "order": null,
      "overflow": null,
      "overflow_x": null,
      "overflow_y": null,
      "padding": null,
      "right": null,
      "top": null,
      "visibility": null,
      "width": null
     }
    },
    "c76c890ef0ff4887a54637da9591b301": {
     "model_module": "@jupyter-widgets/controls",
     "model_module_version": "1.5.0",
     "model_name": "DescriptionStyleModel",
     "state": {
      "_model_module": "@jupyter-widgets/controls",
      "_model_module_version": "1.5.0",
      "_model_name": "DescriptionStyleModel",
      "_view_count": null,
      "_view_module": "@jupyter-widgets/base",
      "_view_module_version": "1.2.0",
      "_view_name": "StyleView",
      "description_width": ""
     }
    },
    "c9416868c04741d99a5b84aa699376e9": {
     "model_module": "@jupyter-widgets/base",
     "model_module_version": "1.2.0",
     "model_name": "LayoutModel",
     "state": {
      "_model_module": "@jupyter-widgets/base",
      "_model_module_version": "1.2.0",
      "_model_name": "LayoutModel",
      "_view_count": null,
      "_view_module": "@jupyter-widgets/base",
      "_view_module_version": "1.2.0",
      "_view_name": "LayoutView",
      "align_content": null,
      "align_items": null,
      "align_self": null,
      "border": null,
      "bottom": null,
      "display": null,
      "flex": null,
      "flex_flow": null,
      "grid_area": null,
      "grid_auto_columns": null,
      "grid_auto_flow": null,
      "grid_auto_rows": null,
      "grid_column": null,
      "grid_gap": null,
      "grid_row": null,
      "grid_template_areas": null,
      "grid_template_columns": null,
      "grid_template_rows": null,
      "height": null,
      "justify_content": null,
      "justify_items": null,
      "left": null,
      "margin": null,
      "max_height": null,
      "max_width": null,
      "min_height": null,
      "min_width": null,
      "object_fit": null,
      "object_position": null,
      "order": null,
      "overflow": null,
      "overflow_x": null,
      "overflow_y": null,
      "padding": null,
      "right": null,
      "top": null,
      "visibility": null,
      "width": null
     }
    },
    "c997b6207f384814b5b54cf1a0a6ca2c": {
     "model_module": "@jupyter-widgets/base",
     "model_module_version": "1.2.0",
     "model_name": "LayoutModel",
     "state": {
      "_model_module": "@jupyter-widgets/base",
      "_model_module_version": "1.2.0",
      "_model_name": "LayoutModel",
      "_view_count": null,
      "_view_module": "@jupyter-widgets/base",
      "_view_module_version": "1.2.0",
      "_view_name": "LayoutView",
      "align_content": null,
      "align_items": null,
      "align_self": null,
      "border": null,
      "bottom": null,
      "display": null,
      "flex": null,
      "flex_flow": null,
      "grid_area": null,
      "grid_auto_columns": null,
      "grid_auto_flow": null,
      "grid_auto_rows": null,
      "grid_column": null,
      "grid_gap": null,
      "grid_row": null,
      "grid_template_areas": null,
      "grid_template_columns": null,
      "grid_template_rows": null,
      "height": null,
      "justify_content": null,
      "justify_items": null,
      "left": null,
      "margin": null,
      "max_height": null,
      "max_width": null,
      "min_height": null,
      "min_width": null,
      "object_fit": null,
      "object_position": null,
      "order": null,
      "overflow": null,
      "overflow_x": null,
      "overflow_y": null,
      "padding": null,
      "right": null,
      "top": null,
      "visibility": null,
      "width": null
     }
    },
    "d501dc6ca6044b7d8d1ce6dc79655bdb": {
     "model_module": "@jupyter-widgets/controls",
     "model_module_version": "1.5.0",
     "model_name": "DescriptionStyleModel",
     "state": {
      "_model_module": "@jupyter-widgets/controls",
      "_model_module_version": "1.5.0",
      "_model_name": "DescriptionStyleModel",
      "_view_count": null,
      "_view_module": "@jupyter-widgets/base",
      "_view_module_version": "1.2.0",
      "_view_name": "StyleView",
      "description_width": ""
     }
    },
    "d5e6466fa87a4c5cb93002e6e83cb26e": {
     "model_module": "@jupyter-widgets/controls",
     "model_module_version": "1.5.0",
     "model_name": "HTMLModel",
     "state": {
      "_dom_classes": [],
      "_model_module": "@jupyter-widgets/controls",
      "_model_module_version": "1.5.0",
      "_model_name": "HTMLModel",
      "_view_count": null,
      "_view_module": "@jupyter-widgets/controls",
      "_view_module_version": "1.5.0",
      "_view_name": "HTMLView",
      "description": "",
      "description_tooltip": null,
      "layout": "IPY_MODEL_585aea011d3048cf9dade40928c1827d",
      "placeholder": "​",
      "style": "IPY_MODEL_fcb320dd8a604838810be09f0bd28f47",
      "value": "100%"
     }
    },
    "d7cb1ac20f114a128a71286b1984b893": {
     "model_module": "@jupyter-widgets/base",
     "model_module_version": "1.2.0",
     "model_name": "LayoutModel",
     "state": {
      "_model_module": "@jupyter-widgets/base",
      "_model_module_version": "1.2.0",
      "_model_name": "LayoutModel",
      "_view_count": null,
      "_view_module": "@jupyter-widgets/base",
      "_view_module_version": "1.2.0",
      "_view_name": "LayoutView",
      "align_content": null,
      "align_items": null,
      "align_self": null,
      "border": null,
      "bottom": null,
      "display": null,
      "flex": null,
      "flex_flow": null,
      "grid_area": null,
      "grid_auto_columns": null,
      "grid_auto_flow": null,
      "grid_auto_rows": null,
      "grid_column": null,
      "grid_gap": null,
      "grid_row": null,
      "grid_template_areas": null,
      "grid_template_columns": null,
      "grid_template_rows": null,
      "height": null,
      "justify_content": null,
      "justify_items": null,
      "left": null,
      "margin": null,
      "max_height": null,
      "max_width": null,
      "min_height": null,
      "min_width": null,
      "object_fit": null,
      "object_position": null,
      "order": null,
      "overflow": null,
      "overflow_x": null,
      "overflow_y": null,
      "padding": null,
      "right": null,
      "top": null,
      "visibility": null,
      "width": null
     }
    },
    "d8985b636f784dcd8bdf70ff3a47ee39": {
     "model_module": "@jupyter-widgets/controls",
     "model_module_version": "1.5.0",
     "model_name": "DescriptionStyleModel",
     "state": {
      "_model_module": "@jupyter-widgets/controls",
      "_model_module_version": "1.5.0",
      "_model_name": "DescriptionStyleModel",
      "_view_count": null,
      "_view_module": "@jupyter-widgets/base",
      "_view_module_version": "1.2.0",
      "_view_name": "StyleView",
      "description_width": ""
     }
    },
    "df83df0e597846b8b0d61bba31cbf0d0": {
     "model_module": "@jupyter-widgets/controls",
     "model_module_version": "1.5.0",
     "model_name": "ProgressStyleModel",
     "state": {
      "_model_module": "@jupyter-widgets/controls",
      "_model_module_version": "1.5.0",
      "_model_name": "ProgressStyleModel",
      "_view_count": null,
      "_view_module": "@jupyter-widgets/base",
      "_view_module_version": "1.2.0",
      "_view_name": "StyleView",
      "bar_color": null,
      "description_width": ""
     }
    },
    "e1a0f61b5e1e4c529fc79366c1259ba8": {
     "model_module": "@jupyter-widgets/controls",
     "model_module_version": "1.5.0",
     "model_name": "FloatProgressModel",
     "state": {
      "_dom_classes": [],
      "_model_module": "@jupyter-widgets/controls",
      "_model_module_version": "1.5.0",
      "_model_name": "FloatProgressModel",
      "_view_count": null,
      "_view_module": "@jupyter-widgets/controls",
      "_view_module_version": "1.5.0",
      "_view_name": "ProgressView",
      "bar_style": "success",
      "description": "",
      "description_tooltip": null,
      "layout": "IPY_MODEL_11220d9686a54487ba4ea6826db1cde0",
      "max": 1250,
      "min": 0,
      "orientation": "horizontal",
      "style": "IPY_MODEL_df83df0e597846b8b0d61bba31cbf0d0",
      "value": 1250
     }
    },
    "e4e60a9aa1c244fd83854c8c0634ea89": {
     "model_module": "@jupyter-widgets/controls",
     "model_module_version": "1.5.0",
     "model_name": "DescriptionStyleModel",
     "state": {
      "_model_module": "@jupyter-widgets/controls",
      "_model_module_version": "1.5.0",
      "_model_name": "DescriptionStyleModel",
      "_view_count": null,
      "_view_module": "@jupyter-widgets/base",
      "_view_module_version": "1.2.0",
      "_view_name": "StyleView",
      "description_width": ""
     }
    },
    "e7557e550c214fb8bb4379ebd7e7eb1f": {
     "model_module": "@jupyter-widgets/controls",
     "model_module_version": "1.5.0",
     "model_name": "DescriptionStyleModel",
     "state": {
      "_model_module": "@jupyter-widgets/controls",
      "_model_module_version": "1.5.0",
      "_model_name": "DescriptionStyleModel",
      "_view_count": null,
      "_view_module": "@jupyter-widgets/base",
      "_view_module_version": "1.2.0",
      "_view_name": "StyleView",
      "description_width": ""
     }
    },
    "e9abe35769dc4eb1b8b1f9653dd526c5": {
     "model_module": "@jupyter-widgets/controls",
     "model_module_version": "1.5.0",
     "model_name": "DescriptionStyleModel",
     "state": {
      "_model_module": "@jupyter-widgets/controls",
      "_model_module_version": "1.5.0",
      "_model_name": "DescriptionStyleModel",
      "_view_count": null,
      "_view_module": "@jupyter-widgets/base",
      "_view_module_version": "1.2.0",
      "_view_name": "StyleView",
      "description_width": ""
     }
    },
    "eb42aa2c675446c9b14a447544aadd99": {
     "model_module": "@jupyter-widgets/controls",
     "model_module_version": "1.5.0",
     "model_name": "DescriptionStyleModel",
     "state": {
      "_model_module": "@jupyter-widgets/controls",
      "_model_module_version": "1.5.0",
      "_model_name": "DescriptionStyleModel",
      "_view_count": null,
      "_view_module": "@jupyter-widgets/base",
      "_view_module_version": "1.2.0",
      "_view_name": "StyleView",
      "description_width": ""
     }
    },
    "efd987e8376841f796609e94c42aa909": {
     "model_module": "@jupyter-widgets/base",
     "model_module_version": "1.2.0",
     "model_name": "LayoutModel",
     "state": {
      "_model_module": "@jupyter-widgets/base",
      "_model_module_version": "1.2.0",
      "_model_name": "LayoutModel",
      "_view_count": null,
      "_view_module": "@jupyter-widgets/base",
      "_view_module_version": "1.2.0",
      "_view_name": "LayoutView",
      "align_content": null,
      "align_items": null,
      "align_self": null,
      "border": null,
      "bottom": null,
      "display": null,
      "flex": null,
      "flex_flow": null,
      "grid_area": null,
      "grid_auto_columns": null,
      "grid_auto_flow": null,
      "grid_auto_rows": null,
      "grid_column": null,
      "grid_gap": null,
      "grid_row": null,
      "grid_template_areas": null,
      "grid_template_columns": null,
      "grid_template_rows": null,
      "height": null,
      "justify_content": null,
      "justify_items": null,
      "left": null,
      "margin": null,
      "max_height": null,
      "max_width": null,
      "min_height": null,
      "min_width": null,
      "object_fit": null,
      "object_position": null,
      "order": null,
      "overflow": null,
      "overflow_x": null,
      "overflow_y": null,
      "padding": null,
      "right": null,
      "top": null,
      "visibility": null,
      "width": null
     }
    },
    "f28069e162f64ada9fa8b7c46d917f34": {
     "model_module": "@jupyter-widgets/controls",
     "model_module_version": "1.5.0",
     "model_name": "HTMLModel",
     "state": {
      "_dom_classes": [],
      "_model_module": "@jupyter-widgets/controls",
      "_model_module_version": "1.5.0",
      "_model_name": "HTMLModel",
      "_view_count": null,
      "_view_module": "@jupyter-widgets/controls",
      "_view_module_version": "1.5.0",
      "_view_name": "HTMLView",
      "description": "",
      "description_tooltip": null,
      "layout": "IPY_MODEL_f461ced2cbf449c4b318426ce1087f15",
      "placeholder": "​",
      "style": "IPY_MODEL_c76c890ef0ff4887a54637da9591b301",
      "value": "Downloading: "
     }
    },
    "f32c20406c2747c8977453f18f45875c": {
     "model_module": "@jupyter-widgets/base",
     "model_module_version": "1.2.0",
     "model_name": "LayoutModel",
     "state": {
      "_model_module": "@jupyter-widgets/base",
      "_model_module_version": "1.2.0",
      "_model_name": "LayoutModel",
      "_view_count": null,
      "_view_module": "@jupyter-widgets/base",
      "_view_module_version": "1.2.0",
      "_view_name": "LayoutView",
      "align_content": null,
      "align_items": null,
      "align_self": null,
      "border": null,
      "bottom": null,
      "display": null,
      "flex": null,
      "flex_flow": null,
      "grid_area": null,
      "grid_auto_columns": null,
      "grid_auto_flow": null,
      "grid_auto_rows": null,
      "grid_column": null,
      "grid_gap": null,
      "grid_row": null,
      "grid_template_areas": null,
      "grid_template_columns": null,
      "grid_template_rows": null,
      "height": null,
      "justify_content": null,
      "justify_items": null,
      "left": null,
      "margin": null,
      "max_height": null,
      "max_width": null,
      "min_height": null,
      "min_width": null,
      "object_fit": null,
      "object_position": null,
      "order": null,
      "overflow": null,
      "overflow_x": null,
      "overflow_y": null,
      "padding": null,
      "right": null,
      "top": null,
      "visibility": null,
      "width": null
     }
    },
    "f461ced2cbf449c4b318426ce1087f15": {
     "model_module": "@jupyter-widgets/base",
     "model_module_version": "1.2.0",
     "model_name": "LayoutModel",
     "state": {
      "_model_module": "@jupyter-widgets/base",
      "_model_module_version": "1.2.0",
      "_model_name": "LayoutModel",
      "_view_count": null,
      "_view_module": "@jupyter-widgets/base",
      "_view_module_version": "1.2.0",
      "_view_name": "LayoutView",
      "align_content": null,
      "align_items": null,
      "align_self": null,
      "border": null,
      "bottom": null,
      "display": null,
      "flex": null,
      "flex_flow": null,
      "grid_area": null,
      "grid_auto_columns": null,
      "grid_auto_flow": null,
      "grid_auto_rows": null,
      "grid_column": null,
      "grid_gap": null,
      "grid_row": null,
      "grid_template_areas": null,
      "grid_template_columns": null,
      "grid_template_rows": null,
      "height": null,
      "justify_content": null,
      "justify_items": null,
      "left": null,
      "margin": null,
      "max_height": null,
      "max_width": null,
      "min_height": null,
      "min_width": null,
      "object_fit": null,
      "object_position": null,
      "order": null,
      "overflow": null,
      "overflow_x": null,
      "overflow_y": null,
      "padding": null,
      "right": null,
      "top": null,
      "visibility": null,
      "width": null
     }
    },
    "f594246eeeb345cd8be20be0b2be424c": {
     "model_module": "@jupyter-widgets/controls",
     "model_module_version": "1.5.0",
     "model_name": "HTMLModel",
     "state": {
      "_dom_classes": [],
      "_model_module": "@jupyter-widgets/controls",
      "_model_module_version": "1.5.0",
      "_model_name": "HTMLModel",
      "_view_count": null,
      "_view_module": "@jupyter-widgets/controls",
      "_view_module_version": "1.5.0",
      "_view_name": "HTMLView",
      "description": "",
      "description_tooltip": null,
      "layout": "IPY_MODEL_2b3507ca0bfc40ec83436f0ad104d058",
      "placeholder": "​",
      "style": "IPY_MODEL_b40bae1384774a549d28a7f6b0fc43f3",
      "value": " 3/3 [00:00&lt;00:00, 48.87it/s]"
     }
    },
    "f64e24089baa43959e14dbe5525de150": {
     "model_module": "@jupyter-widgets/base",
     "model_module_version": "1.2.0",
     "model_name": "LayoutModel",
     "state": {
      "_model_module": "@jupyter-widgets/base",
      "_model_module_version": "1.2.0",
      "_model_name": "LayoutModel",
      "_view_count": null,
      "_view_module": "@jupyter-widgets/base",
      "_view_module_version": "1.2.0",
      "_view_name": "LayoutView",
      "align_content": null,
      "align_items": null,
      "align_self": null,
      "border": null,
      "bottom": null,
      "display": null,
      "flex": null,
      "flex_flow": null,
      "grid_area": null,
      "grid_auto_columns": null,
      "grid_auto_flow": null,
      "grid_auto_rows": null,
      "grid_column": null,
      "grid_gap": null,
      "grid_row": null,
      "grid_template_areas": null,
      "grid_template_columns": null,
      "grid_template_rows": null,
      "height": null,
      "justify_content": null,
      "justify_items": null,
      "left": null,
      "margin": null,
      "max_height": null,
      "max_width": null,
      "min_height": null,
      "min_width": null,
      "object_fit": null,
      "object_position": null,
      "order": null,
      "overflow": null,
      "overflow_x": null,
      "overflow_y": null,
      "padding": null,
      "right": null,
      "top": null,
      "visibility": null,
      "width": null
     }
    },
    "fbb65bdf0bea4ec2a971f8abed2cf259": {
     "model_module": "@jupyter-widgets/base",
     "model_module_version": "1.2.0",
     "model_name": "LayoutModel",
     "state": {
      "_model_module": "@jupyter-widgets/base",
      "_model_module_version": "1.2.0",
      "_model_name": "LayoutModel",
      "_view_count": null,
      "_view_module": "@jupyter-widgets/base",
      "_view_module_version": "1.2.0",
      "_view_name": "LayoutView",
      "align_content": null,
      "align_items": null,
      "align_self": null,
      "border": null,
      "bottom": null,
      "display": null,
      "flex": null,
      "flex_flow": null,
      "grid_area": null,
      "grid_auto_columns": null,
      "grid_auto_flow": null,
      "grid_auto_rows": null,
      "grid_column": null,
      "grid_gap": null,
      "grid_row": null,
      "grid_template_areas": null,
      "grid_template_columns": null,
      "grid_template_rows": null,
      "height": null,
      "justify_content": null,
      "justify_items": null,
      "left": null,
      "margin": null,
      "max_height": null,
      "max_width": null,
      "min_height": null,
      "min_width": null,
      "object_fit": null,
      "object_position": null,
      "order": null,
      "overflow": null,
      "overflow_x": null,
      "overflow_y": null,
      "padding": null,
      "right": null,
      "top": null,
      "visibility": null,
      "width": null
     }
    },
    "fbd7a74f2ba5487f8b64d5103a280cbe": {
     "model_module": "@jupyter-widgets/base",
     "model_module_version": "1.2.0",
     "model_name": "LayoutModel",
     "state": {
      "_model_module": "@jupyter-widgets/base",
      "_model_module_version": "1.2.0",
      "_model_name": "LayoutModel",
      "_view_count": null,
      "_view_module": "@jupyter-widgets/base",
      "_view_module_version": "1.2.0",
      "_view_name": "LayoutView",
      "align_content": null,
      "align_items": null,
      "align_self": null,
      "border": null,
      "bottom": null,
      "display": null,
      "flex": null,
      "flex_flow": null,
      "grid_area": null,
      "grid_auto_columns": null,
      "grid_auto_flow": null,
      "grid_auto_rows": null,
      "grid_column": null,
      "grid_gap": null,
      "grid_row": null,
      "grid_template_areas": null,
      "grid_template_columns": null,
      "grid_template_rows": null,
      "height": null,
      "justify_content": null,
      "justify_items": null,
      "left": null,
      "margin": null,
      "max_height": null,
      "max_width": null,
      "min_height": null,
      "min_width": null,
      "object_fit": null,
      "object_position": null,
      "order": null,
      "overflow": null,
      "overflow_x": null,
      "overflow_y": null,
      "padding": null,
      "right": null,
      "top": null,
      "visibility": null,
      "width": null
     }
    },
    "fcb320dd8a604838810be09f0bd28f47": {
     "model_module": "@jupyter-widgets/controls",
     "model_module_version": "1.5.0",
     "model_name": "DescriptionStyleModel",
     "state": {
      "_model_module": "@jupyter-widgets/controls",
      "_model_module_version": "1.5.0",
      "_model_name": "DescriptionStyleModel",
      "_view_count": null,
      "_view_module": "@jupyter-widgets/base",
      "_view_module_version": "1.2.0",
      "_view_name": "StyleView",
      "description_width": ""
     }
    },
    "ff7ff21f801d43cab2f531002cd8c386": {
     "model_module": "@jupyter-widgets/controls",
     "model_module_version": "1.5.0",
     "model_name": "HTMLModel",
     "state": {
      "_dom_classes": [],
      "_model_module": "@jupyter-widgets/controls",
      "_model_module_version": "1.5.0",
      "_model_name": "HTMLModel",
      "_view_count": null,
      "_view_module": "@jupyter-widgets/controls",
      "_view_module_version": "1.5.0",
      "_view_name": "HTMLView",
      "description": "",
      "description_tooltip": null,
      "layout": "IPY_MODEL_c62f94472dc94ff88c21bfbe920b4d0b",
      "placeholder": "​",
      "style": "IPY_MODEL_73c0d03054174f44a5aa480ff320e13a",
      "value": ""
     }
    }
   }
  }
 },
 "nbformat": 4,
 "nbformat_minor": 1
}
